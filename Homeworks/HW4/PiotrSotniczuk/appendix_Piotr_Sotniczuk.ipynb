{
 "cells": [
  {
   "cell_type": "markdown",
   "source": [
    "# Piotr Sotniczuk Homework 4"
   ],
   "metadata": {
    "collapsed": false,
    "pycharm": {
     "name": "#%% md\n"
    }
   }
  },
  {
   "cell_type": "code",
   "execution_count": 36,
   "metadata": {
    "collapsed": true,
    "pycharm": {
     "name": "#%%\n"
    }
   },
   "outputs": [],
   "source": [
    "from sklearn.datasets import load_diabetes\n",
    "\n",
    "loaded = load_diabetes(as_frame=True)\n",
    "X = loaded['data']\n",
    "Y = loaded['target']"
   ]
  },
  {
   "cell_type": "code",
   "execution_count": 41,
   "outputs": [],
   "source": [
    "from sklearn.model_selection import train_test_split\n",
    "import numpy as np\n",
    "\n",
    "x_train, x_test, y_train, y_test = train_test_split(X, Y, shuffle=True, random_state=5, test_size=0.1)"
   ],
   "metadata": {
    "collapsed": false,
    "pycharm": {
     "name": "#%%\n"
    }
   }
  },
  {
   "cell_type": "markdown",
   "source": [
    "# Loading data\n",
    "## Features"
   ],
   "metadata": {
    "collapsed": false,
    "pycharm": {
     "name": "#%% md\n"
    }
   }
  },
  {
   "cell_type": "markdown",
   "source": [
    "Diabetes dataset, all features are standardized and they correspond to body parameters. Features s1-s6 are parameters of blood most of them correspond to fat in blood."
   ],
   "metadata": {
    "collapsed": false,
    "pycharm": {
     "name": "#%% md\n"
    }
   }
  },
  {
   "cell_type": "code",
   "execution_count": 42,
   "outputs": [
    {
     "data": {
      "text/plain": "          age       sex       bmi        bp        s1        s2        s3  \\\n360  0.016281 -0.044642  0.020739  0.021872 -0.013953 -0.013214 -0.006584   \n290  0.059871  0.050680  0.076786  0.025315  0.001183  0.016849 -0.054446   \n191 -0.005515  0.050680 -0.041774 -0.043542 -0.079998 -0.076156 -0.032356   \n\n           s4        s5        s6  \n360 -0.002592  0.013316  0.040343  \n290  0.034309  0.029936  0.044485  \n191 -0.039493  0.010226 -0.009362  ",
      "text/html": "<div>\n<style scoped>\n    .dataframe tbody tr th:only-of-type {\n        vertical-align: middle;\n    }\n\n    .dataframe tbody tr th {\n        vertical-align: top;\n    }\n\n    .dataframe thead th {\n        text-align: right;\n    }\n</style>\n<table border=\"1\" class=\"dataframe\">\n  <thead>\n    <tr style=\"text-align: right;\">\n      <th></th>\n      <th>age</th>\n      <th>sex</th>\n      <th>bmi</th>\n      <th>bp</th>\n      <th>s1</th>\n      <th>s2</th>\n      <th>s3</th>\n      <th>s4</th>\n      <th>s5</th>\n      <th>s6</th>\n    </tr>\n  </thead>\n  <tbody>\n    <tr>\n      <th>360</th>\n      <td>0.016281</td>\n      <td>-0.044642</td>\n      <td>0.020739</td>\n      <td>0.021872</td>\n      <td>-0.013953</td>\n      <td>-0.013214</td>\n      <td>-0.006584</td>\n      <td>-0.002592</td>\n      <td>0.013316</td>\n      <td>0.040343</td>\n    </tr>\n    <tr>\n      <th>290</th>\n      <td>0.059871</td>\n      <td>0.050680</td>\n      <td>0.076786</td>\n      <td>0.025315</td>\n      <td>0.001183</td>\n      <td>0.016849</td>\n      <td>-0.054446</td>\n      <td>0.034309</td>\n      <td>0.029936</td>\n      <td>0.044485</td>\n    </tr>\n    <tr>\n      <th>191</th>\n      <td>-0.005515</td>\n      <td>0.050680</td>\n      <td>-0.041774</td>\n      <td>-0.043542</td>\n      <td>-0.079998</td>\n      <td>-0.076156</td>\n      <td>-0.032356</td>\n      <td>-0.039493</td>\n      <td>0.010226</td>\n      <td>-0.009362</td>\n    </tr>\n  </tbody>\n</table>\n</div>"
     },
     "execution_count": 42,
     "metadata": {},
     "output_type": "execute_result"
    }
   ],
   "source": [
    "x_test.head(3)"
   ],
   "metadata": {
    "collapsed": false,
    "pycharm": {
     "name": "#%%\n"
    }
   }
  },
  {
   "cell_type": "markdown",
   "source": [
    "## Target\n",
    "Target is to predict how the illness will develop after a year. Where 0 means nothing changed (very good) and 400 means the diabetes worsened a lot."
   ],
   "metadata": {
    "collapsed": false,
    "pycharm": {
     "name": "#%% md\n"
    }
   }
  },
  {
   "cell_type": "code",
   "execution_count": 43,
   "outputs": [
    {
     "data": {
      "text/plain": "360    281.0\n290    332.0\n191    178.0\n50     155.0\n186    137.0\n301     65.0\n297     31.0\n240    275.0\n182    138.0\n432    173.0\n358     90.0\n357    221.0\n397    198.0\n151     88.0\n168    268.0\n132    107.0\n299     83.0\n370     63.0\n34      65.0\n221     93.0\n261    103.0\n312    144.0\n284    156.0\n123     84.0\n75      42.0\n283    181.0\n366    233.0\n310    109.0\n43      92.0\n185    101.0\n242     71.0\n374    140.0\n223    150.0\n21      49.0\n127    109.0\n337     91.0\n249    215.0\n306     44.0\n421    212.0\n263    116.0\n419     42.0\n52      59.0\n407    140.0\n117    281.0\n344    200.0\nName: target, dtype: float64"
     },
     "execution_count": 43,
     "metadata": {},
     "output_type": "execute_result"
    }
   ],
   "source": [
    "y_test"
   ],
   "metadata": {
    "collapsed": false,
    "pycharm": {
     "name": "#%%\n"
    }
   }
  },
  {
   "cell_type": "markdown",
   "source": [
    "Values of target."
   ],
   "metadata": {
    "collapsed": false,
    "pycharm": {
     "name": "#%% md\n"
    }
   }
  },
  {
   "cell_type": "code",
   "execution_count": 9,
   "outputs": [
    {
     "data": {
      "text/plain": "[<matplotlib.lines.Line2D at 0x7f93c0d9fb00>]"
     },
     "execution_count": 9,
     "metadata": {},
     "output_type": "execute_result"
    },
    {
     "data": {
      "text/plain": "<Figure size 432x288 with 1 Axes>",
      "image/png": "[encoded data removed]"
     },
     "metadata": {},
     "output_type": "display_data"
    }
   ],
   "source": [
    "import matplotlib.pyplot as plt\n",
    "\n",
    "plt.plot(range(Y.size), Y, linestyle = 'None', marker=\"o\")"
   ],
   "metadata": {
    "collapsed": false,
    "pycharm": {
     "name": "#%%\n"
    }
   }
  },
  {
   "cell_type": "markdown",
   "source": [
    "# Gradient Boosting Regressor"
   ],
   "metadata": {
    "collapsed": false,
    "pycharm": {
     "name": "#%% md\n"
    }
   }
  },
  {
   "cell_type": "code",
   "execution_count": 10,
   "outputs": [],
   "source": [
    "from sklearn.ensemble import GradientBoostingRegressor\n",
    "\n",
    "model = GradientBoostingRegressor().fit(x_train, y_train)"
   ],
   "metadata": {
    "collapsed": false,
    "pycharm": {
     "name": "#%%\n"
    }
   }
  },
  {
   "cell_type": "markdown",
   "source": [
    "## Predictions for some observations"
   ],
   "metadata": {
    "collapsed": false,
    "pycharm": {
     "name": "#%% md\n"
    }
   }
  },
  {
   "cell_type": "code",
   "execution_count": 11,
   "outputs": [
    {
     "name": "stdout",
     "output_type": "stream",
     "text": [
      "index, value, prediction\n",
      "360 281.0 184.99881495121883\n",
      "290 332.0 256.9604136262495\n",
      "191 178.0 139.90229260272793\n"
     ]
    }
   ],
   "source": [
    "y_pred = model.predict(x_test)\n",
    "taken = [360, 290, 191]\n",
    "\n",
    "print('index, value, prediction')\n",
    "for (res, test) in zip(y_pred, y_test.items()):\n",
    "  if(test[0] in taken):\n",
    "    print(test[0], test[1], res)"
   ],
   "metadata": {
    "collapsed": false,
    "pycharm": {
     "name": "#%%\n"
    }
   }
  },
  {
   "cell_type": "code",
   "execution_count": 12,
   "outputs": [],
   "source": [
    "from ceteris_paribus.profiles import individual_variable_profile\n",
    "from ceteris_paribus.plots.plots import plot\n",
    "from ceteris_paribus.explainer import explain"
   ],
   "metadata": {
    "collapsed": false,
    "pycharm": {
     "name": "#%%\n"
    }
   }
  },
  {
   "cell_type": "code",
   "execution_count": 13,
   "outputs": [],
   "source": [
    "explainer_gbm = explain(model, data=X, y=Y, label='Gradient Boosting Regressor')"
   ],
   "metadata": {
    "collapsed": false,
    "pycharm": {
     "name": "#%%\n"
    }
   }
  },
  {
   "cell_type": "markdown",
   "source": [
    "## Explaining and ploting most important features for taken observations\n",
    "I am using \"pyCeterisParibus\" library for python. I choose most important features that were selected in previous Homeworks."
   ],
   "metadata": {
    "collapsed": false,
    "pycharm": {
     "name": "#%% md\n"
    }
   }
  },
  {
   "cell_type": "code",
   "execution_count": 14,
   "outputs": [],
   "source": [
    "for i in taken:\n",
    "  cp_gbm = individual_variable_profile(explainer_gbm, X.iloc[i], Y.iloc[i])\n",
    "  plot(cp_gbm, selected_variables=[\"bmi\", \"age\", \"sex\", \"s5\"])"
   ],
   "metadata": {
    "collapsed": false,
    "pycharm": {
     "name": "#%%\n"
    }
   }
  },
  {
   "cell_type": "markdown",
   "source": [
    "For all 3 observations selected features acts similarly. Both bmi and s5 have positive influence while they grow and both sex and age don't really have any influence on the target."
   ],
   "metadata": {
    "collapsed": false,
    "pycharm": {
     "name": "#%% md\n"
    }
   }
  },
  {
   "cell_type": "markdown",
   "source": [
    "## Looking for some differences"
   ],
   "metadata": {
    "collapsed": false,
    "pycharm": {
     "name": "#%% md\n"
    }
   }
  },
  {
   "cell_type": "markdown",
   "source": [
    "Firstly I looked at all observations from testset with features \"bmi\", \"age\", \"sex\", \"s5\" but all of them acted pretty the same and it was impossible to find something different. Then I thought of looking into less important variables like \"bp\", \"s1\", \"s3\", \"s6\" they were not as important as \"bmi\" or \"s5\" but they still have some influence on target."
   ],
   "metadata": {
    "collapsed": false,
    "pycharm": {
     "name": "#%% md\n"
    }
   }
  },
  {
   "cell_type": "code",
   "execution_count": 15,
   "outputs": [],
   "source": [
    "#for i in x_test.index:\n",
    "#  cp_gbm = individual_variable_profile(explainer_gbm, X.iloc[i], Y.iloc[i])\n",
    "#  plot(cp_gbm, selected_variables=[\"bp\", \"s1\", \"s3\", \"s6\"])"
   ],
   "metadata": {
    "collapsed": false,
    "pycharm": {
     "name": "#%%\n"
    }
   }
  },
  {
   "cell_type": "code",
   "execution_count": 16,
   "outputs": [],
   "source": [
    "#for i in x_test.index:\n",
    "#  if X.iloc[i]['bmi'] < 0.0164280995 and X.iloc[i]['bmi'] > 0.0164280993:\n",
    "#    print(i)"
   ],
   "metadata": {
    "collapsed": false,
    "pycharm": {
     "name": "#%%\n"
    }
   }
  },
  {
   "cell_type": "markdown",
   "source": [
    "This time I had more luck. I choose observations 421 and 366 with feature blood-pressure bp."
   ],
   "metadata": {
    "collapsed": false,
    "pycharm": {
     "name": "#%% md\n"
    }
   }
  },
  {
   "cell_type": "code",
   "execution_count": 17,
   "outputs": [],
   "source": [
    "choosen = [421, 366]\n",
    "for i in choosen:\n",
    "  cp_gbm = individual_variable_profile(explainer_gbm, X.iloc[i], Y.iloc[i])\n",
    "  plot(cp_gbm, selected_variables=[\"bp\"])"
   ],
   "metadata": {
    "collapsed": false,
    "pycharm": {
     "name": "#%%\n"
    }
   }
  },
  {
   "cell_type": "code",
   "execution_count": null,
   "outputs": [],
   "source": [
    "from IPython import display\n",
    "display.Image(\"./plot/.png\")"
   ],
   "metadata": {
    "collapsed": false,
    "pycharm": {
     "name": "#%%\n",
     "is_executing": true
    }
   }
  },
  {
   "cell_type": "markdown",
   "source": [
    "As we can clearly see in 421 bp rises and this was the case in most observations which is normal because usually people with high blood pressure will be less healthy. But for 366 bp doesn't really affect the target we can see that it can even decrease the valeu a bit. Let's look into the details of 366."
   ],
   "metadata": {
    "collapsed": false,
    "pycharm": {
     "name": "#%% md\n"
    }
   }
  },
  {
   "cell_type": "code",
   "execution_count": 34,
   "outputs": [
    {
     "data": {
      "text/plain": "age   -0.045472\nsex    0.050680\nbmi    0.137143\nbp    -0.015999\ns1     0.041086\ns2     0.031880\ns3    -0.043401\ns4     0.071210\ns5     0.071022\ns6     0.048628\nName: 366, dtype: float64"
     },
     "execution_count": 34,
     "metadata": {},
     "output_type": "execute_result"
    }
   ],
   "source": [
    "X.iloc[366]"
   ],
   "metadata": {
    "collapsed": false,
    "pycharm": {
     "name": "#%%\n"
    }
   }
  },
  {
   "cell_type": "markdown",
   "source": [
    "This observation has very, very high bmi in my opinion this is why the bp feature has small impact on target. The target is already so high that low or high bp doesn't make a difference. The model is sure that the illness will develop no matter the bp."
   ],
   "metadata": {
    "collapsed": false,
    "pycharm": {
     "name": "#%% md\n"
    }
   }
  },
  {
   "cell_type": "markdown",
   "source": [
    "# New Model - Linear Regression"
   ],
   "metadata": {
    "collapsed": false,
    "pycharm": {
     "name": "#%% md\n"
    }
   }
  },
  {
   "cell_type": "code",
   "execution_count": 20,
   "outputs": [],
   "source": [
    "from sklearn.linear_model import LinearRegression\n",
    "\n",
    "model_2 = LinearRegression().fit(x_train, y_train)\n",
    "explainer_lr = explain(model_2, data=X, y=Y, label='Linear Regression')"
   ],
   "metadata": {
    "collapsed": false,
    "pycharm": {
     "name": "#%%\n"
    }
   }
  },
  {
   "cell_type": "code",
   "execution_count": 21,
   "outputs": [],
   "source": [
    "#for i in x_test.index:\n",
    "#  cp_lr = individual_variable_profile(explainer_lr, X.iloc[i], Y.iloc[i])\n",
    "#  plot(cp_lr, selected_variables=[\"bp\", \"s1\", \"s3\", \"s6\"])"
   ],
   "metadata": {
    "collapsed": false,
    "pycharm": {
     "name": "#%%\n"
    }
   }
  },
  {
   "cell_type": "markdown",
   "source": [
    "After looking into all plots from testset on both sets of features, I have one big observation. All of the plots are straight lines similar for same feature in every observation. That is probably because I used linear regression, so all of the features are taken with same weights for every observation. I think it is impossible to find two observations that have different plots due to this fact."
   ],
   "metadata": {
    "collapsed": false,
    "pycharm": {
     "name": "#%% md\n"
    }
   }
  }
 ],
 "metadata": {
  "kernelspec": {
   "display_name": "Python 3",
   "language": "python",
   "name": "python3"
  },
  "language_info": {
   "codemirror_mode": {
    "name": "ipython",
    "version": 2
   },
   "file_extension": ".py",
   "mimetype": "text/x-python",
   "name": "python",
   "nbconvert_exporter": "python",
   "pygments_lexer": "ipython2",
   "version": "2.7.6"
  }
 },
 "nbformat": 4,
 "nbformat_minor": 0
}