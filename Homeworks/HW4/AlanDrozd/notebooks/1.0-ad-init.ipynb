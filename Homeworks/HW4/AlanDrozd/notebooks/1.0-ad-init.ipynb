{
 "cells": [
  {
   "cell_type": "code",
   "execution_count": 1,
   "metadata": {
    "collapsed": true,
    "pycharm": {
     "name": "#%%\n"
    }
   },
   "outputs": [
    {
     "name": "stderr",
     "output_type": "stream",
     "text": [
      "C:\\Users\\alan\\anaconda3\\envs\\xai\\lib\\site-packages\\xgboost\\compat.py:36: FutureWarning: pandas.Int64Index is deprecated and will be removed from pandas in a future version. Use pandas.Index with the appropriate dtype instead.\n",
      "  from pandas import MultiIndex, Int64Index\n"
     ]
    }
   ],
   "source": [
    "import pathlib\n",
    "import random\n",
    "\n",
    "import dalex as dx\n",
    "import numpy as np\n",
    "import pandas as pd\n",
    "import seaborn as sns\n",
    "import xgboost as xgb\n",
    "from scipy.stats import spearmanr\n",
    "from sklearn import model_selection, ensemble\n",
    "\n",
    "sns.set_theme()"
   ]
  },
  {
   "cell_type": "code",
   "execution_count": 2,
   "metadata": {
    "pycharm": {
     "name": "#%%\n"
    }
   },
   "outputs": [],
   "source": [
    "def seed_everything(seed: int) -> int:\n",
    "    random.seed(seed)\n",
    "    np.random.seed(seed)\n",
    "\n",
    "    return seed"
   ]
  },
  {
   "cell_type": "code",
   "execution_count": 3,
   "metadata": {
    "pycharm": {
     "name": "#%%\n"
    }
   },
   "outputs": [
    {
     "data": {
      "text/plain": "357"
     },
     "execution_count": 3,
     "metadata": {},
     "output_type": "execute_result"
    }
   ],
   "source": [
    "SEED = 357\n",
    "seed_everything(SEED)"
   ]
  },
  {
   "cell_type": "code",
   "execution_count": 4,
   "metadata": {
    "pycharm": {
     "name": "#%%\n"
    }
   },
   "outputs": [],
   "source": [
    "data = pd.read_csv('../data/raw/temat_2_dane.csv')\n",
    "data_cols_description = pd.read_excel('../data/raw/temat_2_opis_zmiennych.xlsx')"
   ]
  },
  {
   "cell_type": "code",
   "execution_count": 5,
   "metadata": {
    "pycharm": {
     "name": "#%%\n"
    }
   },
   "outputs": [],
   "source": [
    "name_to_description = {}\n",
    "for x, y in zip(data_cols_description['NAZWA'], data_cols_description['OPIS']):\n",
    "    name_to_description[x] = y"
   ]
  },
  {
   "cell_type": "code",
   "execution_count": 6,
   "metadata": {
    "pycharm": {
     "name": "#%%\n"
    }
   },
   "outputs": [],
   "source": [
    "def train_test_split_by_income(data, test_size=0.2, bins=5):\n",
    "    income_bined = pd.qcut(data['Y'], q=bins)\n",
    "\n",
    "    return model_selection.train_test_split(data, test_size=test_size, shuffle=True, stratify=income_bined, random_state=SEED)"
   ]
  },
  {
   "cell_type": "code",
   "execution_count": 7,
   "metadata": {
    "pycharm": {
     "name": "#%%\n"
    }
   },
   "outputs": [],
   "source": [
    "data_train_val, data_test = train_test_split_by_income(data)\n",
    "data_train, data_val = train_test_split_by_income(data_train_val, test_size=0.25)"
   ]
  },
  {
   "cell_type": "code",
   "execution_count": 8,
   "metadata": {
    "pycharm": {
     "name": "#%%\n"
    }
   },
   "outputs": [],
   "source": [
    "X_train, y_train = data_train.drop('Y', axis=1), data_train['Y']\n",
    "X_val, y_val = data_val.drop('Y', axis=1), data_val['Y']\n",
    "\n",
    "vars = ['X1'] + [f'X{j}' for j in range(4, 295 + 1, 7)]\n",
    "\n",
    "X_train = X_train[vars]\n",
    "X_val = X_val[vars]\n",
    "\n",
    "for dataset in [X_train, y_train, X_val, y_val]:\n",
    "    dataset.reset_index(drop=True, inplace=True)"
   ]
  },
  {
   "cell_type": "code",
   "execution_count": 9,
   "metadata": {
    "pycharm": {
     "name": "#%%\n"
    }
   },
   "outputs": [],
   "source": [
    "xgb_best_params = {\"max_depth\": 23, \"min_child_weight\": 2.404712074481848, \"colsample_bytree\": 0.5095502611913834, \"learning_rate\": 0.0449682801162507, \"subsample\": 0.9196040393707718, \"alpha\": 0.0524693644585006, \"lambda\": 4.5586068865713215e-07}"
   ]
  },
  {
   "cell_type": "code",
   "execution_count": 10,
   "metadata": {
    "pycharm": {
     "name": "#%%\n"
    }
   },
   "outputs": [
    {
     "name": "stdout",
     "output_type": "stream",
     "text": [
      "[0]\tvalidation_0-mae:3.18138\n",
      "[1]\tvalidation_0-mae:3.03873\n",
      "[2]\tvalidation_0-mae:2.90246\n",
      "[3]\tvalidation_0-mae:2.77228\n",
      "[4]\tvalidation_0-mae:2.64797\n",
      "[5]\tvalidation_0-mae:2.52929\n",
      "[6]\tvalidation_0-mae:2.41616\n",
      "[7]\tvalidation_0-mae:2.30791\n",
      "[8]\tvalidation_0-mae:2.20449\n",
      "[9]\tvalidation_0-mae:2.10574\n",
      "[10]\tvalidation_0-mae:2.01133\n",
      "[11]\tvalidation_0-mae:1.92114\n",
      "[12]\tvalidation_0-mae:1.83514\n",
      "[13]\tvalidation_0-mae:1.75264\n",
      "[14]\tvalidation_0-mae:1.67415\n",
      "[15]\tvalidation_0-mae:1.59924\n",
      "[16]\tvalidation_0-mae:1.52769\n",
      "[17]\tvalidation_0-mae:1.45930\n",
      "[18]\tvalidation_0-mae:1.39409\n",
      "[19]\tvalidation_0-mae:1.33185\n",
      "[20]\tvalidation_0-mae:1.27221\n",
      "[21]\tvalidation_0-mae:1.21528\n",
      "[22]\tvalidation_0-mae:1.16094\n",
      "[23]\tvalidation_0-mae:1.10921\n",
      "[24]\tvalidation_0-mae:1.05975\n",
      "[25]\tvalidation_0-mae:1.01281\n",
      "[26]\tvalidation_0-mae:0.96784\n",
      "[27]\tvalidation_0-mae:0.92473\n"
     ]
    },
    {
     "name": "stderr",
     "output_type": "stream",
     "text": [
      "C:\\Users\\alan\\anaconda3\\envs\\xai\\lib\\site-packages\\xgboost\\data.py:250: FutureWarning: pandas.Int64Index is deprecated and will be removed from pandas in a future version. Use pandas.Index with the appropriate dtype instead.\n",
      "  elif isinstance(data.columns, (pd.Int64Index, pd.RangeIndex)):\n"
     ]
    },
    {
     "name": "stdout",
     "output_type": "stream",
     "text": [
      "[28]\tvalidation_0-mae:0.88377\n",
      "[29]\tvalidation_0-mae:0.84452\n",
      "[30]\tvalidation_0-mae:0.80721\n",
      "[31]\tvalidation_0-mae:0.77189\n",
      "[32]\tvalidation_0-mae:0.73792\n",
      "[33]\tvalidation_0-mae:0.70557\n",
      "[34]\tvalidation_0-mae:0.67475\n",
      "[35]\tvalidation_0-mae:0.64534\n",
      "[36]\tvalidation_0-mae:0.61732\n",
      "[37]\tvalidation_0-mae:0.59092\n",
      "[38]\tvalidation_0-mae:0.56562\n",
      "[39]\tvalidation_0-mae:0.54161\n",
      "[40]\tvalidation_0-mae:0.51866\n",
      "[41]\tvalidation_0-mae:0.49699\n",
      "[42]\tvalidation_0-mae:0.47623\n",
      "[43]\tvalidation_0-mae:0.45671\n",
      "[44]\tvalidation_0-mae:0.43839\n",
      "[45]\tvalidation_0-mae:0.42100\n",
      "[46]\tvalidation_0-mae:0.40461\n",
      "[47]\tvalidation_0-mae:0.38908\n",
      "[48]\tvalidation_0-mae:0.37438\n",
      "[49]\tvalidation_0-mae:0.36061\n",
      "[50]\tvalidation_0-mae:0.34751\n",
      "[51]\tvalidation_0-mae:0.33525\n",
      "[52]\tvalidation_0-mae:0.32364\n",
      "[53]\tvalidation_0-mae:0.31297\n",
      "[54]\tvalidation_0-mae:0.30262\n",
      "[55]\tvalidation_0-mae:0.29308\n",
      "[56]\tvalidation_0-mae:0.28405\n",
      "[57]\tvalidation_0-mae:0.27553\n",
      "[58]\tvalidation_0-mae:0.26785\n",
      "[59]\tvalidation_0-mae:0.26062\n",
      "[60]\tvalidation_0-mae:0.25380\n",
      "[61]\tvalidation_0-mae:0.24728\n",
      "[62]\tvalidation_0-mae:0.24126\n",
      "[63]\tvalidation_0-mae:0.23559\n",
      "[64]\tvalidation_0-mae:0.23027\n",
      "[65]\tvalidation_0-mae:0.22542\n",
      "[66]\tvalidation_0-mae:0.22093\n",
      "[67]\tvalidation_0-mae:0.21670\n",
      "[68]\tvalidation_0-mae:0.21280\n",
      "[69]\tvalidation_0-mae:0.20919\n",
      "[70]\tvalidation_0-mae:0.20577\n",
      "[71]\tvalidation_0-mae:0.20258\n",
      "[72]\tvalidation_0-mae:0.19962\n",
      "[73]\tvalidation_0-mae:0.19686\n",
      "[74]\tvalidation_0-mae:0.19418\n",
      "[75]\tvalidation_0-mae:0.19182\n",
      "[76]\tvalidation_0-mae:0.18948\n",
      "[77]\tvalidation_0-mae:0.18740\n",
      "[78]\tvalidation_0-mae:0.18545\n",
      "[79]\tvalidation_0-mae:0.18358\n",
      "[80]\tvalidation_0-mae:0.18189\n",
      "[81]\tvalidation_0-mae:0.18032\n",
      "[82]\tvalidation_0-mae:0.17886\n",
      "[83]\tvalidation_0-mae:0.17755\n",
      "[84]\tvalidation_0-mae:0.17626\n",
      "[85]\tvalidation_0-mae:0.17499\n",
      "[86]\tvalidation_0-mae:0.17393\n",
      "[87]\tvalidation_0-mae:0.17285\n",
      "[88]\tvalidation_0-mae:0.17188\n",
      "[89]\tvalidation_0-mae:0.17104\n",
      "[90]\tvalidation_0-mae:0.17017\n",
      "[91]\tvalidation_0-mae:0.16940\n",
      "[92]\tvalidation_0-mae:0.16864\n",
      "[93]\tvalidation_0-mae:0.16796\n",
      "[94]\tvalidation_0-mae:0.16738\n",
      "[95]\tvalidation_0-mae:0.16679\n",
      "[96]\tvalidation_0-mae:0.16623\n",
      "[97]\tvalidation_0-mae:0.16576\n",
      "[98]\tvalidation_0-mae:0.16528\n",
      "[99]\tvalidation_0-mae:0.16490\n",
      "[100]\tvalidation_0-mae:0.16453\n",
      "[101]\tvalidation_0-mae:0.16418\n",
      "[102]\tvalidation_0-mae:0.16379\n",
      "[103]\tvalidation_0-mae:0.16346\n",
      "[104]\tvalidation_0-mae:0.16315\n",
      "[105]\tvalidation_0-mae:0.16287\n",
      "[106]\tvalidation_0-mae:0.16254\n",
      "[107]\tvalidation_0-mae:0.16227\n",
      "[108]\tvalidation_0-mae:0.16207\n",
      "[109]\tvalidation_0-mae:0.16186\n",
      "[110]\tvalidation_0-mae:0.16165\n",
      "[111]\tvalidation_0-mae:0.16150\n",
      "[112]\tvalidation_0-mae:0.16132\n",
      "[113]\tvalidation_0-mae:0.16116\n",
      "[114]\tvalidation_0-mae:0.16102\n",
      "[115]\tvalidation_0-mae:0.16087\n",
      "[116]\tvalidation_0-mae:0.16072\n",
      "[117]\tvalidation_0-mae:0.16061\n",
      "[118]\tvalidation_0-mae:0.16049\n",
      "[119]\tvalidation_0-mae:0.16038\n",
      "[120]\tvalidation_0-mae:0.16028\n",
      "[121]\tvalidation_0-mae:0.16020\n",
      "[122]\tvalidation_0-mae:0.16010\n",
      "[123]\tvalidation_0-mae:0.16000\n",
      "[124]\tvalidation_0-mae:0.15991\n",
      "[125]\tvalidation_0-mae:0.15982\n",
      "[126]\tvalidation_0-mae:0.15975\n",
      "[127]\tvalidation_0-mae:0.15967\n",
      "[128]\tvalidation_0-mae:0.15957\n",
      "[129]\tvalidation_0-mae:0.15951\n",
      "[130]\tvalidation_0-mae:0.15945\n",
      "[131]\tvalidation_0-mae:0.15935\n",
      "[132]\tvalidation_0-mae:0.15930\n",
      "[133]\tvalidation_0-mae:0.15923\n",
      "[134]\tvalidation_0-mae:0.15916\n",
      "[135]\tvalidation_0-mae:0.15911\n",
      "[136]\tvalidation_0-mae:0.15910\n",
      "[137]\tvalidation_0-mae:0.15905\n",
      "[138]\tvalidation_0-mae:0.15903\n",
      "[139]\tvalidation_0-mae:0.15901\n",
      "[140]\tvalidation_0-mae:0.15900\n",
      "[141]\tvalidation_0-mae:0.15898\n",
      "[142]\tvalidation_0-mae:0.15894\n",
      "[143]\tvalidation_0-mae:0.15892\n",
      "[144]\tvalidation_0-mae:0.15887\n",
      "[145]\tvalidation_0-mae:0.15883\n",
      "[146]\tvalidation_0-mae:0.15881\n",
      "[147]\tvalidation_0-mae:0.15878\n",
      "[148]\tvalidation_0-mae:0.15876\n",
      "[149]\tvalidation_0-mae:0.15876\n",
      "[150]\tvalidation_0-mae:0.15873\n",
      "[151]\tvalidation_0-mae:0.15869\n",
      "[152]\tvalidation_0-mae:0.15869\n",
      "[153]\tvalidation_0-mae:0.15867\n",
      "[154]\tvalidation_0-mae:0.15863\n",
      "[155]\tvalidation_0-mae:0.15860\n",
      "[156]\tvalidation_0-mae:0.15858\n",
      "[157]\tvalidation_0-mae:0.15857\n",
      "[158]\tvalidation_0-mae:0.15855\n",
      "[159]\tvalidation_0-mae:0.15849\n",
      "[160]\tvalidation_0-mae:0.15847\n",
      "[161]\tvalidation_0-mae:0.15847\n",
      "[162]\tvalidation_0-mae:0.15844\n",
      "[163]\tvalidation_0-mae:0.15843\n",
      "[164]\tvalidation_0-mae:0.15841\n",
      "[165]\tvalidation_0-mae:0.15841\n",
      "[166]\tvalidation_0-mae:0.15840\n",
      "[167]\tvalidation_0-mae:0.15839\n",
      "[168]\tvalidation_0-mae:0.15840\n",
      "[169]\tvalidation_0-mae:0.15837\n",
      "[170]\tvalidation_0-mae:0.15836\n",
      "[171]\tvalidation_0-mae:0.15835\n",
      "[172]\tvalidation_0-mae:0.15832\n",
      "[173]\tvalidation_0-mae:0.15831\n",
      "[174]\tvalidation_0-mae:0.15829\n",
      "[175]\tvalidation_0-mae:0.15829\n",
      "[176]\tvalidation_0-mae:0.15827\n",
      "[177]\tvalidation_0-mae:0.15827\n",
      "[178]\tvalidation_0-mae:0.15827\n",
      "[179]\tvalidation_0-mae:0.15827\n",
      "[180]\tvalidation_0-mae:0.15826\n",
      "[181]\tvalidation_0-mae:0.15824\n",
      "[182]\tvalidation_0-mae:0.15825\n",
      "[183]\tvalidation_0-mae:0.15822\n",
      "[184]\tvalidation_0-mae:0.15823\n",
      "[185]\tvalidation_0-mae:0.15823\n",
      "[186]\tvalidation_0-mae:0.15823\n",
      "[187]\tvalidation_0-mae:0.15822\n",
      "[188]\tvalidation_0-mae:0.15823\n",
      "[189]\tvalidation_0-mae:0.15822\n",
      "[190]\tvalidation_0-mae:0.15822\n",
      "[191]\tvalidation_0-mae:0.15823\n",
      "[192]\tvalidation_0-mae:0.15823\n",
      "[193]\tvalidation_0-mae:0.15823\n",
      "[194]\tvalidation_0-mae:0.15822\n",
      "[195]\tvalidation_0-mae:0.15821\n",
      "[196]\tvalidation_0-mae:0.15821\n",
      "[197]\tvalidation_0-mae:0.15820\n",
      "[198]\tvalidation_0-mae:0.15819\n",
      "[199]\tvalidation_0-mae:0.15819\n",
      "[200]\tvalidation_0-mae:0.15820\n",
      "[201]\tvalidation_0-mae:0.15818\n",
      "[202]\tvalidation_0-mae:0.15818\n",
      "[203]\tvalidation_0-mae:0.15818\n",
      "[204]\tvalidation_0-mae:0.15819\n",
      "[205]\tvalidation_0-mae:0.15820\n",
      "[206]\tvalidation_0-mae:0.15819\n",
      "[207]\tvalidation_0-mae:0.15821\n",
      "[208]\tvalidation_0-mae:0.15819\n",
      "[209]\tvalidation_0-mae:0.15818\n",
      "[210]\tvalidation_0-mae:0.15817\n",
      "[211]\tvalidation_0-mae:0.15818\n",
      "[212]\tvalidation_0-mae:0.15819\n",
      "[213]\tvalidation_0-mae:0.15819\n",
      "[214]\tvalidation_0-mae:0.15818\n",
      "[215]\tvalidation_0-mae:0.15818\n",
      "[216]\tvalidation_0-mae:0.15817\n",
      "[217]\tvalidation_0-mae:0.15816\n",
      "[218]\tvalidation_0-mae:0.15816\n",
      "[219]\tvalidation_0-mae:0.15816\n",
      "[220]\tvalidation_0-mae:0.15815\n",
      "[221]\tvalidation_0-mae:0.15815\n",
      "[222]\tvalidation_0-mae:0.15816\n",
      "[223]\tvalidation_0-mae:0.15816\n",
      "[224]\tvalidation_0-mae:0.15816\n",
      "[225]\tvalidation_0-mae:0.15816\n",
      "[226]\tvalidation_0-mae:0.15815\n",
      "[227]\tvalidation_0-mae:0.15816\n",
      "[228]\tvalidation_0-mae:0.15815\n",
      "[229]\tvalidation_0-mae:0.15814\n",
      "[230]\tvalidation_0-mae:0.15814\n",
      "[231]\tvalidation_0-mae:0.15813\n",
      "[232]\tvalidation_0-mae:0.15813\n",
      "[233]\tvalidation_0-mae:0.15814\n",
      "[234]\tvalidation_0-mae:0.15814\n",
      "[235]\tvalidation_0-mae:0.15814\n",
      "[236]\tvalidation_0-mae:0.15814\n",
      "[237]\tvalidation_0-mae:0.15815\n",
      "[238]\tvalidation_0-mae:0.15815\n",
      "[239]\tvalidation_0-mae:0.15815\n",
      "[240]\tvalidation_0-mae:0.15814\n",
      "[241]\tvalidation_0-mae:0.15814\n",
      "[242]\tvalidation_0-mae:0.15814\n",
      "[243]\tvalidation_0-mae:0.15814\n",
      "[244]\tvalidation_0-mae:0.15814\n",
      "[245]\tvalidation_0-mae:0.15814\n",
      "[246]\tvalidation_0-mae:0.15815\n",
      "[247]\tvalidation_0-mae:0.15813\n",
      "[248]\tvalidation_0-mae:0.15813\n",
      "[249]\tvalidation_0-mae:0.15812\n",
      "[250]\tvalidation_0-mae:0.15812\n",
      "[251]\tvalidation_0-mae:0.15812\n",
      "[252]\tvalidation_0-mae:0.15812\n",
      "[253]\tvalidation_0-mae:0.15812\n",
      "[254]\tvalidation_0-mae:0.15811\n",
      "[255]\tvalidation_0-mae:0.15812\n",
      "[256]\tvalidation_0-mae:0.15811\n",
      "[257]\tvalidation_0-mae:0.15811\n",
      "[258]\tvalidation_0-mae:0.15810\n",
      "[259]\tvalidation_0-mae:0.15810\n",
      "[260]\tvalidation_0-mae:0.15811\n",
      "[261]\tvalidation_0-mae:0.15811\n",
      "[262]\tvalidation_0-mae:0.15811\n",
      "[263]\tvalidation_0-mae:0.15810\n",
      "[264]\tvalidation_0-mae:0.15810\n",
      "[265]\tvalidation_0-mae:0.15810\n",
      "[266]\tvalidation_0-mae:0.15810\n",
      "[267]\tvalidation_0-mae:0.15810\n",
      "[268]\tvalidation_0-mae:0.15810\n",
      "[269]\tvalidation_0-mae:0.15811\n",
      "[270]\tvalidation_0-mae:0.15812\n",
      "[271]\tvalidation_0-mae:0.15811\n",
      "[272]\tvalidation_0-mae:0.15811\n",
      "[273]\tvalidation_0-mae:0.15811\n",
      "[274]\tvalidation_0-mae:0.15810\n",
      "[275]\tvalidation_0-mae:0.15809\n",
      "[276]\tvalidation_0-mae:0.15809\n",
      "[277]\tvalidation_0-mae:0.15810\n",
      "[278]\tvalidation_0-mae:0.15810\n",
      "[279]\tvalidation_0-mae:0.15810\n",
      "[280]\tvalidation_0-mae:0.15809\n",
      "[281]\tvalidation_0-mae:0.15810\n",
      "[282]\tvalidation_0-mae:0.15810\n",
      "[283]\tvalidation_0-mae:0.15811\n",
      "[284]\tvalidation_0-mae:0.15810\n",
      "[285]\tvalidation_0-mae:0.15809\n",
      "[286]\tvalidation_0-mae:0.15809\n",
      "[287]\tvalidation_0-mae:0.15808\n",
      "[288]\tvalidation_0-mae:0.15809\n",
      "[289]\tvalidation_0-mae:0.15808\n",
      "[290]\tvalidation_0-mae:0.15808\n",
      "[291]\tvalidation_0-mae:0.15808\n",
      "[292]\tvalidation_0-mae:0.15807\n",
      "[293]\tvalidation_0-mae:0.15807\n",
      "[294]\tvalidation_0-mae:0.15807\n",
      "[295]\tvalidation_0-mae:0.15807\n",
      "[296]\tvalidation_0-mae:0.15806\n",
      "[297]\tvalidation_0-mae:0.15806\n",
      "[298]\tvalidation_0-mae:0.15807\n",
      "[299]\tvalidation_0-mae:0.15807\n",
      "[300]\tvalidation_0-mae:0.15807\n",
      "[301]\tvalidation_0-mae:0.15806\n",
      "[302]\tvalidation_0-mae:0.15806\n",
      "[303]\tvalidation_0-mae:0.15806\n",
      "[304]\tvalidation_0-mae:0.15805\n",
      "[305]\tvalidation_0-mae:0.15805\n",
      "[306]\tvalidation_0-mae:0.15806\n",
      "[307]\tvalidation_0-mae:0.15806\n",
      "[308]\tvalidation_0-mae:0.15807\n",
      "[309]\tvalidation_0-mae:0.15806\n",
      "[310]\tvalidation_0-mae:0.15806\n",
      "[311]\tvalidation_0-mae:0.15806\n",
      "[312]\tvalidation_0-mae:0.15806\n",
      "[313]\tvalidation_0-mae:0.15805\n",
      "[314]\tvalidation_0-mae:0.15806\n",
      "[315]\tvalidation_0-mae:0.15806\n",
      "[316]\tvalidation_0-mae:0.15806\n",
      "[317]\tvalidation_0-mae:0.15806\n",
      "[318]\tvalidation_0-mae:0.15807\n",
      "[319]\tvalidation_0-mae:0.15807\n",
      "[320]\tvalidation_0-mae:0.15806\n",
      "[321]\tvalidation_0-mae:0.15806\n",
      "[322]\tvalidation_0-mae:0.15806\n",
      "[323]\tvalidation_0-mae:0.15806\n",
      "[324]\tvalidation_0-mae:0.15806\n",
      "[325]\tvalidation_0-mae:0.15806\n",
      "[326]\tvalidation_0-mae:0.15806\n",
      "[327]\tvalidation_0-mae:0.15806\n",
      "[328]\tvalidation_0-mae:0.15805\n",
      "[329]\tvalidation_0-mae:0.15806\n",
      "[330]\tvalidation_0-mae:0.15805\n",
      "[331]\tvalidation_0-mae:0.15805\n",
      "[332]\tvalidation_0-mae:0.15806\n",
      "[333]\tvalidation_0-mae:0.15806\n",
      "[334]\tvalidation_0-mae:0.15806\n",
      "[335]\tvalidation_0-mae:0.15805\n",
      "[336]\tvalidation_0-mae:0.15805\n",
      "[337]\tvalidation_0-mae:0.15806\n",
      "[338]\tvalidation_0-mae:0.15806\n",
      "[339]\tvalidation_0-mae:0.15805\n",
      "[340]\tvalidation_0-mae:0.15805\n",
      "[341]\tvalidation_0-mae:0.15805\n",
      "[342]\tvalidation_0-mae:0.15805\n",
      "[343]\tvalidation_0-mae:0.15806\n",
      "[344]\tvalidation_0-mae:0.15806\n",
      "[345]\tvalidation_0-mae:0.15806\n",
      "[346]\tvalidation_0-mae:0.15807\n",
      "[347]\tvalidation_0-mae:0.15806\n",
      "[348]\tvalidation_0-mae:0.15807\n",
      "[349]\tvalidation_0-mae:0.15806\n",
      "[350]\tvalidation_0-mae:0.15806\n",
      "[351]\tvalidation_0-mae:0.15807\n",
      "[352]\tvalidation_0-mae:0.15807\n",
      "[353]\tvalidation_0-mae:0.15807\n",
      "[354]\tvalidation_0-mae:0.15807\n",
      "[355]\tvalidation_0-mae:0.15807\n",
      "[356]\tvalidation_0-mae:0.15807\n",
      "[357]\tvalidation_0-mae:0.15807\n",
      "[358]\tvalidation_0-mae:0.15806\n",
      "[359]\tvalidation_0-mae:0.15806\n",
      "[360]\tvalidation_0-mae:0.15806\n",
      "[361]\tvalidation_0-mae:0.15806\n",
      "[362]\tvalidation_0-mae:0.15806\n",
      "[363]\tvalidation_0-mae:0.15806\n",
      "[364]\tvalidation_0-mae:0.15805\n",
      "[365]\tvalidation_0-mae:0.15805\n",
      "[366]\tvalidation_0-mae:0.15805\n",
      "[367]\tvalidation_0-mae:0.15805\n",
      "[368]\tvalidation_0-mae:0.15804\n",
      "[369]\tvalidation_0-mae:0.15804\n",
      "[370]\tvalidation_0-mae:0.15804\n",
      "[371]\tvalidation_0-mae:0.15804\n",
      "[372]\tvalidation_0-mae:0.15803\n",
      "[373]\tvalidation_0-mae:0.15804\n",
      "[374]\tvalidation_0-mae:0.15804\n",
      "[375]\tvalidation_0-mae:0.15803\n",
      "[376]\tvalidation_0-mae:0.15804\n",
      "[377]\tvalidation_0-mae:0.15804\n",
      "[378]\tvalidation_0-mae:0.15803\n",
      "[379]\tvalidation_0-mae:0.15803\n",
      "[380]\tvalidation_0-mae:0.15803\n",
      "[381]\tvalidation_0-mae:0.15803\n",
      "[382]\tvalidation_0-mae:0.15803\n",
      "[383]\tvalidation_0-mae:0.15804\n",
      "[384]\tvalidation_0-mae:0.15803\n",
      "[385]\tvalidation_0-mae:0.15803\n",
      "[386]\tvalidation_0-mae:0.15803\n",
      "[387]\tvalidation_0-mae:0.15803\n",
      "[388]\tvalidation_0-mae:0.15803\n",
      "[389]\tvalidation_0-mae:0.15801\n",
      "[390]\tvalidation_0-mae:0.15802\n",
      "[391]\tvalidation_0-mae:0.15802\n",
      "[392]\tvalidation_0-mae:0.15803\n",
      "[393]\tvalidation_0-mae:0.15803\n",
      "[394]\tvalidation_0-mae:0.15803\n",
      "[395]\tvalidation_0-mae:0.15803\n",
      "[396]\tvalidation_0-mae:0.15804\n",
      "[397]\tvalidation_0-mae:0.15804\n",
      "[398]\tvalidation_0-mae:0.15804\n",
      "[399]\tvalidation_0-mae:0.15805\n",
      "[400]\tvalidation_0-mae:0.15805\n",
      "[401]\tvalidation_0-mae:0.15805\n",
      "[402]\tvalidation_0-mae:0.15805\n",
      "[403]\tvalidation_0-mae:0.15805\n",
      "[404]\tvalidation_0-mae:0.15806\n",
      "[405]\tvalidation_0-mae:0.15805\n",
      "[406]\tvalidation_0-mae:0.15805\n",
      "[407]\tvalidation_0-mae:0.15805\n",
      "[408]\tvalidation_0-mae:0.15805\n",
      "[409]\tvalidation_0-mae:0.15805\n",
      "[410]\tvalidation_0-mae:0.15805\n",
      "[411]\tvalidation_0-mae:0.15806\n",
      "[412]\tvalidation_0-mae:0.15806\n",
      "[413]\tvalidation_0-mae:0.15806\n",
      "[414]\tvalidation_0-mae:0.15806\n",
      "[415]\tvalidation_0-mae:0.15806\n",
      "[416]\tvalidation_0-mae:0.15806\n",
      "[417]\tvalidation_0-mae:0.15806\n",
      "[418]\tvalidation_0-mae:0.15805\n",
      "[419]\tvalidation_0-mae:0.15805\n",
      "[420]\tvalidation_0-mae:0.15806\n",
      "[421]\tvalidation_0-mae:0.15806\n",
      "[422]\tvalidation_0-mae:0.15806\n",
      "[423]\tvalidation_0-mae:0.15806\n",
      "[424]\tvalidation_0-mae:0.15806\n",
      "[425]\tvalidation_0-mae:0.15806\n",
      "[426]\tvalidation_0-mae:0.15805\n",
      "[427]\tvalidation_0-mae:0.15805\n",
      "[428]\tvalidation_0-mae:0.15806\n",
      "[429]\tvalidation_0-mae:0.15805\n",
      "[430]\tvalidation_0-mae:0.15805\n",
      "[431]\tvalidation_0-mae:0.15805\n",
      "[432]\tvalidation_0-mae:0.15805\n",
      "[433]\tvalidation_0-mae:0.15805\n",
      "[434]\tvalidation_0-mae:0.15806\n",
      "[435]\tvalidation_0-mae:0.15805\n",
      "[436]\tvalidation_0-mae:0.15805\n",
      "[437]\tvalidation_0-mae:0.15805\n",
      "[438]\tvalidation_0-mae:0.15805\n"
     ]
    },
    {
     "data": {
      "text/plain": "XGBRegressor(alpha=0.0524693644585006, base_score=0.5, booster='gbtree',\n             colsample_bylevel=1, colsample_bynode=1,\n             colsample_bytree=0.5095502611913834, enable_categorical=False,\n             gamma=0, gpu_id=-1, importance_type=None,\n             interaction_constraints='', lambda=4.5586068865713215e-07,\n             learning_rate=0.0449682801162507, max_delta_step=0, max_depth=23,\n             min_child_weight=2.404712074481848, missing=nan,\n             monotone_constraints='()', n_estimators=10000, n_jobs=12,\n             num_parallel_tree=1, predictor='auto', random_state=357,\n             reg_alpha=0.0524693653, reg_lambda=4.55860715e-07,\n             scale_pos_weight=1, subsample=0.9196040393707718,\n             tree_method='exact', validate_parameters=1, verbosity=0)"
     },
     "execution_count": 10,
     "metadata": {},
     "output_type": "execute_result"
    }
   ],
   "source": [
    "model_xgb = xgb.XGBRegressor(verbosity=0, objective='reg:squarederror', n_estimators=10000, **xgb_best_params, random_state=SEED)\n",
    "model_xgb.fit(X_train, np.log10(y_train + 1), eval_set=[(X_val, np.log10(y_val + 1))], eval_metric='mae', early_stopping_rounds=50)"
   ]
  },
  {
   "cell_type": "code",
   "execution_count": 11,
   "metadata": {
    "pycharm": {
     "name": "#%%\n"
    }
   },
   "outputs": [],
   "source": [
    "predict = lambda model, data: 10 ** model.predict(data) - 1"
   ]
  },
  {
   "cell_type": "code",
   "execution_count": 12,
   "metadata": {
    "pycharm": {
     "name": "#%%\n"
    }
   },
   "outputs": [
    {
     "name": "stdout",
     "output_type": "stream",
     "text": [
      "Preparation of a new explainer is initiated\n",
      "\n",
      "  -> data              : 6000 rows 43 cols\n",
      "  -> target variable   : Parameter 'y' was a pandas.Series. Converted to a numpy.ndarray.\n",
      "  -> target variable   : 6000 values\n",
      "  -> model_class       : xgboost.sklearn.XGBRegressor (default)\n",
      "  -> label             : XGBoost\n",
      "  -> predict function  : <function <lambda> at 0x000002AD80BAC820> will be used\n",
      "  -> predict function  : Accepts pandas.DataFrame and numpy.ndarray.\n",
      "  -> predicted values  : min = 67.3, mean = 9.1e+03, max = 2.85e+05\n",
      "  -> model type        : regression will be used (default)\n",
      "  -> residual function : difference between y and yhat (default)\n",
      "  -> residuals         : min = -7.56e+03, mean = 75.5, max = 3.38e+04\n",
      "  -> model_info        : package xgboost\n",
      "\n",
      "A new explainer has been created!\n"
     ]
    }
   ],
   "source": [
    "explainer_xgb = dx.Explainer(model_xgb, X_train.rename(name_to_description, axis=1), y_train, predict_function=predict, label='XGBoost')"
   ]
  },
  {
   "cell_type": "code",
   "execution_count": 13,
   "metadata": {
    "pycharm": {
     "name": "#%%\n"
    }
   },
   "outputs": [],
   "source": [
    "random_observations = data_val.sample(3, random_state=133)\n",
    "X_random_observations = random_observations.drop('Y', axis=1)[vars]\n",
    "y_random_observations = random_observations['Y']"
   ]
  },
  {
   "cell_type": "code",
   "execution_count": 14,
   "metadata": {
    "pycharm": {
     "name": "#%%\n"
    }
   },
   "outputs": [
    {
     "name": "stdout",
     "output_type": "stream",
     "text": [
      "pred: 3421.353759765625 \t true: 3466.8 \t abs residual: 45.44624023437518\n",
      "pred: 5373.76318359375 \t true: 5789.29 \t abs residual: 415.52681640624996\n",
      "pred: 3292.744873046875 \t true: 3282.0 \t abs residual: 10.744873046875\n"
     ]
    }
   ],
   "source": [
    "for pred, true in zip(predict(model_xgb, X_random_observations), y_random_observations):\n",
    "    print(f'pred: {pred} \\t true: {true} \\t abs residual: {abs(pred - true)}')"
   ]
  },
  {
   "cell_type": "code",
   "execution_count": 15,
   "outputs": [
    {
     "name": "stderr",
     "output_type": "stream",
     "text": [
      "Calculating ceteris paribus: 100%|██████████| 43/43 [00:00<00:00, 196.30it/s]\n",
      "Calculating ceteris paribus: 100%|██████████| 43/43 [00:00<00:00, 186.11it/s]\n",
      "Calculating ceteris paribus: 100%|██████████| 43/43 [00:00<00:00, 184.74it/s]\n"
     ]
    }
   ],
   "source": [
    "for ith, (X_random, y_random) in enumerate(zip(X_random_observations, y_random_observations)):\n",
    "    cp = explainer_xgb.predict_profile(X_random_observations.iloc[ith])\n",
    "\n",
    "    folder_path = pathlib.Path(f'../reports/figures/3')\n",
    "    folder_path.mkdir(parents=True, exist_ok=True)\n",
    "    for i in range(len(X_train.columns)):\n",
    "        plot = cp.plot(facet_ncol=1, variables=X_train.rename(name_to_description, axis=1).columns[i:i+1], show=False)\n",
    "        plot.write_image(file=folder_path / f'{ith}_{i}.png', engine='orca', scale=2.0)"
   ],
   "metadata": {
    "collapsed": false,
    "pycharm": {
     "name": "#%%\n"
    }
   }
  },
  {
   "cell_type": "code",
   "execution_count": 16,
   "outputs": [
    {
     "name": "stderr",
     "output_type": "stream",
     "text": [
      "Calculating ceteris paribus: 100%|██████████| 43/43 [00:00<00:00, 195.79it/s]\n",
      "Calculating ceteris paribus: 100%|██████████| 43/43 [00:00<00:00, 191.92it/s]\n"
     ]
    },
    {
     "name": "stdout",
     "output_type": "stream",
     "text": [
      "0.6085118027756611\n"
     ]
    },
    {
     "name": "stderr",
     "output_type": "stream",
     "text": [
      "Calculating ceteris paribus: 100%|██████████| 43/43 [00:00<00:00, 212.82it/s]\n",
      "Calculating ceteris paribus: 100%|██████████| 43/43 [00:00<00:00, 194.53it/s]\n"
     ]
    },
    {
     "name": "stdout",
     "output_type": "stream",
     "text": [
      "0.2198852370325739\n"
     ]
    },
    {
     "name": "stderr",
     "output_type": "stream",
     "text": [
      "Calculating ceteris paribus: 100%|██████████| 43/43 [00:00<00:00, 206.68it/s]\n",
      "Calculating ceteris paribus: 100%|██████████| 43/43 [00:00<00:00, 183.62it/s]\n"
     ]
    },
    {
     "name": "stdout",
     "output_type": "stream",
     "text": [
      "0.5879351060057413\n"
     ]
    },
    {
     "name": "stderr",
     "output_type": "stream",
     "text": [
      "Calculating ceteris paribus: 100%|██████████| 43/43 [00:00<00:00, 199.96it/s]\n",
      "Calculating ceteris paribus: 100%|██████████| 43/43 [00:00<00:00, 194.02it/s]\n"
     ]
    },
    {
     "name": "stdout",
     "output_type": "stream",
     "text": [
      "0.6551193095035561\n"
     ]
    },
    {
     "name": "stderr",
     "output_type": "stream",
     "text": [
      "Calculating ceteris paribus: 100%|██████████| 43/43 [00:00<00:00, 195.41it/s]\n",
      "Calculating ceteris paribus: 100%|██████████| 43/43 [00:00<00:00, 194.53it/s]\n"
     ]
    },
    {
     "name": "stdout",
     "output_type": "stream",
     "text": [
      "0.9728643142569915\n"
     ]
    },
    {
     "name": "stderr",
     "output_type": "stream",
     "text": [
      "Calculating ceteris paribus: 100%|██████████| 43/43 [00:00<00:00, 219.34it/s]\n",
      "Calculating ceteris paribus: 100%|██████████| 43/43 [00:00<00:00, 218.23it/s]\n"
     ]
    },
    {
     "name": "stdout",
     "output_type": "stream",
     "text": [
      "0.897001326649942\n"
     ]
    },
    {
     "name": "stderr",
     "output_type": "stream",
     "text": [
      "Calculating ceteris paribus: 100%|██████████| 43/43 [00:00<00:00, 187.73it/s]\n",
      "Calculating ceteris paribus: 100%|██████████| 43/43 [00:00<00:00, 184.02it/s]\n"
     ]
    },
    {
     "name": "stdout",
     "output_type": "stream",
     "text": [
      "0.49549934727480427\n"
     ]
    },
    {
     "name": "stderr",
     "output_type": "stream",
     "text": [
      "Calculating ceteris paribus: 100%|██████████| 43/43 [00:00<00:00, 194.53it/s]\n",
      "Calculating ceteris paribus: 100%|██████████| 43/43 [00:00<00:00, 180.92it/s]\n"
     ]
    },
    {
     "name": "stdout",
     "output_type": "stream",
     "text": [
      "0.9640782478413145\n"
     ]
    },
    {
     "name": "stderr",
     "output_type": "stream",
     "text": [
      "Calculating ceteris paribus: 100%|██████████| 43/43 [00:00<00:00, 193.21it/s]\n",
      "Calculating ceteris paribus: 100%|██████████| 43/43 [00:00<00:00, 197.20it/s]\n"
     ]
    },
    {
     "name": "stdout",
     "output_type": "stream",
     "text": [
      "0.6785891763212513\n"
     ]
    },
    {
     "name": "stderr",
     "output_type": "stream",
     "text": [
      "Calculating ceteris paribus: 100%|██████████| 43/43 [00:00<00:00, 201.23it/s]\n",
      "Calculating ceteris paribus: 100%|██████████| 43/43 [00:00<00:00, 195.74it/s]\n"
     ]
    },
    {
     "name": "stdout",
     "output_type": "stream",
     "text": [
      "0.31279471355872446\n"
     ]
    },
    {
     "name": "stderr",
     "output_type": "stream",
     "text": [
      "Calculating ceteris paribus: 100%|██████████| 43/43 [00:00<00:00, 214.95it/s]\n",
      "Calculating ceteris paribus: 100%|██████████| 43/43 [00:00<00:00, 213.24it/s]\n"
     ]
    },
    {
     "name": "stdout",
     "output_type": "stream",
     "text": [
      "0.48655639996430583\n"
     ]
    },
    {
     "name": "stderr",
     "output_type": "stream",
     "text": [
      "Calculating ceteris paribus: 100%|██████████| 43/43 [00:00<00:00, 196.30it/s]\n",
      "Calculating ceteris paribus: 100%|██████████| 43/43 [00:00<00:00, 194.01it/s]\n"
     ]
    },
    {
     "name": "stdout",
     "output_type": "stream",
     "text": [
      "0.7482373360253924\n"
     ]
    },
    {
     "name": "stderr",
     "output_type": "stream",
     "text": [
      "Calculating ceteris paribus: 100%|██████████| 43/43 [00:00<00:00, 216.03it/s]\n",
      "Calculating ceteris paribus: 100%|██████████| 43/43 [00:00<00:00, 195.35it/s]\n"
     ]
    },
    {
     "name": "stdout",
     "output_type": "stream",
     "text": [
      "0.9388314637736047\n"
     ]
    },
    {
     "name": "stderr",
     "output_type": "stream",
     "text": [
      "Calculating ceteris paribus: 100%|██████████| 43/43 [00:00<00:00, 174.76it/s]\n",
      "Calculating ceteris paribus: 100%|██████████| 43/43 [00:00<00:00, 181.50it/s]\n"
     ]
    },
    {
     "name": "stdout",
     "output_type": "stream",
     "text": [
      "0.610311147136037\n"
     ]
    },
    {
     "name": "stderr",
     "output_type": "stream",
     "text": [
      "Calculating ceteris paribus: 100%|██████████| 43/43 [00:00<00:00, 192.78it/s]\n",
      "Calculating ceteris paribus: 100%|██████████| 43/43 [00:00<00:00, 171.96it/s]\n"
     ]
    },
    {
     "name": "stdout",
     "output_type": "stream",
     "text": [
      "0.9114078755198561\n"
     ]
    },
    {
     "name": "stderr",
     "output_type": "stream",
     "text": [
      "Calculating ceteris paribus: 100%|██████████| 43/43 [00:00<00:00, 187.73it/s]\n",
      "Calculating ceteris paribus: 100%|██████████| 43/43 [00:00<00:00, 190.22it/s]\n"
     ]
    },
    {
     "name": "stdout",
     "output_type": "stream",
     "text": [
      "0.3122628909248215\n"
     ]
    },
    {
     "name": "stderr",
     "output_type": "stream",
     "text": [
      "Calculating ceteris paribus: 100%|██████████| 43/43 [00:00<00:00, 194.53it/s]\n",
      "Calculating ceteris paribus: 100%|██████████| 43/43 [00:00<00:00, 195.41it/s]\n"
     ]
    },
    {
     "name": "stdout",
     "output_type": "stream",
     "text": [
      "0.7492958195053103\n"
     ]
    },
    {
     "name": "stderr",
     "output_type": "stream",
     "text": [
      "Calculating ceteris paribus: 100%|██████████| 43/43 [00:00<00:00, 187.73it/s]\n",
      "Calculating ceteris paribus: 100%|██████████| 43/43 [00:00<00:00, 205.70it/s]\n"
     ]
    },
    {
     "name": "stdout",
     "output_type": "stream",
     "text": [
      "0.8014603422160416\n"
     ]
    },
    {
     "name": "stderr",
     "output_type": "stream",
     "text": [
      "Calculating ceteris paribus: 100%|██████████| 43/43 [00:00<00:00, 218.27it/s]\n",
      "Calculating ceteris paribus: 100%|██████████| 43/43 [00:00<00:00, 175.32it/s]\n"
     ]
    },
    {
     "name": "stdout",
     "output_type": "stream",
     "text": [
      "0.9400423248967352\n"
     ]
    },
    {
     "name": "stderr",
     "output_type": "stream",
     "text": [
      "Calculating ceteris paribus: 100%|██████████| 43/43 [00:00<00:00, 172.65it/s]\n",
      "Calculating ceteris paribus: 100%|██████████| 43/43 [00:00<00:00, 189.38it/s]\n"
     ]
    },
    {
     "name": "stdout",
     "output_type": "stream",
     "text": [
      "0.31116381266332993\n"
     ]
    },
    {
     "name": "stderr",
     "output_type": "stream",
     "text": [
      "Calculating ceteris paribus: 100%|██████████| 43/43 [00:00<00:00, 187.67it/s]\n",
      "Calculating ceteris paribus: 100%|██████████| 43/43 [00:00<00:00, 204.54it/s]\n"
     ]
    },
    {
     "name": "stdout",
     "output_type": "stream",
     "text": [
      "0.7114819144500147\n"
     ]
    },
    {
     "name": "stderr",
     "output_type": "stream",
     "text": [
      "Calculating ceteris paribus: 100%|██████████| 43/43 [00:00<00:00, 202.78it/s]\n",
      "Calculating ceteris paribus: 100%|██████████| 43/43 [00:00<00:00, 191.76it/s]\n"
     ]
    },
    {
     "name": "stdout",
     "output_type": "stream",
     "text": [
      "0.10054451631370086\n"
     ]
    },
    {
     "name": "stderr",
     "output_type": "stream",
     "text": [
      "Calculating ceteris paribus: 100%|██████████| 43/43 [00:00<00:00, 174.84it/s]\n",
      "Calculating ceteris paribus: 100%|██████████| 43/43 [00:00<00:00, 179.88it/s]\n"
     ]
    },
    {
     "name": "stdout",
     "output_type": "stream",
     "text": [
      "0.7699401249011334\n"
     ]
    },
    {
     "name": "stderr",
     "output_type": "stream",
     "text": [
      "Calculating ceteris paribus: 100%|██████████| 43/43 [00:00<00:00, 184.51it/s]\n",
      "Calculating ceteris paribus: 100%|██████████| 43/43 [00:00<00:00, 228.67it/s]\n"
     ]
    },
    {
     "name": "stdout",
     "output_type": "stream",
     "text": [
      "0.5799634774377632\n"
     ]
    },
    {
     "name": "stderr",
     "output_type": "stream",
     "text": [
      "Calculating ceteris paribus: 100%|██████████| 43/43 [00:00<00:00, 198.11it/s]\n",
      "Calculating ceteris paribus: 100%|██████████| 43/43 [00:00<00:00, 208.69it/s]\n"
     ]
    },
    {
     "name": "stdout",
     "output_type": "stream",
     "text": [
      "0.6105103433881091\n"
     ]
    },
    {
     "name": "stderr",
     "output_type": "stream",
     "text": [
      "Calculating ceteris paribus: 100%|██████████| 43/43 [00:00<00:00, 199.96it/s]\n",
      "Calculating ceteris paribus: 100%|██████████| 43/43 [00:00<00:00, 195.35it/s]\n"
     ]
    },
    {
     "name": "stdout",
     "output_type": "stream",
     "text": [
      "0.9413577633851359\n"
     ]
    },
    {
     "name": "stderr",
     "output_type": "stream",
     "text": [
      "Calculating ceteris paribus: 100%|██████████| 43/43 [00:00<00:00, 188.40it/s]\n",
      "Calculating ceteris paribus: 100%|██████████| 43/43 [00:00<00:00, 204.98it/s]\n"
     ]
    },
    {
     "name": "stdout",
     "output_type": "stream",
     "text": [
      "0.7574179676246329\n"
     ]
    },
    {
     "name": "stderr",
     "output_type": "stream",
     "text": [
      "Calculating ceteris paribus: 100%|██████████| 43/43 [00:00<00:00, 196.30it/s]\n",
      "Calculating ceteris paribus: 100%|██████████| 43/43 [00:00<00:00, 231.13it/s]\n"
     ]
    },
    {
     "name": "stdout",
     "output_type": "stream",
     "text": [
      "0.9505937881759777\n"
     ]
    },
    {
     "name": "stderr",
     "output_type": "stream",
     "text": [
      "Calculating ceteris paribus: 100%|██████████| 43/43 [00:00<00:00, 206.13it/s]\n",
      "Calculating ceteris paribus: 100%|██████████| 43/43 [00:00<00:00, 210.17it/s]\n"
     ]
    },
    {
     "name": "stdout",
     "output_type": "stream",
     "text": [
      "0.837145836728641\n"
     ]
    },
    {
     "name": "stderr",
     "output_type": "stream",
     "text": [
      "Calculating ceteris paribus: 100%|██████████| 43/43 [00:00<00:00, 199.03it/s]\n",
      "Calculating ceteris paribus: 100%|██████████| 43/43 [00:00<00:00, 206.13it/s]\n"
     ]
    },
    {
     "name": "stdout",
     "output_type": "stream",
     "text": [
      "0.292395153444122\n"
     ]
    },
    {
     "name": "stderr",
     "output_type": "stream",
     "text": [
      "Calculating ceteris paribus: 100%|██████████| 43/43 [00:00<00:00, 203.69it/s]\n",
      "Calculating ceteris paribus: 100%|██████████| 43/43 [00:00<00:00, 218.23it/s]\n"
     ]
    },
    {
     "name": "stdout",
     "output_type": "stream",
     "text": [
      "0.9094079682440184\n"
     ]
    },
    {
     "name": "stderr",
     "output_type": "stream",
     "text": [
      "Calculating ceteris paribus: 100%|██████████| 43/43 [00:00<00:00, 208.69it/s]\n",
      "Calculating ceteris paribus: 100%|██████████| 43/43 [00:00<00:00, 199.95it/s]\n"
     ]
    },
    {
     "name": "stdout",
     "output_type": "stream",
     "text": [
      "0.6829680260864455\n"
     ]
    },
    {
     "name": "stderr",
     "output_type": "stream",
     "text": [
      "Calculating ceteris paribus: 100%|██████████| 43/43 [00:00<00:00, 208.69it/s]\n",
      "Calculating ceteris paribus: 100%|██████████| 43/43 [00:00<00:00, 203.22it/s]\n"
     ]
    },
    {
     "name": "stdout",
     "output_type": "stream",
     "text": [
      "0.4449277260776944\n"
     ]
    },
    {
     "name": "stderr",
     "output_type": "stream",
     "text": [
      "Calculating ceteris paribus: 100%|██████████| 43/43 [00:00<00:00, 199.96it/s]\n",
      "Calculating ceteris paribus: 100%|██████████| 43/43 [00:00<00:00, 210.74it/s]\n"
     ]
    },
    {
     "name": "stdout",
     "output_type": "stream",
     "text": [
      "0.8638601168703918\n"
     ]
    },
    {
     "name": "stderr",
     "output_type": "stream",
     "text": [
      "Calculating ceteris paribus: 100%|██████████| 43/43 [00:00<00:00, 206.68it/s]\n",
      "Calculating ceteris paribus: 100%|██████████| 43/43 [00:00<00:00, 206.68it/s]\n"
     ]
    },
    {
     "name": "stdout",
     "output_type": "stream",
     "text": [
      "0.7452908282333871\n"
     ]
    },
    {
     "name": "stderr",
     "output_type": "stream",
     "text": [
      "Calculating ceteris paribus: 100%|██████████| 43/43 [00:00<00:00, 214.95it/s]\n",
      "Calculating ceteris paribus: 100%|██████████| 43/43 [00:00<00:00, 199.96it/s]\n"
     ]
    },
    {
     "name": "stdout",
     "output_type": "stream",
     "text": [
      "0.49324476024143077\n"
     ]
    },
    {
     "name": "stderr",
     "output_type": "stream",
     "text": [
      "Calculating ceteris paribus: 100%|██████████| 43/43 [00:00<00:00, 197.20it/s]\n",
      "Calculating ceteris paribus: 100%|██████████| 43/43 [00:00<00:00, 203.75it/s]\n"
     ]
    },
    {
     "name": "stdout",
     "output_type": "stream",
     "text": [
      "0.8022714311501566\n"
     ]
    },
    {
     "name": "stderr",
     "output_type": "stream",
     "text": [
      "Calculating ceteris paribus: 100%|██████████| 43/43 [00:00<00:00, 189.38it/s]\n",
      "Calculating ceteris paribus: 100%|██████████| 43/43 [00:00<00:00, 202.08it/s]\n"
     ]
    },
    {
     "name": "stdout",
     "output_type": "stream",
     "text": [
      "0.7508757845556019\n"
     ]
    },
    {
     "name": "stderr",
     "output_type": "stream",
     "text": [
      "Calculating ceteris paribus: 100%|██████████| 43/43 [00:00<00:00, 203.75it/s]\n",
      "Calculating ceteris paribus: 100%|██████████| 43/43 [00:00<00:00, 197.20it/s]\n"
     ]
    },
    {
     "name": "stdout",
     "output_type": "stream",
     "text": [
      "0.33811674545314613\n"
     ]
    },
    {
     "name": "stderr",
     "output_type": "stream",
     "text": [
      "Calculating ceteris paribus: 100%|██████████| 43/43 [00:00<00:00, 201.83it/s]\n",
      "Calculating ceteris paribus: 100%|██████████| 43/43 [00:00<00:00, 218.22it/s]\n"
     ]
    },
    {
     "name": "stdout",
     "output_type": "stream",
     "text": [
      "0.8714662862143592\n"
     ]
    },
    {
     "name": "stderr",
     "output_type": "stream",
     "text": [
      "Calculating ceteris paribus: 100%|██████████| 43/43 [00:00<00:00, 199.96it/s]\n",
      "Calculating ceteris paribus: 100%|██████████| 43/43 [00:00<00:00, 208.69it/s]\n"
     ]
    },
    {
     "name": "stdout",
     "output_type": "stream",
     "text": [
      "0.8964960850516588\n"
     ]
    },
    {
     "name": "stderr",
     "output_type": "stream",
     "text": [
      "Calculating ceteris paribus: 100%|██████████| 43/43 [00:00<00:00, 208.69it/s]\n",
      "Calculating ceteris paribus: 100%|██████████| 43/43 [00:00<00:00, 200.82it/s]\n"
     ]
    },
    {
     "name": "stdout",
     "output_type": "stream",
     "text": [
      "0.586575157631046\n"
     ]
    },
    {
     "name": "stderr",
     "output_type": "stream",
     "text": [
      "Calculating ceteris paribus: 100%|██████████| 43/43 [00:00<00:00, 210.22it/s]\n",
      "Calculating ceteris paribus: 100%|██████████| 43/43 [00:00<00:00, 203.75it/s]\n"
     ]
    },
    {
     "name": "stdout",
     "output_type": "stream",
     "text": [
      "0.9451551583860134\n"
     ]
    },
    {
     "name": "stderr",
     "output_type": "stream",
     "text": [
      "Calculating ceteris paribus: 100%|██████████| 43/43 [00:00<00:00, 200.89it/s]\n",
      "Calculating ceteris paribus: 100%|██████████| 43/43 [00:00<00:00, 211.78it/s]\n"
     ]
    },
    {
     "name": "stdout",
     "output_type": "stream",
     "text": [
      "0.9323625204810192\n"
     ]
    },
    {
     "name": "stderr",
     "output_type": "stream",
     "text": [
      "Calculating ceteris paribus: 100%|██████████| 43/43 [00:00<00:00, 180.23it/s]\n",
      "Calculating ceteris paribus: 100%|██████████| 43/43 [00:00<00:00, 135.16it/s]\n"
     ]
    },
    {
     "name": "stdout",
     "output_type": "stream",
     "text": [
      "0.7323152896867705\n"
     ]
    },
    {
     "name": "stderr",
     "output_type": "stream",
     "text": [
      "Calculating ceteris paribus: 100%|██████████| 43/43 [00:00<00:00, 137.11it/s]\n",
      "Calculating ceteris paribus: 100%|██████████| 43/43 [00:00<00:00, 191.39it/s]\n"
     ]
    },
    {
     "name": "stdout",
     "output_type": "stream",
     "text": [
      "0.06597105163162478\n"
     ]
    },
    {
     "name": "stderr",
     "output_type": "stream",
     "text": [
      "Calculating ceteris paribus: 100%|██████████| 43/43 [00:00<00:00, 191.07it/s]\n",
      "Calculating ceteris paribus: 100%|██████████| 43/43 [00:00<00:00, 226.27it/s]\n"
     ]
    },
    {
     "name": "stdout",
     "output_type": "stream",
     "text": [
      "0.7604974700812724\n"
     ]
    },
    {
     "name": "stderr",
     "output_type": "stream",
     "text": [
      "Calculating ceteris paribus: 100%|██████████| 43/43 [00:00<00:00, 189.38it/s]\n",
      "Calculating ceteris paribus: 100%|██████████| 43/43 [00:00<00:00, 166.07it/s]\n"
     ]
    },
    {
     "name": "stdout",
     "output_type": "stream",
     "text": [
      "0.7344123745910092\n"
     ]
    },
    {
     "name": "stderr",
     "output_type": "stream",
     "text": [
      "Calculating ceteris paribus: 100%|██████████| 43/43 [00:00<00:00, 205.70it/s]\n",
      "Calculating ceteris paribus: 100%|██████████| 43/43 [00:00<00:00, 207.12it/s]\n"
     ]
    },
    {
     "name": "stdout",
     "output_type": "stream",
     "text": [
      "0.19849597350307382\n"
     ]
    },
    {
     "name": "stderr",
     "output_type": "stream",
     "text": [
      "Calculating ceteris paribus: 100%|██████████| 43/43 [00:00<00:00, 212.22it/s]\n",
      "Calculating ceteris paribus: 100%|██████████| 43/43 [00:00<00:00, 203.75it/s]\n"
     ]
    },
    {
     "name": "stdout",
     "output_type": "stream",
     "text": [
      "0.6488331684502588\n"
     ]
    },
    {
     "name": "stderr",
     "output_type": "stream",
     "text": [
      "Calculating ceteris paribus: 100%|██████████| 43/43 [00:00<00:00, 198.89it/s]\n",
      "Calculating ceteris paribus: 100%|██████████| 43/43 [00:00<00:00, 212.82it/s]\n"
     ]
    },
    {
     "name": "stdout",
     "output_type": "stream",
     "text": [
      "0.6639362152925142\n"
     ]
    },
    {
     "name": "stderr",
     "output_type": "stream",
     "text": [
      "Calculating ceteris paribus: 100%|██████████| 43/43 [00:00<00:00, 199.96it/s]\n",
      "Calculating ceteris paribus: 100%|██████████| 43/43 [00:00<00:00, 221.55it/s]\n"
     ]
    },
    {
     "name": "stdout",
     "output_type": "stream",
     "text": [
      "0.6371315263163899\n"
     ]
    },
    {
     "name": "stderr",
     "output_type": "stream",
     "text": [
      "Calculating ceteris paribus: 100%|██████████| 43/43 [00:00<00:00, 185.30it/s]\n",
      "Calculating ceteris paribus: 100%|██████████| 43/43 [00:00<00:00, 199.42it/s]\n"
     ]
    },
    {
     "name": "stdout",
     "output_type": "stream",
     "text": [
      "0.3647228498382369\n"
     ]
    },
    {
     "name": "stderr",
     "output_type": "stream",
     "text": [
      "Calculating ceteris paribus: 100%|██████████| 43/43 [00:00<00:00, 206.62it/s]\n",
      "Calculating ceteris paribus: 100%|██████████| 43/43 [00:00<00:00, 200.20it/s]\n"
     ]
    },
    {
     "name": "stdout",
     "output_type": "stream",
     "text": [
      "0.6046780670234205\n"
     ]
    },
    {
     "name": "stderr",
     "output_type": "stream",
     "text": [
      "Calculating ceteris paribus: 100%|██████████| 43/43 [00:00<00:00, 200.89it/s]\n",
      "Calculating ceteris paribus: 100%|██████████| 43/43 [00:00<00:00, 203.68it/s]\n"
     ]
    },
    {
     "name": "stdout",
     "output_type": "stream",
     "text": [
      "0.6794563063042143\n"
     ]
    },
    {
     "name": "stderr",
     "output_type": "stream",
     "text": [
      "Calculating ceteris paribus: 100%|██████████| 43/43 [00:00<00:00, 210.74it/s]\n",
      "Calculating ceteris paribus: 100%|██████████| 43/43 [00:00<00:00, 200.29it/s]\n"
     ]
    },
    {
     "name": "stdout",
     "output_type": "stream",
     "text": [
      "0.7328217519230962\n"
     ]
    },
    {
     "name": "stderr",
     "output_type": "stream",
     "text": [
      "Calculating ceteris paribus: 100%|██████████| 43/43 [00:00<00:00, 191.92it/s]\n",
      "Calculating ceteris paribus: 100%|██████████| 43/43 [00:00<00:00, 200.88it/s]\n"
     ]
    },
    {
     "name": "stdout",
     "output_type": "stream",
     "text": [
      "-0.18985545351892535\n"
     ]
    },
    {
     "name": "stderr",
     "output_type": "stream",
     "text": [
      "Calculating ceteris paribus: 100%|██████████| 43/43 [00:00<00:00, 185.92it/s]\n",
      "Calculating ceteris paribus: 100%|██████████| 43/43 [00:00<00:00, 199.84it/s]\n"
     ]
    },
    {
     "name": "stdout",
     "output_type": "stream",
     "text": [
      "0.509791102412448\n"
     ]
    },
    {
     "name": "stderr",
     "output_type": "stream",
     "text": [
      "Calculating ceteris paribus: 100%|██████████| 43/43 [00:00<00:00, 220.45it/s]\n",
      "Calculating ceteris paribus: 100%|██████████| 43/43 [00:00<00:00, 185.30it/s]\n"
     ]
    },
    {
     "name": "stdout",
     "output_type": "stream",
     "text": [
      "0.8729644308019284\n"
     ]
    },
    {
     "name": "stderr",
     "output_type": "stream",
     "text": [
      "Calculating ceteris paribus: 100%|██████████| 43/43 [00:00<00:00, 199.96it/s]\n",
      "Calculating ceteris paribus: 100%|██████████| 43/43 [00:00<00:00, 192.78it/s]\n"
     ]
    },
    {
     "name": "stdout",
     "output_type": "stream",
     "text": [
      "0.7666158115611628\n"
     ]
    },
    {
     "name": "stderr",
     "output_type": "stream",
     "text": [
      "Calculating ceteris paribus: 100%|██████████| 43/43 [00:00<00:00, 195.80it/s]\n",
      "Calculating ceteris paribus: 100%|██████████| 43/43 [00:00<00:00, 199.41it/s]\n"
     ]
    },
    {
     "name": "stdout",
     "output_type": "stream",
     "text": [
      "0.5479909495945616\n"
     ]
    },
    {
     "name": "stderr",
     "output_type": "stream",
     "text": [
      "Calculating ceteris paribus: 100%|██████████| 43/43 [00:00<00:00, 227.46it/s]\n",
      "Calculating ceteris paribus: 100%|██████████| 43/43 [00:00<00:00, 200.89it/s]\n"
     ]
    },
    {
     "name": "stdout",
     "output_type": "stream",
     "text": [
      "-0.382841753193324\n"
     ]
    },
    {
     "name": "stderr",
     "output_type": "stream",
     "text": [
      "Calculating ceteris paribus: 100%|██████████| 43/43 [00:00<00:00, 194.53it/s]\n",
      "Calculating ceteris paribus: 100%|██████████| 43/43 [00:00<00:00, 197.20it/s]\n"
     ]
    },
    {
     "name": "stdout",
     "output_type": "stream",
     "text": [
      "0.6902380902004435\n"
     ]
    },
    {
     "name": "stderr",
     "output_type": "stream",
     "text": [
      "Calculating ceteris paribus: 100%|██████████| 43/43 [00:00<00:00, 199.96it/s]\n",
      "Calculating ceteris paribus: 100%|██████████| 43/43 [00:00<00:00, 231.70it/s]\n"
     ]
    },
    {
     "name": "stdout",
     "output_type": "stream",
     "text": [
      "0.8627115814331552\n"
     ]
    },
    {
     "name": "stderr",
     "output_type": "stream",
     "text": [
      "Calculating ceteris paribus: 100%|██████████| 43/43 [00:00<00:00, 207.67it/s]\n",
      "Calculating ceteris paribus: 100%|██████████| 43/43 [00:00<00:00, 212.82it/s]\n"
     ]
    },
    {
     "name": "stdout",
     "output_type": "stream",
     "text": [
      "0.6711206059742304\n"
     ]
    },
    {
     "name": "stderr",
     "output_type": "stream",
     "text": [
      "Calculating ceteris paribus: 100%|██████████| 43/43 [00:00<00:00, 206.68it/s]\n",
      "Calculating ceteris paribus: 100%|██████████| 43/43 [00:00<00:00, 224.37it/s]\n"
     ]
    },
    {
     "name": "stdout",
     "output_type": "stream",
     "text": [
      "0.7937840863204887\n"
     ]
    },
    {
     "name": "stderr",
     "output_type": "stream",
     "text": [
      "Calculating ceteris paribus: 100%|██████████| 43/43 [00:00<00:00, 155.76it/s]\n",
      "Calculating ceteris paribus: 100%|██████████| 43/43 [00:00<00:00, 207.62it/s]\n"
     ]
    },
    {
     "name": "stdout",
     "output_type": "stream",
     "text": [
      "0.759390963873901\n"
     ]
    },
    {
     "name": "stderr",
     "output_type": "stream",
     "text": [
      "Calculating ceteris paribus: 100%|██████████| 43/43 [00:00<00:00, 223.91it/s]\n",
      "Calculating ceteris paribus: 100%|██████████| 43/43 [00:00<00:00, 196.20it/s]\n"
     ]
    },
    {
     "name": "stdout",
     "output_type": "stream",
     "text": [
      "0.7637374441514027\n"
     ]
    },
    {
     "name": "stderr",
     "output_type": "stream",
     "text": [
      "Calculating ceteris paribus: 100%|██████████| 43/43 [00:00<00:00, 209.11it/s]\n",
      "Calculating ceteris paribus: 100%|██████████| 43/43 [00:00<00:00, 202.67it/s]\n"
     ]
    },
    {
     "name": "stdout",
     "output_type": "stream",
     "text": [
      "0.9156412931013767\n"
     ]
    },
    {
     "name": "stderr",
     "output_type": "stream",
     "text": [
      "Calculating ceteris paribus: 100%|██████████| 43/43 [00:00<00:00, 216.03it/s]\n",
      "Calculating ceteris paribus: 100%|██████████| 43/43 [00:00<00:00, 204.13it/s]\n"
     ]
    },
    {
     "name": "stdout",
     "output_type": "stream",
     "text": [
      "0.7727961211741166\n"
     ]
    },
    {
     "name": "stderr",
     "output_type": "stream",
     "text": [
      "Calculating ceteris paribus: 100%|██████████| 43/43 [00:00<00:00, 198.96it/s]\n",
      "Calculating ceteris paribus: 100%|██████████| 43/43 [00:00<00:00, 206.68it/s]\n"
     ]
    },
    {
     "name": "stdout",
     "output_type": "stream",
     "text": [
      "0.7838136736280656\n"
     ]
    },
    {
     "name": "stderr",
     "output_type": "stream",
     "text": [
      "Calculating ceteris paribus: 100%|██████████| 43/43 [00:00<00:00, 243.64it/s]\n",
      "Calculating ceteris paribus: 100%|██████████| 43/43 [00:00<00:00, 207.07it/s]\n"
     ]
    },
    {
     "name": "stdout",
     "output_type": "stream",
     "text": [
      "0.5520776970445441\n"
     ]
    },
    {
     "name": "stderr",
     "output_type": "stream",
     "text": [
      "Calculating ceteris paribus: 100%|██████████| 43/43 [00:00<00:00, 202.61it/s]\n",
      "Calculating ceteris paribus: 100%|██████████| 43/43 [00:00<00:00, 194.84it/s]\n"
     ]
    },
    {
     "name": "stdout",
     "output_type": "stream",
     "text": [
      "0.8818144471835894\n"
     ]
    },
    {
     "name": "stderr",
     "output_type": "stream",
     "text": [
      "Calculating ceteris paribus: 100%|██████████| 43/43 [00:00<00:00, 196.90it/s]\n",
      "Calculating ceteris paribus: 100%|██████████| 43/43 [00:00<00:00, 194.02it/s]\n"
     ]
    },
    {
     "name": "stdout",
     "output_type": "stream",
     "text": [
      "0.722383589800034\n"
     ]
    },
    {
     "name": "stderr",
     "output_type": "stream",
     "text": [
      "Calculating ceteris paribus: 100%|██████████| 43/43 [00:00<00:00, 191.92it/s]\n",
      "Calculating ceteris paribus: 100%|██████████| 43/43 [00:00<00:00, 197.20it/s]\n"
     ]
    },
    {
     "name": "stdout",
     "output_type": "stream",
     "text": [
      "0.38009970687359645\n"
     ]
    },
    {
     "name": "stderr",
     "output_type": "stream",
     "text": [
      "Calculating ceteris paribus: 100%|██████████| 43/43 [00:00<00:00, 205.70it/s]\n",
      "Calculating ceteris paribus: 100%|██████████| 43/43 [00:00<00:00, 201.70it/s]\n"
     ]
    },
    {
     "name": "stdout",
     "output_type": "stream",
     "text": [
      "0.8575305149375143\n"
     ]
    },
    {
     "name": "stderr",
     "output_type": "stream",
     "text": [
      "Calculating ceteris paribus: 100%|██████████| 43/43 [00:00<00:00, 222.60it/s]\n",
      "Calculating ceteris paribus: 100%|██████████| 43/43 [00:00<00:00, 195.34it/s]\n"
     ]
    },
    {
     "name": "stdout",
     "output_type": "stream",
     "text": [
      "0.8656111801199089\n"
     ]
    },
    {
     "name": "stderr",
     "output_type": "stream",
     "text": [
      "Calculating ceteris paribus: 100%|██████████| 43/43 [00:00<00:00, 196.30it/s]\n",
      "Calculating ceteris paribus: 100%|██████████| 43/43 [00:00<00:00, 198.88it/s]\n"
     ]
    },
    {
     "name": "stdout",
     "output_type": "stream",
     "text": [
      "0.9008898628402285\n"
     ]
    },
    {
     "name": "stderr",
     "output_type": "stream",
     "text": [
      "Calculating ceteris paribus: 100%|██████████| 43/43 [00:00<00:00, 202.78it/s]\n",
      "Calculating ceteris paribus: 100%|██████████| 43/43 [00:00<00:00, 202.66it/s]\n"
     ]
    },
    {
     "name": "stdout",
     "output_type": "stream",
     "text": [
      "0.8159912590197642\n"
     ]
    },
    {
     "name": "stderr",
     "output_type": "stream",
     "text": [
      "Calculating ceteris paribus: 100%|██████████| 43/43 [00:00<00:00, 196.30it/s]\n",
      "Calculating ceteris paribus: 100%|██████████| 43/43 [00:00<00:00, 195.41it/s]\n"
     ]
    },
    {
     "name": "stdout",
     "output_type": "stream",
     "text": [
      "0.8623506708455186\n"
     ]
    },
    {
     "name": "stderr",
     "output_type": "stream",
     "text": [
      "Calculating ceteris paribus: 100%|██████████| 43/43 [00:00<00:00, 226.16it/s]\n",
      "Calculating ceteris paribus: 100%|██████████| 43/43 [00:00<00:00, 204.64it/s]\n"
     ]
    },
    {
     "name": "stdout",
     "output_type": "stream",
     "text": [
      "0.8546277746189728\n"
     ]
    },
    {
     "name": "stderr",
     "output_type": "stream",
     "text": [
      "Calculating ceteris paribus: 100%|██████████| 43/43 [00:00<00:00, 197.20it/s]\n",
      "Calculating ceteris paribus: 100%|██████████| 43/43 [00:00<00:00, 200.81it/s]\n"
     ]
    },
    {
     "name": "stdout",
     "output_type": "stream",
     "text": [
      "0.88602157855094\n"
     ]
    },
    {
     "name": "stderr",
     "output_type": "stream",
     "text": [
      "Calculating ceteris paribus: 100%|██████████| 43/43 [00:00<00:00, 200.89it/s]\n",
      "Calculating ceteris paribus: 100%|██████████| 43/43 [00:00<00:00, 198.11it/s]\n"
     ]
    },
    {
     "name": "stdout",
     "output_type": "stream",
     "text": [
      "0.5724574929584167\n"
     ]
    },
    {
     "name": "stderr",
     "output_type": "stream",
     "text": [
      "Calculating ceteris paribus: 100%|██████████| 43/43 [00:00<00:00, 207.10it/s]\n",
      "Calculating ceteris paribus: 100%|██████████| 43/43 [00:00<00:00, 222.02it/s]\n"
     ]
    },
    {
     "name": "stdout",
     "output_type": "stream",
     "text": [
      "0.6582343782918438\n"
     ]
    },
    {
     "name": "stderr",
     "output_type": "stream",
     "text": [
      "Calculating ceteris paribus: 100%|██████████| 43/43 [00:00<00:00, 199.96it/s]\n",
      "Calculating ceteris paribus: 100%|██████████| 43/43 [00:00<00:00, 214.28it/s]\n"
     ]
    },
    {
     "name": "stdout",
     "output_type": "stream",
     "text": [
      "0.7897298073481459\n"
     ]
    },
    {
     "name": "stderr",
     "output_type": "stream",
     "text": [
      "Calculating ceteris paribus: 100%|██████████| 43/43 [00:00<00:00, 199.03it/s]\n",
      "Calculating ceteris paribus: 100%|██████████| 43/43 [00:00<00:00, 197.20it/s]\n"
     ]
    },
    {
     "name": "stdout",
     "output_type": "stream",
     "text": [
      "0.5550231869581517\n"
     ]
    },
    {
     "name": "stderr",
     "output_type": "stream",
     "text": [
      "Calculating ceteris paribus: 100%|██████████| 43/43 [00:00<00:00, 205.70it/s]\n",
      "Calculating ceteris paribus: 100%|██████████| 43/43 [00:00<00:00, 203.75it/s]\n"
     ]
    },
    {
     "name": "stdout",
     "output_type": "stream",
     "text": [
      "0.7833488533484656\n"
     ]
    },
    {
     "name": "stderr",
     "output_type": "stream",
     "text": [
      "Calculating ceteris paribus: 100%|██████████| 43/43 [00:00<00:00, 208.18it/s]\n",
      "Calculating ceteris paribus: 100%|██████████| 43/43 [00:00<00:00, 201.68it/s]\n"
     ]
    },
    {
     "name": "stdout",
     "output_type": "stream",
     "text": [
      "0.6870298791947889\n"
     ]
    },
    {
     "name": "stderr",
     "output_type": "stream",
     "text": [
      "Calculating ceteris paribus: 100%|██████████| 43/43 [00:00<00:00, 210.60it/s]\n",
      "Calculating ceteris paribus: 100%|██████████| 43/43 [00:00<00:00, 214.95it/s]\n"
     ]
    },
    {
     "name": "stdout",
     "output_type": "stream",
     "text": [
      "0.32094510929674047\n"
     ]
    },
    {
     "name": "stderr",
     "output_type": "stream",
     "text": [
      "Calculating ceteris paribus: 100%|██████████| 43/43 [00:00<00:00, 234.92it/s]\n",
      "Calculating ceteris paribus: 100%|██████████| 43/43 [00:00<00:00, 194.80it/s]\n"
     ]
    },
    {
     "name": "stdout",
     "output_type": "stream",
     "text": [
      "0.39125574520513073\n"
     ]
    },
    {
     "name": "stderr",
     "output_type": "stream",
     "text": [
      "Calculating ceteris paribus: 100%|██████████| 43/43 [00:00<00:00, 200.89it/s]\n",
      "Calculating ceteris paribus: 100%|██████████| 43/43 [00:00<00:00, 202.78it/s]\n"
     ]
    },
    {
     "name": "stdout",
     "output_type": "stream",
     "text": [
      "0.8232748620752628\n"
     ]
    },
    {
     "name": "stderr",
     "output_type": "stream",
     "text": [
      "Calculating ceteris paribus: 100%|██████████| 43/43 [00:00<00:00, 210.74it/s]\n",
      "Calculating ceteris paribus: 100%|██████████| 43/43 [00:00<00:00, 206.68it/s]\n"
     ]
    },
    {
     "name": "stdout",
     "output_type": "stream",
     "text": [
      "0.5986480134465382\n"
     ]
    },
    {
     "name": "stderr",
     "output_type": "stream",
     "text": [
      "Calculating ceteris paribus: 100%|██████████| 43/43 [00:00<00:00, 214.66it/s]\n",
      "Calculating ceteris paribus: 100%|██████████| 43/43 [00:00<00:00, 216.03it/s]\n"
     ]
    },
    {
     "name": "stdout",
     "output_type": "stream",
     "text": [
      "0.8457419838465714\n"
     ]
    },
    {
     "name": "stderr",
     "output_type": "stream",
     "text": [
      "Calculating ceteris paribus: 100%|██████████| 43/43 [00:00<00:00, 233.64it/s]\n",
      "Calculating ceteris paribus: 100%|██████████| 43/43 [00:00<00:00, 205.70it/s]\n"
     ]
    },
    {
     "name": "stdout",
     "output_type": "stream",
     "text": [
      "0.901141905429081\n"
     ]
    },
    {
     "name": "stderr",
     "output_type": "stream",
     "text": [
      "Calculating ceteris paribus: 100%|██████████| 43/43 [00:00<00:00, 191.92it/s]\n",
      "Calculating ceteris paribus: 100%|██████████| 43/43 [00:00<00:00, 207.68it/s]\n"
     ]
    },
    {
     "name": "stdout",
     "output_type": "stream",
     "text": [
      "0.403858379058268\n"
     ]
    },
    {
     "name": "stderr",
     "output_type": "stream",
     "text": [
      "Calculating ceteris paribus: 100%|██████████| 43/43 [00:00<00:00, 188.55it/s]\n",
      "Calculating ceteris paribus: 100%|██████████| 43/43 [00:00<00:00, 221.52it/s]\n"
     ]
    },
    {
     "name": "stdout",
     "output_type": "stream",
     "text": [
      "0.872407344060953\n"
     ]
    },
    {
     "name": "stderr",
     "output_type": "stream",
     "text": [
      "Calculating ceteris paribus: 100%|██████████| 43/43 [00:00<00:00, 213.86it/s]\n",
      "Calculating ceteris paribus: 100%|██████████| 43/43 [00:00<00:00, 203.75it/s]\n"
     ]
    },
    {
     "name": "stdout",
     "output_type": "stream",
     "text": [
      "0.7949289935536678\n"
     ]
    },
    {
     "name": "stderr",
     "output_type": "stream",
     "text": [
      "Calculating ceteris paribus: 100%|██████████| 43/43 [00:00<00:00, 191.92it/s]\n",
      "Calculating ceteris paribus: 100%|██████████| 43/43 [00:00<00:00, 204.66it/s]\n"
     ]
    },
    {
     "name": "stdout",
     "output_type": "stream",
     "text": [
      "0.6187942247523947\n"
     ]
    },
    {
     "name": "stderr",
     "output_type": "stream",
     "text": [
      "Calculating ceteris paribus: 100%|██████████| 43/43 [00:00<00:00, 194.88it/s]\n",
      "Calculating ceteris paribus: 100%|██████████| 43/43 [00:00<00:00, 204.72it/s]\n"
     ]
    },
    {
     "name": "stdout",
     "output_type": "stream",
     "text": [
      "0.5521231762562103\n"
     ]
    },
    {
     "name": "stderr",
     "output_type": "stream",
     "text": [
      "Calculating ceteris paribus: 100%|██████████| 43/43 [00:00<00:00, 221.60it/s]\n",
      "Calculating ceteris paribus: 100%|██████████| 43/43 [00:00<00:00, 205.70it/s]\n"
     ]
    },
    {
     "name": "stdout",
     "output_type": "stream",
     "text": [
      "0.7445804136551345\n"
     ]
    },
    {
     "name": "stderr",
     "output_type": "stream",
     "text": [
      "Calculating ceteris paribus: 100%|██████████| 43/43 [00:00<00:00, 195.81it/s]\n",
      "Calculating ceteris paribus: 100%|██████████| 43/43 [00:00<00:00, 173.35it/s]\n"
     ]
    },
    {
     "name": "stdout",
     "output_type": "stream",
     "text": [
      "0.6487670358101164\n"
     ]
    },
    {
     "name": "stderr",
     "output_type": "stream",
     "text": [
      "Calculating ceteris paribus: 100%|██████████| 43/43 [00:00<00:00, 174.05it/s]\n",
      "Calculating ceteris paribus: 100%|██████████| 43/43 [00:00<00:00, 171.96it/s]\n"
     ]
    },
    {
     "name": "stdout",
     "output_type": "stream",
     "text": [
      "0.8201581859101946\n"
     ]
    },
    {
     "name": "stderr",
     "output_type": "stream",
     "text": [
      "Calculating ceteris paribus: 100%|██████████| 43/43 [00:00<00:00, 188.36it/s]\n",
      "Calculating ceteris paribus: 100%|██████████| 43/43 [00:00<00:00, 198.11it/s]\n"
     ]
    },
    {
     "name": "stdout",
     "output_type": "stream",
     "text": [
      "0.6732104063637789\n"
     ]
    },
    {
     "name": "stderr",
     "output_type": "stream",
     "text": [
      "Calculating ceteris paribus: 100%|██████████| 43/43 [00:00<00:00, 194.53it/s]\n",
      "Calculating ceteris paribus: 100%|██████████| 43/43 [00:00<00:00, 216.48it/s]\n"
     ]
    },
    {
     "name": "stdout",
     "output_type": "stream",
     "text": [
      "0.9026926089808143\n"
     ]
    },
    {
     "name": "stderr",
     "output_type": "stream",
     "text": [
      "Calculating ceteris paribus: 100%|██████████| 43/43 [00:00<00:00, 198.11it/s]\n",
      "Calculating ceteris paribus: 100%|██████████| 43/43 [00:00<00:00, 199.03it/s]\n"
     ]
    },
    {
     "name": "stdout",
     "output_type": "stream",
     "text": [
      "0.8254693116635109\n"
     ]
    },
    {
     "name": "stderr",
     "output_type": "stream",
     "text": [
      "Calculating ceteris paribus: 100%|██████████| 43/43 [00:00<00:00, 199.03it/s]\n",
      "Calculating ceteris paribus: 100%|██████████| 43/43 [00:00<00:00, 191.16it/s]\n"
     ]
    },
    {
     "name": "stdout",
     "output_type": "stream",
     "text": [
      "0.8695541430673046\n"
     ]
    },
    {
     "name": "stderr",
     "output_type": "stream",
     "text": [
      "Calculating ceteris paribus: 100%|██████████| 43/43 [00:00<00:00, 199.96it/s]\n",
      "Calculating ceteris paribus: 100%|██████████| 43/43 [00:00<00:00, 187.31it/s]\n"
     ]
    },
    {
     "name": "stdout",
     "output_type": "stream",
     "text": [
      "0.8029480966941862\n"
     ]
    },
    {
     "name": "stderr",
     "output_type": "stream",
     "text": [
      "Calculating ceteris paribus: 100%|██████████| 43/43 [00:00<00:00, 207.11it/s]\n",
      "Calculating ceteris paribus: 100%|██████████| 43/43 [00:00<00:00, 190.51it/s]\n"
     ]
    },
    {
     "name": "stdout",
     "output_type": "stream",
     "text": [
      "0.9257167199411673\n"
     ]
    },
    {
     "name": "stderr",
     "output_type": "stream",
     "text": [
      "Calculating ceteris paribus: 100%|██████████| 43/43 [00:00<00:00, 206.68it/s]\n",
      "Calculating ceteris paribus: 100%|██████████| 43/43 [00:00<00:00, 206.68it/s]\n"
     ]
    },
    {
     "name": "stdout",
     "output_type": "stream",
     "text": [
      "0.78603699115726\n"
     ]
    },
    {
     "name": "stderr",
     "output_type": "stream",
     "text": [
      "Calculating ceteris paribus: 100%|██████████| 43/43 [00:00<00:00, 199.03it/s]\n",
      "Calculating ceteris paribus: 100%|██████████| 43/43 [00:00<00:00, 206.68it/s]\n"
     ]
    },
    {
     "name": "stdout",
     "output_type": "stream",
     "text": [
      "0.7328410955078625\n"
     ]
    },
    {
     "name": "stderr",
     "output_type": "stream",
     "text": [
      "Calculating ceteris paribus: 100%|██████████| 43/43 [00:00<00:00, 209.71it/s]\n",
      "Calculating ceteris paribus: 100%|██████████| 43/43 [00:00<00:00, 180.63it/s]\n"
     ]
    },
    {
     "name": "stdout",
     "output_type": "stream",
     "text": [
      "0.6911681477625496\n"
     ]
    },
    {
     "name": "stderr",
     "output_type": "stream",
     "text": [
      "Calculating ceteris paribus: 100%|██████████| 43/43 [00:00<00:00, 198.11it/s]\n",
      "Calculating ceteris paribus: 100%|██████████| 43/43 [00:00<00:00, 212.82it/s]\n"
     ]
    },
    {
     "name": "stdout",
     "output_type": "stream",
     "text": [
      "0.7417969516505478\n"
     ]
    },
    {
     "name": "stderr",
     "output_type": "stream",
     "text": [
      "Calculating ceteris paribus: 100%|██████████| 43/43 [00:00<00:00, 198.97it/s]\n",
      "Calculating ceteris paribus: 100%|██████████| 43/43 [00:00<00:00, 196.30it/s]\n"
     ]
    },
    {
     "name": "stdout",
     "output_type": "stream",
     "text": [
      "0.5032944855447018\n"
     ]
    },
    {
     "name": "stderr",
     "output_type": "stream",
     "text": [
      "Calculating ceteris paribus: 100%|██████████| 43/43 [00:00<00:00, 199.03it/s]\n",
      "Calculating ceteris paribus: 100%|██████████| 43/43 [00:00<00:00, 209.71it/s]\n"
     ]
    },
    {
     "name": "stdout",
     "output_type": "stream",
     "text": [
      "0.7192541375505269\n"
     ]
    },
    {
     "name": "stderr",
     "output_type": "stream",
     "text": [
      "Calculating ceteris paribus: 100%|██████████| 43/43 [00:00<00:00, 212.82it/s]\n",
      "Calculating ceteris paribus: 100%|██████████| 43/43 [00:00<00:00, 199.96it/s]\n"
     ]
    },
    {
     "name": "stdout",
     "output_type": "stream",
     "text": [
      "0.6893743548509627\n"
     ]
    },
    {
     "name": "stderr",
     "output_type": "stream",
     "text": [
      "Calculating ceteris paribus: 100%|██████████| 43/43 [00:00<00:00, 200.77it/s]\n",
      "Calculating ceteris paribus: 100%|██████████| 43/43 [00:00<00:00, 189.39it/s]\n"
     ]
    },
    {
     "name": "stdout",
     "output_type": "stream",
     "text": [
      "0.36888087084215376\n"
     ]
    },
    {
     "name": "stderr",
     "output_type": "stream",
     "text": [
      "Calculating ceteris paribus: 100%|██████████| 43/43 [00:00<00:00, 206.68it/s]\n",
      "Calculating ceteris paribus: 100%|██████████| 43/43 [00:00<00:00, 184.88it/s]\n"
     ]
    },
    {
     "name": "stdout",
     "output_type": "stream",
     "text": [
      "0.7912771422304972\n"
     ]
    },
    {
     "name": "stderr",
     "output_type": "stream",
     "text": [
      "Calculating ceteris paribus: 100%|██████████| 43/43 [00:00<00:00, 197.20it/s]\n",
      "Calculating ceteris paribus: 100%|██████████| 43/43 [00:00<00:00, 193.65it/s]\n"
     ]
    },
    {
     "name": "stdout",
     "output_type": "stream",
     "text": [
      "0.37353033602968816\n"
     ]
    },
    {
     "name": "stderr",
     "output_type": "stream",
     "text": [
      "Calculating ceteris paribus: 100%|██████████| 43/43 [00:00<00:00, 208.69it/s]\n",
      "Calculating ceteris paribus: 100%|██████████| 43/43 [00:00<00:00, 186.04it/s]\n"
     ]
    },
    {
     "name": "stdout",
     "output_type": "stream",
     "text": [
      "0.871322014369009\n"
     ]
    },
    {
     "name": "stderr",
     "output_type": "stream",
     "text": [
      "Calculating ceteris paribus: 100%|██████████| 43/43 [00:00<00:00, 197.62it/s]\n",
      "Calculating ceteris paribus: 100%|██████████| 43/43 [00:00<00:00, 198.11it/s]\n"
     ]
    },
    {
     "name": "stdout",
     "output_type": "stream",
     "text": [
      "0.7064473281356041\n"
     ]
    },
    {
     "name": "stderr",
     "output_type": "stream",
     "text": [
      "Calculating ceteris paribus: 100%|██████████| 43/43 [00:00<00:00, 201.83it/s]\n",
      "Calculating ceteris paribus: 100%|██████████| 43/43 [00:00<00:00, 191.84it/s]\n"
     ]
    },
    {
     "name": "stdout",
     "output_type": "stream",
     "text": [
      "0.7100779966565169\n"
     ]
    },
    {
     "name": "stderr",
     "output_type": "stream",
     "text": [
      "Calculating ceteris paribus: 100%|██████████| 43/43 [00:00<00:00, 205.70it/s]\n",
      "Calculating ceteris paribus: 100%|██████████| 43/43 [00:00<00:00, 222.75it/s]\n"
     ]
    },
    {
     "name": "stdout",
     "output_type": "stream",
     "text": [
      "0.7694615560485811\n"
     ]
    },
    {
     "name": "stderr",
     "output_type": "stream",
     "text": [
      "Calculating ceteris paribus: 100%|██████████| 43/43 [00:00<00:00, 193.65it/s]\n",
      "Calculating ceteris paribus: 100%|██████████| 43/43 [00:00<00:00, 193.15it/s]\n"
     ]
    },
    {
     "name": "stdout",
     "output_type": "stream",
     "text": [
      "0.8213998285005343\n"
     ]
    },
    {
     "name": "stderr",
     "output_type": "stream",
     "text": [
      "Calculating ceteris paribus: 100%|██████████| 43/43 [00:00<00:00, 204.57it/s]\n",
      "Calculating ceteris paribus: 100%|██████████| 43/43 [00:00<00:00, 201.24it/s]\n"
     ]
    },
    {
     "name": "stdout",
     "output_type": "stream",
     "text": [
      "0.5893206800429789\n"
     ]
    },
    {
     "name": "stderr",
     "output_type": "stream",
     "text": [
      "Calculating ceteris paribus: 100%|██████████| 43/43 [00:00<00:00, 207.68it/s]\n",
      "Calculating ceteris paribus: 100%|██████████| 43/43 [00:00<00:00, 192.30it/s]\n"
     ]
    },
    {
     "name": "stdout",
     "output_type": "stream",
     "text": [
      "0.5541321663565792\n"
     ]
    },
    {
     "name": "stderr",
     "output_type": "stream",
     "text": [
      "Calculating ceteris paribus: 100%|██████████| 43/43 [00:00<00:00, 206.89it/s]\n",
      "Calculating ceteris paribus: 100%|██████████| 43/43 [00:00<00:00, 199.03it/s]\n"
     ]
    },
    {
     "name": "stdout",
     "output_type": "stream",
     "text": [
      "0.8779959756536525\n"
     ]
    },
    {
     "name": "stderr",
     "output_type": "stream",
     "text": [
      "Calculating ceteris paribus: 100%|██████████| 43/43 [00:00<00:00, 211.78it/s]\n",
      "Calculating ceteris paribus: 100%|██████████| 43/43 [00:00<00:00, 204.88it/s]\n"
     ]
    },
    {
     "name": "stdout",
     "output_type": "stream",
     "text": [
      "0.662931842259985\n"
     ]
    },
    {
     "name": "stderr",
     "output_type": "stream",
     "text": [
      "Calculating ceteris paribus: 100%|██████████| 43/43 [00:00<00:00, 199.35it/s]\n",
      "Calculating ceteris paribus: 100%|██████████| 43/43 [00:00<00:00, 208.69it/s]\n"
     ]
    },
    {
     "name": "stdout",
     "output_type": "stream",
     "text": [
      "0.5666296908305946\n"
     ]
    },
    {
     "name": "stderr",
     "output_type": "stream",
     "text": [
      "Calculating ceteris paribus: 100%|██████████| 43/43 [00:00<00:00, 208.69it/s]\n",
      "Calculating ceteris paribus: 100%|██████████| 43/43 [00:00<00:00, 191.86it/s]\n"
     ]
    },
    {
     "name": "stdout",
     "output_type": "stream",
     "text": [
      "0.6316297394726361\n"
     ]
    },
    {
     "name": "stderr",
     "output_type": "stream",
     "text": [
      "Calculating ceteris paribus: 100%|██████████| 43/43 [00:00<00:00, 199.03it/s]\n",
      "Calculating ceteris paribus: 100%|██████████| 43/43 [00:00<00:00, 205.70it/s]\n"
     ]
    },
    {
     "name": "stdout",
     "output_type": "stream",
     "text": [
      "0.7577378293506782\n"
     ]
    },
    {
     "name": "stderr",
     "output_type": "stream",
     "text": [
      "Calculating ceteris paribus: 100%|██████████| 43/43 [00:00<00:00, 225.08it/s]\n",
      "Calculating ceteris paribus: 100%|██████████| 43/43 [00:00<00:00, 192.28it/s]\n"
     ]
    },
    {
     "name": "stdout",
     "output_type": "stream",
     "text": [
      "0.11657590716278185\n"
     ]
    },
    {
     "name": "stderr",
     "output_type": "stream",
     "text": [
      "Calculating ceteris paribus: 100%|██████████| 43/43 [00:00<00:00, 206.68it/s]\n",
      "Calculating ceteris paribus: 100%|██████████| 43/43 [00:00<00:00, 209.71it/s]\n"
     ]
    },
    {
     "name": "stdout",
     "output_type": "stream",
     "text": [
      "0.573443851206104\n"
     ]
    },
    {
     "name": "stderr",
     "output_type": "stream",
     "text": [
      "Calculating ceteris paribus: 100%|██████████| 43/43 [00:00<00:00, 209.20it/s]\n",
      "Calculating ceteris paribus: 100%|██████████| 43/43 [00:00<00:00, 199.49it/s]\n"
     ]
    },
    {
     "name": "stdout",
     "output_type": "stream",
     "text": [
      "0.35214055724736354\n"
     ]
    },
    {
     "name": "stderr",
     "output_type": "stream",
     "text": [
      "Calculating ceteris paribus: 100%|██████████| 43/43 [00:00<00:00, 200.89it/s]\n",
      "Calculating ceteris paribus: 100%|██████████| 43/43 [00:00<00:00, 196.30it/s]\n"
     ]
    },
    {
     "name": "stdout",
     "output_type": "stream",
     "text": [
      "0.8064601072064561\n"
     ]
    },
    {
     "name": "stderr",
     "output_type": "stream",
     "text": [
      "Calculating ceteris paribus: 100%|██████████| 43/43 [00:00<00:00, 219.34it/s]\n",
      "Calculating ceteris paribus: 100%|██████████| 43/43 [00:00<00:00, 196.55it/s]\n"
     ]
    },
    {
     "name": "stdout",
     "output_type": "stream",
     "text": [
      "0.6222926167887778\n"
     ]
    },
    {
     "name": "stderr",
     "output_type": "stream",
     "text": [
      "Calculating ceteris paribus: 100%|██████████| 43/43 [00:00<00:00, 201.83it/s]\n",
      "Calculating ceteris paribus: 100%|██████████| 43/43 [00:00<00:00, 183.98it/s]\n"
     ]
    },
    {
     "name": "stdout",
     "output_type": "stream",
     "text": [
      "0.15891357952927318\n"
     ]
    },
    {
     "name": "stderr",
     "output_type": "stream",
     "text": [
      "Calculating ceteris paribus: 100%|██████████| 43/43 [00:00<00:00, 154.78it/s]\n",
      "Calculating ceteris paribus: 100%|██████████| 43/43 [00:00<00:00, 233.01it/s]\n"
     ]
    },
    {
     "name": "stdout",
     "output_type": "stream",
     "text": [
      "0.2133475413179343\n"
     ]
    },
    {
     "name": "stderr",
     "output_type": "stream",
     "text": [
      "Calculating ceteris paribus: 100%|██████████| 43/43 [00:00<00:00, 199.90it/s]\n",
      "Calculating ceteris paribus: 100%|██████████| 43/43 [00:00<00:00, 199.96it/s]\n"
     ]
    },
    {
     "name": "stdout",
     "output_type": "stream",
     "text": [
      "0.7330937935919581\n"
     ]
    },
    {
     "name": "stderr",
     "output_type": "stream",
     "text": [
      "Calculating ceteris paribus: 100%|██████████| 43/43 [00:00<00:00, 209.71it/s]\n",
      "Calculating ceteris paribus: 100%|██████████| 43/43 [00:00<00:00, 188.55it/s]\n"
     ]
    },
    {
     "name": "stdout",
     "output_type": "stream",
     "text": [
      "0.8734876155387524\n"
     ]
    },
    {
     "name": "stderr",
     "output_type": "stream",
     "text": [
      "Calculating ceteris paribus: 100%|██████████| 43/43 [00:00<00:00, 198.11it/s]\n",
      "Calculating ceteris paribus: 100%|██████████| 43/43 [00:00<00:00, 205.70it/s]\n"
     ]
    },
    {
     "name": "stdout",
     "output_type": "stream",
     "text": [
      "0.3835597285288077\n"
     ]
    },
    {
     "name": "stderr",
     "output_type": "stream",
     "text": [
      "Calculating ceteris paribus: 100%|██████████| 43/43 [00:00<00:00, 191.93it/s]\n",
      "Calculating ceteris paribus: 100%|██████████| 43/43 [00:00<00:00, 178.38it/s]\n"
     ]
    },
    {
     "name": "stdout",
     "output_type": "stream",
     "text": [
      "0.7407917718805686\n"
     ]
    },
    {
     "name": "stderr",
     "output_type": "stream",
     "text": [
      "Calculating ceteris paribus: 100%|██████████| 43/43 [00:00<00:00, 174.76it/s]\n",
      "Calculating ceteris paribus: 100%|██████████| 43/43 [00:00<00:00, 179.13it/s]\n"
     ]
    },
    {
     "name": "stdout",
     "output_type": "stream",
     "text": [
      "0.32391189298818757\n"
     ]
    },
    {
     "name": "stderr",
     "output_type": "stream",
     "text": [
      "Calculating ceteris paribus: 100%|██████████| 43/43 [00:00<00:00, 194.35it/s]\n",
      "Calculating ceteris paribus: 100%|██████████| 43/43 [00:00<00:00, 199.03it/s]\n"
     ]
    },
    {
     "name": "stdout",
     "output_type": "stream",
     "text": [
      "0.766617936516106\n"
     ]
    },
    {
     "name": "stderr",
     "output_type": "stream",
     "text": [
      "Calculating ceteris paribus: 100%|██████████| 43/43 [00:00<00:00, 202.78it/s]\n",
      "Calculating ceteris paribus: 100%|██████████| 43/43 [00:00<00:00, 203.75it/s]\n"
     ]
    },
    {
     "name": "stdout",
     "output_type": "stream",
     "text": [
      "-0.08945839945894131\n"
     ]
    },
    {
     "name": "stderr",
     "output_type": "stream",
     "text": [
      "Calculating ceteris paribus: 100%|██████████| 43/43 [00:00<00:00, 219.82it/s]\n",
      "Calculating ceteris paribus: 100%|██████████| 43/43 [00:00<00:00, 187.72it/s]\n"
     ]
    },
    {
     "name": "stdout",
     "output_type": "stream",
     "text": [
      "0.8569556188307749\n"
     ]
    },
    {
     "name": "stderr",
     "output_type": "stream",
     "text": [
      "Calculating ceteris paribus: 100%|██████████| 43/43 [00:00<00:00, 194.53it/s]\n",
      "Calculating ceteris paribus: 100%|██████████| 43/43 [00:00<00:00, 197.20it/s]\n"
     ]
    },
    {
     "name": "stdout",
     "output_type": "stream",
     "text": [
      "0.6910290169907187\n"
     ]
    },
    {
     "name": "stderr",
     "output_type": "stream",
     "text": [
      "Calculating ceteris paribus: 100%|██████████| 43/43 [00:00<00:00, 202.61it/s]\n",
      "Calculating ceteris paribus: 100%|██████████| 43/43 [00:00<00:00, 188.55it/s]\n"
     ]
    },
    {
     "name": "stdout",
     "output_type": "stream",
     "text": [
      "0.47936695722613115\n"
     ]
    },
    {
     "name": "stderr",
     "output_type": "stream",
     "text": [
      "Calculating ceteris paribus: 100%|██████████| 43/43 [00:00<00:00, 208.69it/s]\n",
      "Calculating ceteris paribus: 100%|██████████| 43/43 [00:00<00:00, 195.60it/s]\n"
     ]
    },
    {
     "name": "stdout",
     "output_type": "stream",
     "text": [
      "0.7978757162795725\n"
     ]
    },
    {
     "name": "stderr",
     "output_type": "stream",
     "text": [
      "Calculating ceteris paribus: 100%|██████████| 43/43 [00:00<00:00, 218.22it/s]\n",
      "Calculating ceteris paribus: 100%|██████████| 43/43 [00:00<00:00, 204.72it/s]\n"
     ]
    },
    {
     "name": "stdout",
     "output_type": "stream",
     "text": [
      "0.6393023841349651\n"
     ]
    },
    {
     "name": "stderr",
     "output_type": "stream",
     "text": [
      "Calculating ceteris paribus: 100%|██████████| 43/43 [00:00<00:00, 201.83it/s]\n",
      "Calculating ceteris paribus: 100%|██████████| 43/43 [00:00<00:00, 199.96it/s]\n"
     ]
    },
    {
     "name": "stdout",
     "output_type": "stream",
     "text": [
      "0.19109677441333306\n"
     ]
    },
    {
     "name": "stderr",
     "output_type": "stream",
     "text": [
      "Calculating ceteris paribus: 100%|██████████| 43/43 [00:00<00:00, 234.27it/s]\n",
      "Calculating ceteris paribus: 100%|██████████| 43/43 [00:00<00:00, 191.92it/s]\n"
     ]
    },
    {
     "name": "stdout",
     "output_type": "stream",
     "text": [
      "0.7425250827453795\n"
     ]
    },
    {
     "name": "stderr",
     "output_type": "stream",
     "text": [
      "Calculating ceteris paribus: 100%|██████████| 43/43 [00:00<00:00, 197.20it/s]\n",
      "Calculating ceteris paribus: 100%|██████████| 43/43 [00:00<00:00, 210.74it/s]\n"
     ]
    },
    {
     "name": "stdout",
     "output_type": "stream",
     "text": [
      "0.06437556347910782\n"
     ]
    },
    {
     "name": "stderr",
     "output_type": "stream",
     "text": [
      "Calculating ceteris paribus: 100%|██████████| 43/43 [00:00<00:00, 189.38it/s]\n",
      "Calculating ceteris paribus: 100%|██████████| 43/43 [00:00<00:00, 197.20it/s]\n"
     ]
    },
    {
     "name": "stdout",
     "output_type": "stream",
     "text": [
      "0.7215738554953568\n"
     ]
    },
    {
     "name": "stderr",
     "output_type": "stream",
     "text": [
      "Calculating ceteris paribus: 100%|██████████| 43/43 [00:00<00:00, 191.07it/s]\n",
      "Calculating ceteris paribus: 100%|██████████| 43/43 [00:00<00:00, 183.72it/s]\n"
     ]
    },
    {
     "name": "stdout",
     "output_type": "stream",
     "text": [
      "0.8754546394868886\n"
     ]
    },
    {
     "name": "stderr",
     "output_type": "stream",
     "text": [
      "Calculating ceteris paribus: 100%|██████████| 43/43 [00:00<00:00, 177.57it/s]\n",
      "Calculating ceteris paribus: 100%|██████████| 43/43 [00:00<00:00, 203.75it/s]\n"
     ]
    },
    {
     "name": "stdout",
     "output_type": "stream",
     "text": [
      "0.6545981717945913\n"
     ]
    },
    {
     "name": "stderr",
     "output_type": "stream",
     "text": [
      "Calculating ceteris paribus: 100%|██████████| 43/43 [00:00<00:00, 207.68it/s]\n",
      "Calculating ceteris paribus: 100%|██████████| 43/43 [00:00<00:00, 210.74it/s]\n"
     ]
    },
    {
     "name": "stdout",
     "output_type": "stream",
     "text": [
      "0.8229309086108219\n"
     ]
    },
    {
     "name": "stderr",
     "output_type": "stream",
     "text": [
      "Calculating ceteris paribus: 100%|██████████| 43/43 [00:00<00:00, 219.34it/s]\n",
      "Calculating ceteris paribus: 100%|██████████| 43/43 [00:00<00:00, 193.65it/s]\n"
     ]
    },
    {
     "name": "stdout",
     "output_type": "stream",
     "text": [
      "0.8535875840705247\n"
     ]
    },
    {
     "name": "stderr",
     "output_type": "stream",
     "text": [
      "Calculating ceteris paribus: 100%|██████████| 43/43 [00:00<00:00, 203.75it/s]\n",
      "Calculating ceteris paribus: 100%|██████████| 43/43 [00:00<00:00, 198.92it/s]\n"
     ]
    },
    {
     "name": "stdout",
     "output_type": "stream",
     "text": [
      "0.6969346027625122\n"
     ]
    },
    {
     "name": "stderr",
     "output_type": "stream",
     "text": [
      "Calculating ceteris paribus: 100%|██████████| 43/43 [00:00<00:00, 205.70it/s]\n",
      "Calculating ceteris paribus: 100%|██████████| 43/43 [00:00<00:00, 206.68it/s]\n"
     ]
    },
    {
     "name": "stdout",
     "output_type": "stream",
     "text": [
      "0.8636137017718664\n"
     ]
    },
    {
     "name": "stderr",
     "output_type": "stream",
     "text": [
      "Calculating ceteris paribus: 100%|██████████| 43/43 [00:00<00:00, 201.83it/s]\n",
      "Calculating ceteris paribus: 100%|██████████| 43/43 [00:00<00:00, 190.22it/s]\n"
     ]
    },
    {
     "name": "stdout",
     "output_type": "stream",
     "text": [
      "0.7334357364326521\n"
     ]
    },
    {
     "name": "stderr",
     "output_type": "stream",
     "text": [
      "Calculating ceteris paribus: 100%|██████████| 43/43 [00:00<00:00, 210.74it/s]\n",
      "Calculating ceteris paribus: 100%|██████████| 43/43 [00:00<00:00, 217.12it/s]\n"
     ]
    },
    {
     "name": "stdout",
     "output_type": "stream",
     "text": [
      "0.8051247932060359\n"
     ]
    },
    {
     "name": "stderr",
     "output_type": "stream",
     "text": [
      "Calculating ceteris paribus: 100%|██████████| 43/43 [00:00<00:00, 202.78it/s]\n",
      "Calculating ceteris paribus: 100%|██████████| 43/43 [00:00<00:00, 197.00it/s]\n"
     ]
    },
    {
     "name": "stdout",
     "output_type": "stream",
     "text": [
      "0.8024870599248926\n"
     ]
    },
    {
     "name": "stderr",
     "output_type": "stream",
     "text": [
      "Calculating ceteris paribus: 100%|██████████| 43/43 [00:00<00:00, 206.68it/s]\n",
      "Calculating ceteris paribus: 100%|██████████| 43/43 [00:00<00:00, 206.68it/s]\n"
     ]
    },
    {
     "name": "stdout",
     "output_type": "stream",
     "text": [
      "0.7515840828638447\n"
     ]
    },
    {
     "name": "stderr",
     "output_type": "stream",
     "text": [
      "Calculating ceteris paribus: 100%|██████████| 43/43 [00:00<00:00, 223.91it/s]\n",
      "Calculating ceteris paribus: 100%|██████████| 43/43 [00:00<00:00, 225.62it/s]\n"
     ]
    },
    {
     "name": "stdout",
     "output_type": "stream",
     "text": [
      "0.8055358039113746\n"
     ]
    },
    {
     "name": "stderr",
     "output_type": "stream",
     "text": [
      "Calculating ceteris paribus: 100%|██████████| 43/43 [00:00<00:00, 193.65it/s]\n",
      "Calculating ceteris paribus: 100%|██████████| 43/43 [00:00<00:00, 199.03it/s]\n"
     ]
    },
    {
     "name": "stdout",
     "output_type": "stream",
     "text": [
      "0.8878123336387539\n"
     ]
    },
    {
     "name": "stderr",
     "output_type": "stream",
     "text": [
      "Calculating ceteris paribus: 100%|██████████| 43/43 [00:00<00:00, 197.58it/s]\n",
      "Calculating ceteris paribus: 100%|██████████| 43/43 [00:00<00:00, 186.08it/s]\n"
     ]
    },
    {
     "name": "stdout",
     "output_type": "stream",
     "text": [
      "-0.35834790962924673\n"
     ]
    },
    {
     "name": "stderr",
     "output_type": "stream",
     "text": [
      "Calculating ceteris paribus: 100%|██████████| 43/43 [00:00<00:00, 191.07it/s]\n",
      "Calculating ceteris paribus: 100%|██████████| 43/43 [00:00<00:00, 202.78it/s]\n"
     ]
    },
    {
     "name": "stdout",
     "output_type": "stream",
     "text": [
      "0.7993572755095255\n"
     ]
    },
    {
     "name": "stderr",
     "output_type": "stream",
     "text": [
      "Calculating ceteris paribus: 100%|██████████| 43/43 [00:00<00:00, 200.31it/s]\n",
      "Calculating ceteris paribus: 100%|██████████| 43/43 [00:00<00:00, 204.97it/s]\n"
     ]
    },
    {
     "name": "stdout",
     "output_type": "stream",
     "text": [
      "0.8246370628744364\n"
     ]
    },
    {
     "name": "stderr",
     "output_type": "stream",
     "text": [
      "Calculating ceteris paribus: 100%|██████████| 43/43 [00:00<00:00, 205.67it/s]\n",
      "Calculating ceteris paribus: 100%|██████████| 43/43 [00:00<00:00, 201.83it/s]\n"
     ]
    },
    {
     "name": "stdout",
     "output_type": "stream",
     "text": [
      "0.8009084904291529\n"
     ]
    },
    {
     "name": "stderr",
     "output_type": "stream",
     "text": [
      "Calculating ceteris paribus: 100%|██████████| 43/43 [00:00<00:00, 200.89it/s]\n",
      "Calculating ceteris paribus: 100%|██████████| 43/43 [00:00<00:00, 197.65it/s]\n"
     ]
    },
    {
     "name": "stdout",
     "output_type": "stream",
     "text": [
      "0.3082494385250545\n"
     ]
    },
    {
     "name": "stderr",
     "output_type": "stream",
     "text": [
      "Calculating ceteris paribus: 100%|██████████| 43/43 [00:00<00:00, 197.49it/s]\n",
      "Calculating ceteris paribus: 100%|██████████| 43/43 [00:00<00:00, 198.11it/s]\n"
     ]
    },
    {
     "name": "stdout",
     "output_type": "stream",
     "text": [
      "0.7744022362051741\n"
     ]
    },
    {
     "name": "stderr",
     "output_type": "stream",
     "text": [
      "Calculating ceteris paribus: 100%|██████████| 43/43 [00:00<00:00, 207.68it/s]\n",
      "Calculating ceteris paribus: 100%|██████████| 43/43 [00:00<00:00, 209.08it/s]\n"
     ]
    },
    {
     "name": "stdout",
     "output_type": "stream",
     "text": [
      "0.30589363802743563\n"
     ]
    },
    {
     "name": "stderr",
     "output_type": "stream",
     "text": [
      "Calculating ceteris paribus: 100%|██████████| 43/43 [00:00<00:00, 199.03it/s]\n",
      "Calculating ceteris paribus: 100%|██████████| 43/43 [00:00<00:00, 200.89it/s]\n"
     ]
    },
    {
     "name": "stdout",
     "output_type": "stream",
     "text": [
      "0.8888294593032905\n"
     ]
    },
    {
     "name": "stderr",
     "output_type": "stream",
     "text": [
      "Calculating ceteris paribus: 100%|██████████| 43/43 [00:00<00:00, 199.20it/s]\n",
      "Calculating ceteris paribus: 100%|██████████| 43/43 [00:00<00:00, 218.14it/s]\n"
     ]
    },
    {
     "name": "stdout",
     "output_type": "stream",
     "text": [
      "0.7884787000151622\n"
     ]
    },
    {
     "name": "stderr",
     "output_type": "stream",
     "text": [
      "Calculating ceteris paribus: 100%|██████████| 43/43 [00:00<00:00, 219.34it/s]\n",
      "Calculating ceteris paribus: 100%|██████████| 43/43 [00:00<00:00, 194.53it/s]\n"
     ]
    },
    {
     "name": "stdout",
     "output_type": "stream",
     "text": [
      "0.6732045408206515\n"
     ]
    },
    {
     "name": "stderr",
     "output_type": "stream",
     "text": [
      "Calculating ceteris paribus: 100%|██████████| 43/43 [00:00<00:00, 197.20it/s]\n",
      "Calculating ceteris paribus: 100%|██████████| 43/43 [00:00<00:00, 198.94it/s]\n"
     ]
    },
    {
     "name": "stdout",
     "output_type": "stream",
     "text": [
      "0.1373733481512621\n"
     ]
    },
    {
     "name": "stderr",
     "output_type": "stream",
     "text": [
      "Calculating ceteris paribus: 100%|██████████| 43/43 [00:00<00:00, 210.74it/s]\n",
      "Calculating ceteris paribus: 100%|██████████| 43/43 [00:00<00:00, 204.72it/s]\n"
     ]
    },
    {
     "name": "stdout",
     "output_type": "stream",
     "text": [
      "0.4617339504264038\n"
     ]
    },
    {
     "name": "stderr",
     "output_type": "stream",
     "text": [
      "Calculating ceteris paribus: 100%|██████████| 43/43 [00:00<00:00, 212.82it/s]\n",
      "Calculating ceteris paribus: 100%|██████████| 43/43 [00:00<00:00, 198.06it/s]\n"
     ]
    },
    {
     "name": "stdout",
     "output_type": "stream",
     "text": [
      "0.7825708125851978\n"
     ]
    },
    {
     "name": "stderr",
     "output_type": "stream",
     "text": [
      "Calculating ceteris paribus: 100%|██████████| 43/43 [00:00<00:00, 199.96it/s]\n",
      "Calculating ceteris paribus: 100%|██████████| 43/43 [00:00<00:00, 208.69it/s]\n"
     ]
    },
    {
     "name": "stdout",
     "output_type": "stream",
     "text": [
      "0.575290112699331\n"
     ]
    },
    {
     "name": "stderr",
     "output_type": "stream",
     "text": [
      "Calculating ceteris paribus: 100%|██████████| 43/43 [00:00<00:00, 202.78it/s]\n",
      "Calculating ceteris paribus: 100%|██████████| 43/43 [00:00<00:00, 205.70it/s]\n"
     ]
    },
    {
     "name": "stdout",
     "output_type": "stream",
     "text": [
      "0.7325358311535205\n"
     ]
    },
    {
     "name": "stderr",
     "output_type": "stream",
     "text": [
      "Calculating ceteris paribus: 100%|██████████| 43/43 [00:00<00:00, 174.05it/s]\n",
      "Calculating ceteris paribus: 100%|██████████| 43/43 [00:00<00:00, 176.02it/s]\n"
     ]
    },
    {
     "name": "stdout",
     "output_type": "stream",
     "text": [
      "0.8360862452129048\n"
     ]
    },
    {
     "name": "stderr",
     "output_type": "stream",
     "text": [
      "Calculating ceteris paribus: 100%|██████████| 43/43 [00:00<00:00, 193.57it/s]\n",
      "Calculating ceteris paribus: 100%|██████████| 43/43 [00:00<00:00, 204.18it/s]\n"
     ]
    },
    {
     "name": "stdout",
     "output_type": "stream",
     "text": [
      "0.7779965780825915\n"
     ]
    },
    {
     "name": "stderr",
     "output_type": "stream",
     "text": [
      "Calculating ceteris paribus: 100%|██████████| 43/43 [00:00<00:00, 191.07it/s]\n",
      "Calculating ceteris paribus: 100%|██████████| 43/43 [00:00<00:00, 200.89it/s]\n"
     ]
    },
    {
     "name": "stdout",
     "output_type": "stream",
     "text": [
      "0.4108497962355885\n"
     ]
    },
    {
     "name": "stderr",
     "output_type": "stream",
     "text": [
      "Calculating ceteris paribus: 100%|██████████| 43/43 [00:00<00:00, 205.07it/s]\n",
      "Calculating ceteris paribus: 100%|██████████| 43/43 [00:00<00:00, 204.72it/s]\n"
     ]
    },
    {
     "name": "stdout",
     "output_type": "stream",
     "text": [
      "0.5901659701862566\n"
     ]
    },
    {
     "name": "stderr",
     "output_type": "stream",
     "text": [
      "Calculating ceteris paribus: 100%|██████████| 43/43 [00:00<00:00, 238.08it/s]\n",
      "Calculating ceteris paribus: 100%|██████████| 43/43 [00:00<00:00, 213.79it/s]\n"
     ]
    },
    {
     "name": "stdout",
     "output_type": "stream",
     "text": [
      "0.652883254830127\n"
     ]
    },
    {
     "name": "stderr",
     "output_type": "stream",
     "text": [
      "Calculating ceteris paribus: 100%|██████████| 43/43 [00:00<00:00, 191.63it/s]\n",
      "Calculating ceteris paribus: 100%|██████████| 43/43 [00:00<00:00, 197.20it/s]\n"
     ]
    },
    {
     "name": "stdout",
     "output_type": "stream",
     "text": [
      "-0.05360719603922537\n"
     ]
    },
    {
     "name": "stderr",
     "output_type": "stream",
     "text": [
      "Calculating ceteris paribus: 100%|██████████| 43/43 [00:00<00:00, 200.89it/s]\n",
      "Calculating ceteris paribus: 100%|██████████| 43/43 [00:00<00:00, 212.23it/s]\n"
     ]
    },
    {
     "name": "stdout",
     "output_type": "stream",
     "text": [
      "0.5563692658746423\n"
     ]
    },
    {
     "name": "stderr",
     "output_type": "stream",
     "text": [
      "Calculating ceteris paribus: 100%|██████████| 43/43 [00:00<00:00, 207.99it/s]\n",
      "Calculating ceteris paribus: 100%|██████████| 43/43 [00:00<00:00, 213.88it/s]\n"
     ]
    },
    {
     "name": "stdout",
     "output_type": "stream",
     "text": [
      "0.6723497305519672\n"
     ]
    },
    {
     "name": "stderr",
     "output_type": "stream",
     "text": [
      "Calculating ceteris paribus: 100%|██████████| 43/43 [00:00<00:00, 196.30it/s]\n",
      "Calculating ceteris paribus: 100%|██████████| 43/43 [00:00<00:00, 208.69it/s]\n"
     ]
    },
    {
     "name": "stdout",
     "output_type": "stream",
     "text": [
      "0.8862925567243534\n"
     ]
    },
    {
     "name": "stderr",
     "output_type": "stream",
     "text": [
      "Calculating ceteris paribus: 100%|██████████| 43/43 [00:00<00:00, 198.70it/s]\n",
      "Calculating ceteris paribus: 100%|██████████| 43/43 [00:00<00:00, 204.72it/s]\n"
     ]
    },
    {
     "name": "stdout",
     "output_type": "stream",
     "text": [
      "0.7942996377023864\n"
     ]
    },
    {
     "name": "stderr",
     "output_type": "stream",
     "text": [
      "Calculating ceteris paribus: 100%|██████████| 43/43 [00:00<00:00, 228.67it/s]\n",
      "Calculating ceteris paribus: 100%|██████████| 43/43 [00:00<00:00, 205.70it/s]\n"
     ]
    },
    {
     "name": "stdout",
     "output_type": "stream",
     "text": [
      "0.8896474006558696\n"
     ]
    },
    {
     "name": "stderr",
     "output_type": "stream",
     "text": [
      "Calculating ceteris paribus: 100%|██████████| 43/43 [00:00<00:00, 218.00it/s]\n",
      "Calculating ceteris paribus: 100%|██████████| 43/43 [00:00<00:00, 199.96it/s]\n"
     ]
    },
    {
     "name": "stdout",
     "output_type": "stream",
     "text": [
      "-0.0001517035311497979\n"
     ]
    },
    {
     "name": "stderr",
     "output_type": "stream",
     "text": [
      "Calculating ceteris paribus: 100%|██████████| 43/43 [00:00<00:00, 162.23it/s]\n",
      "Calculating ceteris paribus: 100%|██████████| 43/43 [00:00<00:00, 210.74it/s]\n"
     ]
    },
    {
     "name": "stdout",
     "output_type": "stream",
     "text": [
      "0.7276864791171647\n"
     ]
    },
    {
     "name": "stderr",
     "output_type": "stream",
     "text": [
      "Calculating ceteris paribus: 100%|██████████| 43/43 [00:00<00:00, 206.10it/s]\n",
      "Calculating ceteris paribus: 100%|██████████| 43/43 [00:00<00:00, 207.68it/s]\n"
     ]
    },
    {
     "name": "stdout",
     "output_type": "stream",
     "text": [
      "0.48810167019824824\n"
     ]
    },
    {
     "name": "stderr",
     "output_type": "stream",
     "text": [
      "Calculating ceteris paribus: 100%|██████████| 43/43 [00:00<00:00, 194.52it/s]\n",
      "Calculating ceteris paribus: 100%|██████████| 43/43 [00:00<00:00, 194.53it/s]\n"
     ]
    },
    {
     "name": "stdout",
     "output_type": "stream",
     "text": [
      "0.7538111286706722\n"
     ]
    },
    {
     "name": "stderr",
     "output_type": "stream",
     "text": [
      "Calculating ceteris paribus: 100%|██████████| 43/43 [00:00<00:00, 200.31it/s]\n",
      "Calculating ceteris paribus: 100%|██████████| 43/43 [00:00<00:00, 206.68it/s]\n"
     ]
    },
    {
     "name": "stdout",
     "output_type": "stream",
     "text": [
      "0.6487939981923723\n"
     ]
    },
    {
     "name": "stderr",
     "output_type": "stream",
     "text": [
      "Calculating ceteris paribus: 100%|██████████| 43/43 [00:00<00:00, 226.26it/s]\n",
      "Calculating ceteris paribus: 100%|██████████| 43/43 [00:00<00:00, 209.71it/s]\n"
     ]
    },
    {
     "name": "stdout",
     "output_type": "stream",
     "text": [
      "0.6752061936263182\n"
     ]
    },
    {
     "name": "stderr",
     "output_type": "stream",
     "text": [
      "Calculating ceteris paribus: 100%|██████████| 43/43 [00:00<00:00, 184.37it/s]\n",
      "Calculating ceteris paribus: 100%|██████████| 43/43 [00:00<00:00, 197.20it/s]\n"
     ]
    },
    {
     "name": "stdout",
     "output_type": "stream",
     "text": [
      "-0.2856763913372472\n"
     ]
    },
    {
     "name": "stderr",
     "output_type": "stream",
     "text": [
      "Calculating ceteris paribus: 100%|██████████| 43/43 [00:00<00:00, 196.30it/s]\n",
      "Calculating ceteris paribus: 100%|██████████| 43/43 [00:00<00:00, 203.75it/s]\n"
     ]
    },
    {
     "name": "stdout",
     "output_type": "stream",
     "text": [
      "0.8452746274725036\n"
     ]
    },
    {
     "name": "stderr",
     "output_type": "stream",
     "text": [
      "Calculating ceteris paribus: 100%|██████████| 43/43 [00:00<00:00, 201.75it/s]\n",
      "Calculating ceteris paribus: 100%|██████████| 43/43 [00:00<00:00, 200.89it/s]\n"
     ]
    },
    {
     "name": "stdout",
     "output_type": "stream",
     "text": [
      "0.5558294909510122\n"
     ]
    },
    {
     "name": "stderr",
     "output_type": "stream",
     "text": [
      "Calculating ceteris paribus: 100%|██████████| 43/43 [00:00<00:00, 213.34it/s]\n",
      "Calculating ceteris paribus: 100%|██████████| 43/43 [00:00<00:00, 199.29it/s]\n"
     ]
    },
    {
     "name": "stdout",
     "output_type": "stream",
     "text": [
      "0.7965368940625122\n"
     ]
    },
    {
     "name": "stderr",
     "output_type": "stream",
     "text": [
      "Calculating ceteris paribus: 100%|██████████| 43/43 [00:00<00:00, 196.05it/s]\n",
      "Calculating ceteris paribus: 100%|██████████| 43/43 [00:00<00:00, 201.83it/s]\n"
     ]
    },
    {
     "name": "stdout",
     "output_type": "stream",
     "text": [
      "0.40613193041618917\n"
     ]
    },
    {
     "name": "stderr",
     "output_type": "stream",
     "text": [
      "Calculating ceteris paribus: 100%|██████████| 43/43 [00:00<00:00, 202.78it/s]\n",
      "Calculating ceteris paribus: 100%|██████████| 43/43 [00:00<00:00, 204.72it/s]\n"
     ]
    },
    {
     "name": "stdout",
     "output_type": "stream",
     "text": [
      "-0.2799845936224466\n"
     ]
    },
    {
     "name": "stderr",
     "output_type": "stream",
     "text": [
      "Calculating ceteris paribus: 100%|██████████| 43/43 [00:00<00:00, 209.95it/s]\n",
      "Calculating ceteris paribus: 100%|██████████| 43/43 [00:00<00:00, 204.72it/s]\n"
     ]
    },
    {
     "name": "stdout",
     "output_type": "stream",
     "text": [
      "0.7936434812268536\n"
     ]
    },
    {
     "name": "stderr",
     "output_type": "stream",
     "text": [
      "Calculating ceteris paribus: 100%|██████████| 43/43 [00:00<00:00, 199.03it/s]\n",
      "Calculating ceteris paribus: 100%|██████████| 43/43 [00:00<00:00, 201.68it/s]\n"
     ]
    },
    {
     "name": "stdout",
     "output_type": "stream",
     "text": [
      "0.6351037675779139\n"
     ]
    },
    {
     "name": "stderr",
     "output_type": "stream",
     "text": [
      "Calculating ceteris paribus: 100%|██████████| 43/43 [00:00<00:00, 202.62it/s]\n",
      "Calculating ceteris paribus: 100%|██████████| 43/43 [00:00<00:00, 196.30it/s]\n"
     ]
    },
    {
     "name": "stdout",
     "output_type": "stream",
     "text": [
      "0.793172410462714\n"
     ]
    },
    {
     "name": "stderr",
     "output_type": "stream",
     "text": [
      "Calculating ceteris paribus: 100%|██████████| 43/43 [00:00<00:00, 203.59it/s]\n",
      "Calculating ceteris paribus: 100%|██████████| 43/43 [00:00<00:00, 210.74it/s]\n"
     ]
    },
    {
     "name": "stdout",
     "output_type": "stream",
     "text": [
      "-0.24921207058032782\n"
     ]
    },
    {
     "name": "stderr",
     "output_type": "stream",
     "text": [
      "Calculating ceteris paribus: 100%|██████████| 43/43 [00:00<00:00, 197.10it/s]\n",
      "Calculating ceteris paribus: 100%|██████████| 43/43 [00:00<00:00, 196.30it/s]\n"
     ]
    },
    {
     "name": "stdout",
     "output_type": "stream",
     "text": [
      "0.6652250945459145\n"
     ]
    },
    {
     "name": "stderr",
     "output_type": "stream",
     "text": [
      "Calculating ceteris paribus: 100%|██████████| 43/43 [00:00<00:00, 198.11it/s]\n",
      "Calculating ceteris paribus: 100%|██████████| 43/43 [00:00<00:00, 212.82it/s]\n"
     ]
    },
    {
     "name": "stdout",
     "output_type": "stream",
     "text": [
      "0.5655177905324632\n"
     ]
    },
    {
     "name": "stderr",
     "output_type": "stream",
     "text": [
      "Calculating ceteris paribus: 100%|██████████| 43/43 [00:00<00:00, 200.74it/s]\n",
      "Calculating ceteris paribus: 100%|██████████| 43/43 [00:00<00:00, 201.83it/s]\n"
     ]
    },
    {
     "name": "stdout",
     "output_type": "stream",
     "text": [
      "0.7969504916853987\n"
     ]
    },
    {
     "name": "stderr",
     "output_type": "stream",
     "text": [
      "Calculating ceteris paribus: 100%|██████████| 43/43 [00:00<00:00, 212.82it/s]\n",
      "Calculating ceteris paribus: 100%|██████████| 43/43 [00:00<00:00, 206.68it/s]\n"
     ]
    },
    {
     "name": "stdout",
     "output_type": "stream",
     "text": [
      "0.8054206433284562\n"
     ]
    },
    {
     "name": "stderr",
     "output_type": "stream",
     "text": [
      "Calculating ceteris paribus: 100%|██████████| 43/43 [00:00<00:00, 200.89it/s]\n",
      "Calculating ceteris paribus: 100%|██████████| 43/43 [00:00<00:00, 210.74it/s]\n"
     ]
    },
    {
     "name": "stdout",
     "output_type": "stream",
     "text": [
      "0.5583079182340087\n"
     ]
    },
    {
     "name": "stderr",
     "output_type": "stream",
     "text": [
      "Calculating ceteris paribus: 100%|██████████| 43/43 [00:00<00:00, 183.72it/s]\n",
      "Calculating ceteris paribus: 100%|██████████| 43/43 [00:00<00:00, 206.50it/s]\n"
     ]
    },
    {
     "name": "stdout",
     "output_type": "stream",
     "text": [
      "0.7972491209512794\n"
     ]
    },
    {
     "name": "stderr",
     "output_type": "stream",
     "text": [
      "Calculating ceteris paribus: 100%|██████████| 43/43 [00:00<00:00, 194.53it/s]\n",
      "Calculating ceteris paribus: 100%|██████████| 43/43 [00:00<00:00, 198.11it/s]\n"
     ]
    },
    {
     "name": "stdout",
     "output_type": "stream",
     "text": [
      "0.21578885202953416\n"
     ]
    },
    {
     "name": "stderr",
     "output_type": "stream",
     "text": [
      "Calculating ceteris paribus: 100%|██████████| 43/43 [00:00<00:00, 193.65it/s]\n",
      "Calculating ceteris paribus: 100%|██████████| 43/43 [00:00<00:00, 207.11it/s]\n"
     ]
    },
    {
     "name": "stdout",
     "output_type": "stream",
     "text": [
      "0.7858976996822097\n"
     ]
    },
    {
     "name": "stderr",
     "output_type": "stream",
     "text": [
      "Calculating ceteris paribus: 100%|██████████| 43/43 [00:00<00:00, 229.89it/s]\n",
      "Calculating ceteris paribus: 100%|██████████| 43/43 [00:00<00:00, 200.89it/s]\n"
     ]
    },
    {
     "name": "stdout",
     "output_type": "stream",
     "text": [
      "0.33250495981429884\n"
     ]
    },
    {
     "name": "stderr",
     "output_type": "stream",
     "text": [
      "Calculating ceteris paribus: 100%|██████████| 43/43 [00:00<00:00, 212.82it/s]\n",
      "Calculating ceteris paribus: 100%|██████████| 43/43 [00:00<00:00, 232.93it/s]\n"
     ]
    },
    {
     "name": "stdout",
     "output_type": "stream",
     "text": [
      "0.8129084033311766\n"
     ]
    },
    {
     "name": "stderr",
     "output_type": "stream",
     "text": [
      "Calculating ceteris paribus: 100%|██████████| 43/43 [00:00<00:00, 194.02it/s]\n",
      "Calculating ceteris paribus: 100%|██████████| 43/43 [00:00<00:00, 199.03it/s]\n"
     ]
    },
    {
     "name": "stdout",
     "output_type": "stream",
     "text": [
      "0.34424422722765263\n"
     ]
    },
    {
     "name": "stderr",
     "output_type": "stream",
     "text": [
      "Calculating ceteris paribus: 100%|██████████| 43/43 [00:00<00:00, 186.11it/s]\n",
      "Calculating ceteris paribus: 100%|██████████| 43/43 [00:00<00:00, 187.73it/s]\n"
     ]
    },
    {
     "name": "stdout",
     "output_type": "stream",
     "text": [
      "0.8796235314453971\n"
     ]
    },
    {
     "name": "stderr",
     "output_type": "stream",
     "text": [
      "Calculating ceteris paribus: 100%|██████████| 43/43 [00:00<00:00, 201.83it/s]\n",
      "Calculating ceteris paribus: 100%|██████████| 43/43 [00:00<00:00, 202.78it/s]\n"
     ]
    },
    {
     "name": "stdout",
     "output_type": "stream",
     "text": [
      "0.8654180065863526\n"
     ]
    },
    {
     "name": "stderr",
     "output_type": "stream",
     "text": [
      "Calculating ceteris paribus: 100%|██████████| 43/43 [00:00<00:00, 207.57it/s]\n",
      "Calculating ceteris paribus: 100%|██████████| 43/43 [00:00<00:00, 213.18it/s]\n"
     ]
    },
    {
     "name": "stdout",
     "output_type": "stream",
     "text": [
      "0.7268481719412325\n"
     ]
    },
    {
     "name": "stderr",
     "output_type": "stream",
     "text": [
      "Calculating ceteris paribus: 100%|██████████| 43/43 [00:00<00:00, 231.13it/s]\n",
      "Calculating ceteris paribus: 100%|██████████| 43/43 [00:00<00:00, 198.11it/s]\n"
     ]
    },
    {
     "name": "stdout",
     "output_type": "stream",
     "text": [
      "0.6682119764234156\n"
     ]
    },
    {
     "name": "stderr",
     "output_type": "stream",
     "text": [
      "Calculating ceteris paribus: 100%|██████████| 43/43 [00:00<00:00, 200.89it/s]\n",
      "Calculating ceteris paribus: 100%|██████████| 43/43 [00:00<00:00, 206.74it/s]\n"
     ]
    },
    {
     "name": "stdout",
     "output_type": "stream",
     "text": [
      "0.1304084205885296\n"
     ]
    },
    {
     "name": "stderr",
     "output_type": "stream",
     "text": [
      "Calculating ceteris paribus: 100%|██████████| 43/43 [00:00<00:00, 199.03it/s]\n",
      "Calculating ceteris paribus: 100%|██████████| 43/43 [00:00<00:00, 226.27it/s]\n"
     ]
    },
    {
     "name": "stdout",
     "output_type": "stream",
     "text": [
      "0.5966457360315597\n"
     ]
    },
    {
     "name": "stderr",
     "output_type": "stream",
     "text": [
      "Calculating ceteris paribus: 100%|██████████| 43/43 [00:00<00:00, 206.95it/s]\n",
      "Calculating ceteris paribus: 100%|██████████| 43/43 [00:00<00:00, 195.67it/s]\n"
     ]
    },
    {
     "name": "stdout",
     "output_type": "stream",
     "text": [
      "-0.019977067597555298\n"
     ]
    },
    {
     "name": "stderr",
     "output_type": "stream",
     "text": [
      "Calculating ceteris paribus: 100%|██████████| 43/43 [00:00<00:00, 212.82it/s]\n",
      "Calculating ceteris paribus: 100%|██████████| 43/43 [00:00<00:00, 194.53it/s]\n"
     ]
    },
    {
     "name": "stdout",
     "output_type": "stream",
     "text": [
      "0.7456761277984899\n"
     ]
    },
    {
     "name": "stderr",
     "output_type": "stream",
     "text": [
      "Calculating ceteris paribus: 100%|██████████| 43/43 [00:00<00:00, 197.20it/s]\n",
      "Calculating ceteris paribus: 100%|██████████| 43/43 [00:00<00:00, 202.78it/s]\n"
     ]
    },
    {
     "name": "stdout",
     "output_type": "stream",
     "text": [
      "0.7297549780195498\n"
     ]
    },
    {
     "name": "stderr",
     "output_type": "stream",
     "text": [
      "Calculating ceteris paribus: 100%|██████████| 43/43 [00:00<00:00, 216.03it/s]\n",
      "Calculating ceteris paribus: 100%|██████████| 43/43 [00:00<00:00, 213.34it/s]\n"
     ]
    },
    {
     "name": "stdout",
     "output_type": "stream",
     "text": [
      "0.7562219019039028\n"
     ]
    },
    {
     "name": "stderr",
     "output_type": "stream",
     "text": [
      "Calculating ceteris paribus: 100%|██████████| 43/43 [00:00<00:00, 205.64it/s]\n",
      "Calculating ceteris paribus: 100%|██████████| 43/43 [00:00<00:00, 195.71it/s]\n"
     ]
    },
    {
     "name": "stdout",
     "output_type": "stream",
     "text": [
      "0.8805358588108768\n"
     ]
    },
    {
     "name": "stderr",
     "output_type": "stream",
     "text": [
      "Calculating ceteris paribus: 100%|██████████| 43/43 [00:00<00:00, 211.53it/s]\n",
      "Calculating ceteris paribus: 100%|██████████| 43/43 [00:00<00:00, 192.34it/s]\n"
     ]
    },
    {
     "name": "stdout",
     "output_type": "stream",
     "text": [
      "0.7895229973654186\n"
     ]
    },
    {
     "name": "stderr",
     "output_type": "stream",
     "text": [
      "Calculating ceteris paribus: 100%|██████████| 43/43 [00:00<00:00, 211.77it/s]\n",
      "Calculating ceteris paribus: 100%|██████████| 43/43 [00:00<00:00, 195.41it/s]\n"
     ]
    },
    {
     "name": "stdout",
     "output_type": "stream",
     "text": [
      "0.33031863343643814\n"
     ]
    },
    {
     "name": "stderr",
     "output_type": "stream",
     "text": [
      "Calculating ceteris paribus: 100%|██████████| 43/43 [00:00<00:00, 191.07it/s]\n",
      "Calculating ceteris paribus: 100%|██████████| 43/43 [00:00<00:00, 202.30it/s]\n"
     ]
    },
    {
     "name": "stdout",
     "output_type": "stream",
     "text": [
      "0.253398373929128\n"
     ]
    },
    {
     "name": "stderr",
     "output_type": "stream",
     "text": [
      "Calculating ceteris paribus: 100%|██████████| 43/43 [00:00<00:00, 205.72it/s]\n",
      "Calculating ceteris paribus: 100%|██████████| 43/43 [00:00<00:00, 206.11it/s]\n"
     ]
    },
    {
     "name": "stdout",
     "output_type": "stream",
     "text": [
      "0.682934681478769\n"
     ]
    },
    {
     "name": "stderr",
     "output_type": "stream",
     "text": [
      "Calculating ceteris paribus: 100%|██████████| 43/43 [00:00<00:00, 193.65it/s]\n",
      "Calculating ceteris paribus: 100%|██████████| 43/43 [00:00<00:00, 212.82it/s]\n"
     ]
    },
    {
     "name": "stdout",
     "output_type": "stream",
     "text": [
      "0.8495575749627418\n"
     ]
    },
    {
     "name": "stderr",
     "output_type": "stream",
     "text": [
      "Calculating ceteris paribus: 100%|██████████| 43/43 [00:00<00:00, 198.40it/s]\n",
      "Calculating ceteris paribus: 100%|██████████| 43/43 [00:00<00:00, 198.42it/s]\n"
     ]
    },
    {
     "name": "stdout",
     "output_type": "stream",
     "text": [
      "0.5702882167038367\n"
     ]
    },
    {
     "name": "stderr",
     "output_type": "stream",
     "text": [
      "Calculating ceteris paribus: 100%|██████████| 43/43 [00:00<00:00, 205.70it/s]\n",
      "Calculating ceteris paribus: 100%|██████████| 43/43 [00:00<00:00, 197.20it/s]\n"
     ]
    },
    {
     "name": "stdout",
     "output_type": "stream",
     "text": [
      "0.47906794611825354\n"
     ]
    },
    {
     "name": "stderr",
     "output_type": "stream",
     "text": [
      "Calculating ceteris paribus: 100%|██████████| 43/43 [00:00<00:00, 217.61it/s]\n",
      "Calculating ceteris paribus: 100%|██████████| 43/43 [00:00<00:00, 202.26it/s]\n"
     ]
    },
    {
     "name": "stdout",
     "output_type": "stream",
     "text": [
      "0.5965251884207559\n"
     ]
    },
    {
     "name": "stderr",
     "output_type": "stream",
     "text": [
      "Calculating ceteris paribus: 100%|██████████| 43/43 [00:00<00:00, 212.41it/s]\n",
      "Calculating ceteris paribus: 100%|██████████| 43/43 [00:00<00:00, 194.53it/s]\n"
     ]
    },
    {
     "name": "stdout",
     "output_type": "stream",
     "text": [
      "0.7507823691391591\n"
     ]
    },
    {
     "name": "stderr",
     "output_type": "stream",
     "text": [
      "Calculating ceteris paribus: 100%|██████████| 43/43 [00:00<00:00, 210.74it/s]\n",
      "Calculating ceteris paribus: 100%|██████████| 43/43 [00:00<00:00, 195.36it/s]\n"
     ]
    },
    {
     "name": "stdout",
     "output_type": "stream",
     "text": [
      "0.690046025622332\n"
     ]
    },
    {
     "name": "stderr",
     "output_type": "stream",
     "text": [
      "Calculating ceteris paribus: 100%|██████████| 43/43 [00:00<00:00, 213.88it/s]\n",
      "Calculating ceteris paribus: 100%|██████████| 43/43 [00:00<00:00, 191.02it/s]\n"
     ]
    },
    {
     "name": "stdout",
     "output_type": "stream",
     "text": [
      "0.48257377126010864\n"
     ]
    },
    {
     "name": "stderr",
     "output_type": "stream",
     "text": [
      "Calculating ceteris paribus: 100%|██████████| 43/43 [00:00<00:00, 217.00it/s]\n",
      "Calculating ceteris paribus: 100%|██████████| 43/43 [00:00<00:00, 209.60it/s]\n"
     ]
    },
    {
     "name": "stdout",
     "output_type": "stream",
     "text": [
      "0.631591370786501\n"
     ]
    },
    {
     "name": "stderr",
     "output_type": "stream",
     "text": [
      "Calculating ceteris paribus: 100%|██████████| 43/43 [00:00<00:00, 200.89it/s]\n",
      "Calculating ceteris paribus: 100%|██████████| 43/43 [00:00<00:00, 199.03it/s]\n"
     ]
    },
    {
     "name": "stdout",
     "output_type": "stream",
     "text": [
      "0.7638988224671743\n"
     ]
    },
    {
     "name": "stderr",
     "output_type": "stream",
     "text": [
      "Calculating ceteris paribus: 100%|██████████| 43/43 [00:00<00:00, 199.87it/s]\n",
      "Calculating ceteris paribus: 100%|██████████| 43/43 [00:00<00:00, 205.70it/s]\n"
     ]
    },
    {
     "name": "stdout",
     "output_type": "stream",
     "text": [
      "0.6946788700139015\n"
     ]
    },
    {
     "name": "stderr",
     "output_type": "stream",
     "text": [
      "Calculating ceteris paribus: 100%|██████████| 43/43 [00:00<00:00, 210.74it/s]\n",
      "Calculating ceteris paribus: 100%|██████████| 43/43 [00:00<00:00, 204.11it/s]\n"
     ]
    },
    {
     "name": "stdout",
     "output_type": "stream",
     "text": [
      "0.28956635641287914\n"
     ]
    },
    {
     "name": "stderr",
     "output_type": "stream",
     "text": [
      "Calculating ceteris paribus: 100%|██████████| 43/43 [00:00<00:00, 207.26it/s]\n",
      "Calculating ceteris paribus: 100%|██████████| 43/43 [00:00<00:00, 209.71it/s]\n"
     ]
    },
    {
     "name": "stdout",
     "output_type": "stream",
     "text": [
      "0.8769549500407228\n"
     ]
    },
    {
     "name": "stderr",
     "output_type": "stream",
     "text": [
      "Calculating ceteris paribus: 100%|██████████| 43/43 [00:00<00:00, 214.41it/s]\n",
      "Calculating ceteris paribus: 100%|██████████| 43/43 [00:00<00:00, 203.16it/s]\n"
     ]
    },
    {
     "name": "stdout",
     "output_type": "stream",
     "text": [
      "0.6139505889307261\n"
     ]
    },
    {
     "name": "stderr",
     "output_type": "stream",
     "text": [
      "Calculating ceteris paribus: 100%|██████████| 43/43 [00:00<00:00, 221.60it/s]\n",
      "Calculating ceteris paribus: 100%|██████████| 43/43 [00:00<00:00, 198.11it/s]\n"
     ]
    },
    {
     "name": "stdout",
     "output_type": "stream",
     "text": [
      "0.3184009951201582\n"
     ]
    },
    {
     "name": "stderr",
     "output_type": "stream",
     "text": [
      "Calculating ceteris paribus: 100%|██████████| 43/43 [00:00<00:00, 197.20it/s]\n",
      "Calculating ceteris paribus: 100%|██████████| 43/43 [00:00<00:00, 196.30it/s]\n"
     ]
    },
    {
     "name": "stdout",
     "output_type": "stream",
     "text": [
      "0.8991400329827106\n"
     ]
    },
    {
     "name": "stderr",
     "output_type": "stream",
     "text": [
      "Calculating ceteris paribus: 100%|██████████| 43/43 [00:00<00:00, 203.70it/s]\n",
      "Calculating ceteris paribus: 100%|██████████| 43/43 [00:00<00:00, 193.98it/s]\n"
     ]
    },
    {
     "name": "stdout",
     "output_type": "stream",
     "text": [
      "0.9013168753563723\n"
     ]
    },
    {
     "name": "stderr",
     "output_type": "stream",
     "text": [
      "Calculating ceteris paribus: 100%|██████████| 43/43 [00:00<00:00, 195.41it/s]\n",
      "Calculating ceteris paribus: 100%|██████████| 43/43 [00:00<00:00, 201.83it/s]\n"
     ]
    },
    {
     "name": "stdout",
     "output_type": "stream",
     "text": [
      "0.22352830097517118\n"
     ]
    },
    {
     "name": "stderr",
     "output_type": "stream",
     "text": [
      "Calculating ceteris paribus: 100%|██████████| 43/43 [00:00<00:00, 210.22it/s]\n",
      "Calculating ceteris paribus: 100%|██████████| 43/43 [00:00<00:00, 209.09it/s]\n"
     ]
    },
    {
     "name": "stdout",
     "output_type": "stream",
     "text": [
      "0.709240303642532\n"
     ]
    },
    {
     "name": "stderr",
     "output_type": "stream",
     "text": [
      "Calculating ceteris paribus: 100%|██████████| 43/43 [00:00<00:00, 217.12it/s]\n",
      "Calculating ceteris paribus: 100%|██████████| 43/43 [00:00<00:00, 195.41it/s]\n"
     ]
    },
    {
     "name": "stdout",
     "output_type": "stream",
     "text": [
      "0.7485798047292004\n"
     ]
    },
    {
     "name": "stderr",
     "output_type": "stream",
     "text": [
      "Calculating ceteris paribus: 100%|██████████| 43/43 [00:00<00:00, 197.28it/s]\n",
      "Calculating ceteris paribus: 100%|██████████| 43/43 [00:00<00:00, 213.25it/s]\n"
     ]
    },
    {
     "name": "stdout",
     "output_type": "stream",
     "text": [
      "0.2814114434635735\n"
     ]
    },
    {
     "name": "stderr",
     "output_type": "stream",
     "text": [
      "Calculating ceteris paribus: 100%|██████████| 43/43 [00:00<00:00, 222.15it/s]\n",
      "Calculating ceteris paribus: 100%|██████████| 43/43 [00:00<00:00, 209.71it/s]\n"
     ]
    },
    {
     "name": "stdout",
     "output_type": "stream",
     "text": [
      "0.5745159562627032\n"
     ]
    },
    {
     "name": "stderr",
     "output_type": "stream",
     "text": [
      "Calculating ceteris paribus: 100%|██████████| 43/43 [00:00<00:00, 202.79it/s]\n",
      "Calculating ceteris paribus: 100%|██████████| 43/43 [00:00<00:00, 205.12it/s]\n"
     ]
    },
    {
     "name": "stdout",
     "output_type": "stream",
     "text": [
      "0.6327342834028155\n"
     ]
    },
    {
     "name": "stderr",
     "output_type": "stream",
     "text": [
      "Calculating ceteris paribus: 100%|██████████| 43/43 [00:00<00:00, 191.07it/s]\n",
      "Calculating ceteris paribus: 100%|██████████| 43/43 [00:00<00:00, 200.88it/s]\n"
     ]
    },
    {
     "name": "stdout",
     "output_type": "stream",
     "text": [
      "0.7062791640578212\n"
     ]
    },
    {
     "name": "stderr",
     "output_type": "stream",
     "text": [
      "Calculating ceteris paribus: 100%|██████████| 43/43 [00:00<00:00, 189.72it/s]\n",
      "Calculating ceteris paribus: 100%|██████████| 43/43 [00:00<00:00, 210.18it/s]\n"
     ]
    },
    {
     "name": "stdout",
     "output_type": "stream",
     "text": [
      "0.36151773660161096\n"
     ]
    },
    {
     "name": "stderr",
     "output_type": "stream",
     "text": [
      "Calculating ceteris paribus: 100%|██████████| 43/43 [00:00<00:00, 194.49it/s]\n",
      "Calculating ceteris paribus: 100%|██████████| 43/43 [00:00<00:00, 220.46it/s]\n"
     ]
    },
    {
     "name": "stdout",
     "output_type": "stream",
     "text": [
      "0.8881971067447019\n"
     ]
    },
    {
     "name": "stderr",
     "output_type": "stream",
     "text": [
      "Calculating ceteris paribus: 100%|██████████| 43/43 [00:00<00:00, 195.41it/s]\n",
      "Calculating ceteris paribus: 100%|██████████| 43/43 [00:00<00:00, 196.28it/s]\n"
     ]
    },
    {
     "name": "stdout",
     "output_type": "stream",
     "text": [
      "0.8639547905290164\n"
     ]
    },
    {
     "name": "stderr",
     "output_type": "stream",
     "text": [
      "Calculating ceteris paribus: 100%|██████████| 43/43 [00:00<00:00, 208.69it/s]\n",
      "Calculating ceteris paribus: 100%|██████████| 43/43 [00:00<00:00, 186.27it/s]\n"
     ]
    },
    {
     "name": "stdout",
     "output_type": "stream",
     "text": [
      "0.8601100796428333\n"
     ]
    },
    {
     "name": "stderr",
     "output_type": "stream",
     "text": [
      "Calculating ceteris paribus: 100%|██████████| 43/43 [00:00<00:00, 181.18it/s]\n",
      "Calculating ceteris paribus: 100%|██████████| 43/43 [00:00<00:00, 185.30it/s]\n"
     ]
    },
    {
     "name": "stdout",
     "output_type": "stream",
     "text": [
      "0.820831076959005\n"
     ]
    },
    {
     "name": "stderr",
     "output_type": "stream",
     "text": [
      "Calculating ceteris paribus: 100%|██████████| 43/43 [00:00<00:00, 205.70it/s]\n",
      "Calculating ceteris paribus: 100%|██████████| 43/43 [00:00<00:00, 196.51it/s]\n"
     ]
    },
    {
     "name": "stdout",
     "output_type": "stream",
     "text": [
      "0.7675280826013283\n"
     ]
    },
    {
     "name": "stderr",
     "output_type": "stream",
     "text": [
      "Calculating ceteris paribus: 100%|██████████| 43/43 [00:00<00:00, 215.38it/s]\n",
      "Calculating ceteris paribus: 100%|██████████| 43/43 [00:00<00:00, 197.20it/s]\n"
     ]
    },
    {
     "name": "stdout",
     "output_type": "stream",
     "text": [
      "0.881124310243484\n"
     ]
    },
    {
     "name": "stderr",
     "output_type": "stream",
     "text": [
      "Calculating ceteris paribus: 100%|██████████| 43/43 [00:00<00:00, 195.85it/s]\n",
      "Calculating ceteris paribus: 100%|██████████| 43/43 [00:00<00:00, 210.16it/s]\n"
     ]
    },
    {
     "name": "stdout",
     "output_type": "stream",
     "text": [
      "0.5013127476047476\n"
     ]
    },
    {
     "name": "stderr",
     "output_type": "stream",
     "text": [
      "Calculating ceteris paribus: 100%|██████████| 43/43 [00:00<00:00, 204.18it/s]\n",
      "Calculating ceteris paribus: 100%|██████████| 43/43 [00:00<00:00, 216.03it/s]\n"
     ]
    },
    {
     "name": "stdout",
     "output_type": "stream",
     "text": [
      "0.7282843248637066\n"
     ]
    },
    {
     "name": "stderr",
     "output_type": "stream",
     "text": [
      "Calculating ceteris paribus: 100%|██████████| 43/43 [00:00<00:00, 206.68it/s]\n",
      "Calculating ceteris paribus: 100%|██████████| 43/43 [00:00<00:00, 196.30it/s]\n"
     ]
    },
    {
     "name": "stdout",
     "output_type": "stream",
     "text": [
      "0.823371088097792\n"
     ]
    },
    {
     "name": "stderr",
     "output_type": "stream",
     "text": [
      "Calculating ceteris paribus: 100%|██████████| 43/43 [00:00<00:00, 205.70it/s]\n",
      "Calculating ceteris paribus: 100%|██████████| 43/43 [00:00<00:00, 213.88it/s]\n"
     ]
    },
    {
     "name": "stdout",
     "output_type": "stream",
     "text": [
      "0.42720880315708654\n"
     ]
    },
    {
     "name": "stderr",
     "output_type": "stream",
     "text": [
      "Calculating ceteris paribus: 100%|██████████| 43/43 [00:00<00:00, 207.68it/s]\n",
      "Calculating ceteris paribus: 100%|██████████| 43/43 [00:00<00:00, 204.72it/s]\n"
     ]
    },
    {
     "name": "stdout",
     "output_type": "stream",
     "text": [
      "0.874415098330402\n"
     ]
    },
    {
     "name": "stderr",
     "output_type": "stream",
     "text": [
      "Calculating ceteris paribus: 100%|██████████| 43/43 [00:00<00:00, 203.64it/s]\n",
      "Calculating ceteris paribus: 100%|██████████| 43/43 [00:00<00:00, 190.22it/s]\n"
     ]
    },
    {
     "name": "stdout",
     "output_type": "stream",
     "text": [
      "0.7013609877942364\n"
     ]
    },
    {
     "name": "stderr",
     "output_type": "stream",
     "text": [
      "Calculating ceteris paribus: 100%|██████████| 43/43 [00:00<00:00, 166.63it/s]\n",
      "Calculating ceteris paribus: 100%|██████████| 43/43 [00:00<00:00, 187.73it/s]\n"
     ]
    },
    {
     "name": "stdout",
     "output_type": "stream",
     "text": [
      "0.11800864307373396\n"
     ]
    },
    {
     "name": "stderr",
     "output_type": "stream",
     "text": [
      "Calculating ceteris paribus: 100%|██████████| 43/43 [00:00<00:00, 204.17it/s]\n",
      "Calculating ceteris paribus: 100%|██████████| 43/43 [00:00<00:00, 201.83it/s]\n"
     ]
    },
    {
     "name": "stdout",
     "output_type": "stream",
     "text": [
      "0.8045946437322079\n"
     ]
    },
    {
     "name": "stderr",
     "output_type": "stream",
     "text": [
      "Calculating ceteris paribus: 100%|██████████| 43/43 [00:00<00:00, 216.03it/s]\n",
      "Calculating ceteris paribus: 100%|██████████| 43/43 [00:00<00:00, 198.83it/s]\n"
     ]
    },
    {
     "name": "stdout",
     "output_type": "stream",
     "text": [
      "0.7708389388530803\n"
     ]
    },
    {
     "name": "stderr",
     "output_type": "stream",
     "text": [
      "Calculating ceteris paribus: 100%|██████████| 43/43 [00:00<00:00, 206.68it/s]\n",
      "Calculating ceteris paribus: 100%|██████████| 43/43 [00:00<00:00, 202.78it/s]\n"
     ]
    },
    {
     "name": "stdout",
     "output_type": "stream",
     "text": [
      "0.8417694633090581\n"
     ]
    },
    {
     "name": "stderr",
     "output_type": "stream",
     "text": [
      "Calculating ceteris paribus: 100%|██████████| 43/43 [00:00<00:00, 211.16it/s]\n",
      "Calculating ceteris paribus: 100%|██████████| 43/43 [00:00<00:00, 195.41it/s]\n"
     ]
    },
    {
     "name": "stdout",
     "output_type": "stream",
     "text": [
      "0.4270017974426673\n"
     ]
    },
    {
     "name": "stderr",
     "output_type": "stream",
     "text": [
      "Calculating ceteris paribus: 100%|██████████| 43/43 [00:00<00:00, 201.81it/s]\n",
      "Calculating ceteris paribus: 100%|██████████| 43/43 [00:00<00:00, 197.20it/s]\n"
     ]
    },
    {
     "name": "stdout",
     "output_type": "stream",
     "text": [
      "0.6669575185619498\n"
     ]
    },
    {
     "name": "stderr",
     "output_type": "stream",
     "text": [
      "Calculating ceteris paribus: 100%|██████████| 43/43 [00:00<00:00, 213.77it/s]\n",
      "Calculating ceteris paribus: 100%|██████████| 43/43 [00:00<00:00, 234.92it/s]\n"
     ]
    },
    {
     "name": "stdout",
     "output_type": "stream",
     "text": [
      "0.30908623412803277\n"
     ]
    },
    {
     "name": "stderr",
     "output_type": "stream",
     "text": [
      "Calculating ceteris paribus: 100%|██████████| 43/43 [00:00<00:00, 197.46it/s]\n",
      "Calculating ceteris paribus: 100%|██████████| 43/43 [00:00<00:00, 199.96it/s]\n"
     ]
    },
    {
     "name": "stdout",
     "output_type": "stream",
     "text": [
      "0.7240618806371625\n"
     ]
    },
    {
     "name": "stderr",
     "output_type": "stream",
     "text": [
      "Calculating ceteris paribus: 100%|██████████| 43/43 [00:00<00:00, 201.83it/s]\n",
      "Calculating ceteris paribus: 100%|██████████| 43/43 [00:00<00:00, 191.07it/s]\n"
     ]
    },
    {
     "name": "stdout",
     "output_type": "stream",
     "text": [
      "0.7590880916827984\n"
     ]
    },
    {
     "name": "stderr",
     "output_type": "stream",
     "text": [
      "Calculating ceteris paribus: 100%|██████████| 43/43 [00:00<00:00, 183.49it/s]\n",
      "Calculating ceteris paribus: 100%|██████████| 43/43 [00:00<00:00, 181.71it/s]\n"
     ]
    },
    {
     "name": "stdout",
     "output_type": "stream",
     "text": [
      "0.7925543368549717\n"
     ]
    },
    {
     "name": "stderr",
     "output_type": "stream",
     "text": [
      "Calculating ceteris paribus: 100%|██████████| 43/43 [00:00<00:00, 218.23it/s]\n",
      "Calculating ceteris paribus: 100%|██████████| 43/43 [00:00<00:00, 194.91it/s]\n"
     ]
    },
    {
     "name": "stdout",
     "output_type": "stream",
     "text": [
      "0.9067895113563917\n"
     ]
    },
    {
     "name": "stderr",
     "output_type": "stream",
     "text": [
      "Calculating ceteris paribus: 100%|██████████| 43/43 [00:00<00:00, 212.82it/s]\n",
      "Calculating ceteris paribus: 100%|██████████| 43/43 [00:00<00:00, 195.41it/s]\n"
     ]
    },
    {
     "name": "stdout",
     "output_type": "stream",
     "text": [
      "0.7482660378601758\n"
     ]
    },
    {
     "name": "stderr",
     "output_type": "stream",
     "text": [
      "Calculating ceteris paribus: 100%|██████████| 43/43 [00:00<00:00, 200.03it/s]\n",
      "Calculating ceteris paribus: 100%|██████████| 43/43 [00:00<00:00, 195.41it/s]\n"
     ]
    },
    {
     "name": "stdout",
     "output_type": "stream",
     "text": [
      "0.6171091549619485\n"
     ]
    },
    {
     "name": "stderr",
     "output_type": "stream",
     "text": [
      "Calculating ceteris paribus: 100%|██████████| 43/43 [00:00<00:00, 188.55it/s]\n",
      "Calculating ceteris paribus: 100%|██████████| 43/43 [00:00<00:00, 211.70it/s]\n"
     ]
    },
    {
     "name": "stdout",
     "output_type": "stream",
     "text": [
      "0.7237741096202105\n"
     ]
    },
    {
     "name": "stderr",
     "output_type": "stream",
     "text": [
      "Calculating ceteris paribus: 100%|██████████| 43/43 [00:00<00:00, 195.41it/s]\n",
      "Calculating ceteris paribus: 100%|██████████| 43/43 [00:00<00:00, 206.67it/s]\n"
     ]
    },
    {
     "name": "stdout",
     "output_type": "stream",
     "text": [
      "0.8910555339069024\n"
     ]
    },
    {
     "name": "stderr",
     "output_type": "stream",
     "text": [
      "Calculating ceteris paribus: 100%|██████████| 43/43 [00:00<00:00, 199.03it/s]\n",
      "Calculating ceteris paribus: 100%|██████████| 43/43 [00:00<00:00, 220.46it/s]\n"
     ]
    },
    {
     "name": "stdout",
     "output_type": "stream",
     "text": [
      "0.751385455835757\n"
     ]
    },
    {
     "name": "stderr",
     "output_type": "stream",
     "text": [
      "Calculating ceteris paribus: 100%|██████████| 43/43 [00:00<00:00, 206.68it/s]\n",
      "Calculating ceteris paribus: 100%|██████████| 43/43 [00:00<00:00, 176.57it/s]\n"
     ]
    },
    {
     "name": "stdout",
     "output_type": "stream",
     "text": [
      "0.6443661988971435\n"
     ]
    },
    {
     "name": "stderr",
     "output_type": "stream",
     "text": [
      "Calculating ceteris paribus: 100%|██████████| 43/43 [00:00<00:00, 213.88it/s]\n",
      "Calculating ceteris paribus: 100%|██████████| 43/43 [00:00<00:00, 208.55it/s]\n"
     ]
    },
    {
     "name": "stdout",
     "output_type": "stream",
     "text": [
      "0.6904763721465217\n"
     ]
    },
    {
     "name": "stderr",
     "output_type": "stream",
     "text": [
      "Calculating ceteris paribus: 100%|██████████| 43/43 [00:00<00:00, 199.03it/s]\n",
      "Calculating ceteris paribus: 100%|██████████| 43/43 [00:00<00:00, 201.26it/s]\n"
     ]
    },
    {
     "name": "stdout",
     "output_type": "stream",
     "text": [
      "0.6251043655719433\n"
     ]
    },
    {
     "name": "stderr",
     "output_type": "stream",
     "text": [
      "Calculating ceteris paribus: 100%|██████████| 43/43 [00:00<00:00, 227.46it/s]\n",
      "Calculating ceteris paribus: 100%|██████████| 43/43 [00:00<00:00, 202.78it/s]\n"
     ]
    },
    {
     "name": "stdout",
     "output_type": "stream",
     "text": [
      "0.44093231676608036\n"
     ]
    },
    {
     "name": "stderr",
     "output_type": "stream",
     "text": [
      "Calculating ceteris paribus: 100%|██████████| 43/43 [00:00<00:00, 192.78it/s]\n",
      "Calculating ceteris paribus: 100%|██████████| 43/43 [00:00<00:00, 187.73it/s]\n"
     ]
    },
    {
     "name": "stdout",
     "output_type": "stream",
     "text": [
      "0.3830870589703336\n"
     ]
    },
    {
     "name": "stderr",
     "output_type": "stream",
     "text": [
      "Calculating ceteris paribus: 100%|██████████| 43/43 [00:00<00:00, 199.96it/s]\n",
      "Calculating ceteris paribus: 100%|██████████| 43/43 [00:00<00:00, 195.76it/s]\n"
     ]
    },
    {
     "name": "stdout",
     "output_type": "stream",
     "text": [
      "0.7614083025715727\n"
     ]
    },
    {
     "name": "stderr",
     "output_type": "stream",
     "text": [
      "Calculating ceteris paribus: 100%|██████████| 43/43 [00:00<00:00, 194.53it/s]\n",
      "Calculating ceteris paribus: 100%|██████████| 43/43 [00:00<00:00, 199.03it/s]\n"
     ]
    },
    {
     "name": "stdout",
     "output_type": "stream",
     "text": [
      "0.5364509710709845\n"
     ]
    },
    {
     "name": "stderr",
     "output_type": "stream",
     "text": [
      "Calculating ceteris paribus: 100%|██████████| 43/43 [00:00<00:00, 203.75it/s]\n",
      "Calculating ceteris paribus: 100%|██████████| 43/43 [00:00<00:00, 223.84it/s]\n"
     ]
    },
    {
     "name": "stdout",
     "output_type": "stream",
     "text": [
      "0.49339314277607027\n"
     ]
    },
    {
     "name": "stderr",
     "output_type": "stream",
     "text": [
      "Calculating ceteris paribus: 100%|██████████| 43/43 [00:00<00:00, 205.70it/s]\n",
      "Calculating ceteris paribus: 100%|██████████| 43/43 [00:00<00:00, 214.89it/s]\n"
     ]
    },
    {
     "name": "stdout",
     "output_type": "stream",
     "text": [
      "0.19537484061701413\n"
     ]
    },
    {
     "name": "stderr",
     "output_type": "stream",
     "text": [
      "Calculating ceteris paribus: 100%|██████████| 43/43 [00:00<00:00, 191.92it/s]\n",
      "Calculating ceteris paribus: 100%|██████████| 43/43 [00:00<00:00, 216.48it/s]\n"
     ]
    },
    {
     "name": "stdout",
     "output_type": "stream",
     "text": [
      "0.8739707817375714\n"
     ]
    },
    {
     "name": "stderr",
     "output_type": "stream",
     "text": [
      "Calculating ceteris paribus: 100%|██████████| 43/43 [00:00<00:00, 207.68it/s]\n",
      "Calculating ceteris paribus: 100%|██████████| 43/43 [00:00<00:00, 210.07it/s]\n"
     ]
    },
    {
     "name": "stdout",
     "output_type": "stream",
     "text": [
      "0.9343052679224564\n"
     ]
    },
    {
     "name": "stderr",
     "output_type": "stream",
     "text": [
      "Calculating ceteris paribus: 100%|██████████| 43/43 [00:00<00:00, 204.51it/s]\n",
      "Calculating ceteris paribus: 100%|██████████| 43/43 [00:00<00:00, 195.40it/s]\n"
     ]
    },
    {
     "name": "stdout",
     "output_type": "stream",
     "text": [
      "0.21549771386277514\n"
     ]
    },
    {
     "name": "stderr",
     "output_type": "stream",
     "text": [
      "Calculating ceteris paribus: 100%|██████████| 43/43 [00:00<00:00, 192.78it/s]\n",
      "Calculating ceteris paribus: 100%|██████████| 43/43 [00:00<00:00, 192.78it/s]\n"
     ]
    },
    {
     "name": "stdout",
     "output_type": "stream",
     "text": [
      "0.821308598443266\n"
     ]
    },
    {
     "name": "stderr",
     "output_type": "stream",
     "text": [
      "Calculating ceteris paribus: 100%|██████████| 43/43 [00:00<00:00, 182.52it/s]\n",
      "Calculating ceteris paribus: 100%|██████████| 43/43 [00:00<00:00, 204.11it/s]\n"
     ]
    },
    {
     "name": "stdout",
     "output_type": "stream",
     "text": [
      "0.4097038839861071\n"
     ]
    },
    {
     "name": "stderr",
     "output_type": "stream",
     "text": [
      "Calculating ceteris paribus: 100%|██████████| 43/43 [00:00<00:00, 142.74it/s]\n",
      "Calculating ceteris paribus: 100%|██████████| 43/43 [00:00<00:00, 144.26it/s]\n"
     ]
    },
    {
     "name": "stdout",
     "output_type": "stream",
     "text": [
      "0.7592442967911149\n"
     ]
    },
    {
     "name": "stderr",
     "output_type": "stream",
     "text": [
      "Calculating ceteris paribus: 100%|██████████| 43/43 [00:00<00:00, 198.11it/s]\n",
      "Calculating ceteris paribus: 100%|██████████| 43/43 [00:00<00:00, 206.68it/s]\n"
     ]
    },
    {
     "name": "stdout",
     "output_type": "stream",
     "text": [
      "0.7422445278978702\n"
     ]
    },
    {
     "name": "stderr",
     "output_type": "stream",
     "text": [
      "Calculating ceteris paribus: 100%|██████████| 43/43 [00:00<00:00, 189.75it/s]\n",
      "Calculating ceteris paribus: 100%|██████████| 43/43 [00:00<00:00, 188.48it/s]\n"
     ]
    },
    {
     "name": "stdout",
     "output_type": "stream",
     "text": [
      "0.7500226439498935\n"
     ]
    },
    {
     "name": "stderr",
     "output_type": "stream",
     "text": [
      "Calculating ceteris paribus: 100%|██████████| 43/43 [00:00<00:00, 205.48it/s]\n",
      "Calculating ceteris paribus: 100%|██████████| 43/43 [00:00<00:00, 199.85it/s]\n"
     ]
    },
    {
     "name": "stdout",
     "output_type": "stream",
     "text": [
      "0.6122881002728002\n"
     ]
    },
    {
     "name": "stderr",
     "output_type": "stream",
     "text": [
      "Calculating ceteris paribus: 100%|██████████| 43/43 [00:00<00:00, 195.76it/s]\n",
      "Calculating ceteris paribus: 100%|██████████| 43/43 [00:00<00:00, 196.33it/s]\n"
     ]
    },
    {
     "name": "stdout",
     "output_type": "stream",
     "text": [
      "0.11033796947870067\n"
     ]
    },
    {
     "name": "stderr",
     "output_type": "stream",
     "text": [
      "Calculating ceteris paribus: 100%|██████████| 43/43 [00:00<00:00, 227.46it/s]\n",
      "Calculating ceteris paribus: 100%|██████████| 43/43 [00:00<00:00, 196.30it/s]\n"
     ]
    },
    {
     "name": "stdout",
     "output_type": "stream",
     "text": [
      "0.5185324273202989\n"
     ]
    },
    {
     "name": "stderr",
     "output_type": "stream",
     "text": [
      "Calculating ceteris paribus: 100%|██████████| 43/43 [00:00<00:00, 187.73it/s]\n",
      "Calculating ceteris paribus: 100%|██████████| 43/43 [00:00<00:00, 199.03it/s]\n"
     ]
    },
    {
     "name": "stdout",
     "output_type": "stream",
     "text": [
      "0.7591824263303106\n"
     ]
    },
    {
     "name": "stderr",
     "output_type": "stream",
     "text": [
      "Calculating ceteris paribus: 100%|██████████| 43/43 [00:00<00:00, 188.54it/s]\n",
      "Calculating ceteris paribus: 100%|██████████| 43/43 [00:00<00:00, 192.34it/s]\n"
     ]
    },
    {
     "name": "stdout",
     "output_type": "stream",
     "text": [
      "0.8713305608168225\n"
     ]
    },
    {
     "name": "stderr",
     "output_type": "stream",
     "text": [
      "Calculating ceteris paribus: 100%|██████████| 43/43 [00:00<00:00, 193.65it/s]\n",
      "Calculating ceteris paribus: 100%|██████████| 43/43 [00:00<00:00, 188.53it/s]\n"
     ]
    },
    {
     "name": "stdout",
     "output_type": "stream",
     "text": [
      "0.870239645966032\n"
     ]
    },
    {
     "name": "stderr",
     "output_type": "stream",
     "text": [
      "Calculating ceteris paribus: 100%|██████████| 43/43 [00:00<00:00, 194.96it/s]\n",
      "Calculating ceteris paribus: 100%|██████████| 43/43 [00:00<00:00, 197.60it/s]\n"
     ]
    },
    {
     "name": "stdout",
     "output_type": "stream",
     "text": [
      "0.8373027894134835\n"
     ]
    },
    {
     "name": "stderr",
     "output_type": "stream",
     "text": [
      "Calculating ceteris paribus: 100%|██████████| 43/43 [00:00<00:00, 197.66it/s]\n",
      "Calculating ceteris paribus: 100%|██████████| 43/43 [00:00<00:00, 181.23it/s]\n"
     ]
    },
    {
     "name": "stdout",
     "output_type": "stream",
     "text": [
      "0.675714499319422\n"
     ]
    },
    {
     "name": "stderr",
     "output_type": "stream",
     "text": [
      "Calculating ceteris paribus: 100%|██████████| 43/43 [00:00<00:00, 194.53it/s]\n",
      "Calculating ceteris paribus: 100%|██████████| 43/43 [00:00<00:00, 190.49it/s]\n"
     ]
    },
    {
     "name": "stdout",
     "output_type": "stream",
     "text": [
      "0.8009479120708859\n"
     ]
    },
    {
     "name": "stderr",
     "output_type": "stream",
     "text": [
      "Calculating ceteris paribus: 100%|██████████| 43/43 [00:00<00:00, 202.78it/s]\n",
      "Calculating ceteris paribus: 100%|██████████| 43/43 [00:00<00:00, 202.78it/s]\n"
     ]
    },
    {
     "name": "stdout",
     "output_type": "stream",
     "text": [
      "0.030121949919099247\n"
     ]
    },
    {
     "name": "stderr",
     "output_type": "stream",
     "text": [
      "Calculating ceteris paribus: 100%|██████████| 43/43 [00:00<00:00, 197.65it/s]\n",
      "Calculating ceteris paribus: 100%|██████████| 43/43 [00:00<00:00, 203.96it/s]\n"
     ]
    },
    {
     "name": "stdout",
     "output_type": "stream",
     "text": [
      "0.7798768572850783\n"
     ]
    },
    {
     "name": "stderr",
     "output_type": "stream",
     "text": [
      "Calculating ceteris paribus: 100%|██████████| 43/43 [00:00<00:00, 200.42it/s]\n",
      "Calculating ceteris paribus: 100%|██████████| 43/43 [00:00<00:00, 206.68it/s]\n"
     ]
    },
    {
     "name": "stdout",
     "output_type": "stream",
     "text": [
      "0.8913136801694768\n"
     ]
    },
    {
     "name": "stderr",
     "output_type": "stream",
     "text": [
      "Calculating ceteris paribus: 100%|██████████| 43/43 [00:00<00:00, 210.21it/s]\n",
      "Calculating ceteris paribus: 100%|██████████| 43/43 [00:00<00:00, 172.90it/s]\n"
     ]
    },
    {
     "name": "stdout",
     "output_type": "stream",
     "text": [
      "0.8032104236584657\n"
     ]
    },
    {
     "name": "stderr",
     "output_type": "stream",
     "text": [
      "Calculating ceteris paribus: 100%|██████████| 43/43 [00:00<00:00, 196.30it/s]\n",
      "Calculating ceteris paribus: 100%|██████████| 43/43 [00:00<00:00, 189.38it/s]\n"
     ]
    },
    {
     "name": "stdout",
     "output_type": "stream",
     "text": [
      "0.9523150212487977\n"
     ]
    },
    {
     "name": "stderr",
     "output_type": "stream",
     "text": [
      "Calculating ceteris paribus: 100%|██████████| 43/43 [00:00<00:00, 198.11it/s]\n",
      "Calculating ceteris paribus: 100%|██████████| 43/43 [00:00<00:00, 212.75it/s]\n"
     ]
    },
    {
     "name": "stdout",
     "output_type": "stream",
     "text": [
      "0.7556518338021658\n"
     ]
    },
    {
     "name": "stderr",
     "output_type": "stream",
     "text": [
      "Calculating ceteris paribus: 100%|██████████| 43/43 [00:00<00:00, 198.04it/s]\n",
      "Calculating ceteris paribus: 100%|██████████| 43/43 [00:00<00:00, 198.11it/s]\n"
     ]
    },
    {
     "name": "stdout",
     "output_type": "stream",
     "text": [
      "0.45727413550307144\n"
     ]
    },
    {
     "name": "stderr",
     "output_type": "stream",
     "text": [
      "Calculating ceteris paribus: 100%|██████████| 43/43 [00:00<00:00, 213.88it/s]\n",
      "Calculating ceteris paribus: 100%|██████████| 43/43 [00:00<00:00, 204.10it/s]\n"
     ]
    },
    {
     "name": "stdout",
     "output_type": "stream",
     "text": [
      "0.6128461046013224\n"
     ]
    },
    {
     "name": "stderr",
     "output_type": "stream",
     "text": [
      "Calculating ceteris paribus: 100%|██████████| 43/43 [00:00<00:00, 176.48it/s]\n",
      "Calculating ceteris paribus: 100%|██████████| 43/43 [00:00<00:00, 132.69it/s]\n"
     ]
    },
    {
     "name": "stdout",
     "output_type": "stream",
     "text": [
      "0.5491455977159662\n"
     ]
    },
    {
     "name": "stderr",
     "output_type": "stream",
     "text": [
      "Calculating ceteris paribus: 100%|██████████| 43/43 [00:00<00:00, 171.82it/s]\n",
      "Calculating ceteris paribus: 100%|██████████| 43/43 [00:00<00:00, 193.04it/s]\n"
     ]
    },
    {
     "name": "stdout",
     "output_type": "stream",
     "text": [
      "0.7326499562294069\n"
     ]
    },
    {
     "name": "stderr",
     "output_type": "stream",
     "text": [
      "Calculating ceteris paribus: 100%|██████████| 43/43 [00:00<00:00, 183.72it/s]\n",
      "Calculating ceteris paribus: 100%|██████████| 43/43 [00:00<00:00, 172.65it/s]\n"
     ]
    },
    {
     "name": "stdout",
     "output_type": "stream",
     "text": [
      "0.18210146471626246\n"
     ]
    },
    {
     "name": "stderr",
     "output_type": "stream",
     "text": [
      "Calculating ceteris paribus: 100%|██████████| 43/43 [00:00<00:00, 199.40it/s]\n",
      "Calculating ceteris paribus: 100%|██████████| 43/43 [00:00<00:00, 183.72it/s]\n"
     ]
    },
    {
     "name": "stdout",
     "output_type": "stream",
     "text": [
      "0.9116816057013782\n"
     ]
    },
    {
     "name": "stderr",
     "output_type": "stream",
     "text": [
      "Calculating ceteris paribus: 100%|██████████| 43/43 [00:00<00:00, 194.08it/s]\n",
      "Calculating ceteris paribus: 100%|██████████| 43/43 [00:00<00:00, 210.22it/s]\n"
     ]
    },
    {
     "name": "stdout",
     "output_type": "stream",
     "text": [
      "0.22803704046414253\n"
     ]
    },
    {
     "name": "stderr",
     "output_type": "stream",
     "text": [
      "Calculating ceteris paribus: 100%|██████████| 43/43 [00:00<00:00, 206.68it/s]\n",
      "Calculating ceteris paribus: 100%|██████████| 43/43 [00:00<00:00, 192.78it/s]\n"
     ]
    },
    {
     "name": "stdout",
     "output_type": "stream",
     "text": [
      "0.05017928584224081\n"
     ]
    },
    {
     "name": "stderr",
     "output_type": "stream",
     "text": [
      "Calculating ceteris paribus: 100%|██████████| 43/43 [00:00<00:00, 198.11it/s]\n",
      "Calculating ceteris paribus: 100%|██████████| 43/43 [00:00<00:00, 193.65it/s]\n"
     ]
    },
    {
     "name": "stdout",
     "output_type": "stream",
     "text": [
      "0.6901040235123241\n"
     ]
    },
    {
     "name": "stderr",
     "output_type": "stream",
     "text": [
      "Calculating ceteris paribus: 100%|██████████| 43/43 [00:00<00:00, 199.96it/s]\n",
      "Calculating ceteris paribus: 100%|██████████| 43/43 [00:00<00:00, 197.20it/s]\n"
     ]
    },
    {
     "name": "stdout",
     "output_type": "stream",
     "text": [
      "0.715329816480528\n"
     ]
    },
    {
     "name": "stderr",
     "output_type": "stream",
     "text": [
      "Calculating ceteris paribus: 100%|██████████| 43/43 [00:00<00:00, 199.03it/s]\n",
      "Calculating ceteris paribus: 100%|██████████| 43/43 [00:00<00:00, 218.15it/s]\n"
     ]
    },
    {
     "name": "stdout",
     "output_type": "stream",
     "text": [
      "0.4929442673307938\n"
     ]
    },
    {
     "name": "stderr",
     "output_type": "stream",
     "text": [
      "Calculating ceteris paribus: 100%|██████████| 43/43 [00:00<00:00, 199.96it/s]\n",
      "Calculating ceteris paribus: 100%|██████████| 43/43 [00:00<00:00, 211.17it/s]\n"
     ]
    },
    {
     "name": "stdout",
     "output_type": "stream",
     "text": [
      "0.7140312336156396\n"
     ]
    },
    {
     "name": "stderr",
     "output_type": "stream",
     "text": [
      "Calculating ceteris paribus: 100%|██████████| 43/43 [00:00<00:00, 213.88it/s]\n",
      "Calculating ceteris paribus: 100%|██████████| 43/43 [00:00<00:00, 190.13it/s]\n"
     ]
    },
    {
     "name": "stdout",
     "output_type": "stream",
     "text": [
      "0.4436240452146102\n"
     ]
    },
    {
     "name": "stderr",
     "output_type": "stream",
     "text": [
      "Calculating ceteris paribus: 100%|██████████| 43/43 [00:00<00:00, 195.32it/s]\n",
      "Calculating ceteris paribus: 100%|██████████| 43/43 [00:00<00:00, 193.65it/s]\n"
     ]
    },
    {
     "name": "stdout",
     "output_type": "stream",
     "text": [
      "0.6472071802733212\n"
     ]
    },
    {
     "name": "stderr",
     "output_type": "stream",
     "text": [
      "Calculating ceteris paribus: 100%|██████████| 43/43 [00:00<00:00, 189.38it/s]\n",
      "Calculating ceteris paribus: 100%|██████████| 43/43 [00:00<00:00, 192.64it/s]\n"
     ]
    },
    {
     "name": "stdout",
     "output_type": "stream",
     "text": [
      "0.334280047742827\n"
     ]
    },
    {
     "name": "stderr",
     "output_type": "stream",
     "text": [
      "Calculating ceteris paribus: 100%|██████████| 43/43 [00:00<00:00, 200.89it/s]\n",
      "Calculating ceteris paribus: 100%|██████████| 43/43 [00:00<00:00, 210.03it/s]\n"
     ]
    },
    {
     "name": "stdout",
     "output_type": "stream",
     "text": [
      "0.8961662247578012\n"
     ]
    },
    {
     "name": "stderr",
     "output_type": "stream",
     "text": [
      "Calculating ceteris paribus: 100%|██████████| 43/43 [00:00<00:00, 199.96it/s]\n",
      "Calculating ceteris paribus: 100%|██████████| 43/43 [00:00<00:00, 188.55it/s]\n"
     ]
    },
    {
     "name": "stdout",
     "output_type": "stream",
     "text": [
      "0.8574182372698431\n"
     ]
    },
    {
     "name": "stderr",
     "output_type": "stream",
     "text": [
      "Calculating ceteris paribus: 100%|██████████| 43/43 [00:00<00:00, 195.41it/s]\n",
      "Calculating ceteris paribus: 100%|██████████| 43/43 [00:00<00:00, 222.75it/s]\n"
     ]
    },
    {
     "name": "stdout",
     "output_type": "stream",
     "text": [
      "0.58337438797008\n"
     ]
    },
    {
     "name": "stderr",
     "output_type": "stream",
     "text": [
      "Calculating ceteris paribus: 100%|██████████| 43/43 [00:00<00:00, 198.11it/s]\n",
      "Calculating ceteris paribus: 100%|██████████| 43/43 [00:00<00:00, 208.43it/s]\n"
     ]
    },
    {
     "name": "stdout",
     "output_type": "stream",
     "text": [
      "0.6350679279019303\n"
     ]
    },
    {
     "name": "stderr",
     "output_type": "stream",
     "text": [
      "Calculating ceteris paribus: 100%|██████████| 43/43 [00:00<00:00, 201.64it/s]\n",
      "Calculating ceteris paribus: 100%|██████████| 43/43 [00:00<00:00, 204.36it/s]\n"
     ]
    },
    {
     "name": "stdout",
     "output_type": "stream",
     "text": [
      "0.9026664552788973\n"
     ]
    },
    {
     "name": "stderr",
     "output_type": "stream",
     "text": [
      "Calculating ceteris paribus: 100%|██████████| 43/43 [00:00<00:00, 174.76it/s]\n",
      "Calculating ceteris paribus: 100%|██████████| 43/43 [00:00<00:00, 189.31it/s]\n"
     ]
    },
    {
     "name": "stdout",
     "output_type": "stream",
     "text": [
      "0.26523092705542684\n"
     ]
    },
    {
     "name": "stderr",
     "output_type": "stream",
     "text": [
      "Calculating ceteris paribus: 100%|██████████| 43/43 [00:00<00:00, 195.45it/s]\n",
      "Calculating ceteris paribus: 100%|██████████| 43/43 [00:00<00:00, 213.88it/s]\n"
     ]
    },
    {
     "name": "stdout",
     "output_type": "stream",
     "text": [
      "0.15969224058900017\n"
     ]
    },
    {
     "name": "stderr",
     "output_type": "stream",
     "text": [
      "Calculating ceteris paribus: 100%|██████████| 43/43 [00:00<00:00, 194.91it/s]\n",
      "Calculating ceteris paribus: 100%|██████████| 43/43 [00:00<00:00, 205.62it/s]\n"
     ]
    },
    {
     "name": "stdout",
     "output_type": "stream",
     "text": [
      "0.7390510762922651\n"
     ]
    },
    {
     "name": "stderr",
     "output_type": "stream",
     "text": [
      "Calculating ceteris paribus: 100%|██████████| 43/43 [00:00<00:00, 194.53it/s]\n",
      "Calculating ceteris paribus: 100%|██████████| 43/43 [00:00<00:00, 197.12it/s]\n"
     ]
    },
    {
     "name": "stdout",
     "output_type": "stream",
     "text": [
      "0.4861963648113266\n"
     ]
    },
    {
     "name": "stderr",
     "output_type": "stream",
     "text": [
      "Calculating ceteris paribus: 100%|██████████| 43/43 [00:00<00:00, 195.71it/s]\n",
      "Calculating ceteris paribus: 100%|██████████| 43/43 [00:00<00:00, 217.12it/s]\n"
     ]
    },
    {
     "name": "stdout",
     "output_type": "stream",
     "text": [
      "0.8898905974476401\n"
     ]
    },
    {
     "name": "stderr",
     "output_type": "stream",
     "text": [
      "Calculating ceteris paribus: 100%|██████████| 43/43 [00:00<00:00, 199.03it/s]\n",
      "Calculating ceteris paribus: 100%|██████████| 43/43 [00:00<00:00, 213.88it/s]\n"
     ]
    },
    {
     "name": "stdout",
     "output_type": "stream",
     "text": [
      "0.5314963867081938\n"
     ]
    },
    {
     "name": "stderr",
     "output_type": "stream",
     "text": [
      "Calculating ceteris paribus: 100%|██████████| 43/43 [00:00<00:00, 215.94it/s]\n",
      "Calculating ceteris paribus: 100%|██████████| 43/43 [00:00<00:00, 195.83it/s]\n"
     ]
    },
    {
     "name": "stdout",
     "output_type": "stream",
     "text": [
      "0.9065329765484901\n"
     ]
    },
    {
     "name": "stderr",
     "output_type": "stream",
     "text": [
      "Calculating ceteris paribus: 100%|██████████| 43/43 [00:00<00:00, 188.84it/s]\n",
      "Calculating ceteris paribus: 100%|██████████| 43/43 [00:00<00:00, 227.46it/s]\n"
     ]
    },
    {
     "name": "stdout",
     "output_type": "stream",
     "text": [
      "0.8749056191577288\n"
     ]
    },
    {
     "name": "stderr",
     "output_type": "stream",
     "text": [
      "Calculating ceteris paribus: 100%|██████████| 43/43 [00:00<00:00, 187.69it/s]\n",
      "Calculating ceteris paribus: 100%|██████████| 43/43 [00:00<00:00, 205.70it/s]\n"
     ]
    },
    {
     "name": "stdout",
     "output_type": "stream",
     "text": [
      "0.3069826660686607\n"
     ]
    },
    {
     "name": "stderr",
     "output_type": "stream",
     "text": [
      "Calculating ceteris paribus: 100%|██████████| 43/43 [00:00<00:00, 204.72it/s]\n",
      "Calculating ceteris paribus: 100%|██████████| 43/43 [00:00<00:00, 205.70it/s]\n"
     ]
    },
    {
     "name": "stdout",
     "output_type": "stream",
     "text": [
      "0.8041017901420678\n"
     ]
    },
    {
     "name": "stderr",
     "output_type": "stream",
     "text": [
      "Calculating ceteris paribus: 100%|██████████| 43/43 [00:00<00:00, 226.79it/s]\n",
      "Calculating ceteris paribus: 100%|██████████| 43/43 [00:00<00:00, 208.10it/s]\n"
     ]
    },
    {
     "name": "stdout",
     "output_type": "stream",
     "text": [
      "0.6953376201917754\n"
     ]
    },
    {
     "name": "stderr",
     "output_type": "stream",
     "text": [
      "Calculating ceteris paribus: 100%|██████████| 43/43 [00:00<00:00, 204.72it/s]\n",
      "Calculating ceteris paribus: 100%|██████████| 43/43 [00:00<00:00, 201.83it/s]\n"
     ]
    },
    {
     "name": "stdout",
     "output_type": "stream",
     "text": [
      "0.8973115598648544\n"
     ]
    },
    {
     "name": "stderr",
     "output_type": "stream",
     "text": [
      "Calculating ceteris paribus: 100%|██████████| 43/43 [00:00<00:00, 199.96it/s]\n",
      "Calculating ceteris paribus: 100%|██████████| 43/43 [00:00<00:00, 213.33it/s]\n"
     ]
    },
    {
     "name": "stdout",
     "output_type": "stream",
     "text": [
      "0.8407450715135341\n"
     ]
    },
    {
     "name": "stderr",
     "output_type": "stream",
     "text": [
      "Calculating ceteris paribus: 100%|██████████| 43/43 [00:00<00:00, 197.20it/s]\n",
      "Calculating ceteris paribus: 100%|██████████| 43/43 [00:00<00:00, 199.95it/s]\n"
     ]
    },
    {
     "name": "stdout",
     "output_type": "stream",
     "text": [
      "0.8800541087561959\n"
     ]
    },
    {
     "name": "stderr",
     "output_type": "stream",
     "text": [
      "Calculating ceteris paribus: 100%|██████████| 43/43 [00:00<00:00, 204.15it/s]\n",
      "Calculating ceteris paribus: 100%|██████████| 43/43 [00:00<00:00, 221.45it/s]\n"
     ]
    },
    {
     "name": "stdout",
     "output_type": "stream",
     "text": [
      "0.8386261954270825\n"
     ]
    },
    {
     "name": "stderr",
     "output_type": "stream",
     "text": [
      "Calculating ceteris paribus: 100%|██████████| 43/43 [00:00<00:00, 190.22it/s]\n",
      "Calculating ceteris paribus: 100%|██████████| 43/43 [00:00<00:00, 205.70it/s]\n"
     ]
    },
    {
     "name": "stdout",
     "output_type": "stream",
     "text": [
      "0.7079002177349991\n"
     ]
    },
    {
     "name": "stderr",
     "output_type": "stream",
     "text": [
      "Calculating ceteris paribus: 100%|██████████| 43/43 [00:00<00:00, 212.09it/s]\n",
      "Calculating ceteris paribus: 100%|██████████| 43/43 [00:00<00:00, 193.65it/s]\n"
     ]
    },
    {
     "name": "stdout",
     "output_type": "stream",
     "text": [
      "0.4388638441493528\n"
     ]
    },
    {
     "name": "stderr",
     "output_type": "stream",
     "text": [
      "Calculating ceteris paribus: 100%|██████████| 43/43 [00:00<00:00, 192.78it/s]\n",
      "Calculating ceteris paribus: 100%|██████████| 43/43 [00:00<00:00, 187.32it/s]\n"
     ]
    },
    {
     "name": "stdout",
     "output_type": "stream",
     "text": [
      "0.841876810162402\n"
     ]
    },
    {
     "name": "stderr",
     "output_type": "stream",
     "text": [
      "Calculating ceteris paribus: 100%|██████████| 43/43 [00:00<00:00, 198.11it/s]\n",
      "Calculating ceteris paribus: 100%|██████████| 43/43 [00:00<00:00, 188.55it/s]\n"
     ]
    },
    {
     "name": "stdout",
     "output_type": "stream",
     "text": [
      "0.46951697873383375\n"
     ]
    },
    {
     "name": "stderr",
     "output_type": "stream",
     "text": [
      "Calculating ceteris paribus: 100%|██████████| 43/43 [00:00<00:00, 191.83it/s]\n",
      "Calculating ceteris paribus: 100%|██████████| 43/43 [00:00<00:00, 189.38it/s]\n"
     ]
    },
    {
     "name": "stdout",
     "output_type": "stream",
     "text": [
      "0.814653555527421\n"
     ]
    },
    {
     "name": "stderr",
     "output_type": "stream",
     "text": [
      "Calculating ceteris paribus: 100%|██████████| 43/43 [00:00<00:00, 196.69it/s]\n",
      "Calculating ceteris paribus: 100%|██████████| 43/43 [00:00<00:00, 207.68it/s]\n"
     ]
    },
    {
     "name": "stdout",
     "output_type": "stream",
     "text": [
      "0.5099258539331895\n"
     ]
    },
    {
     "name": "stderr",
     "output_type": "stream",
     "text": [
      "Calculating ceteris paribus: 100%|██████████| 43/43 [00:00<00:00, 211.78it/s]\n",
      "Calculating ceteris paribus: 100%|██████████| 43/43 [00:00<00:00, 198.11it/s]\n"
     ]
    },
    {
     "name": "stdout",
     "output_type": "stream",
     "text": [
      "0.43581367026580614\n"
     ]
    },
    {
     "name": "stderr",
     "output_type": "stream",
     "text": [
      "Calculating ceteris paribus: 100%|██████████| 43/43 [00:00<00:00, 196.30it/s]\n",
      "Calculating ceteris paribus: 100%|██████████| 43/43 [00:00<00:00, 191.07it/s]\n"
     ]
    },
    {
     "name": "stdout",
     "output_type": "stream",
     "text": [
      "0.5675510476003852\n"
     ]
    },
    {
     "name": "stderr",
     "output_type": "stream",
     "text": [
      "Calculating ceteris paribus: 100%|██████████| 43/43 [00:00<00:00, 208.84it/s]\n",
      "Calculating ceteris paribus: 100%|██████████| 43/43 [00:00<00:00, 188.42it/s]\n"
     ]
    },
    {
     "name": "stdout",
     "output_type": "stream",
     "text": [
      "0.6107807690767599\n"
     ]
    },
    {
     "name": "stderr",
     "output_type": "stream",
     "text": [
      "Calculating ceteris paribus: 100%|██████████| 43/43 [00:00<00:00, 211.77it/s]\n",
      "Calculating ceteris paribus: 100%|██████████| 43/43 [00:00<00:00, 197.20it/s]\n"
     ]
    },
    {
     "name": "stdout",
     "output_type": "stream",
     "text": [
      "0.6676173512009339\n"
     ]
    },
    {
     "name": "stderr",
     "output_type": "stream",
     "text": [
      "Calculating ceteris paribus: 100%|██████████| 43/43 [00:00<00:00, 194.53it/s]\n",
      "Calculating ceteris paribus: 100%|██████████| 43/43 [00:00<00:00, 200.82it/s]\n"
     ]
    },
    {
     "name": "stdout",
     "output_type": "stream",
     "text": [
      "0.855687726654376\n"
     ]
    },
    {
     "name": "stderr",
     "output_type": "stream",
     "text": [
      "Calculating ceteris paribus: 100%|██████████| 43/43 [00:00<00:00, 198.95it/s]\n",
      "Calculating ceteris paribus: 100%|██████████| 43/43 [00:00<00:00, 198.11it/s]\n"
     ]
    },
    {
     "name": "stdout",
     "output_type": "stream",
     "text": [
      "0.8535110723270958\n"
     ]
    },
    {
     "name": "stderr",
     "output_type": "stream",
     "text": [
      "Calculating ceteris paribus: 100%|██████████| 43/43 [00:00<00:00, 191.92it/s]\n",
      "Calculating ceteris paribus: 100%|██████████| 43/43 [00:00<00:00, 194.53it/s]\n"
     ]
    },
    {
     "name": "stdout",
     "output_type": "stream",
     "text": [
      "0.9167224359543498\n"
     ]
    },
    {
     "name": "stderr",
     "output_type": "stream",
     "text": [
      "Calculating ceteris paribus: 100%|██████████| 43/43 [00:00<00:00, 185.30it/s]\n",
      "Calculating ceteris paribus: 100%|██████████| 43/43 [00:00<00:00, 201.83it/s]\n"
     ]
    },
    {
     "name": "stdout",
     "output_type": "stream",
     "text": [
      "0.6427029001121777\n"
     ]
    },
    {
     "name": "stderr",
     "output_type": "stream",
     "text": [
      "Calculating ceteris paribus: 100%|██████████| 43/43 [00:00<00:00, 204.72it/s]\n",
      "Calculating ceteris paribus: 100%|██████████| 43/43 [00:00<00:00, 218.22it/s]\n"
     ]
    },
    {
     "name": "stdout",
     "output_type": "stream",
     "text": [
      "0.7559997190412165\n"
     ]
    },
    {
     "name": "stderr",
     "output_type": "stream",
     "text": [
      "Calculating ceteris paribus: 100%|██████████| 43/43 [00:00<00:00, 204.77it/s]\n",
      "Calculating ceteris paribus: 100%|██████████| 43/43 [00:00<00:00, 196.71it/s]\n"
     ]
    },
    {
     "name": "stdout",
     "output_type": "stream",
     "text": [
      "0.7371967469200064\n"
     ]
    },
    {
     "name": "stderr",
     "output_type": "stream",
     "text": [
      "Calculating ceteris paribus: 100%|██████████| 43/43 [00:00<00:00, 202.79it/s]\n",
      "Calculating ceteris paribus: 100%|██████████| 43/43 [00:00<00:00, 219.34it/s]\n"
     ]
    },
    {
     "name": "stdout",
     "output_type": "stream",
     "text": [
      "0.5688304055997635\n"
     ]
    },
    {
     "name": "stderr",
     "output_type": "stream",
     "text": [
      "Calculating ceteris paribus: 100%|██████████| 43/43 [00:00<00:00, 192.78it/s]\n",
      "Calculating ceteris paribus: 100%|██████████| 43/43 [00:00<00:00, 223.91it/s]\n"
     ]
    },
    {
     "name": "stdout",
     "output_type": "stream",
     "text": [
      "0.6333797064028666\n"
     ]
    },
    {
     "name": "stderr",
     "output_type": "stream",
     "text": [
      "Calculating ceteris paribus: 100%|██████████| 43/43 [00:00<00:00, 195.41it/s]\n",
      "Calculating ceteris paribus: 100%|██████████| 43/43 [00:00<00:00, 223.20it/s]\n"
     ]
    },
    {
     "name": "stdout",
     "output_type": "stream",
     "text": [
      "0.7840137946062338\n"
     ]
    },
    {
     "name": "stderr",
     "output_type": "stream",
     "text": [
      "Calculating ceteris paribus: 100%|██████████| 43/43 [00:00<00:00, 199.03it/s]\n",
      "Calculating ceteris paribus: 100%|██████████| 43/43 [00:00<00:00, 223.83it/s]\n"
     ]
    },
    {
     "name": "stdout",
     "output_type": "stream",
     "text": [
      "0.733261748859616\n"
     ]
    },
    {
     "name": "stderr",
     "output_type": "stream",
     "text": [
      "Calculating ceteris paribus: 100%|██████████| 43/43 [00:00<00:00, 214.95it/s]\n",
      "Calculating ceteris paribus: 100%|██████████| 43/43 [00:00<00:00, 210.63it/s]\n"
     ]
    },
    {
     "name": "stdout",
     "output_type": "stream",
     "text": [
      "0.7436929538525382\n"
     ]
    },
    {
     "name": "stderr",
     "output_type": "stream",
     "text": [
      "Calculating ceteris paribus: 100%|██████████| 43/43 [00:00<00:00, 205.70it/s]\n",
      "Calculating ceteris paribus: 100%|██████████| 43/43 [00:00<00:00, 204.72it/s]\n"
     ]
    },
    {
     "name": "stdout",
     "output_type": "stream",
     "text": [
      "0.7494357262571024\n"
     ]
    },
    {
     "name": "stderr",
     "output_type": "stream",
     "text": [
      "Calculating ceteris paribus: 100%|██████████| 43/43 [00:00<00:00, 220.46it/s]\n",
      "Calculating ceteris paribus: 100%|██████████| 43/43 [00:00<00:00, 205.58it/s]\n"
     ]
    },
    {
     "name": "stdout",
     "output_type": "stream",
     "text": [
      "0.5642736121339244\n"
     ]
    },
    {
     "name": "stderr",
     "output_type": "stream",
     "text": [
      "Calculating ceteris paribus: 100%|██████████| 43/43 [00:00<00:00, 203.75it/s]\n",
      "Calculating ceteris paribus: 100%|██████████| 43/43 [00:00<00:00, 208.14it/s]\n"
     ]
    },
    {
     "name": "stdout",
     "output_type": "stream",
     "text": [
      "0.4691316491371645\n"
     ]
    },
    {
     "name": "stderr",
     "output_type": "stream",
     "text": [
      "Calculating ceteris paribus: 100%|██████████| 43/43 [00:00<00:00, 202.78it/s]\n",
      "Calculating ceteris paribus: 100%|██████████| 43/43 [00:00<00:00, 182.16it/s]\n"
     ]
    },
    {
     "name": "stdout",
     "output_type": "stream",
     "text": [
      "0.07189348123058514\n"
     ]
    },
    {
     "name": "stderr",
     "output_type": "stream",
     "text": [
      "Calculating ceteris paribus: 100%|██████████| 43/43 [00:00<00:00, 186.91it/s]\n",
      "Calculating ceteris paribus: 100%|██████████| 43/43 [00:00<00:00, 207.68it/s]\n"
     ]
    },
    {
     "name": "stdout",
     "output_type": "stream",
     "text": [
      "0.5463388292412178\n"
     ]
    },
    {
     "name": "stderr",
     "output_type": "stream",
     "text": [
      "Calculating ceteris paribus: 100%|██████████| 43/43 [00:00<00:00, 203.75it/s]\n",
      "Calculating ceteris paribus: 100%|██████████| 43/43 [00:00<00:00, 215.73it/s]\n"
     ]
    },
    {
     "name": "stdout",
     "output_type": "stream",
     "text": [
      "0.4076582308007751\n"
     ]
    },
    {
     "name": "stderr",
     "output_type": "stream",
     "text": [
      "Calculating ceteris paribus: 100%|██████████| 43/43 [00:00<00:00, 206.68it/s]\n",
      "Calculating ceteris paribus: 100%|██████████| 43/43 [00:00<00:00, 210.74it/s]\n"
     ]
    },
    {
     "name": "stdout",
     "output_type": "stream",
     "text": [
      "-0.10932377590038195\n"
     ]
    },
    {
     "name": "stderr",
     "output_type": "stream",
     "text": [
      "Calculating ceteris paribus: 100%|██████████| 43/43 [00:00<00:00, 200.89it/s]\n",
      "Calculating ceteris paribus: 100%|██████████| 43/43 [00:00<00:00, 205.08it/s]\n"
     ]
    },
    {
     "name": "stdout",
     "output_type": "stream",
     "text": [
      "0.8996195223886944\n"
     ]
    },
    {
     "name": "stderr",
     "output_type": "stream",
     "text": [
      "Calculating ceteris paribus: 100%|██████████| 43/43 [00:00<00:00, 199.96it/s]\n",
      "Calculating ceteris paribus: 100%|██████████| 43/43 [00:00<00:00, 197.20it/s]\n"
     ]
    },
    {
     "name": "stdout",
     "output_type": "stream",
     "text": [
      "-0.06086759436037923\n"
     ]
    },
    {
     "name": "stderr",
     "output_type": "stream",
     "text": [
      "Calculating ceteris paribus: 100%|██████████| 43/43 [00:00<00:00, 208.69it/s]\n",
      "Calculating ceteris paribus: 100%|██████████| 43/43 [00:00<00:00, 200.36it/s]\n"
     ]
    },
    {
     "name": "stdout",
     "output_type": "stream",
     "text": [
      "-0.19647341144317945\n"
     ]
    },
    {
     "name": "stderr",
     "output_type": "stream",
     "text": [
      "Calculating ceteris paribus: 100%|██████████| 43/43 [00:00<00:00, 206.68it/s]\n",
      "Calculating ceteris paribus: 100%|██████████| 43/43 [00:00<00:00, 206.19it/s]\n"
     ]
    },
    {
     "name": "stdout",
     "output_type": "stream",
     "text": [
      "0.7114502742378457\n"
     ]
    },
    {
     "name": "stderr",
     "output_type": "stream",
     "text": [
      "Calculating ceteris paribus: 100%|██████████| 43/43 [00:00<00:00, 211.77it/s]\n",
      "Calculating ceteris paribus: 100%|██████████| 43/43 [00:00<00:00, 202.78it/s]\n"
     ]
    },
    {
     "name": "stdout",
     "output_type": "stream",
     "text": [
      "0.05240903603539839\n"
     ]
    },
    {
     "name": "stderr",
     "output_type": "stream",
     "text": [
      "Calculating ceteris paribus: 100%|██████████| 43/43 [00:00<00:00, 201.83it/s]\n",
      "Calculating ceteris paribus: 100%|██████████| 43/43 [00:00<00:00, 210.74it/s]\n"
     ]
    },
    {
     "name": "stdout",
     "output_type": "stream",
     "text": [
      "0.6370104148083171\n"
     ]
    },
    {
     "name": "stderr",
     "output_type": "stream",
     "text": [
      "Calculating ceteris paribus: 100%|██████████| 43/43 [00:00<00:00, 202.79it/s]\n",
      "Calculating ceteris paribus: 100%|██████████| 43/43 [00:00<00:00, 197.10it/s]\n"
     ]
    },
    {
     "name": "stdout",
     "output_type": "stream",
     "text": [
      "0.6804352465043947\n"
     ]
    },
    {
     "name": "stderr",
     "output_type": "stream",
     "text": [
      "Calculating ceteris paribus: 100%|██████████| 43/43 [00:00<00:00, 189.45it/s]\n",
      "Calculating ceteris paribus: 100%|██████████| 43/43 [00:00<00:00, 198.40it/s]\n"
     ]
    },
    {
     "name": "stdout",
     "output_type": "stream",
     "text": [
      "0.8779809329817683\n"
     ]
    },
    {
     "name": "stderr",
     "output_type": "stream",
     "text": [
      "Calculating ceteris paribus: 100%|██████████| 43/43 [00:00<00:00, 194.52it/s]\n",
      "Calculating ceteris paribus: 100%|██████████| 43/43 [00:00<00:00, 209.79it/s]\n"
     ]
    },
    {
     "name": "stdout",
     "output_type": "stream",
     "text": [
      "0.367396564032151\n"
     ]
    },
    {
     "name": "stderr",
     "output_type": "stream",
     "text": [
      "Calculating ceteris paribus: 100%|██████████| 43/43 [00:00<00:00, 202.78it/s]\n",
      "Calculating ceteris paribus: 100%|██████████| 43/43 [00:00<00:00, 193.65it/s]\n"
     ]
    },
    {
     "name": "stdout",
     "output_type": "stream",
     "text": [
      "0.9467737597456828\n"
     ]
    },
    {
     "name": "stderr",
     "output_type": "stream",
     "text": [
      "Calculating ceteris paribus: 100%|██████████| 43/43 [00:00<00:00, 195.41it/s]\n",
      "Calculating ceteris paribus: 100%|██████████| 43/43 [00:00<00:00, 199.42it/s]\n"
     ]
    },
    {
     "name": "stdout",
     "output_type": "stream",
     "text": [
      "0.5720658729586084\n"
     ]
    },
    {
     "name": "stderr",
     "output_type": "stream",
     "text": [
      "Calculating ceteris paribus: 100%|██████████| 43/43 [00:00<00:00, 210.74it/s]\n",
      "Calculating ceteris paribus: 100%|██████████| 43/43 [00:00<00:00, 202.27it/s]\n"
     ]
    },
    {
     "name": "stdout",
     "output_type": "stream",
     "text": [
      "0.4917542717536757\n"
     ]
    },
    {
     "name": "stderr",
     "output_type": "stream",
     "text": [
      "Calculating ceteris paribus: 100%|██████████| 43/43 [00:00<00:00, 194.53it/s]\n",
      "Calculating ceteris paribus: 100%|██████████| 43/43 [00:00<00:00, 201.72it/s]\n"
     ]
    },
    {
     "name": "stdout",
     "output_type": "stream",
     "text": [
      "0.8455351869846675\n"
     ]
    },
    {
     "name": "stderr",
     "output_type": "stream",
     "text": [
      "Calculating ceteris paribus: 100%|██████████| 43/43 [00:00<00:00, 199.96it/s]\n",
      "Calculating ceteris paribus: 100%|██████████| 43/43 [00:00<00:00, 201.83it/s]\n"
     ]
    },
    {
     "name": "stdout",
     "output_type": "stream",
     "text": [
      "0.6469959577211309\n"
     ]
    },
    {
     "name": "stderr",
     "output_type": "stream",
     "text": [
      "Calculating ceteris paribus: 100%|██████████| 43/43 [00:00<00:00, 192.70it/s]\n",
      "Calculating ceteris paribus: 100%|██████████| 43/43 [00:00<00:00, 201.83it/s]\n"
     ]
    },
    {
     "name": "stdout",
     "output_type": "stream",
     "text": [
      "0.8207844211228138\n"
     ]
    },
    {
     "name": "stderr",
     "output_type": "stream",
     "text": [
      "Calculating ceteris paribus: 100%|██████████| 43/43 [00:00<00:00, 195.41it/s]\n",
      "Calculating ceteris paribus: 100%|██████████| 43/43 [00:00<00:00, 176.92it/s]\n"
     ]
    },
    {
     "name": "stdout",
     "output_type": "stream",
     "text": [
      "0.37951226803399685\n"
     ]
    },
    {
     "name": "stderr",
     "output_type": "stream",
     "text": [
      "Calculating ceteris paribus: 100%|██████████| 43/43 [00:00<00:00, 197.20it/s]\n",
      "Calculating ceteris paribus: 100%|██████████| 43/43 [00:00<00:00, 200.91it/s]\n"
     ]
    },
    {
     "name": "stdout",
     "output_type": "stream",
     "text": [
      "0.5887303241947943\n"
     ]
    },
    {
     "name": "stderr",
     "output_type": "stream",
     "text": [
      "Calculating ceteris paribus: 100%|██████████| 43/43 [00:00<00:00, 201.83it/s]\n",
      "Calculating ceteris paribus: 100%|██████████| 43/43 [00:00<00:00, 198.11it/s]\n"
     ]
    },
    {
     "name": "stdout",
     "output_type": "stream",
     "text": [
      "0.6882253418423491\n"
     ]
    },
    {
     "name": "stderr",
     "output_type": "stream",
     "text": [
      "Calculating ceteris paribus: 100%|██████████| 43/43 [00:00<00:00, 207.88it/s]\n",
      "Calculating ceteris paribus: 100%|██████████| 43/43 [00:00<00:00, 210.74it/s]\n"
     ]
    },
    {
     "name": "stdout",
     "output_type": "stream",
     "text": [
      "0.7842292856876567\n"
     ]
    },
    {
     "name": "stderr",
     "output_type": "stream",
     "text": [
      "Calculating ceteris paribus: 100%|██████████| 43/43 [00:00<00:00, 199.03it/s]\n",
      "Calculating ceteris paribus: 100%|██████████| 43/43 [00:00<00:00, 206.68it/s]\n"
     ]
    },
    {
     "name": "stdout",
     "output_type": "stream",
     "text": [
      "0.4441524463131981\n"
     ]
    },
    {
     "name": "stderr",
     "output_type": "stream",
     "text": [
      "Calculating ceteris paribus: 100%|██████████| 43/43 [00:00<00:00, 200.89it/s]\n",
      "Calculating ceteris paribus: 100%|██████████| 43/43 [00:00<00:00, 195.41it/s]\n"
     ]
    },
    {
     "name": "stdout",
     "output_type": "stream",
     "text": [
      "0.0658323933810064\n"
     ]
    },
    {
     "name": "stderr",
     "output_type": "stream",
     "text": [
      "Calculating ceteris paribus: 100%|██████████| 43/43 [00:00<00:00, 196.30it/s]\n",
      "Calculating ceteris paribus: 100%|██████████| 43/43 [00:00<00:00, 198.11it/s]\n"
     ]
    },
    {
     "name": "stdout",
     "output_type": "stream",
     "text": [
      "0.12233446632576803\n"
     ]
    },
    {
     "name": "stderr",
     "output_type": "stream",
     "text": [
      "Calculating ceteris paribus: 100%|██████████| 43/43 [00:00<00:00, 202.26it/s]\n",
      "Calculating ceteris paribus: 100%|██████████| 43/43 [00:00<00:00, 198.05it/s]\n"
     ]
    },
    {
     "name": "stdout",
     "output_type": "stream",
     "text": [
      "0.38877803291347135\n"
     ]
    },
    {
     "name": "stderr",
     "output_type": "stream",
     "text": [
      "Calculating ceteris paribus: 100%|██████████| 43/43 [00:00<00:00, 197.15it/s]\n",
      "Calculating ceteris paribus: 100%|██████████| 43/43 [00:00<00:00, 231.13it/s]\n"
     ]
    },
    {
     "name": "stdout",
     "output_type": "stream",
     "text": [
      "0.45355497315148746\n"
     ]
    },
    {
     "name": "stderr",
     "output_type": "stream",
     "text": [
      "Calculating ceteris paribus: 100%|██████████| 43/43 [00:00<00:00, 198.56it/s]\n",
      "Calculating ceteris paribus: 100%|██████████| 43/43 [00:00<00:00, 222.75it/s]\n"
     ]
    },
    {
     "name": "stdout",
     "output_type": "stream",
     "text": [
      "0.9207805753308482\n"
     ]
    },
    {
     "name": "stderr",
     "output_type": "stream",
     "text": [
      "Calculating ceteris paribus: 100%|██████████| 43/43 [00:00<00:00, 207.68it/s]\n",
      "Calculating ceteris paribus: 100%|██████████| 43/43 [00:00<00:00, 193.65it/s]\n"
     ]
    },
    {
     "name": "stdout",
     "output_type": "stream",
     "text": [
      "0.6772078488460954\n"
     ]
    },
    {
     "name": "stderr",
     "output_type": "stream",
     "text": [
      "Calculating ceteris paribus: 100%|██████████| 43/43 [00:00<00:00, 193.65it/s]\n",
      "Calculating ceteris paribus: 100%|██████████| 43/43 [00:00<00:00, 200.93it/s]\n"
     ]
    },
    {
     "name": "stdout",
     "output_type": "stream",
     "text": [
      "0.692755584737855\n"
     ]
    },
    {
     "name": "stderr",
     "output_type": "stream",
     "text": [
      "Calculating ceteris paribus: 100%|██████████| 43/43 [00:00<00:00, 184.31it/s]\n",
      "Calculating ceteris paribus: 100%|██████████| 43/43 [00:00<00:00, 166.33it/s]\n"
     ]
    },
    {
     "name": "stdout",
     "output_type": "stream",
     "text": [
      "0.6271716086770691\n"
     ]
    },
    {
     "name": "stderr",
     "output_type": "stream",
     "text": [
      "Calculating ceteris paribus: 100%|██████████| 43/43 [00:00<00:00, 221.60it/s]\n",
      "Calculating ceteris paribus: 100%|██████████| 43/43 [00:00<00:00, 186.91it/s]\n"
     ]
    },
    {
     "name": "stdout",
     "output_type": "stream",
     "text": [
      "0.9099210034135213\n"
     ]
    },
    {
     "name": "stderr",
     "output_type": "stream",
     "text": [
      "Calculating ceteris paribus: 100%|██████████| 43/43 [00:00<00:00, 196.30it/s]\n",
      "Calculating ceteris paribus: 100%|██████████| 43/43 [00:00<00:00, 210.17it/s]\n"
     ]
    },
    {
     "name": "stdout",
     "output_type": "stream",
     "text": [
      "0.6490194552460763\n"
     ]
    },
    {
     "name": "stderr",
     "output_type": "stream",
     "text": [
      "Calculating ceteris paribus: 100%|██████████| 43/43 [00:00<00:00, 198.45it/s]\n",
      "Calculating ceteris paribus: 100%|██████████| 43/43 [00:00<00:00, 193.88it/s]\n"
     ]
    },
    {
     "name": "stdout",
     "output_type": "stream",
     "text": [
      "0.8672548949334384\n"
     ]
    },
    {
     "name": "stderr",
     "output_type": "stream",
     "text": [
      "Calculating ceteris paribus: 100%|██████████| 43/43 [00:00<00:00, 221.60it/s]\n",
      "Calculating ceteris paribus: 100%|██████████| 43/43 [00:00<00:00, 193.65it/s]\n"
     ]
    },
    {
     "name": "stdout",
     "output_type": "stream",
     "text": [
      "0.4936143693713136\n"
     ]
    },
    {
     "name": "stderr",
     "output_type": "stream",
     "text": [
      "Calculating ceteris paribus: 100%|██████████| 43/43 [00:00<00:00, 207.62it/s]\n",
      "Calculating ceteris paribus: 100%|██████████| 43/43 [00:00<00:00, 194.53it/s]\n"
     ]
    },
    {
     "name": "stdout",
     "output_type": "stream",
     "text": [
      "0.5481294540118514\n"
     ]
    },
    {
     "name": "stderr",
     "output_type": "stream",
     "text": [
      "Calculating ceteris paribus: 100%|██████████| 43/43 [00:00<00:00, 194.80it/s]\n",
      "Calculating ceteris paribus: 100%|██████████| 43/43 [00:00<00:00, 195.41it/s]\n"
     ]
    },
    {
     "name": "stdout",
     "output_type": "stream",
     "text": [
      "0.8198118331277697\n"
     ]
    },
    {
     "name": "stderr",
     "output_type": "stream",
     "text": [
      "Calculating ceteris paribus: 100%|██████████| 43/43 [00:00<00:00, 197.14it/s]\n",
      "Calculating ceteris paribus: 100%|██████████| 43/43 [00:00<00:00, 200.81it/s]\n"
     ]
    },
    {
     "name": "stdout",
     "output_type": "stream",
     "text": [
      "0.633664785321613\n"
     ]
    },
    {
     "name": "stderr",
     "output_type": "stream",
     "text": [
      "Calculating ceteris paribus: 100%|██████████| 43/43 [00:00<00:00, 190.22it/s]\n",
      "Calculating ceteris paribus: 100%|██████████| 43/43 [00:00<00:00, 203.75it/s]\n"
     ]
    },
    {
     "name": "stdout",
     "output_type": "stream",
     "text": [
      "0.6885224569217041\n"
     ]
    },
    {
     "name": "stderr",
     "output_type": "stream",
     "text": [
      "Calculating ceteris paribus: 100%|██████████| 43/43 [00:00<00:00, 198.11it/s]\n",
      "Calculating ceteris paribus: 100%|██████████| 43/43 [00:00<00:00, 197.20it/s]\n"
     ]
    },
    {
     "name": "stdout",
     "output_type": "stream",
     "text": [
      "0.6887876331620765\n"
     ]
    },
    {
     "name": "stderr",
     "output_type": "stream",
     "text": [
      "Calculating ceteris paribus: 100%|██████████| 43/43 [00:00<00:00, 194.53it/s]\n",
      "Calculating ceteris paribus: 100%|██████████| 43/43 [00:00<00:00, 199.23it/s]\n"
     ]
    },
    {
     "name": "stdout",
     "output_type": "stream",
     "text": [
      "0.828686696898416\n"
     ]
    },
    {
     "name": "stderr",
     "output_type": "stream",
     "text": [
      "Calculating ceteris paribus:  72%|███████▏  | 31/43 [00:00<00:00, 190.14it/s]\n"
     ]
    },
    {
     "ename": "KeyboardInterrupt",
     "evalue": "",
     "output_type": "error",
     "traceback": [
      "\u001B[1;31m---------------------------------------------------------------------------\u001B[0m",
      "\u001B[1;31mKeyboardInterrupt\u001B[0m                         Traceback (most recent call last)",
      "\u001B[1;32m~\\AppData\\Local\\Temp/ipykernel_26020/899159114.py\u001B[0m in \u001B[0;36m<module>\u001B[1;34m\u001B[0m\n\u001B[0;32m      3\u001B[0m     \u001B[0msamples\u001B[0m \u001B[1;33m=\u001B[0m \u001B[0mX_val\u001B[0m\u001B[1;33m.\u001B[0m\u001B[0mrename\u001B[0m\u001B[1;33m(\u001B[0m\u001B[0mname_to_description\u001B[0m\u001B[1;33m,\u001B[0m \u001B[0maxis\u001B[0m\u001B[1;33m=\u001B[0m\u001B[1;36m1\u001B[0m\u001B[1;33m)\u001B[0m\u001B[1;33m.\u001B[0m\u001B[0msample\u001B[0m\u001B[1;33m(\u001B[0m\u001B[1;36m2\u001B[0m\u001B[1;33m,\u001B[0m \u001B[0mrandom_state\u001B[0m\u001B[1;33m=\u001B[0m\u001B[0mSEED\u001B[0m \u001B[1;33m+\u001B[0m \u001B[0mi\u001B[0m\u001B[1;33m)\u001B[0m\u001B[1;33m\u001B[0m\u001B[1;33m\u001B[0m\u001B[0m\n\u001B[0;32m      4\u001B[0m \u001B[1;33m\u001B[0m\u001B[0m\n\u001B[1;32m----> 5\u001B[1;33m     \u001B[0mcp_xgb_sample0\u001B[0m \u001B[1;33m=\u001B[0m \u001B[0mexplainer_xgb\u001B[0m\u001B[1;33m.\u001B[0m\u001B[0mpredict_profile\u001B[0m\u001B[1;33m(\u001B[0m\u001B[0msamples\u001B[0m\u001B[1;33m.\u001B[0m\u001B[0miloc\u001B[0m\u001B[1;33m[\u001B[0m\u001B[1;36m0\u001B[0m\u001B[1;33m]\u001B[0m\u001B[1;33m)\u001B[0m\u001B[1;33m\u001B[0m\u001B[1;33m\u001B[0m\u001B[0m\n\u001B[0m\u001B[0;32m      6\u001B[0m     \u001B[0mcp_xgb_sample1\u001B[0m \u001B[1;33m=\u001B[0m \u001B[0mexplainer_xgb\u001B[0m\u001B[1;33m.\u001B[0m\u001B[0mpredict_profile\u001B[0m\u001B[1;33m(\u001B[0m\u001B[0msamples\u001B[0m\u001B[1;33m.\u001B[0m\u001B[0miloc\u001B[0m\u001B[1;33m[\u001B[0m\u001B[1;36m1\u001B[0m\u001B[1;33m]\u001B[0m\u001B[1;33m)\u001B[0m\u001B[1;33m\u001B[0m\u001B[1;33m\u001B[0m\u001B[0m\n\u001B[0;32m      7\u001B[0m \u001B[1;33m\u001B[0m\u001B[0m\n",
      "\u001B[1;32m~\\anaconda3\\envs\\xai\\lib\\site-packages\\dalex\\_explainer\\object.py\u001B[0m in \u001B[0;36mpredict_profile\u001B[1;34m(self, new_observation, type, y, variables, grid_points, variable_splits, variable_splits_type, variable_splits_with_obs, processes, label, verbose)\u001B[0m\n\u001B[0;32m    402\u001B[0m             \u001B[1;32mraise\u001B[0m \u001B[0mTypeError\u001B[0m\u001B[1;33m(\u001B[0m\u001B[1;34m\"Wrong type parameter.\"\u001B[0m\u001B[1;33m)\u001B[0m\u001B[1;33m\u001B[0m\u001B[1;33m\u001B[0m\u001B[0m\n\u001B[0;32m    403\u001B[0m \u001B[1;33m\u001B[0m\u001B[0m\n\u001B[1;32m--> 404\u001B[1;33m         \u001B[0m_predict_profile\u001B[0m\u001B[1;33m.\u001B[0m\u001B[0mfit\u001B[0m\u001B[1;33m(\u001B[0m\u001B[0mself\u001B[0m\u001B[1;33m,\u001B[0m \u001B[0mnew_observation\u001B[0m\u001B[1;33m,\u001B[0m \u001B[0my\u001B[0m\u001B[1;33m,\u001B[0m \u001B[0mverbose\u001B[0m\u001B[1;33m)\u001B[0m\u001B[1;33m\u001B[0m\u001B[1;33m\u001B[0m\u001B[0m\n\u001B[0m\u001B[0;32m    405\u001B[0m \u001B[1;33m\u001B[0m\u001B[0m\n\u001B[0;32m    406\u001B[0m         \u001B[1;32mif\u001B[0m \u001B[0mlabel\u001B[0m\u001B[1;33m:\u001B[0m\u001B[1;33m\u001B[0m\u001B[1;33m\u001B[0m\u001B[0m\n",
      "\u001B[1;32m~\\anaconda3\\envs\\xai\\lib\\site-packages\\dalex\\predict_explanations\\_ceteris_paribus\\object.py\u001B[0m in \u001B[0;36mfit\u001B[1;34m(self, explainer, new_observation, y, verbose)\u001B[0m\n\u001B[0;32m    124\u001B[0m         \u001B[0my\u001B[0m \u001B[1;33m=\u001B[0m \u001B[0mchecks\u001B[0m\u001B[1;33m.\u001B[0m\u001B[0mcheck_y\u001B[0m\u001B[1;33m(\u001B[0m\u001B[0my\u001B[0m\u001B[1;33m)\u001B[0m\u001B[1;33m\u001B[0m\u001B[1;33m\u001B[0m\u001B[0m\n\u001B[0;32m    125\u001B[0m \u001B[1;33m\u001B[0m\u001B[0m\n\u001B[1;32m--> 126\u001B[1;33m         self.result, self.new_observation = utils.calculate_ceteris_paribus(\n\u001B[0m\u001B[0;32m    127\u001B[0m             \u001B[0mexplainer\u001B[0m\u001B[1;33m,\u001B[0m\u001B[1;33m\u001B[0m\u001B[1;33m\u001B[0m\u001B[0m\n\u001B[0;32m    128\u001B[0m             \u001B[0mself\u001B[0m\u001B[1;33m.\u001B[0m\u001B[0mnew_observation\u001B[0m\u001B[1;33m,\u001B[0m\u001B[1;33m\u001B[0m\u001B[1;33m\u001B[0m\u001B[0m\n",
      "\u001B[1;32m~\\anaconda3\\envs\\xai\\lib\\site-packages\\dalex\\predict_explanations\\_ceteris_paribus\\utils.py\u001B[0m in \u001B[0;36mcalculate_ceteris_paribus\u001B[1;34m(explainer, new_observation, variable_splits, y, processes, verbose)\u001B[0m\n\u001B[0;32m     21\u001B[0m     \"\"\"\n\u001B[0;32m     22\u001B[0m \u001B[1;33m\u001B[0m\u001B[0m\n\u001B[1;32m---> 23\u001B[1;33m     profiles = calculate_variable_profile(explainer.predict_function,\n\u001B[0m\u001B[0;32m     24\u001B[0m                                           \u001B[0mexplainer\u001B[0m\u001B[1;33m.\u001B[0m\u001B[0mmodel\u001B[0m\u001B[1;33m,\u001B[0m\u001B[1;33m\u001B[0m\u001B[1;33m\u001B[0m\u001B[0m\n\u001B[0;32m     25\u001B[0m                                           \u001B[0mnew_observation\u001B[0m\u001B[1;33m,\u001B[0m\u001B[1;33m\u001B[0m\u001B[1;33m\u001B[0m\u001B[0m\n",
      "\u001B[1;32m~\\anaconda3\\envs\\xai\\lib\\site-packages\\dalex\\predict_explanations\\_ceteris_paribus\\utils.py\u001B[0m in \u001B[0;36mcalculate_variable_profile\u001B[1;34m(predict_function, model, data, variable_splits, processes, verbose)\u001B[0m\n\u001B[0;32m     64\u001B[0m         \u001B[1;32mfor\u001B[0m \u001B[0mvariable\u001B[0m \u001B[1;32min\u001B[0m \u001B[0mtqdm\u001B[0m\u001B[1;33m(\u001B[0m\u001B[0mvariable_splits\u001B[0m\u001B[1;33m,\u001B[0m \u001B[0mdesc\u001B[0m\u001B[1;33m=\u001B[0m\u001B[1;34m\"Calculating ceteris paribus\"\u001B[0m\u001B[1;33m,\u001B[0m \u001B[0mdisable\u001B[0m\u001B[1;33m=\u001B[0m\u001B[1;32mnot\u001B[0m \u001B[0mverbose\u001B[0m\u001B[1;33m)\u001B[0m\u001B[1;33m:\u001B[0m\u001B[1;33m\u001B[0m\u001B[1;33m\u001B[0m\u001B[0m\n\u001B[0;32m     65\u001B[0m             \u001B[0msplit_points\u001B[0m \u001B[1;33m=\u001B[0m \u001B[0mvariable_splits\u001B[0m\u001B[1;33m[\u001B[0m\u001B[0mvariable\u001B[0m\u001B[1;33m]\u001B[0m\u001B[1;33m\u001B[0m\u001B[1;33m\u001B[0m\u001B[0m\n\u001B[1;32m---> 66\u001B[1;33m             \u001B[0mprofile\u001B[0m\u001B[1;33m.\u001B[0m\u001B[0mappend\u001B[0m\u001B[1;33m(\u001B[0m\u001B[0msingle_variable_profile\u001B[0m\u001B[1;33m(\u001B[0m\u001B[0mpredict_function\u001B[0m\u001B[1;33m,\u001B[0m \u001B[0mmodel\u001B[0m\u001B[1;33m,\u001B[0m \u001B[0mdata\u001B[0m\u001B[1;33m,\u001B[0m \u001B[0mvariable\u001B[0m\u001B[1;33m,\u001B[0m \u001B[0msplit_points\u001B[0m\u001B[1;33m)\u001B[0m\u001B[1;33m)\u001B[0m\u001B[1;33m\u001B[0m\u001B[1;33m\u001B[0m\u001B[0m\n\u001B[0m\u001B[0;32m     67\u001B[0m     \u001B[1;32melse\u001B[0m\u001B[1;33m:\u001B[0m\u001B[1;33m\u001B[0m\u001B[1;33m\u001B[0m\u001B[0m\n\u001B[0;32m     68\u001B[0m         \u001B[0mpool\u001B[0m \u001B[1;33m=\u001B[0m \u001B[0mmp\u001B[0m\u001B[1;33m.\u001B[0m\u001B[0mget_context\u001B[0m\u001B[1;33m(\u001B[0m\u001B[1;34m'spawn'\u001B[0m\u001B[1;33m)\u001B[0m\u001B[1;33m.\u001B[0m\u001B[0mPool\u001B[0m\u001B[1;33m(\u001B[0m\u001B[0mprocesses\u001B[0m\u001B[1;33m)\u001B[0m\u001B[1;33m\u001B[0m\u001B[1;33m\u001B[0m\u001B[0m\n",
      "\u001B[1;32m~\\anaconda3\\envs\\xai\\lib\\site-packages\\dalex\\predict_explanations\\_ceteris_paribus\\utils.py\u001B[0m in \u001B[0;36msingle_variable_profile\u001B[1;34m(predict, model, data, variable, split_points)\u001B[0m\n\u001B[0;32m    104\u001B[0m     \u001B[0mnew_data\u001B[0m\u001B[1;33m.\u001B[0m\u001B[0mloc\u001B[0m\u001B[1;33m[\u001B[0m\u001B[1;33m:\u001B[0m\u001B[1;33m,\u001B[0m \u001B[0mvariable\u001B[0m\u001B[1;33m]\u001B[0m \u001B[1;33m=\u001B[0m \u001B[0mnp\u001B[0m\u001B[1;33m.\u001B[0m\u001B[0mtile\u001B[0m\u001B[1;33m(\u001B[0m\u001B[0msplit_points\u001B[0m\u001B[1;33m,\u001B[0m \u001B[0mdata\u001B[0m\u001B[1;33m.\u001B[0m\u001B[0mshape\u001B[0m\u001B[1;33m[\u001B[0m\u001B[1;36m0\u001B[0m\u001B[1;33m]\u001B[0m\u001B[1;33m)\u001B[0m\u001B[1;33m\u001B[0m\u001B[1;33m\u001B[0m\u001B[0m\n\u001B[0;32m    105\u001B[0m \u001B[1;33m\u001B[0m\u001B[0m\n\u001B[1;32m--> 106\u001B[1;33m     \u001B[0myhat\u001B[0m \u001B[1;33m=\u001B[0m \u001B[0mpredict\u001B[0m\u001B[1;33m(\u001B[0m\u001B[0mmodel\u001B[0m\u001B[1;33m,\u001B[0m \u001B[0mnew_data\u001B[0m\u001B[1;33m)\u001B[0m\u001B[1;33m\u001B[0m\u001B[1;33m\u001B[0m\u001B[0m\n\u001B[0m\u001B[0;32m    107\u001B[0m \u001B[1;33m\u001B[0m\u001B[0m\n\u001B[0;32m    108\u001B[0m     \u001B[0mnew_data\u001B[0m\u001B[1;33m.\u001B[0m\u001B[0mloc\u001B[0m\u001B[1;33m[\u001B[0m\u001B[1;33m:\u001B[0m\u001B[1;33m,\u001B[0m \u001B[1;34m'_original_'\u001B[0m\u001B[1;33m]\u001B[0m \u001B[1;33m=\u001B[0m \u001B[0moriginal\u001B[0m\u001B[1;33m\u001B[0m\u001B[1;33m\u001B[0m\u001B[0m\n",
      "\u001B[1;32m~\\AppData\\Local\\Temp/ipykernel_26020/3555825852.py\u001B[0m in \u001B[0;36m<lambda>\u001B[1;34m(model, data)\u001B[0m\n\u001B[1;32m----> 1\u001B[1;33m \u001B[0mpredict\u001B[0m \u001B[1;33m=\u001B[0m \u001B[1;32mlambda\u001B[0m \u001B[0mmodel\u001B[0m\u001B[1;33m,\u001B[0m \u001B[0mdata\u001B[0m\u001B[1;33m:\u001B[0m \u001B[1;36m10\u001B[0m \u001B[1;33m**\u001B[0m \u001B[0mmodel\u001B[0m\u001B[1;33m.\u001B[0m\u001B[0mpredict\u001B[0m\u001B[1;33m(\u001B[0m\u001B[0mdata\u001B[0m\u001B[1;33m)\u001B[0m \u001B[1;33m-\u001B[0m \u001B[1;36m1\u001B[0m\u001B[1;33m\u001B[0m\u001B[1;33m\u001B[0m\u001B[0m\n\u001B[0m",
      "\u001B[1;32m~\\anaconda3\\envs\\xai\\lib\\site-packages\\xgboost\\sklearn.py\u001B[0m in \u001B[0;36mpredict\u001B[1;34m(self, X, output_margin, ntree_limit, validate_features, base_margin, iteration_range)\u001B[0m\n\u001B[0;32m    879\u001B[0m         \u001B[1;32mif\u001B[0m \u001B[0mself\u001B[0m\u001B[1;33m.\u001B[0m\u001B[0m_can_use_inplace_predict\u001B[0m\u001B[1;33m(\u001B[0m\u001B[1;33m)\u001B[0m\u001B[1;33m:\u001B[0m\u001B[1;33m\u001B[0m\u001B[1;33m\u001B[0m\u001B[0m\n\u001B[0;32m    880\u001B[0m             \u001B[1;32mtry\u001B[0m\u001B[1;33m:\u001B[0m\u001B[1;33m\u001B[0m\u001B[1;33m\u001B[0m\u001B[0m\n\u001B[1;32m--> 881\u001B[1;33m                 predts = self.get_booster().inplace_predict(\n\u001B[0m\u001B[0;32m    882\u001B[0m                     \u001B[0mdata\u001B[0m\u001B[1;33m=\u001B[0m\u001B[0mX\u001B[0m\u001B[1;33m,\u001B[0m\u001B[1;33m\u001B[0m\u001B[1;33m\u001B[0m\u001B[0m\n\u001B[0;32m    883\u001B[0m                     \u001B[0miteration_range\u001B[0m\u001B[1;33m=\u001B[0m\u001B[0miteration_range\u001B[0m\u001B[1;33m,\u001B[0m\u001B[1;33m\u001B[0m\u001B[1;33m\u001B[0m\u001B[0m\n",
      "\u001B[1;32m~\\anaconda3\\envs\\xai\\lib\\site-packages\\xgboost\\core.py\u001B[0m in \u001B[0;36minplace_predict\u001B[1;34m(self, data, iteration_range, predict_type, missing, validate_features, base_margin, strict_shape)\u001B[0m\n\u001B[0;32m   2033\u001B[0m             \u001B[0mdata\u001B[0m\u001B[1;33m,\u001B[0m \u001B[0m_\u001B[0m \u001B[1;33m=\u001B[0m \u001B[0m_ensure_np_dtype\u001B[0m\u001B[1;33m(\u001B[0m\u001B[0mdata\u001B[0m\u001B[1;33m,\u001B[0m \u001B[0mdata\u001B[0m\u001B[1;33m.\u001B[0m\u001B[0mdtype\u001B[0m\u001B[1;33m)\u001B[0m\u001B[1;33m\u001B[0m\u001B[1;33m\u001B[0m\u001B[0m\n\u001B[0;32m   2034\u001B[0m             _check_call(\n\u001B[1;32m-> 2035\u001B[1;33m                 _LIB.XGBoosterPredictFromDense(\n\u001B[0m\u001B[0;32m   2036\u001B[0m                     \u001B[0mself\u001B[0m\u001B[1;33m.\u001B[0m\u001B[0mhandle\u001B[0m\u001B[1;33m,\u001B[0m\u001B[1;33m\u001B[0m\u001B[1;33m\u001B[0m\u001B[0m\n\u001B[0;32m   2037\u001B[0m                     \u001B[0m_array_interface\u001B[0m\u001B[1;33m(\u001B[0m\u001B[0mdata\u001B[0m\u001B[1;33m)\u001B[0m\u001B[1;33m,\u001B[0m\u001B[1;33m\u001B[0m\u001B[1;33m\u001B[0m\u001B[0m\n",
      "\u001B[1;31mKeyboardInterrupt\u001B[0m: "
     ]
    }
   ],
   "source": [
    "i = 0\n",
    "while True:\n",
    "    samples = X_val.rename(name_to_description, axis=1).sample(2, random_state=SEED + i)\n",
    "\n",
    "    cp_xgb_sample0 = explainer_xgb.predict_profile(samples.iloc[0])\n",
    "    cp_xgb_sample1 = explainer_xgb.predict_profile(samples.iloc[1])\n",
    "\n",
    "    age_sample0 = cp_xgb_sample0.result[cp_xgb_sample0.result['_vname_'] == 'wiek klienta'][['wiek klienta', '_yhat_']]\n",
    "    age_sample1 = cp_xgb_sample1.result[cp_xgb_sample1.result['_vname_'] == 'wiek klienta'][['wiek klienta', '_yhat_']]\n",
    "\n",
    "    len_sample0 = len(age_sample0['_yhat_'])\n",
    "    len_sample1 = len(age_sample1['_yhat_'])\n",
    "    if len_sample0 < len_sample1:\n",
    "        test = spearmanr(age_sample0['_yhat_'], age_sample1['_yhat_'][:len_sample0])\n",
    "    elif len_sample0 > len_sample1:\n",
    "        test = spearmanr(age_sample0['_yhat_'][:len_sample1], age_sample1['_yhat_'])\n",
    "    else:\n",
    "        test = spearmanr(age_sample0['_yhat_'], age_sample1['_yhat_'])\n",
    "\n",
    "    corr, pvalue = test\n",
    "    print(corr)\n",
    "    if corr < -0.5 and pvalue < 0.05:\n",
    "        break\n",
    "\n",
    "    i += 1\n"
   ],
   "metadata": {
    "collapsed": false,
    "pycharm": {
     "name": "#%%\n"
    }
   }
  },
  {
   "cell_type": "code",
   "execution_count": null,
   "outputs": [],
   "source": [
    "folder_path = pathlib.Path(f'../reports/figures/4')\n",
    "folder_path.mkdir(parents=True, exist_ok=True)\n",
    "\n",
    "for ith, sample_explanation in enumerate([cp_xgb_sample0, cp_xgb_sample1]):\n",
    "    for i in range(len(X_train.columns)):\n",
    "        plot = sample_explanation.plot(facet_ncol=1, variables=X_train.rename(name_to_description, axis=1).columns[i:i+1], show=False)\n",
    "        plot.write_image(file=folder_path / f'{ith}_{int(i)}.png', engine='orca', scale=2.0)"
   ],
   "metadata": {
    "collapsed": false,
    "pycharm": {
     "name": "#%%\n"
    }
   }
  },
  {
   "cell_type": "code",
   "execution_count": 17,
   "outputs": [
    {
     "data": {
      "text/plain": "RandomForestRegressor(max_features=0.2969145621920279, n_estimators=750,\n                      random_state=357)"
     },
     "execution_count": 17,
     "metadata": {},
     "output_type": "execute_result"
    }
   ],
   "source": [
    "rf_best_params = {\"n_estimators\": 750, \"max_features\": 0.2969145621920279}\n",
    "model_rf = ensemble.RandomForestRegressor(**rf_best_params, random_state=SEED)\n",
    "model_rf.fit(X_train, np.log10(y_train + 1))"
   ],
   "metadata": {
    "collapsed": false,
    "pycharm": {
     "name": "#%%\n"
    }
   }
  },
  {
   "cell_type": "code",
   "execution_count": 18,
   "outputs": [
    {
     "name": "stdout",
     "output_type": "stream",
     "text": [
      "Preparation of a new explainer is initiated\n",
      "\n",
      "  -> data              : 6000 rows 43 cols\n",
      "  -> target variable   : Parameter 'y' was a pandas.Series. Converted to a numpy.ndarray.\n",
      "  -> target variable   : 6000 values\n",
      "  -> model_class       : sklearn.ensemble._forest.RandomForestRegressor (default)\n",
      "  -> label             : RandomForest\n",
      "  -> predict function  : <function <lambda> at 0x000002AD80BAC820> will be used\n",
      "  -> predict function  : Accepts pandas.DataFrame and numpy.ndarray.\n"
     ]
    },
    {
     "name": "stderr",
     "output_type": "stream",
     "text": [
      "C:\\Users\\alan\\anaconda3\\envs\\xai\\lib\\site-packages\\sklearn\\base.py:450: UserWarning:\n",
      "\n",
      "X does not have valid feature names, but RandomForestRegressor was fitted with feature names\n",
      "\n",
      "C:\\Users\\alan\\anaconda3\\envs\\xai\\lib\\site-packages\\sklearn\\base.py:493: FutureWarning:\n",
      "\n",
      "The feature names should match those that were passed during fit. Starting version 1.2, an error will be raised.\n",
      "Feature names unseen at fit time:\n",
      "- Sumaryczna kwota transakcji w bankomatach w 6 ostatnich miesiącach\n",
      "- Sumaryczna kwota wpływów klienta w w 6 ostatnich miesiącach\n",
      "- Sumaryczna kwota wpływów klienta z tytułu emerytury w w 6 ostatnich miesiącach\n",
      "- Sumaryczna kwota wpływów klienta z tytułu programu 500 plus w w 6 ostatnich miesiącach\n",
      "- Sumaryczna kwota wpływów klienta z tytułu stypendium w w 6 ostatnich miesiącach\n",
      "- ...\n",
      "Feature names seen at fit time, yet now missing:\n",
      "- X1\n",
      "- X102\n",
      "- X109\n",
      "- X11\n",
      "- X116\n",
      "- ...\n",
      "\n",
      "\n"
     ]
    },
    {
     "name": "stdout",
     "output_type": "stream",
     "text": [
      "  -> predicted values  : min = 3.37e+02, mean = 8.16e+03, max = 1.22e+05\n",
      "  -> model type        : regression will be used (default)\n",
      "  -> residual function : difference between y and yhat (default)\n"
     ]
    },
    {
     "name": "stderr",
     "output_type": "stream",
     "text": [
      "C:\\Users\\alan\\anaconda3\\envs\\xai\\lib\\site-packages\\sklearn\\base.py:493: FutureWarning:\n",
      "\n",
      "The feature names should match those that were passed during fit. Starting version 1.2, an error will be raised.\n",
      "Feature names unseen at fit time:\n",
      "- Sumaryczna kwota transakcji w bankomatach w 6 ostatnich miesiącach\n",
      "- Sumaryczna kwota wpływów klienta w w 6 ostatnich miesiącach\n",
      "- Sumaryczna kwota wpływów klienta z tytułu emerytury w w 6 ostatnich miesiącach\n",
      "- Sumaryczna kwota wpływów klienta z tytułu programu 500 plus w w 6 ostatnich miesiącach\n",
      "- Sumaryczna kwota wpływów klienta z tytułu stypendium w w 6 ostatnich miesiącach\n",
      "- ...\n",
      "Feature names seen at fit time, yet now missing:\n",
      "- X1\n",
      "- X102\n",
      "- X109\n",
      "- X11\n",
      "- X116\n",
      "- ...\n",
      "\n",
      "\n"
     ]
    },
    {
     "name": "stdout",
     "output_type": "stream",
     "text": [
      "  -> residuals         : min = -7.15e+03, mean = 1.01e+03, max = 1.87e+05\n",
      "  -> model_info        : package sklearn\n",
      "\n",
      "A new explainer has been created!\n"
     ]
    }
   ],
   "source": [
    "explainer_rf = dx.Explainer(model_rf, X_train.rename(name_to_description, axis=1), y_train, predict_function=predict, label='RandomForest')"
   ],
   "metadata": {
    "collapsed": false,
    "pycharm": {
     "name": "#%%\n"
    }
   }
  },
  {
   "cell_type": "code",
   "execution_count": 31,
   "outputs": [
    {
     "name": "stderr",
     "output_type": "stream",
     "text": [
      "Calculating ceteris paribus: 100%|██████████| 43/43 [00:00<00:00, 182.19it/s]\n",
      "Calculating ceteris paribus:   0%|          | 0/43 [00:00<?, ?it/s]C:\\Users\\alan\\anaconda3\\envs\\xai\\lib\\site-packages\\sklearn\\base.py:493: FutureWarning:\n",
      "\n",
      "The feature names should match those that were passed during fit. Starting version 1.2, an error will be raised.\n",
      "Feature names unseen at fit time:\n",
      "- Sumaryczna kwota transakcji w bankomatach w 6 ostatnich miesiącach\n",
      "- Sumaryczna kwota wpływów klienta w w 6 ostatnich miesiącach\n",
      "- Sumaryczna kwota wpływów klienta z tytułu emerytury w w 6 ostatnich miesiącach\n",
      "- Sumaryczna kwota wpływów klienta z tytułu programu 500 plus w w 6 ostatnich miesiącach\n",
      "- Sumaryczna kwota wpływów klienta z tytułu stypendium w w 6 ostatnich miesiącach\n",
      "- ...\n",
      "Feature names seen at fit time, yet now missing:\n",
      "- X1\n",
      "- X102\n",
      "- X109\n",
      "- X11\n",
      "- X116\n",
      "- ...\n",
      "\n",
      "\n",
      "C:\\Users\\alan\\anaconda3\\envs\\xai\\lib\\site-packages\\sklearn\\base.py:493: FutureWarning:\n",
      "\n",
      "The feature names should match those that were passed during fit. Starting version 1.2, an error will be raised.\n",
      "Feature names unseen at fit time:\n",
      "- Sumaryczna kwota transakcji w bankomatach w 6 ostatnich miesiącach\n",
      "- Sumaryczna kwota wpływów klienta w w 6 ostatnich miesiącach\n",
      "- Sumaryczna kwota wpływów klienta z tytułu emerytury w w 6 ostatnich miesiącach\n",
      "- Sumaryczna kwota wpływów klienta z tytułu programu 500 plus w w 6 ostatnich miesiącach\n",
      "- Sumaryczna kwota wpływów klienta z tytułu stypendium w w 6 ostatnich miesiącach\n",
      "- ...\n",
      "Feature names seen at fit time, yet now missing:\n",
      "- X1\n",
      "- X102\n",
      "- X109\n",
      "- X11\n",
      "- X116\n",
      "- ...\n",
      "\n",
      "\n",
      "Calculating ceteris paribus:   5%|▍         | 2/43 [00:00<00:02, 17.54it/s]C:\\Users\\alan\\anaconda3\\envs\\xai\\lib\\site-packages\\sklearn\\base.py:493: FutureWarning:\n",
      "\n",
      "The feature names should match those that were passed during fit. Starting version 1.2, an error will be raised.\n",
      "Feature names unseen at fit time:\n",
      "- Sumaryczna kwota transakcji w bankomatach w 6 ostatnich miesiącach\n",
      "- Sumaryczna kwota wpływów klienta w w 6 ostatnich miesiącach\n",
      "- Sumaryczna kwota wpływów klienta z tytułu emerytury w w 6 ostatnich miesiącach\n",
      "- Sumaryczna kwota wpływów klienta z tytułu programu 500 plus w w 6 ostatnich miesiącach\n",
      "- Sumaryczna kwota wpływów klienta z tytułu stypendium w w 6 ostatnich miesiącach\n",
      "- ...\n",
      "Feature names seen at fit time, yet now missing:\n",
      "- X1\n",
      "- X102\n",
      "- X109\n",
      "- X11\n",
      "- X116\n",
      "- ...\n",
      "\n",
      "\n",
      "C:\\Users\\alan\\anaconda3\\envs\\xai\\lib\\site-packages\\sklearn\\base.py:493: FutureWarning:\n",
      "\n",
      "The feature names should match those that were passed during fit. Starting version 1.2, an error will be raised.\n",
      "Feature names unseen at fit time:\n",
      "- Sumaryczna kwota transakcji w bankomatach w 6 ostatnich miesiącach\n",
      "- Sumaryczna kwota wpływów klienta w w 6 ostatnich miesiącach\n",
      "- Sumaryczna kwota wpływów klienta z tytułu emerytury w w 6 ostatnich miesiącach\n",
      "- Sumaryczna kwota wpływów klienta z tytułu programu 500 plus w w 6 ostatnich miesiącach\n",
      "- Sumaryczna kwota wpływów klienta z tytułu stypendium w w 6 ostatnich miesiącach\n",
      "- ...\n",
      "Feature names seen at fit time, yet now missing:\n",
      "- X1\n",
      "- X102\n",
      "- X109\n",
      "- X11\n",
      "- X116\n",
      "- ...\n",
      "\n",
      "\n",
      "C:\\Users\\alan\\anaconda3\\envs\\xai\\lib\\site-packages\\sklearn\\base.py:493: FutureWarning:\n",
      "\n",
      "The feature names should match those that were passed during fit. Starting version 1.2, an error will be raised.\n",
      "Feature names unseen at fit time:\n",
      "- Sumaryczna kwota transakcji w bankomatach w 6 ostatnich miesiącach\n",
      "- Sumaryczna kwota wpływów klienta w w 6 ostatnich miesiącach\n",
      "- Sumaryczna kwota wpływów klienta z tytułu emerytury w w 6 ostatnich miesiącach\n",
      "- Sumaryczna kwota wpływów klienta z tytułu programu 500 plus w w 6 ostatnich miesiącach\n",
      "- Sumaryczna kwota wpływów klienta z tytułu stypendium w w 6 ostatnich miesiącach\n",
      "- ...\n",
      "Feature names seen at fit time, yet now missing:\n",
      "- X1\n",
      "- X102\n",
      "- X109\n",
      "- X11\n",
      "- X116\n",
      "- ...\n",
      "\n",
      "\n",
      "Calculating ceteris paribus:  12%|█▏        | 5/43 [00:00<00:01, 23.30it/s]C:\\Users\\alan\\anaconda3\\envs\\xai\\lib\\site-packages\\sklearn\\base.py:493: FutureWarning:\n",
      "\n",
      "The feature names should match those that were passed during fit. Starting version 1.2, an error will be raised.\n",
      "Feature names unseen at fit time:\n",
      "- Sumaryczna kwota transakcji w bankomatach w 6 ostatnich miesiącach\n",
      "- Sumaryczna kwota wpływów klienta w w 6 ostatnich miesiącach\n",
      "- Sumaryczna kwota wpływów klienta z tytułu emerytury w w 6 ostatnich miesiącach\n",
      "- Sumaryczna kwota wpływów klienta z tytułu programu 500 plus w w 6 ostatnich miesiącach\n",
      "- Sumaryczna kwota wpływów klienta z tytułu stypendium w w 6 ostatnich miesiącach\n",
      "- ...\n",
      "Feature names seen at fit time, yet now missing:\n",
      "- X1\n",
      "- X102\n",
      "- X109\n",
      "- X11\n",
      "- X116\n",
      "- ...\n",
      "\n",
      "\n",
      "C:\\Users\\alan\\anaconda3\\envs\\xai\\lib\\site-packages\\sklearn\\base.py:493: FutureWarning:\n",
      "\n",
      "The feature names should match those that were passed during fit. Starting version 1.2, an error will be raised.\n",
      "Feature names unseen at fit time:\n",
      "- Sumaryczna kwota transakcji w bankomatach w 6 ostatnich miesiącach\n",
      "- Sumaryczna kwota wpływów klienta w w 6 ostatnich miesiącach\n",
      "- Sumaryczna kwota wpływów klienta z tytułu emerytury w w 6 ostatnich miesiącach\n",
      "- Sumaryczna kwota wpływów klienta z tytułu programu 500 plus w w 6 ostatnich miesiącach\n",
      "- Sumaryczna kwota wpływów klienta z tytułu stypendium w w 6 ostatnich miesiącach\n",
      "- ...\n",
      "Feature names seen at fit time, yet now missing:\n",
      "- X1\n",
      "- X102\n",
      "- X109\n",
      "- X11\n",
      "- X116\n",
      "- ...\n",
      "\n",
      "\n",
      "C:\\Users\\alan\\anaconda3\\envs\\xai\\lib\\site-packages\\sklearn\\base.py:493: FutureWarning:\n",
      "\n",
      "The feature names should match those that were passed during fit. Starting version 1.2, an error will be raised.\n",
      "Feature names unseen at fit time:\n",
      "- Sumaryczna kwota transakcji w bankomatach w 6 ostatnich miesiącach\n",
      "- Sumaryczna kwota wpływów klienta w w 6 ostatnich miesiącach\n",
      "- Sumaryczna kwota wpływów klienta z tytułu emerytury w w 6 ostatnich miesiącach\n",
      "- Sumaryczna kwota wpływów klienta z tytułu programu 500 plus w w 6 ostatnich miesiącach\n",
      "- Sumaryczna kwota wpływów klienta z tytułu stypendium w w 6 ostatnich miesiącach\n",
      "- ...\n",
      "Feature names seen at fit time, yet now missing:\n",
      "- X1\n",
      "- X102\n",
      "- X109\n",
      "- X11\n",
      "- X116\n",
      "- ...\n",
      "\n",
      "\n",
      "Calculating ceteris paribus:  19%|█▊        | 8/43 [00:00<00:01, 24.79it/s]C:\\Users\\alan\\anaconda3\\envs\\xai\\lib\\site-packages\\sklearn\\base.py:493: FutureWarning:\n",
      "\n",
      "The feature names should match those that were passed during fit. Starting version 1.2, an error will be raised.\n",
      "Feature names unseen at fit time:\n",
      "- Sumaryczna kwota transakcji w bankomatach w 6 ostatnich miesiącach\n",
      "- Sumaryczna kwota wpływów klienta w w 6 ostatnich miesiącach\n",
      "- Sumaryczna kwota wpływów klienta z tytułu emerytury w w 6 ostatnich miesiącach\n",
      "- Sumaryczna kwota wpływów klienta z tytułu programu 500 plus w w 6 ostatnich miesiącach\n",
      "- Sumaryczna kwota wpływów klienta z tytułu stypendium w w 6 ostatnich miesiącach\n",
      "- ...\n",
      "Feature names seen at fit time, yet now missing:\n",
      "- X1\n",
      "- X102\n",
      "- X109\n",
      "- X11\n",
      "- X116\n",
      "- ...\n",
      "\n",
      "\n",
      "C:\\Users\\alan\\anaconda3\\envs\\xai\\lib\\site-packages\\sklearn\\base.py:493: FutureWarning:\n",
      "\n",
      "The feature names should match those that were passed during fit. Starting version 1.2, an error will be raised.\n",
      "Feature names unseen at fit time:\n",
      "- Sumaryczna kwota transakcji w bankomatach w 6 ostatnich miesiącach\n",
      "- Sumaryczna kwota wpływów klienta w w 6 ostatnich miesiącach\n",
      "- Sumaryczna kwota wpływów klienta z tytułu emerytury w w 6 ostatnich miesiącach\n",
      "- Sumaryczna kwota wpływów klienta z tytułu programu 500 plus w w 6 ostatnich miesiącach\n",
      "- Sumaryczna kwota wpływów klienta z tytułu stypendium w w 6 ostatnich miesiącach\n",
      "- ...\n",
      "Feature names seen at fit time, yet now missing:\n",
      "- X1\n",
      "- X102\n",
      "- X109\n",
      "- X11\n",
      "- X116\n",
      "- ...\n",
      "\n",
      "\n",
      "C:\\Users\\alan\\anaconda3\\envs\\xai\\lib\\site-packages\\sklearn\\base.py:493: FutureWarning:\n",
      "\n",
      "The feature names should match those that were passed during fit. Starting version 1.2, an error will be raised.\n",
      "Feature names unseen at fit time:\n",
      "- Sumaryczna kwota transakcji w bankomatach w 6 ostatnich miesiącach\n",
      "- Sumaryczna kwota wpływów klienta w w 6 ostatnich miesiącach\n",
      "- Sumaryczna kwota wpływów klienta z tytułu emerytury w w 6 ostatnich miesiącach\n",
      "- Sumaryczna kwota wpływów klienta z tytułu programu 500 plus w w 6 ostatnich miesiącach\n",
      "- Sumaryczna kwota wpływów klienta z tytułu stypendium w w 6 ostatnich miesiącach\n",
      "- ...\n",
      "Feature names seen at fit time, yet now missing:\n",
      "- X1\n",
      "- X102\n",
      "- X109\n",
      "- X11\n",
      "- X116\n",
      "- ...\n",
      "\n",
      "\n",
      "Calculating ceteris paribus:  26%|██▌       | 11/43 [00:00<00:01, 25.77it/s]C:\\Users\\alan\\anaconda3\\envs\\xai\\lib\\site-packages\\sklearn\\base.py:493: FutureWarning:\n",
      "\n",
      "The feature names should match those that were passed during fit. Starting version 1.2, an error will be raised.\n",
      "Feature names unseen at fit time:\n",
      "- Sumaryczna kwota transakcji w bankomatach w 6 ostatnich miesiącach\n",
      "- Sumaryczna kwota wpływów klienta w w 6 ostatnich miesiącach\n",
      "- Sumaryczna kwota wpływów klienta z tytułu emerytury w w 6 ostatnich miesiącach\n",
      "- Sumaryczna kwota wpływów klienta z tytułu programu 500 plus w w 6 ostatnich miesiącach\n",
      "- Sumaryczna kwota wpływów klienta z tytułu stypendium w w 6 ostatnich miesiącach\n",
      "- ...\n",
      "Feature names seen at fit time, yet now missing:\n",
      "- X1\n",
      "- X102\n",
      "- X109\n",
      "- X11\n",
      "- X116\n",
      "- ...\n",
      "\n",
      "\n",
      "C:\\Users\\alan\\anaconda3\\envs\\xai\\lib\\site-packages\\sklearn\\base.py:493: FutureWarning:\n",
      "\n",
      "The feature names should match those that were passed during fit. Starting version 1.2, an error will be raised.\n",
      "Feature names unseen at fit time:\n",
      "- Sumaryczna kwota transakcji w bankomatach w 6 ostatnich miesiącach\n",
      "- Sumaryczna kwota wpływów klienta w w 6 ostatnich miesiącach\n",
      "- Sumaryczna kwota wpływów klienta z tytułu emerytury w w 6 ostatnich miesiącach\n",
      "- Sumaryczna kwota wpływów klienta z tytułu programu 500 plus w w 6 ostatnich miesiącach\n",
      "- Sumaryczna kwota wpływów klienta z tytułu stypendium w w 6 ostatnich miesiącach\n",
      "- ...\n",
      "Feature names seen at fit time, yet now missing:\n",
      "- X1\n",
      "- X102\n",
      "- X109\n",
      "- X11\n",
      "- X116\n",
      "- ...\n",
      "\n",
      "\n",
      "C:\\Users\\alan\\anaconda3\\envs\\xai\\lib\\site-packages\\sklearn\\base.py:493: FutureWarning:\n",
      "\n",
      "The feature names should match those that were passed during fit. Starting version 1.2, an error will be raised.\n",
      "Feature names unseen at fit time:\n",
      "- Sumaryczna kwota transakcji w bankomatach w 6 ostatnich miesiącach\n",
      "- Sumaryczna kwota wpływów klienta w w 6 ostatnich miesiącach\n",
      "- Sumaryczna kwota wpływów klienta z tytułu emerytury w w 6 ostatnich miesiącach\n",
      "- Sumaryczna kwota wpływów klienta z tytułu programu 500 plus w w 6 ostatnich miesiącach\n",
      "- Sumaryczna kwota wpływów klienta z tytułu stypendium w w 6 ostatnich miesiącach\n",
      "- ...\n",
      "Feature names seen at fit time, yet now missing:\n",
      "- X1\n",
      "- X102\n",
      "- X109\n",
      "- X11\n",
      "- X116\n",
      "- ...\n",
      "\n",
      "\n",
      "Calculating ceteris paribus:  33%|███▎      | 14/43 [00:00<00:01, 26.05it/s]C:\\Users\\alan\\anaconda3\\envs\\xai\\lib\\site-packages\\sklearn\\base.py:493: FutureWarning:\n",
      "\n",
      "The feature names should match those that were passed during fit. Starting version 1.2, an error will be raised.\n",
      "Feature names unseen at fit time:\n",
      "- Sumaryczna kwota transakcji w bankomatach w 6 ostatnich miesiącach\n",
      "- Sumaryczna kwota wpływów klienta w w 6 ostatnich miesiącach\n",
      "- Sumaryczna kwota wpływów klienta z tytułu emerytury w w 6 ostatnich miesiącach\n",
      "- Sumaryczna kwota wpływów klienta z tytułu programu 500 plus w w 6 ostatnich miesiącach\n",
      "- Sumaryczna kwota wpływów klienta z tytułu stypendium w w 6 ostatnich miesiącach\n",
      "- ...\n",
      "Feature names seen at fit time, yet now missing:\n",
      "- X1\n",
      "- X102\n",
      "- X109\n",
      "- X11\n",
      "- X116\n",
      "- ...\n",
      "\n",
      "\n",
      "C:\\Users\\alan\\anaconda3\\envs\\xai\\lib\\site-packages\\sklearn\\base.py:493: FutureWarning:\n",
      "\n",
      "The feature names should match those that were passed during fit. Starting version 1.2, an error will be raised.\n",
      "Feature names unseen at fit time:\n",
      "- Sumaryczna kwota transakcji w bankomatach w 6 ostatnich miesiącach\n",
      "- Sumaryczna kwota wpływów klienta w w 6 ostatnich miesiącach\n",
      "- Sumaryczna kwota wpływów klienta z tytułu emerytury w w 6 ostatnich miesiącach\n",
      "- Sumaryczna kwota wpływów klienta z tytułu programu 500 plus w w 6 ostatnich miesiącach\n",
      "- Sumaryczna kwota wpływów klienta z tytułu stypendium w w 6 ostatnich miesiącach\n",
      "- ...\n",
      "Feature names seen at fit time, yet now missing:\n",
      "- X1\n",
      "- X102\n",
      "- X109\n",
      "- X11\n",
      "- X116\n",
      "- ...\n",
      "\n",
      "\n",
      "C:\\Users\\alan\\anaconda3\\envs\\xai\\lib\\site-packages\\sklearn\\base.py:493: FutureWarning:\n",
      "\n",
      "The feature names should match those that were passed during fit. Starting version 1.2, an error will be raised.\n",
      "Feature names unseen at fit time:\n",
      "- Sumaryczna kwota transakcji w bankomatach w 6 ostatnich miesiącach\n",
      "- Sumaryczna kwota wpływów klienta w w 6 ostatnich miesiącach\n",
      "- Sumaryczna kwota wpływów klienta z tytułu emerytury w w 6 ostatnich miesiącach\n",
      "- Sumaryczna kwota wpływów klienta z tytułu programu 500 plus w w 6 ostatnich miesiącach\n",
      "- Sumaryczna kwota wpływów klienta z tytułu stypendium w w 6 ostatnich miesiącach\n",
      "- ...\n",
      "Feature names seen at fit time, yet now missing:\n",
      "- X1\n",
      "- X102\n",
      "- X109\n",
      "- X11\n",
      "- X116\n",
      "- ...\n",
      "\n",
      "\n",
      "Calculating ceteris paribus:  40%|███▉      | 17/43 [00:00<00:00, 26.34it/s]C:\\Users\\alan\\anaconda3\\envs\\xai\\lib\\site-packages\\sklearn\\base.py:493: FutureWarning:\n",
      "\n",
      "The feature names should match those that were passed during fit. Starting version 1.2, an error will be raised.\n",
      "Feature names unseen at fit time:\n",
      "- Sumaryczna kwota transakcji w bankomatach w 6 ostatnich miesiącach\n",
      "- Sumaryczna kwota wpływów klienta w w 6 ostatnich miesiącach\n",
      "- Sumaryczna kwota wpływów klienta z tytułu emerytury w w 6 ostatnich miesiącach\n",
      "- Sumaryczna kwota wpływów klienta z tytułu programu 500 plus w w 6 ostatnich miesiącach\n",
      "- Sumaryczna kwota wpływów klienta z tytułu stypendium w w 6 ostatnich miesiącach\n",
      "- ...\n",
      "Feature names seen at fit time, yet now missing:\n",
      "- X1\n",
      "- X102\n",
      "- X109\n",
      "- X11\n",
      "- X116\n",
      "- ...\n",
      "\n",
      "\n",
      "C:\\Users\\alan\\anaconda3\\envs\\xai\\lib\\site-packages\\sklearn\\base.py:493: FutureWarning:\n",
      "\n",
      "The feature names should match those that were passed during fit. Starting version 1.2, an error will be raised.\n",
      "Feature names unseen at fit time:\n",
      "- Sumaryczna kwota transakcji w bankomatach w 6 ostatnich miesiącach\n",
      "- Sumaryczna kwota wpływów klienta w w 6 ostatnich miesiącach\n",
      "- Sumaryczna kwota wpływów klienta z tytułu emerytury w w 6 ostatnich miesiącach\n",
      "- Sumaryczna kwota wpływów klienta z tytułu programu 500 plus w w 6 ostatnich miesiącach\n",
      "- Sumaryczna kwota wpływów klienta z tytułu stypendium w w 6 ostatnich miesiącach\n",
      "- ...\n",
      "Feature names seen at fit time, yet now missing:\n",
      "- X1\n",
      "- X102\n",
      "- X109\n",
      "- X11\n",
      "- X116\n",
      "- ...\n",
      "\n",
      "\n",
      "C:\\Users\\alan\\anaconda3\\envs\\xai\\lib\\site-packages\\sklearn\\base.py:493: FutureWarning:\n",
      "\n",
      "The feature names should match those that were passed during fit. Starting version 1.2, an error will be raised.\n",
      "Feature names unseen at fit time:\n",
      "- Sumaryczna kwota transakcji w bankomatach w 6 ostatnich miesiącach\n",
      "- Sumaryczna kwota wpływów klienta w w 6 ostatnich miesiącach\n",
      "- Sumaryczna kwota wpływów klienta z tytułu emerytury w w 6 ostatnich miesiącach\n",
      "- Sumaryczna kwota wpływów klienta z tytułu programu 500 plus w w 6 ostatnich miesiącach\n",
      "- Sumaryczna kwota wpływów klienta z tytułu stypendium w w 6 ostatnich miesiącach\n",
      "- ...\n",
      "Feature names seen at fit time, yet now missing:\n",
      "- X1\n",
      "- X102\n",
      "- X109\n",
      "- X11\n",
      "- X116\n",
      "- ...\n",
      "\n",
      "\n",
      "Calculating ceteris paribus:  47%|████▋     | 20/43 [00:00<00:00, 26.37it/s]C:\\Users\\alan\\anaconda3\\envs\\xai\\lib\\site-packages\\sklearn\\base.py:493: FutureWarning:\n",
      "\n",
      "The feature names should match those that were passed during fit. Starting version 1.2, an error will be raised.\n",
      "Feature names unseen at fit time:\n",
      "- Sumaryczna kwota transakcji w bankomatach w 6 ostatnich miesiącach\n",
      "- Sumaryczna kwota wpływów klienta w w 6 ostatnich miesiącach\n",
      "- Sumaryczna kwota wpływów klienta z tytułu emerytury w w 6 ostatnich miesiącach\n",
      "- Sumaryczna kwota wpływów klienta z tytułu programu 500 plus w w 6 ostatnich miesiącach\n",
      "- Sumaryczna kwota wpływów klienta z tytułu stypendium w w 6 ostatnich miesiącach\n",
      "- ...\n",
      "Feature names seen at fit time, yet now missing:\n",
      "- X1\n",
      "- X102\n",
      "- X109\n",
      "- X11\n",
      "- X116\n",
      "- ...\n",
      "\n",
      "\n",
      "C:\\Users\\alan\\anaconda3\\envs\\xai\\lib\\site-packages\\sklearn\\base.py:493: FutureWarning:\n",
      "\n",
      "The feature names should match those that were passed during fit. Starting version 1.2, an error will be raised.\n",
      "Feature names unseen at fit time:\n",
      "- Sumaryczna kwota transakcji w bankomatach w 6 ostatnich miesiącach\n",
      "- Sumaryczna kwota wpływów klienta w w 6 ostatnich miesiącach\n",
      "- Sumaryczna kwota wpływów klienta z tytułu emerytury w w 6 ostatnich miesiącach\n",
      "- Sumaryczna kwota wpływów klienta z tytułu programu 500 plus w w 6 ostatnich miesiącach\n",
      "- Sumaryczna kwota wpływów klienta z tytułu stypendium w w 6 ostatnich miesiącach\n",
      "- ...\n",
      "Feature names seen at fit time, yet now missing:\n",
      "- X1\n",
      "- X102\n",
      "- X109\n",
      "- X11\n",
      "- X116\n",
      "- ...\n",
      "\n",
      "\n",
      "C:\\Users\\alan\\anaconda3\\envs\\xai\\lib\\site-packages\\sklearn\\base.py:493: FutureWarning:\n",
      "\n",
      "The feature names should match those that were passed during fit. Starting version 1.2, an error will be raised.\n",
      "Feature names unseen at fit time:\n",
      "- Sumaryczna kwota transakcji w bankomatach w 6 ostatnich miesiącach\n",
      "- Sumaryczna kwota wpływów klienta w w 6 ostatnich miesiącach\n",
      "- Sumaryczna kwota wpływów klienta z tytułu emerytury w w 6 ostatnich miesiącach\n",
      "- Sumaryczna kwota wpływów klienta z tytułu programu 500 plus w w 6 ostatnich miesiącach\n",
      "- Sumaryczna kwota wpływów klienta z tytułu stypendium w w 6 ostatnich miesiącach\n",
      "- ...\n",
      "Feature names seen at fit time, yet now missing:\n",
      "- X1\n",
      "- X102\n",
      "- X109\n",
      "- X11\n",
      "- X116\n",
      "- ...\n",
      "\n",
      "\n",
      "Calculating ceteris paribus:  53%|█████▎    | 23/43 [00:00<00:00, 26.31it/s]C:\\Users\\alan\\anaconda3\\envs\\xai\\lib\\site-packages\\sklearn\\base.py:493: FutureWarning:\n",
      "\n",
      "The feature names should match those that were passed during fit. Starting version 1.2, an error will be raised.\n",
      "Feature names unseen at fit time:\n",
      "- Sumaryczna kwota transakcji w bankomatach w 6 ostatnich miesiącach\n",
      "- Sumaryczna kwota wpływów klienta w w 6 ostatnich miesiącach\n",
      "- Sumaryczna kwota wpływów klienta z tytułu emerytury w w 6 ostatnich miesiącach\n",
      "- Sumaryczna kwota wpływów klienta z tytułu programu 500 plus w w 6 ostatnich miesiącach\n",
      "- Sumaryczna kwota wpływów klienta z tytułu stypendium w w 6 ostatnich miesiącach\n",
      "- ...\n",
      "Feature names seen at fit time, yet now missing:\n",
      "- X1\n",
      "- X102\n",
      "- X109\n",
      "- X11\n",
      "- X116\n",
      "- ...\n",
      "\n",
      "\n",
      "C:\\Users\\alan\\anaconda3\\envs\\xai\\lib\\site-packages\\sklearn\\base.py:493: FutureWarning:\n",
      "\n",
      "The feature names should match those that were passed during fit. Starting version 1.2, an error will be raised.\n",
      "Feature names unseen at fit time:\n",
      "- Sumaryczna kwota transakcji w bankomatach w 6 ostatnich miesiącach\n",
      "- Sumaryczna kwota wpływów klienta w w 6 ostatnich miesiącach\n",
      "- Sumaryczna kwota wpływów klienta z tytułu emerytury w w 6 ostatnich miesiącach\n",
      "- Sumaryczna kwota wpływów klienta z tytułu programu 500 plus w w 6 ostatnich miesiącach\n",
      "- Sumaryczna kwota wpływów klienta z tytułu stypendium w w 6 ostatnich miesiącach\n",
      "- ...\n",
      "Feature names seen at fit time, yet now missing:\n",
      "- X1\n",
      "- X102\n",
      "- X109\n",
      "- X11\n",
      "- X116\n",
      "- ...\n",
      "\n",
      "\n",
      "C:\\Users\\alan\\anaconda3\\envs\\xai\\lib\\site-packages\\sklearn\\base.py:493: FutureWarning:\n",
      "\n",
      "The feature names should match those that were passed during fit. Starting version 1.2, an error will be raised.\n",
      "Feature names unseen at fit time:\n",
      "- Sumaryczna kwota transakcji w bankomatach w 6 ostatnich miesiącach\n",
      "- Sumaryczna kwota wpływów klienta w w 6 ostatnich miesiącach\n",
      "- Sumaryczna kwota wpływów klienta z tytułu emerytury w w 6 ostatnich miesiącach\n",
      "- Sumaryczna kwota wpływów klienta z tytułu programu 500 plus w w 6 ostatnich miesiącach\n",
      "- Sumaryczna kwota wpływów klienta z tytułu stypendium w w 6 ostatnich miesiącach\n",
      "- ...\n",
      "Feature names seen at fit time, yet now missing:\n",
      "- X1\n",
      "- X102\n",
      "- X109\n",
      "- X11\n",
      "- X116\n",
      "- ...\n",
      "\n",
      "\n",
      "Calculating ceteris paribus:  60%|██████    | 26/43 [00:01<00:00, 26.60it/s]C:\\Users\\alan\\anaconda3\\envs\\xai\\lib\\site-packages\\sklearn\\base.py:493: FutureWarning:\n",
      "\n",
      "The feature names should match those that were passed during fit. Starting version 1.2, an error will be raised.\n",
      "Feature names unseen at fit time:\n",
      "- Sumaryczna kwota transakcji w bankomatach w 6 ostatnich miesiącach\n",
      "- Sumaryczna kwota wpływów klienta w w 6 ostatnich miesiącach\n",
      "- Sumaryczna kwota wpływów klienta z tytułu emerytury w w 6 ostatnich miesiącach\n",
      "- Sumaryczna kwota wpływów klienta z tytułu programu 500 plus w w 6 ostatnich miesiącach\n",
      "- Sumaryczna kwota wpływów klienta z tytułu stypendium w w 6 ostatnich miesiącach\n",
      "- ...\n",
      "Feature names seen at fit time, yet now missing:\n",
      "- X1\n",
      "- X102\n",
      "- X109\n",
      "- X11\n",
      "- X116\n",
      "- ...\n",
      "\n",
      "\n",
      "C:\\Users\\alan\\anaconda3\\envs\\xai\\lib\\site-packages\\sklearn\\base.py:493: FutureWarning:\n",
      "\n",
      "The feature names should match those that were passed during fit. Starting version 1.2, an error will be raised.\n",
      "Feature names unseen at fit time:\n",
      "- Sumaryczna kwota transakcji w bankomatach w 6 ostatnich miesiącach\n",
      "- Sumaryczna kwota wpływów klienta w w 6 ostatnich miesiącach\n",
      "- Sumaryczna kwota wpływów klienta z tytułu emerytury w w 6 ostatnich miesiącach\n",
      "- Sumaryczna kwota wpływów klienta z tytułu programu 500 plus w w 6 ostatnich miesiącach\n",
      "- Sumaryczna kwota wpływów klienta z tytułu stypendium w w 6 ostatnich miesiącach\n",
      "- ...\n",
      "Feature names seen at fit time, yet now missing:\n",
      "- X1\n",
      "- X102\n",
      "- X109\n",
      "- X11\n",
      "- X116\n",
      "- ...\n",
      "\n",
      "\n",
      "C:\\Users\\alan\\anaconda3\\envs\\xai\\lib\\site-packages\\sklearn\\base.py:493: FutureWarning:\n",
      "\n",
      "The feature names should match those that were passed during fit. Starting version 1.2, an error will be raised.\n",
      "Feature names unseen at fit time:\n",
      "- Sumaryczna kwota transakcji w bankomatach w 6 ostatnich miesiącach\n",
      "- Sumaryczna kwota wpływów klienta w w 6 ostatnich miesiącach\n",
      "- Sumaryczna kwota wpływów klienta z tytułu emerytury w w 6 ostatnich miesiącach\n",
      "- Sumaryczna kwota wpływów klienta z tytułu programu 500 plus w w 6 ostatnich miesiącach\n",
      "- Sumaryczna kwota wpływów klienta z tytułu stypendium w w 6 ostatnich miesiącach\n",
      "- ...\n",
      "Feature names seen at fit time, yet now missing:\n",
      "- X1\n",
      "- X102\n",
      "- X109\n",
      "- X11\n",
      "- X116\n",
      "- ...\n",
      "\n",
      "\n",
      "Calculating ceteris paribus:  67%|██████▋   | 29/43 [00:01<00:00, 26.66it/s]C:\\Users\\alan\\anaconda3\\envs\\xai\\lib\\site-packages\\sklearn\\base.py:493: FutureWarning:\n",
      "\n",
      "The feature names should match those that were passed during fit. Starting version 1.2, an error will be raised.\n",
      "Feature names unseen at fit time:\n",
      "- Sumaryczna kwota transakcji w bankomatach w 6 ostatnich miesiącach\n",
      "- Sumaryczna kwota wpływów klienta w w 6 ostatnich miesiącach\n",
      "- Sumaryczna kwota wpływów klienta z tytułu emerytury w w 6 ostatnich miesiącach\n",
      "- Sumaryczna kwota wpływów klienta z tytułu programu 500 plus w w 6 ostatnich miesiącach\n",
      "- Sumaryczna kwota wpływów klienta z tytułu stypendium w w 6 ostatnich miesiącach\n",
      "- ...\n",
      "Feature names seen at fit time, yet now missing:\n",
      "- X1\n",
      "- X102\n",
      "- X109\n",
      "- X11\n",
      "- X116\n",
      "- ...\n",
      "\n",
      "\n",
      "C:\\Users\\alan\\anaconda3\\envs\\xai\\lib\\site-packages\\sklearn\\base.py:493: FutureWarning:\n",
      "\n",
      "The feature names should match those that were passed during fit. Starting version 1.2, an error will be raised.\n",
      "Feature names unseen at fit time:\n",
      "- Sumaryczna kwota transakcji w bankomatach w 6 ostatnich miesiącach\n",
      "- Sumaryczna kwota wpływów klienta w w 6 ostatnich miesiącach\n",
      "- Sumaryczna kwota wpływów klienta z tytułu emerytury w w 6 ostatnich miesiącach\n",
      "- Sumaryczna kwota wpływów klienta z tytułu programu 500 plus w w 6 ostatnich miesiącach\n",
      "- Sumaryczna kwota wpływów klienta z tytułu stypendium w w 6 ostatnich miesiącach\n",
      "- ...\n",
      "Feature names seen at fit time, yet now missing:\n",
      "- X1\n",
      "- X102\n",
      "- X109\n",
      "- X11\n",
      "- X116\n",
      "- ...\n",
      "\n",
      "\n",
      "C:\\Users\\alan\\anaconda3\\envs\\xai\\lib\\site-packages\\sklearn\\base.py:493: FutureWarning:\n",
      "\n",
      "The feature names should match those that were passed during fit. Starting version 1.2, an error will be raised.\n",
      "Feature names unseen at fit time:\n",
      "- Sumaryczna kwota transakcji w bankomatach w 6 ostatnich miesiącach\n",
      "- Sumaryczna kwota wpływów klienta w w 6 ostatnich miesiącach\n",
      "- Sumaryczna kwota wpływów klienta z tytułu emerytury w w 6 ostatnich miesiącach\n",
      "- Sumaryczna kwota wpływów klienta z tytułu programu 500 plus w w 6 ostatnich miesiącach\n",
      "- Sumaryczna kwota wpływów klienta z tytułu stypendium w w 6 ostatnich miesiącach\n",
      "- ...\n",
      "Feature names seen at fit time, yet now missing:\n",
      "- X1\n",
      "- X102\n",
      "- X109\n",
      "- X11\n",
      "- X116\n",
      "- ...\n",
      "\n",
      "\n",
      "Calculating ceteris paribus:  74%|███████▍  | 32/43 [00:01<00:00, 26.80it/s]C:\\Users\\alan\\anaconda3\\envs\\xai\\lib\\site-packages\\sklearn\\base.py:493: FutureWarning:\n",
      "\n",
      "The feature names should match those that were passed during fit. Starting version 1.2, an error will be raised.\n",
      "Feature names unseen at fit time:\n",
      "- Sumaryczna kwota transakcji w bankomatach w 6 ostatnich miesiącach\n",
      "- Sumaryczna kwota wpływów klienta w w 6 ostatnich miesiącach\n",
      "- Sumaryczna kwota wpływów klienta z tytułu emerytury w w 6 ostatnich miesiącach\n",
      "- Sumaryczna kwota wpływów klienta z tytułu programu 500 plus w w 6 ostatnich miesiącach\n",
      "- Sumaryczna kwota wpływów klienta z tytułu stypendium w w 6 ostatnich miesiącach\n",
      "- ...\n",
      "Feature names seen at fit time, yet now missing:\n",
      "- X1\n",
      "- X102\n",
      "- X109\n",
      "- X11\n",
      "- X116\n",
      "- ...\n",
      "\n",
      "\n",
      "C:\\Users\\alan\\anaconda3\\envs\\xai\\lib\\site-packages\\sklearn\\base.py:493: FutureWarning:\n",
      "\n",
      "The feature names should match those that were passed during fit. Starting version 1.2, an error will be raised.\n",
      "Feature names unseen at fit time:\n",
      "- Sumaryczna kwota transakcji w bankomatach w 6 ostatnich miesiącach\n",
      "- Sumaryczna kwota wpływów klienta w w 6 ostatnich miesiącach\n",
      "- Sumaryczna kwota wpływów klienta z tytułu emerytury w w 6 ostatnich miesiącach\n",
      "- Sumaryczna kwota wpływów klienta z tytułu programu 500 plus w w 6 ostatnich miesiącach\n",
      "- Sumaryczna kwota wpływów klienta z tytułu stypendium w w 6 ostatnich miesiącach\n",
      "- ...\n",
      "Feature names seen at fit time, yet now missing:\n",
      "- X1\n",
      "- X102\n",
      "- X109\n",
      "- X11\n",
      "- X116\n",
      "- ...\n",
      "\n",
      "\n",
      "C:\\Users\\alan\\anaconda3\\envs\\xai\\lib\\site-packages\\sklearn\\base.py:493: FutureWarning:\n",
      "\n",
      "The feature names should match those that were passed during fit. Starting version 1.2, an error will be raised.\n",
      "Feature names unseen at fit time:\n",
      "- Sumaryczna kwota transakcji w bankomatach w 6 ostatnich miesiącach\n",
      "- Sumaryczna kwota wpływów klienta w w 6 ostatnich miesiącach\n",
      "- Sumaryczna kwota wpływów klienta z tytułu emerytury w w 6 ostatnich miesiącach\n",
      "- Sumaryczna kwota wpływów klienta z tytułu programu 500 plus w w 6 ostatnich miesiącach\n",
      "- Sumaryczna kwota wpływów klienta z tytułu stypendium w w 6 ostatnich miesiącach\n",
      "- ...\n",
      "Feature names seen at fit time, yet now missing:\n",
      "- X1\n",
      "- X102\n",
      "- X109\n",
      "- X11\n",
      "- X116\n",
      "- ...\n",
      "\n",
      "\n",
      "Calculating ceteris paribus:  81%|████████▏ | 35/43 [00:01<00:00, 26.94it/s]C:\\Users\\alan\\anaconda3\\envs\\xai\\lib\\site-packages\\sklearn\\base.py:493: FutureWarning:\n",
      "\n",
      "The feature names should match those that were passed during fit. Starting version 1.2, an error will be raised.\n",
      "Feature names unseen at fit time:\n",
      "- Sumaryczna kwota transakcji w bankomatach w 6 ostatnich miesiącach\n",
      "- Sumaryczna kwota wpływów klienta w w 6 ostatnich miesiącach\n",
      "- Sumaryczna kwota wpływów klienta z tytułu emerytury w w 6 ostatnich miesiącach\n",
      "- Sumaryczna kwota wpływów klienta z tytułu programu 500 plus w w 6 ostatnich miesiącach\n",
      "- Sumaryczna kwota wpływów klienta z tytułu stypendium w w 6 ostatnich miesiącach\n",
      "- ...\n",
      "Feature names seen at fit time, yet now missing:\n",
      "- X1\n",
      "- X102\n",
      "- X109\n",
      "- X11\n",
      "- X116\n",
      "- ...\n",
      "\n",
      "\n",
      "C:\\Users\\alan\\anaconda3\\envs\\xai\\lib\\site-packages\\sklearn\\base.py:493: FutureWarning:\n",
      "\n",
      "The feature names should match those that were passed during fit. Starting version 1.2, an error will be raised.\n",
      "Feature names unseen at fit time:\n",
      "- Sumaryczna kwota transakcji w bankomatach w 6 ostatnich miesiącach\n",
      "- Sumaryczna kwota wpływów klienta w w 6 ostatnich miesiącach\n",
      "- Sumaryczna kwota wpływów klienta z tytułu emerytury w w 6 ostatnich miesiącach\n",
      "- Sumaryczna kwota wpływów klienta z tytułu programu 500 plus w w 6 ostatnich miesiącach\n",
      "- Sumaryczna kwota wpływów klienta z tytułu stypendium w w 6 ostatnich miesiącach\n",
      "- ...\n",
      "Feature names seen at fit time, yet now missing:\n",
      "- X1\n",
      "- X102\n",
      "- X109\n",
      "- X11\n",
      "- X116\n",
      "- ...\n",
      "\n",
      "\n",
      "C:\\Users\\alan\\anaconda3\\envs\\xai\\lib\\site-packages\\sklearn\\base.py:493: FutureWarning:\n",
      "\n",
      "The feature names should match those that were passed during fit. Starting version 1.2, an error will be raised.\n",
      "Feature names unseen at fit time:\n",
      "- Sumaryczna kwota transakcji w bankomatach w 6 ostatnich miesiącach\n",
      "- Sumaryczna kwota wpływów klienta w w 6 ostatnich miesiącach\n",
      "- Sumaryczna kwota wpływów klienta z tytułu emerytury w w 6 ostatnich miesiącach\n",
      "- Sumaryczna kwota wpływów klienta z tytułu programu 500 plus w w 6 ostatnich miesiącach\n",
      "- Sumaryczna kwota wpływów klienta z tytułu stypendium w w 6 ostatnich miesiącach\n",
      "- ...\n",
      "Feature names seen at fit time, yet now missing:\n",
      "- X1\n",
      "- X102\n",
      "- X109\n",
      "- X11\n",
      "- X116\n",
      "- ...\n",
      "\n",
      "\n",
      "Calculating ceteris paribus:  88%|████████▊ | 38/43 [00:01<00:00, 26.89it/s]C:\\Users\\alan\\anaconda3\\envs\\xai\\lib\\site-packages\\sklearn\\base.py:493: FutureWarning:\n",
      "\n",
      "The feature names should match those that were passed during fit. Starting version 1.2, an error will be raised.\n",
      "Feature names unseen at fit time:\n",
      "- Sumaryczna kwota transakcji w bankomatach w 6 ostatnich miesiącach\n",
      "- Sumaryczna kwota wpływów klienta w w 6 ostatnich miesiącach\n",
      "- Sumaryczna kwota wpływów klienta z tytułu emerytury w w 6 ostatnich miesiącach\n",
      "- Sumaryczna kwota wpływów klienta z tytułu programu 500 plus w w 6 ostatnich miesiącach\n",
      "- Sumaryczna kwota wpływów klienta z tytułu stypendium w w 6 ostatnich miesiącach\n",
      "- ...\n",
      "Feature names seen at fit time, yet now missing:\n",
      "- X1\n",
      "- X102\n",
      "- X109\n",
      "- X11\n",
      "- X116\n",
      "- ...\n",
      "\n",
      "\n",
      "C:\\Users\\alan\\anaconda3\\envs\\xai\\lib\\site-packages\\sklearn\\base.py:493: FutureWarning:\n",
      "\n",
      "The feature names should match those that were passed during fit. Starting version 1.2, an error will be raised.\n",
      "Feature names unseen at fit time:\n",
      "- Sumaryczna kwota transakcji w bankomatach w 6 ostatnich miesiącach\n",
      "- Sumaryczna kwota wpływów klienta w w 6 ostatnich miesiącach\n",
      "- Sumaryczna kwota wpływów klienta z tytułu emerytury w w 6 ostatnich miesiącach\n",
      "- Sumaryczna kwota wpływów klienta z tytułu programu 500 plus w w 6 ostatnich miesiącach\n",
      "- Sumaryczna kwota wpływów klienta z tytułu stypendium w w 6 ostatnich miesiącach\n",
      "- ...\n",
      "Feature names seen at fit time, yet now missing:\n",
      "- X1\n",
      "- X102\n",
      "- X109\n",
      "- X11\n",
      "- X116\n",
      "- ...\n",
      "\n",
      "\n",
      "C:\\Users\\alan\\anaconda3\\envs\\xai\\lib\\site-packages\\sklearn\\base.py:493: FutureWarning:\n",
      "\n",
      "The feature names should match those that were passed during fit. Starting version 1.2, an error will be raised.\n",
      "Feature names unseen at fit time:\n",
      "- Sumaryczna kwota transakcji w bankomatach w 6 ostatnich miesiącach\n",
      "- Sumaryczna kwota wpływów klienta w w 6 ostatnich miesiącach\n",
      "- Sumaryczna kwota wpływów klienta z tytułu emerytury w w 6 ostatnich miesiącach\n",
      "- Sumaryczna kwota wpływów klienta z tytułu programu 500 plus w w 6 ostatnich miesiącach\n",
      "- Sumaryczna kwota wpływów klienta z tytułu stypendium w w 6 ostatnich miesiącach\n",
      "- ...\n",
      "Feature names seen at fit time, yet now missing:\n",
      "- X1\n",
      "- X102\n",
      "- X109\n",
      "- X11\n",
      "- X116\n",
      "- ...\n",
      "\n",
      "\n",
      "Calculating ceteris paribus:  95%|█████████▌| 41/43 [00:01<00:00, 26.24it/s]C:\\Users\\alan\\anaconda3\\envs\\xai\\lib\\site-packages\\sklearn\\base.py:493: FutureWarning:\n",
      "\n",
      "The feature names should match those that were passed during fit. Starting version 1.2, an error will be raised.\n",
      "Feature names unseen at fit time:\n",
      "- Sumaryczna kwota transakcji w bankomatach w 6 ostatnich miesiącach\n",
      "- Sumaryczna kwota wpływów klienta w w 6 ostatnich miesiącach\n",
      "- Sumaryczna kwota wpływów klienta z tytułu emerytury w w 6 ostatnich miesiącach\n",
      "- Sumaryczna kwota wpływów klienta z tytułu programu 500 plus w w 6 ostatnich miesiącach\n",
      "- Sumaryczna kwota wpływów klienta z tytułu stypendium w w 6 ostatnich miesiącach\n",
      "- ...\n",
      "Feature names seen at fit time, yet now missing:\n",
      "- X1\n",
      "- X102\n",
      "- X109\n",
      "- X11\n",
      "- X116\n",
      "- ...\n",
      "\n",
      "\n",
      "C:\\Users\\alan\\anaconda3\\envs\\xai\\lib\\site-packages\\sklearn\\base.py:493: FutureWarning:\n",
      "\n",
      "The feature names should match those that were passed during fit. Starting version 1.2, an error will be raised.\n",
      "Feature names unseen at fit time:\n",
      "- Sumaryczna kwota transakcji w bankomatach w 6 ostatnich miesiącach\n",
      "- Sumaryczna kwota wpływów klienta w w 6 ostatnich miesiącach\n",
      "- Sumaryczna kwota wpływów klienta z tytułu emerytury w w 6 ostatnich miesiącach\n",
      "- Sumaryczna kwota wpływów klienta z tytułu programu 500 plus w w 6 ostatnich miesiącach\n",
      "- Sumaryczna kwota wpływów klienta z tytułu stypendium w w 6 ostatnich miesiącach\n",
      "- ...\n",
      "Feature names seen at fit time, yet now missing:\n",
      "- X1\n",
      "- X102\n",
      "- X109\n",
      "- X11\n",
      "- X116\n",
      "- ...\n",
      "\n",
      "\n",
      "Calculating ceteris paribus: 100%|██████████| 43/43 [00:01<00:00, 25.96it/s]\n",
      "C:\\Users\\alan\\anaconda3\\envs\\xai\\lib\\site-packages\\sklearn\\base.py:493: FutureWarning:\n",
      "\n",
      "The feature names should match those that were passed during fit. Starting version 1.2, an error will be raised.\n",
      "Feature names unseen at fit time:\n",
      "- Sumaryczna kwota transakcji w bankomatach w 6 ostatnich miesiącach\n",
      "- Sumaryczna kwota wpływów klienta w w 6 ostatnich miesiącach\n",
      "- Sumaryczna kwota wpływów klienta z tytułu emerytury w w 6 ostatnich miesiącach\n",
      "- Sumaryczna kwota wpływów klienta z tytułu programu 500 plus w w 6 ostatnich miesiącach\n",
      "- Sumaryczna kwota wpływów klienta z tytułu stypendium w w 6 ostatnich miesiącach\n",
      "- ...\n",
      "Feature names seen at fit time, yet now missing:\n",
      "- X1\n",
      "- X102\n",
      "- X109\n",
      "- X11\n",
      "- X116\n",
      "- ...\n",
      "\n",
      "\n",
      "C:\\Users\\alan\\anaconda3\\envs\\xai\\lib\\site-packages\\scipy\\stats\\stats.py:4484: SpearmanRConstantInputWarning:\n",
      "\n",
      "An input array is constant; the correlation coefficient is not defined.\n",
      "\n",
      "Calculating ceteris paribus: 100%|██████████| 43/43 [00:00<00:00, 203.85it/s]\n",
      "Calculating ceteris paribus:   0%|          | 0/43 [00:00<?, ?it/s]C:\\Users\\alan\\anaconda3\\envs\\xai\\lib\\site-packages\\sklearn\\base.py:493: FutureWarning:\n",
      "\n",
      "The feature names should match those that were passed during fit. Starting version 1.2, an error will be raised.\n",
      "Feature names unseen at fit time:\n",
      "- Sumaryczna kwota transakcji w bankomatach w 6 ostatnich miesiącach\n",
      "- Sumaryczna kwota wpływów klienta w w 6 ostatnich miesiącach\n",
      "- Sumaryczna kwota wpływów klienta z tytułu emerytury w w 6 ostatnich miesiącach\n",
      "- Sumaryczna kwota wpływów klienta z tytułu programu 500 plus w w 6 ostatnich miesiącach\n",
      "- Sumaryczna kwota wpływów klienta z tytułu stypendium w w 6 ostatnich miesiącach\n",
      "- ...\n",
      "Feature names seen at fit time, yet now missing:\n",
      "- X1\n",
      "- X102\n",
      "- X109\n",
      "- X11\n",
      "- X116\n",
      "- ...\n",
      "\n",
      "\n",
      "C:\\Users\\alan\\anaconda3\\envs\\xai\\lib\\site-packages\\sklearn\\base.py:493: FutureWarning:\n",
      "\n",
      "The feature names should match those that were passed during fit. Starting version 1.2, an error will be raised.\n",
      "Feature names unseen at fit time:\n",
      "- Sumaryczna kwota transakcji w bankomatach w 6 ostatnich miesiącach\n",
      "- Sumaryczna kwota wpływów klienta w w 6 ostatnich miesiącach\n",
      "- Sumaryczna kwota wpływów klienta z tytułu emerytury w w 6 ostatnich miesiącach\n",
      "- Sumaryczna kwota wpływów klienta z tytułu programu 500 plus w w 6 ostatnich miesiącach\n",
      "- Sumaryczna kwota wpływów klienta z tytułu stypendium w w 6 ostatnich miesiącach\n",
      "- ...\n",
      "Feature names seen at fit time, yet now missing:\n",
      "- X1\n",
      "- X102\n",
      "- X109\n",
      "- X11\n",
      "- X116\n",
      "- ...\n",
      "\n",
      "\n",
      "C:\\Users\\alan\\anaconda3\\envs\\xai\\lib\\site-packages\\sklearn\\base.py:493: FutureWarning:\n",
      "\n",
      "The feature names should match those that were passed during fit. Starting version 1.2, an error will be raised.\n",
      "Feature names unseen at fit time:\n",
      "- Sumaryczna kwota transakcji w bankomatach w 6 ostatnich miesiącach\n",
      "- Sumaryczna kwota wpływów klienta w w 6 ostatnich miesiącach\n",
      "- Sumaryczna kwota wpływów klienta z tytułu emerytury w w 6 ostatnich miesiącach\n",
      "- Sumaryczna kwota wpływów klienta z tytułu programu 500 plus w w 6 ostatnich miesiącach\n",
      "- Sumaryczna kwota wpływów klienta z tytułu stypendium w w 6 ostatnich miesiącach\n",
      "- ...\n",
      "Feature names seen at fit time, yet now missing:\n",
      "- X1\n",
      "- X102\n",
      "- X109\n",
      "- X11\n",
      "- X116\n",
      "- ...\n",
      "\n",
      "\n",
      "Calculating ceteris paribus:   7%|▋         | 3/43 [00:00<00:01, 22.90it/s]C:\\Users\\alan\\anaconda3\\envs\\xai\\lib\\site-packages\\sklearn\\base.py:493: FutureWarning:\n",
      "\n",
      "The feature names should match those that were passed during fit. Starting version 1.2, an error will be raised.\n",
      "Feature names unseen at fit time:\n",
      "- Sumaryczna kwota transakcji w bankomatach w 6 ostatnich miesiącach\n",
      "- Sumaryczna kwota wpływów klienta w w 6 ostatnich miesiącach\n",
      "- Sumaryczna kwota wpływów klienta z tytułu emerytury w w 6 ostatnich miesiącach\n",
      "- Sumaryczna kwota wpływów klienta z tytułu programu 500 plus w w 6 ostatnich miesiącach\n",
      "- Sumaryczna kwota wpływów klienta z tytułu stypendium w w 6 ostatnich miesiącach\n",
      "- ...\n",
      "Feature names seen at fit time, yet now missing:\n",
      "- X1\n",
      "- X102\n",
      "- X109\n",
      "- X11\n",
      "- X116\n",
      "- ...\n",
      "\n",
      "\n",
      "C:\\Users\\alan\\anaconda3\\envs\\xai\\lib\\site-packages\\sklearn\\base.py:493: FutureWarning:\n",
      "\n",
      "The feature names should match those that were passed during fit. Starting version 1.2, an error will be raised.\n",
      "Feature names unseen at fit time:\n",
      "- Sumaryczna kwota transakcji w bankomatach w 6 ostatnich miesiącach\n",
      "- Sumaryczna kwota wpływów klienta w w 6 ostatnich miesiącach\n",
      "- Sumaryczna kwota wpływów klienta z tytułu emerytury w w 6 ostatnich miesiącach\n",
      "- Sumaryczna kwota wpływów klienta z tytułu programu 500 plus w w 6 ostatnich miesiącach\n",
      "- Sumaryczna kwota wpływów klienta z tytułu stypendium w w 6 ostatnich miesiącach\n",
      "- ...\n",
      "Feature names seen at fit time, yet now missing:\n",
      "- X1\n",
      "- X102\n",
      "- X109\n",
      "- X11\n",
      "- X116\n",
      "- ...\n",
      "\n",
      "\n",
      "C:\\Users\\alan\\anaconda3\\envs\\xai\\lib\\site-packages\\sklearn\\base.py:493: FutureWarning:\n",
      "\n",
      "The feature names should match those that were passed during fit. Starting version 1.2, an error will be raised.\n",
      "Feature names unseen at fit time:\n",
      "- Sumaryczna kwota transakcji w bankomatach w 6 ostatnich miesiącach\n",
      "- Sumaryczna kwota wpływów klienta w w 6 ostatnich miesiącach\n",
      "- Sumaryczna kwota wpływów klienta z tytułu emerytury w w 6 ostatnich miesiącach\n",
      "- Sumaryczna kwota wpływów klienta z tytułu programu 500 plus w w 6 ostatnich miesiącach\n",
      "- Sumaryczna kwota wpływów klienta z tytułu stypendium w w 6 ostatnich miesiącach\n",
      "- ...\n",
      "Feature names seen at fit time, yet now missing:\n",
      "- X1\n",
      "- X102\n",
      "- X109\n",
      "- X11\n",
      "- X116\n",
      "- ...\n",
      "\n",
      "\n",
      "Calculating ceteris paribus:  14%|█▍        | 6/43 [00:00<00:01, 24.91it/s]C:\\Users\\alan\\anaconda3\\envs\\xai\\lib\\site-packages\\sklearn\\base.py:493: FutureWarning:\n",
      "\n",
      "The feature names should match those that were passed during fit. Starting version 1.2, an error will be raised.\n",
      "Feature names unseen at fit time:\n",
      "- Sumaryczna kwota transakcji w bankomatach w 6 ostatnich miesiącach\n",
      "- Sumaryczna kwota wpływów klienta w w 6 ostatnich miesiącach\n",
      "- Sumaryczna kwota wpływów klienta z tytułu emerytury w w 6 ostatnich miesiącach\n",
      "- Sumaryczna kwota wpływów klienta z tytułu programu 500 plus w w 6 ostatnich miesiącach\n",
      "- Sumaryczna kwota wpływów klienta z tytułu stypendium w w 6 ostatnich miesiącach\n",
      "- ...\n",
      "Feature names seen at fit time, yet now missing:\n",
      "- X1\n",
      "- X102\n",
      "- X109\n",
      "- X11\n",
      "- X116\n",
      "- ...\n",
      "\n",
      "\n",
      "C:\\Users\\alan\\anaconda3\\envs\\xai\\lib\\site-packages\\sklearn\\base.py:493: FutureWarning:\n",
      "\n",
      "The feature names should match those that were passed during fit. Starting version 1.2, an error will be raised.\n",
      "Feature names unseen at fit time:\n",
      "- Sumaryczna kwota transakcji w bankomatach w 6 ostatnich miesiącach\n",
      "- Sumaryczna kwota wpływów klienta w w 6 ostatnich miesiącach\n",
      "- Sumaryczna kwota wpływów klienta z tytułu emerytury w w 6 ostatnich miesiącach\n",
      "- Sumaryczna kwota wpływów klienta z tytułu programu 500 plus w w 6 ostatnich miesiącach\n",
      "- Sumaryczna kwota wpływów klienta z tytułu stypendium w w 6 ostatnich miesiącach\n",
      "- ...\n",
      "Feature names seen at fit time, yet now missing:\n",
      "- X1\n",
      "- X102\n",
      "- X109\n",
      "- X11\n",
      "- X116\n",
      "- ...\n",
      "\n",
      "\n",
      "C:\\Users\\alan\\anaconda3\\envs\\xai\\lib\\site-packages\\sklearn\\base.py:493: FutureWarning:\n",
      "\n",
      "The feature names should match those that were passed during fit. Starting version 1.2, an error will be raised.\n",
      "Feature names unseen at fit time:\n",
      "- Sumaryczna kwota transakcji w bankomatach w 6 ostatnich miesiącach\n",
      "- Sumaryczna kwota wpływów klienta w w 6 ostatnich miesiącach\n",
      "- Sumaryczna kwota wpływów klienta z tytułu emerytury w w 6 ostatnich miesiącach\n",
      "- Sumaryczna kwota wpływów klienta z tytułu programu 500 plus w w 6 ostatnich miesiącach\n",
      "- Sumaryczna kwota wpływów klienta z tytułu stypendium w w 6 ostatnich miesiącach\n",
      "- ...\n",
      "Feature names seen at fit time, yet now missing:\n",
      "- X1\n",
      "- X102\n",
      "- X109\n",
      "- X11\n",
      "- X116\n",
      "- ...\n",
      "\n",
      "\n",
      "Calculating ceteris paribus:  21%|██        | 9/43 [00:00<00:01, 25.93it/s]C:\\Users\\alan\\anaconda3\\envs\\xai\\lib\\site-packages\\sklearn\\base.py:493: FutureWarning:\n",
      "\n",
      "The feature names should match those that were passed during fit. Starting version 1.2, an error will be raised.\n",
      "Feature names unseen at fit time:\n",
      "- Sumaryczna kwota transakcji w bankomatach w 6 ostatnich miesiącach\n",
      "- Sumaryczna kwota wpływów klienta w w 6 ostatnich miesiącach\n",
      "- Sumaryczna kwota wpływów klienta z tytułu emerytury w w 6 ostatnich miesiącach\n",
      "- Sumaryczna kwota wpływów klienta z tytułu programu 500 plus w w 6 ostatnich miesiącach\n",
      "- Sumaryczna kwota wpływów klienta z tytułu stypendium w w 6 ostatnich miesiącach\n",
      "- ...\n",
      "Feature names seen at fit time, yet now missing:\n",
      "- X1\n",
      "- X102\n",
      "- X109\n",
      "- X11\n",
      "- X116\n",
      "- ...\n",
      "\n",
      "\n",
      "C:\\Users\\alan\\anaconda3\\envs\\xai\\lib\\site-packages\\sklearn\\base.py:493: FutureWarning:\n",
      "\n",
      "The feature names should match those that were passed during fit. Starting version 1.2, an error will be raised.\n",
      "Feature names unseen at fit time:\n",
      "- Sumaryczna kwota transakcji w bankomatach w 6 ostatnich miesiącach\n",
      "- Sumaryczna kwota wpływów klienta w w 6 ostatnich miesiącach\n",
      "- Sumaryczna kwota wpływów klienta z tytułu emerytury w w 6 ostatnich miesiącach\n",
      "- Sumaryczna kwota wpływów klienta z tytułu programu 500 plus w w 6 ostatnich miesiącach\n",
      "- Sumaryczna kwota wpływów klienta z tytułu stypendium w w 6 ostatnich miesiącach\n",
      "- ...\n",
      "Feature names seen at fit time, yet now missing:\n",
      "- X1\n",
      "- X102\n",
      "- X109\n",
      "- X11\n",
      "- X116\n",
      "- ...\n",
      "\n",
      "\n",
      "C:\\Users\\alan\\anaconda3\\envs\\xai\\lib\\site-packages\\sklearn\\base.py:493: FutureWarning:\n",
      "\n",
      "The feature names should match those that were passed during fit. Starting version 1.2, an error will be raised.\n",
      "Feature names unseen at fit time:\n",
      "- Sumaryczna kwota transakcji w bankomatach w 6 ostatnich miesiącach\n",
      "- Sumaryczna kwota wpływów klienta w w 6 ostatnich miesiącach\n",
      "- Sumaryczna kwota wpływów klienta z tytułu emerytury w w 6 ostatnich miesiącach\n",
      "- Sumaryczna kwota wpływów klienta z tytułu programu 500 plus w w 6 ostatnich miesiącach\n",
      "- Sumaryczna kwota wpływów klienta z tytułu stypendium w w 6 ostatnich miesiącach\n",
      "- ...\n",
      "Feature names seen at fit time, yet now missing:\n",
      "- X1\n",
      "- X102\n",
      "- X109\n",
      "- X11\n",
      "- X116\n",
      "- ...\n",
      "\n",
      "\n",
      "Calculating ceteris paribus:  28%|██▊       | 12/43 [00:00<00:01, 26.45it/s]C:\\Users\\alan\\anaconda3\\envs\\xai\\lib\\site-packages\\sklearn\\base.py:493: FutureWarning:\n",
      "\n",
      "The feature names should match those that were passed during fit. Starting version 1.2, an error will be raised.\n",
      "Feature names unseen at fit time:\n",
      "- Sumaryczna kwota transakcji w bankomatach w 6 ostatnich miesiącach\n",
      "- Sumaryczna kwota wpływów klienta w w 6 ostatnich miesiącach\n",
      "- Sumaryczna kwota wpływów klienta z tytułu emerytury w w 6 ostatnich miesiącach\n",
      "- Sumaryczna kwota wpływów klienta z tytułu programu 500 plus w w 6 ostatnich miesiącach\n",
      "- Sumaryczna kwota wpływów klienta z tytułu stypendium w w 6 ostatnich miesiącach\n",
      "- ...\n",
      "Feature names seen at fit time, yet now missing:\n",
      "- X1\n",
      "- X102\n",
      "- X109\n",
      "- X11\n",
      "- X116\n",
      "- ...\n",
      "\n",
      "\n",
      "C:\\Users\\alan\\anaconda3\\envs\\xai\\lib\\site-packages\\sklearn\\base.py:493: FutureWarning:\n",
      "\n",
      "The feature names should match those that were passed during fit. Starting version 1.2, an error will be raised.\n",
      "Feature names unseen at fit time:\n",
      "- Sumaryczna kwota transakcji w bankomatach w 6 ostatnich miesiącach\n",
      "- Sumaryczna kwota wpływów klienta w w 6 ostatnich miesiącach\n",
      "- Sumaryczna kwota wpływów klienta z tytułu emerytury w w 6 ostatnich miesiącach\n",
      "- Sumaryczna kwota wpływów klienta z tytułu programu 500 plus w w 6 ostatnich miesiącach\n",
      "- Sumaryczna kwota wpływów klienta z tytułu stypendium w w 6 ostatnich miesiącach\n",
      "- ...\n",
      "Feature names seen at fit time, yet now missing:\n",
      "- X1\n",
      "- X102\n",
      "- X109\n",
      "- X11\n",
      "- X116\n",
      "- ...\n",
      "\n",
      "\n",
      "C:\\Users\\alan\\anaconda3\\envs\\xai\\lib\\site-packages\\sklearn\\base.py:493: FutureWarning:\n",
      "\n",
      "The feature names should match those that were passed during fit. Starting version 1.2, an error will be raised.\n",
      "Feature names unseen at fit time:\n",
      "- Sumaryczna kwota transakcji w bankomatach w 6 ostatnich miesiącach\n",
      "- Sumaryczna kwota wpływów klienta w w 6 ostatnich miesiącach\n",
      "- Sumaryczna kwota wpływów klienta z tytułu emerytury w w 6 ostatnich miesiącach\n",
      "- Sumaryczna kwota wpływów klienta z tytułu programu 500 plus w w 6 ostatnich miesiącach\n",
      "- Sumaryczna kwota wpływów klienta z tytułu stypendium w w 6 ostatnich miesiącach\n",
      "- ...\n",
      "Feature names seen at fit time, yet now missing:\n",
      "- X1\n",
      "- X102\n",
      "- X109\n",
      "- X11\n",
      "- X116\n",
      "- ...\n",
      "\n",
      "\n",
      "Calculating ceteris paribus:  35%|███▍      | 15/43 [00:00<00:01, 26.91it/s]C:\\Users\\alan\\anaconda3\\envs\\xai\\lib\\site-packages\\sklearn\\base.py:493: FutureWarning:\n",
      "\n",
      "The feature names should match those that were passed during fit. Starting version 1.2, an error will be raised.\n",
      "Feature names unseen at fit time:\n",
      "- Sumaryczna kwota transakcji w bankomatach w 6 ostatnich miesiącach\n",
      "- Sumaryczna kwota wpływów klienta w w 6 ostatnich miesiącach\n",
      "- Sumaryczna kwota wpływów klienta z tytułu emerytury w w 6 ostatnich miesiącach\n",
      "- Sumaryczna kwota wpływów klienta z tytułu programu 500 plus w w 6 ostatnich miesiącach\n",
      "- Sumaryczna kwota wpływów klienta z tytułu stypendium w w 6 ostatnich miesiącach\n",
      "- ...\n",
      "Feature names seen at fit time, yet now missing:\n",
      "- X1\n",
      "- X102\n",
      "- X109\n",
      "- X11\n",
      "- X116\n",
      "- ...\n",
      "\n",
      "\n",
      "C:\\Users\\alan\\anaconda3\\envs\\xai\\lib\\site-packages\\sklearn\\base.py:493: FutureWarning:\n",
      "\n",
      "The feature names should match those that were passed during fit. Starting version 1.2, an error will be raised.\n",
      "Feature names unseen at fit time:\n",
      "- Sumaryczna kwota transakcji w bankomatach w 6 ostatnich miesiącach\n",
      "- Sumaryczna kwota wpływów klienta w w 6 ostatnich miesiącach\n",
      "- Sumaryczna kwota wpływów klienta z tytułu emerytury w w 6 ostatnich miesiącach\n",
      "- Sumaryczna kwota wpływów klienta z tytułu programu 500 plus w w 6 ostatnich miesiącach\n",
      "- Sumaryczna kwota wpływów klienta z tytułu stypendium w w 6 ostatnich miesiącach\n",
      "- ...\n",
      "Feature names seen at fit time, yet now missing:\n",
      "- X1\n",
      "- X102\n",
      "- X109\n",
      "- X11\n",
      "- X116\n",
      "- ...\n",
      "\n",
      "\n",
      "C:\\Users\\alan\\anaconda3\\envs\\xai\\lib\\site-packages\\sklearn\\base.py:493: FutureWarning:\n",
      "\n",
      "The feature names should match those that were passed during fit. Starting version 1.2, an error will be raised.\n",
      "Feature names unseen at fit time:\n",
      "- Sumaryczna kwota transakcji w bankomatach w 6 ostatnich miesiącach\n",
      "- Sumaryczna kwota wpływów klienta w w 6 ostatnich miesiącach\n",
      "- Sumaryczna kwota wpływów klienta z tytułu emerytury w w 6 ostatnich miesiącach\n",
      "- Sumaryczna kwota wpływów klienta z tytułu programu 500 plus w w 6 ostatnich miesiącach\n",
      "- Sumaryczna kwota wpływów klienta z tytułu stypendium w w 6 ostatnich miesiącach\n",
      "- ...\n",
      "Feature names seen at fit time, yet now missing:\n",
      "- X1\n",
      "- X102\n",
      "- X109\n",
      "- X11\n",
      "- X116\n",
      "- ...\n",
      "\n",
      "\n",
      "Calculating ceteris paribus:  42%|████▏     | 18/43 [00:00<00:00, 26.95it/s]C:\\Users\\alan\\anaconda3\\envs\\xai\\lib\\site-packages\\sklearn\\base.py:493: FutureWarning:\n",
      "\n",
      "The feature names should match those that were passed during fit. Starting version 1.2, an error will be raised.\n",
      "Feature names unseen at fit time:\n",
      "- Sumaryczna kwota transakcji w bankomatach w 6 ostatnich miesiącach\n",
      "- Sumaryczna kwota wpływów klienta w w 6 ostatnich miesiącach\n",
      "- Sumaryczna kwota wpływów klienta z tytułu emerytury w w 6 ostatnich miesiącach\n",
      "- Sumaryczna kwota wpływów klienta z tytułu programu 500 plus w w 6 ostatnich miesiącach\n",
      "- Sumaryczna kwota wpływów klienta z tytułu stypendium w w 6 ostatnich miesiącach\n",
      "- ...\n",
      "Feature names seen at fit time, yet now missing:\n",
      "- X1\n",
      "- X102\n",
      "- X109\n",
      "- X11\n",
      "- X116\n",
      "- ...\n",
      "\n",
      "\n",
      "C:\\Users\\alan\\anaconda3\\envs\\xai\\lib\\site-packages\\sklearn\\base.py:493: FutureWarning:\n",
      "\n",
      "The feature names should match those that were passed during fit. Starting version 1.2, an error will be raised.\n",
      "Feature names unseen at fit time:\n",
      "- Sumaryczna kwota transakcji w bankomatach w 6 ostatnich miesiącach\n",
      "- Sumaryczna kwota wpływów klienta w w 6 ostatnich miesiącach\n",
      "- Sumaryczna kwota wpływów klienta z tytułu emerytury w w 6 ostatnich miesiącach\n",
      "- Sumaryczna kwota wpływów klienta z tytułu programu 500 plus w w 6 ostatnich miesiącach\n",
      "- Sumaryczna kwota wpływów klienta z tytułu stypendium w w 6 ostatnich miesiącach\n",
      "- ...\n",
      "Feature names seen at fit time, yet now missing:\n",
      "- X1\n",
      "- X102\n",
      "- X109\n",
      "- X11\n",
      "- X116\n",
      "- ...\n",
      "\n",
      "\n",
      "C:\\Users\\alan\\anaconda3\\envs\\xai\\lib\\site-packages\\sklearn\\base.py:493: FutureWarning:\n",
      "\n",
      "The feature names should match those that were passed during fit. Starting version 1.2, an error will be raised.\n",
      "Feature names unseen at fit time:\n",
      "- Sumaryczna kwota transakcji w bankomatach w 6 ostatnich miesiącach\n",
      "- Sumaryczna kwota wpływów klienta w w 6 ostatnich miesiącach\n",
      "- Sumaryczna kwota wpływów klienta z tytułu emerytury w w 6 ostatnich miesiącach\n",
      "- Sumaryczna kwota wpływów klienta z tytułu programu 500 plus w w 6 ostatnich miesiącach\n",
      "- Sumaryczna kwota wpływów klienta z tytułu stypendium w w 6 ostatnich miesiącach\n",
      "- ...\n",
      "Feature names seen at fit time, yet now missing:\n",
      "- X1\n",
      "- X102\n",
      "- X109\n",
      "- X11\n",
      "- X116\n",
      "- ...\n",
      "\n",
      "\n",
      "Calculating ceteris paribus:  49%|████▉     | 21/43 [00:00<00:00, 26.82it/s]C:\\Users\\alan\\anaconda3\\envs\\xai\\lib\\site-packages\\sklearn\\base.py:493: FutureWarning:\n",
      "\n",
      "The feature names should match those that were passed during fit. Starting version 1.2, an error will be raised.\n",
      "Feature names unseen at fit time:\n",
      "- Sumaryczna kwota transakcji w bankomatach w 6 ostatnich miesiącach\n",
      "- Sumaryczna kwota wpływów klienta w w 6 ostatnich miesiącach\n",
      "- Sumaryczna kwota wpływów klienta z tytułu emerytury w w 6 ostatnich miesiącach\n",
      "- Sumaryczna kwota wpływów klienta z tytułu programu 500 plus w w 6 ostatnich miesiącach\n",
      "- Sumaryczna kwota wpływów klienta z tytułu stypendium w w 6 ostatnich miesiącach\n",
      "- ...\n",
      "Feature names seen at fit time, yet now missing:\n",
      "- X1\n",
      "- X102\n",
      "- X109\n",
      "- X11\n",
      "- X116\n",
      "- ...\n",
      "\n",
      "\n",
      "C:\\Users\\alan\\anaconda3\\envs\\xai\\lib\\site-packages\\sklearn\\base.py:493: FutureWarning:\n",
      "\n",
      "The feature names should match those that were passed during fit. Starting version 1.2, an error will be raised.\n",
      "Feature names unseen at fit time:\n",
      "- Sumaryczna kwota transakcji w bankomatach w 6 ostatnich miesiącach\n",
      "- Sumaryczna kwota wpływów klienta w w 6 ostatnich miesiącach\n",
      "- Sumaryczna kwota wpływów klienta z tytułu emerytury w w 6 ostatnich miesiącach\n",
      "- Sumaryczna kwota wpływów klienta z tytułu programu 500 plus w w 6 ostatnich miesiącach\n",
      "- Sumaryczna kwota wpływów klienta z tytułu stypendium w w 6 ostatnich miesiącach\n",
      "- ...\n",
      "Feature names seen at fit time, yet now missing:\n",
      "- X1\n",
      "- X102\n",
      "- X109\n",
      "- X11\n",
      "- X116\n",
      "- ...\n",
      "\n",
      "\n",
      "C:\\Users\\alan\\anaconda3\\envs\\xai\\lib\\site-packages\\sklearn\\base.py:493: FutureWarning:\n",
      "\n",
      "The feature names should match those that were passed during fit. Starting version 1.2, an error will be raised.\n",
      "Feature names unseen at fit time:\n",
      "- Sumaryczna kwota transakcji w bankomatach w 6 ostatnich miesiącach\n",
      "- Sumaryczna kwota wpływów klienta w w 6 ostatnich miesiącach\n",
      "- Sumaryczna kwota wpływów klienta z tytułu emerytury w w 6 ostatnich miesiącach\n",
      "- Sumaryczna kwota wpływów klienta z tytułu programu 500 plus w w 6 ostatnich miesiącach\n",
      "- Sumaryczna kwota wpływów klienta z tytułu stypendium w w 6 ostatnich miesiącach\n",
      "- ...\n",
      "Feature names seen at fit time, yet now missing:\n",
      "- X1\n",
      "- X102\n",
      "- X109\n",
      "- X11\n",
      "- X116\n",
      "- ...\n",
      "\n",
      "\n",
      "Calculating ceteris paribus:  56%|█████▌    | 24/43 [00:00<00:00, 26.99it/s]C:\\Users\\alan\\anaconda3\\envs\\xai\\lib\\site-packages\\sklearn\\base.py:493: FutureWarning:\n",
      "\n",
      "The feature names should match those that were passed during fit. Starting version 1.2, an error will be raised.\n",
      "Feature names unseen at fit time:\n",
      "- Sumaryczna kwota transakcji w bankomatach w 6 ostatnich miesiącach\n",
      "- Sumaryczna kwota wpływów klienta w w 6 ostatnich miesiącach\n",
      "- Sumaryczna kwota wpływów klienta z tytułu emerytury w w 6 ostatnich miesiącach\n",
      "- Sumaryczna kwota wpływów klienta z tytułu programu 500 plus w w 6 ostatnich miesiącach\n",
      "- Sumaryczna kwota wpływów klienta z tytułu stypendium w w 6 ostatnich miesiącach\n",
      "- ...\n",
      "Feature names seen at fit time, yet now missing:\n",
      "- X1\n",
      "- X102\n",
      "- X109\n",
      "- X11\n",
      "- X116\n",
      "- ...\n",
      "\n",
      "\n",
      "C:\\Users\\alan\\anaconda3\\envs\\xai\\lib\\site-packages\\sklearn\\base.py:493: FutureWarning:\n",
      "\n",
      "The feature names should match those that were passed during fit. Starting version 1.2, an error will be raised.\n",
      "Feature names unseen at fit time:\n",
      "- Sumaryczna kwota transakcji w bankomatach w 6 ostatnich miesiącach\n",
      "- Sumaryczna kwota wpływów klienta w w 6 ostatnich miesiącach\n",
      "- Sumaryczna kwota wpływów klienta z tytułu emerytury w w 6 ostatnich miesiącach\n",
      "- Sumaryczna kwota wpływów klienta z tytułu programu 500 plus w w 6 ostatnich miesiącach\n",
      "- Sumaryczna kwota wpływów klienta z tytułu stypendium w w 6 ostatnich miesiącach\n",
      "- ...\n",
      "Feature names seen at fit time, yet now missing:\n",
      "- X1\n",
      "- X102\n",
      "- X109\n",
      "- X11\n",
      "- X116\n",
      "- ...\n",
      "\n",
      "\n",
      "C:\\Users\\alan\\anaconda3\\envs\\xai\\lib\\site-packages\\sklearn\\base.py:493: FutureWarning:\n",
      "\n",
      "The feature names should match those that were passed during fit. Starting version 1.2, an error will be raised.\n",
      "Feature names unseen at fit time:\n",
      "- Sumaryczna kwota transakcji w bankomatach w 6 ostatnich miesiącach\n",
      "- Sumaryczna kwota wpływów klienta w w 6 ostatnich miesiącach\n",
      "- Sumaryczna kwota wpływów klienta z tytułu emerytury w w 6 ostatnich miesiącach\n",
      "- Sumaryczna kwota wpływów klienta z tytułu programu 500 plus w w 6 ostatnich miesiącach\n",
      "- Sumaryczna kwota wpływów klienta z tytułu stypendium w w 6 ostatnich miesiącach\n",
      "- ...\n",
      "Feature names seen at fit time, yet now missing:\n",
      "- X1\n",
      "- X102\n",
      "- X109\n",
      "- X11\n",
      "- X116\n",
      "- ...\n",
      "\n",
      "\n",
      "Calculating ceteris paribus:  63%|██████▎   | 27/43 [00:01<00:00, 27.08it/s]C:\\Users\\alan\\anaconda3\\envs\\xai\\lib\\site-packages\\sklearn\\base.py:493: FutureWarning:\n",
      "\n",
      "The feature names should match those that were passed during fit. Starting version 1.2, an error will be raised.\n",
      "Feature names unseen at fit time:\n",
      "- Sumaryczna kwota transakcji w bankomatach w 6 ostatnich miesiącach\n",
      "- Sumaryczna kwota wpływów klienta w w 6 ostatnich miesiącach\n",
      "- Sumaryczna kwota wpływów klienta z tytułu emerytury w w 6 ostatnich miesiącach\n",
      "- Sumaryczna kwota wpływów klienta z tytułu programu 500 plus w w 6 ostatnich miesiącach\n",
      "- Sumaryczna kwota wpływów klienta z tytułu stypendium w w 6 ostatnich miesiącach\n",
      "- ...\n",
      "Feature names seen at fit time, yet now missing:\n",
      "- X1\n",
      "- X102\n",
      "- X109\n",
      "- X11\n",
      "- X116\n",
      "- ...\n",
      "\n",
      "\n",
      "C:\\Users\\alan\\anaconda3\\envs\\xai\\lib\\site-packages\\sklearn\\base.py:493: FutureWarning:\n",
      "\n",
      "The feature names should match those that were passed during fit. Starting version 1.2, an error will be raised.\n",
      "Feature names unseen at fit time:\n",
      "- Sumaryczna kwota transakcji w bankomatach w 6 ostatnich miesiącach\n",
      "- Sumaryczna kwota wpływów klienta w w 6 ostatnich miesiącach\n",
      "- Sumaryczna kwota wpływów klienta z tytułu emerytury w w 6 ostatnich miesiącach\n",
      "- Sumaryczna kwota wpływów klienta z tytułu programu 500 plus w w 6 ostatnich miesiącach\n",
      "- Sumaryczna kwota wpływów klienta z tytułu stypendium w w 6 ostatnich miesiącach\n",
      "- ...\n",
      "Feature names seen at fit time, yet now missing:\n",
      "- X1\n",
      "- X102\n",
      "- X109\n",
      "- X11\n",
      "- X116\n",
      "- ...\n",
      "\n",
      "\n",
      "C:\\Users\\alan\\anaconda3\\envs\\xai\\lib\\site-packages\\sklearn\\base.py:493: FutureWarning:\n",
      "\n",
      "The feature names should match those that were passed during fit. Starting version 1.2, an error will be raised.\n",
      "Feature names unseen at fit time:\n",
      "- Sumaryczna kwota transakcji w bankomatach w 6 ostatnich miesiącach\n",
      "- Sumaryczna kwota wpływów klienta w w 6 ostatnich miesiącach\n",
      "- Sumaryczna kwota wpływów klienta z tytułu emerytury w w 6 ostatnich miesiącach\n",
      "- Sumaryczna kwota wpływów klienta z tytułu programu 500 plus w w 6 ostatnich miesiącach\n",
      "- Sumaryczna kwota wpływów klienta z tytułu stypendium w w 6 ostatnich miesiącach\n",
      "- ...\n",
      "Feature names seen at fit time, yet now missing:\n",
      "- X1\n",
      "- X102\n",
      "- X109\n",
      "- X11\n",
      "- X116\n",
      "- ...\n",
      "\n",
      "\n",
      "Calculating ceteris paribus:  70%|██████▉   | 30/43 [00:01<00:00, 27.21it/s]C:\\Users\\alan\\anaconda3\\envs\\xai\\lib\\site-packages\\sklearn\\base.py:493: FutureWarning:\n",
      "\n",
      "The feature names should match those that were passed during fit. Starting version 1.2, an error will be raised.\n",
      "Feature names unseen at fit time:\n",
      "- Sumaryczna kwota transakcji w bankomatach w 6 ostatnich miesiącach\n",
      "- Sumaryczna kwota wpływów klienta w w 6 ostatnich miesiącach\n",
      "- Sumaryczna kwota wpływów klienta z tytułu emerytury w w 6 ostatnich miesiącach\n",
      "- Sumaryczna kwota wpływów klienta z tytułu programu 500 plus w w 6 ostatnich miesiącach\n",
      "- Sumaryczna kwota wpływów klienta z tytułu stypendium w w 6 ostatnich miesiącach\n",
      "- ...\n",
      "Feature names seen at fit time, yet now missing:\n",
      "- X1\n",
      "- X102\n",
      "- X109\n",
      "- X11\n",
      "- X116\n",
      "- ...\n",
      "\n",
      "\n",
      "C:\\Users\\alan\\anaconda3\\envs\\xai\\lib\\site-packages\\sklearn\\base.py:493: FutureWarning:\n",
      "\n",
      "The feature names should match those that were passed during fit. Starting version 1.2, an error will be raised.\n",
      "Feature names unseen at fit time:\n",
      "- Sumaryczna kwota transakcji w bankomatach w 6 ostatnich miesiącach\n",
      "- Sumaryczna kwota wpływów klienta w w 6 ostatnich miesiącach\n",
      "- Sumaryczna kwota wpływów klienta z tytułu emerytury w w 6 ostatnich miesiącach\n",
      "- Sumaryczna kwota wpływów klienta z tytułu programu 500 plus w w 6 ostatnich miesiącach\n",
      "- Sumaryczna kwota wpływów klienta z tytułu stypendium w w 6 ostatnich miesiącach\n",
      "- ...\n",
      "Feature names seen at fit time, yet now missing:\n",
      "- X1\n",
      "- X102\n",
      "- X109\n",
      "- X11\n",
      "- X116\n",
      "- ...\n",
      "\n",
      "\n",
      "C:\\Users\\alan\\anaconda3\\envs\\xai\\lib\\site-packages\\sklearn\\base.py:493: FutureWarning:\n",
      "\n",
      "The feature names should match those that were passed during fit. Starting version 1.2, an error will be raised.\n",
      "Feature names unseen at fit time:\n",
      "- Sumaryczna kwota transakcji w bankomatach w 6 ostatnich miesiącach\n",
      "- Sumaryczna kwota wpływów klienta w w 6 ostatnich miesiącach\n",
      "- Sumaryczna kwota wpływów klienta z tytułu emerytury w w 6 ostatnich miesiącach\n",
      "- Sumaryczna kwota wpływów klienta z tytułu programu 500 plus w w 6 ostatnich miesiącach\n",
      "- Sumaryczna kwota wpływów klienta z tytułu stypendium w w 6 ostatnich miesiącach\n",
      "- ...\n",
      "Feature names seen at fit time, yet now missing:\n",
      "- X1\n",
      "- X102\n",
      "- X109\n",
      "- X11\n",
      "- X116\n",
      "- ...\n",
      "\n",
      "\n",
      "Calculating ceteris paribus:  77%|███████▋  | 33/43 [00:01<00:00, 27.38it/s]C:\\Users\\alan\\anaconda3\\envs\\xai\\lib\\site-packages\\sklearn\\base.py:493: FutureWarning:\n",
      "\n",
      "The feature names should match those that were passed during fit. Starting version 1.2, an error will be raised.\n",
      "Feature names unseen at fit time:\n",
      "- Sumaryczna kwota transakcji w bankomatach w 6 ostatnich miesiącach\n",
      "- Sumaryczna kwota wpływów klienta w w 6 ostatnich miesiącach\n",
      "- Sumaryczna kwota wpływów klienta z tytułu emerytury w w 6 ostatnich miesiącach\n",
      "- Sumaryczna kwota wpływów klienta z tytułu programu 500 plus w w 6 ostatnich miesiącach\n",
      "- Sumaryczna kwota wpływów klienta z tytułu stypendium w w 6 ostatnich miesiącach\n",
      "- ...\n",
      "Feature names seen at fit time, yet now missing:\n",
      "- X1\n",
      "- X102\n",
      "- X109\n",
      "- X11\n",
      "- X116\n",
      "- ...\n",
      "\n",
      "\n",
      "C:\\Users\\alan\\anaconda3\\envs\\xai\\lib\\site-packages\\sklearn\\base.py:493: FutureWarning:\n",
      "\n",
      "The feature names should match those that were passed during fit. Starting version 1.2, an error will be raised.\n",
      "Feature names unseen at fit time:\n",
      "- Sumaryczna kwota transakcji w bankomatach w 6 ostatnich miesiącach\n",
      "- Sumaryczna kwota wpływów klienta w w 6 ostatnich miesiącach\n",
      "- Sumaryczna kwota wpływów klienta z tytułu emerytury w w 6 ostatnich miesiącach\n",
      "- Sumaryczna kwota wpływów klienta z tytułu programu 500 plus w w 6 ostatnich miesiącach\n",
      "- Sumaryczna kwota wpływów klienta z tytułu stypendium w w 6 ostatnich miesiącach\n",
      "- ...\n",
      "Feature names seen at fit time, yet now missing:\n",
      "- X1\n",
      "- X102\n",
      "- X109\n",
      "- X11\n",
      "- X116\n",
      "- ...\n",
      "\n",
      "\n",
      "C:\\Users\\alan\\anaconda3\\envs\\xai\\lib\\site-packages\\sklearn\\base.py:493: FutureWarning:\n",
      "\n",
      "The feature names should match those that were passed during fit. Starting version 1.2, an error will be raised.\n",
      "Feature names unseen at fit time:\n",
      "- Sumaryczna kwota transakcji w bankomatach w 6 ostatnich miesiącach\n",
      "- Sumaryczna kwota wpływów klienta w w 6 ostatnich miesiącach\n",
      "- Sumaryczna kwota wpływów klienta z tytułu emerytury w w 6 ostatnich miesiącach\n",
      "- Sumaryczna kwota wpływów klienta z tytułu programu 500 plus w w 6 ostatnich miesiącach\n",
      "- Sumaryczna kwota wpływów klienta z tytułu stypendium w w 6 ostatnich miesiącach\n",
      "- ...\n",
      "Feature names seen at fit time, yet now missing:\n",
      "- X1\n",
      "- X102\n",
      "- X109\n",
      "- X11\n",
      "- X116\n",
      "- ...\n",
      "\n",
      "\n",
      "Calculating ceteris paribus:  84%|████████▎ | 36/43 [00:01<00:00, 27.42it/s]C:\\Users\\alan\\anaconda3\\envs\\xai\\lib\\site-packages\\sklearn\\base.py:493: FutureWarning:\n",
      "\n",
      "The feature names should match those that were passed during fit. Starting version 1.2, an error will be raised.\n",
      "Feature names unseen at fit time:\n",
      "- Sumaryczna kwota transakcji w bankomatach w 6 ostatnich miesiącach\n",
      "- Sumaryczna kwota wpływów klienta w w 6 ostatnich miesiącach\n",
      "- Sumaryczna kwota wpływów klienta z tytułu emerytury w w 6 ostatnich miesiącach\n",
      "- Sumaryczna kwota wpływów klienta z tytułu programu 500 plus w w 6 ostatnich miesiącach\n",
      "- Sumaryczna kwota wpływów klienta z tytułu stypendium w w 6 ostatnich miesiącach\n",
      "- ...\n",
      "Feature names seen at fit time, yet now missing:\n",
      "- X1\n",
      "- X102\n",
      "- X109\n",
      "- X11\n",
      "- X116\n",
      "- ...\n",
      "\n",
      "\n",
      "C:\\Users\\alan\\anaconda3\\envs\\xai\\lib\\site-packages\\sklearn\\base.py:493: FutureWarning:\n",
      "\n",
      "The feature names should match those that were passed during fit. Starting version 1.2, an error will be raised.\n",
      "Feature names unseen at fit time:\n",
      "- Sumaryczna kwota transakcji w bankomatach w 6 ostatnich miesiącach\n",
      "- Sumaryczna kwota wpływów klienta w w 6 ostatnich miesiącach\n",
      "- Sumaryczna kwota wpływów klienta z tytułu emerytury w w 6 ostatnich miesiącach\n",
      "- Sumaryczna kwota wpływów klienta z tytułu programu 500 plus w w 6 ostatnich miesiącach\n",
      "- Sumaryczna kwota wpływów klienta z tytułu stypendium w w 6 ostatnich miesiącach\n",
      "- ...\n",
      "Feature names seen at fit time, yet now missing:\n",
      "- X1\n",
      "- X102\n",
      "- X109\n",
      "- X11\n",
      "- X116\n",
      "- ...\n",
      "\n",
      "\n",
      "C:\\Users\\alan\\anaconda3\\envs\\xai\\lib\\site-packages\\sklearn\\base.py:493: FutureWarning:\n",
      "\n",
      "The feature names should match those that were passed during fit. Starting version 1.2, an error will be raised.\n",
      "Feature names unseen at fit time:\n",
      "- Sumaryczna kwota transakcji w bankomatach w 6 ostatnich miesiącach\n",
      "- Sumaryczna kwota wpływów klienta w w 6 ostatnich miesiącach\n",
      "- Sumaryczna kwota wpływów klienta z tytułu emerytury w w 6 ostatnich miesiącach\n",
      "- Sumaryczna kwota wpływów klienta z tytułu programu 500 plus w w 6 ostatnich miesiącach\n",
      "- Sumaryczna kwota wpływów klienta z tytułu stypendium w w 6 ostatnich miesiącach\n",
      "- ...\n",
      "Feature names seen at fit time, yet now missing:\n",
      "- X1\n",
      "- X102\n",
      "- X109\n",
      "- X11\n",
      "- X116\n",
      "- ...\n",
      "\n",
      "\n",
      "Calculating ceteris paribus:  91%|█████████ | 39/43 [00:01<00:00, 27.08it/s]C:\\Users\\alan\\anaconda3\\envs\\xai\\lib\\site-packages\\sklearn\\base.py:493: FutureWarning:\n",
      "\n",
      "The feature names should match those that were passed during fit. Starting version 1.2, an error will be raised.\n",
      "Feature names unseen at fit time:\n",
      "- Sumaryczna kwota transakcji w bankomatach w 6 ostatnich miesiącach\n",
      "- Sumaryczna kwota wpływów klienta w w 6 ostatnich miesiącach\n",
      "- Sumaryczna kwota wpływów klienta z tytułu emerytury w w 6 ostatnich miesiącach\n",
      "- Sumaryczna kwota wpływów klienta z tytułu programu 500 plus w w 6 ostatnich miesiącach\n",
      "- Sumaryczna kwota wpływów klienta z tytułu stypendium w w 6 ostatnich miesiącach\n",
      "- ...\n",
      "Feature names seen at fit time, yet now missing:\n",
      "- X1\n",
      "- X102\n",
      "- X109\n",
      "- X11\n",
      "- X116\n",
      "- ...\n",
      "\n",
      "\n",
      "C:\\Users\\alan\\anaconda3\\envs\\xai\\lib\\site-packages\\sklearn\\base.py:493: FutureWarning:\n",
      "\n",
      "The feature names should match those that were passed during fit. Starting version 1.2, an error will be raised.\n",
      "Feature names unseen at fit time:\n",
      "- Sumaryczna kwota transakcji w bankomatach w 6 ostatnich miesiącach\n",
      "- Sumaryczna kwota wpływów klienta w w 6 ostatnich miesiącach\n",
      "- Sumaryczna kwota wpływów klienta z tytułu emerytury w w 6 ostatnich miesiącach\n",
      "- Sumaryczna kwota wpływów klienta z tytułu programu 500 plus w w 6 ostatnich miesiącach\n",
      "- Sumaryczna kwota wpływów klienta z tytułu stypendium w w 6 ostatnich miesiącach\n",
      "- ...\n",
      "Feature names seen at fit time, yet now missing:\n",
      "- X1\n",
      "- X102\n",
      "- X109\n",
      "- X11\n",
      "- X116\n",
      "- ...\n",
      "\n",
      "\n",
      "C:\\Users\\alan\\anaconda3\\envs\\xai\\lib\\site-packages\\sklearn\\base.py:493: FutureWarning:\n",
      "\n",
      "The feature names should match those that were passed during fit. Starting version 1.2, an error will be raised.\n",
      "Feature names unseen at fit time:\n",
      "- Sumaryczna kwota transakcji w bankomatach w 6 ostatnich miesiącach\n",
      "- Sumaryczna kwota wpływów klienta w w 6 ostatnich miesiącach\n",
      "- Sumaryczna kwota wpływów klienta z tytułu emerytury w w 6 ostatnich miesiącach\n",
      "- Sumaryczna kwota wpływów klienta z tytułu programu 500 plus w w 6 ostatnich miesiącach\n",
      "- Sumaryczna kwota wpływów klienta z tytułu stypendium w w 6 ostatnich miesiącach\n",
      "- ...\n",
      "Feature names seen at fit time, yet now missing:\n",
      "- X1\n",
      "- X102\n",
      "- X109\n",
      "- X11\n",
      "- X116\n",
      "- ...\n",
      "\n",
      "\n",
      "Calculating ceteris paribus:  98%|█████████▊| 42/43 [00:01<00:00, 26.21it/s]C:\\Users\\alan\\anaconda3\\envs\\xai\\lib\\site-packages\\sklearn\\base.py:493: FutureWarning:\n",
      "\n",
      "The feature names should match those that were passed during fit. Starting version 1.2, an error will be raised.\n",
      "Feature names unseen at fit time:\n",
      "- Sumaryczna kwota transakcji w bankomatach w 6 ostatnich miesiącach\n",
      "- Sumaryczna kwota wpływów klienta w w 6 ostatnich miesiącach\n",
      "- Sumaryczna kwota wpływów klienta z tytułu emerytury w w 6 ostatnich miesiącach\n",
      "- Sumaryczna kwota wpływów klienta z tytułu programu 500 plus w w 6 ostatnich miesiącach\n",
      "- Sumaryczna kwota wpływów klienta z tytułu stypendium w w 6 ostatnich miesiącach\n",
      "- ...\n",
      "Feature names seen at fit time, yet now missing:\n",
      "- X1\n",
      "- X102\n",
      "- X109\n",
      "- X11\n",
      "- X116\n",
      "- ...\n",
      "\n",
      "\n",
      "Calculating ceteris paribus: 100%|██████████| 43/43 [00:01<00:00, 26.60it/s]\n",
      "C:\\Users\\alan\\anaconda3\\envs\\xai\\lib\\site-packages\\sklearn\\base.py:493: FutureWarning:\n",
      "\n",
      "The feature names should match those that were passed during fit. Starting version 1.2, an error will be raised.\n",
      "Feature names unseen at fit time:\n",
      "- Sumaryczna kwota transakcji w bankomatach w 6 ostatnich miesiącach\n",
      "- Sumaryczna kwota wpływów klienta w w 6 ostatnich miesiącach\n",
      "- Sumaryczna kwota wpływów klienta z tytułu emerytury w w 6 ostatnich miesiącach\n",
      "- Sumaryczna kwota wpływów klienta z tytułu programu 500 plus w w 6 ostatnich miesiącach\n",
      "- Sumaryczna kwota wpływów klienta z tytułu stypendium w w 6 ostatnich miesiącach\n",
      "- ...\n",
      "Feature names seen at fit time, yet now missing:\n",
      "- X1\n",
      "- X102\n",
      "- X109\n",
      "- X11\n",
      "- X116\n",
      "- ...\n",
      "\n",
      "\n",
      "Calculating ceteris paribus: 100%|██████████| 43/43 [00:00<00:00, 199.14it/s]\n",
      "Calculating ceteris paribus:   0%|          | 0/43 [00:00<?, ?it/s]C:\\Users\\alan\\anaconda3\\envs\\xai\\lib\\site-packages\\sklearn\\base.py:493: FutureWarning:\n",
      "\n",
      "The feature names should match those that were passed during fit. Starting version 1.2, an error will be raised.\n",
      "Feature names unseen at fit time:\n",
      "- Sumaryczna kwota transakcji w bankomatach w 6 ostatnich miesiącach\n",
      "- Sumaryczna kwota wpływów klienta w w 6 ostatnich miesiącach\n",
      "- Sumaryczna kwota wpływów klienta z tytułu emerytury w w 6 ostatnich miesiącach\n",
      "- Sumaryczna kwota wpływów klienta z tytułu programu 500 plus w w 6 ostatnich miesiącach\n",
      "- Sumaryczna kwota wpływów klienta z tytułu stypendium w w 6 ostatnich miesiącach\n",
      "- ...\n",
      "Feature names seen at fit time, yet now missing:\n",
      "- X1\n",
      "- X102\n",
      "- X109\n",
      "- X11\n",
      "- X116\n",
      "- ...\n",
      "\n",
      "\n",
      "C:\\Users\\alan\\anaconda3\\envs\\xai\\lib\\site-packages\\sklearn\\base.py:493: FutureWarning:\n",
      "\n",
      "The feature names should match those that were passed during fit. Starting version 1.2, an error will be raised.\n",
      "Feature names unseen at fit time:\n",
      "- Sumaryczna kwota transakcji w bankomatach w 6 ostatnich miesiącach\n",
      "- Sumaryczna kwota wpływów klienta w w 6 ostatnich miesiącach\n",
      "- Sumaryczna kwota wpływów klienta z tytułu emerytury w w 6 ostatnich miesiącach\n",
      "- Sumaryczna kwota wpływów klienta z tytułu programu 500 plus w w 6 ostatnich miesiącach\n",
      "- Sumaryczna kwota wpływów klienta z tytułu stypendium w w 6 ostatnich miesiącach\n",
      "- ...\n",
      "Feature names seen at fit time, yet now missing:\n",
      "- X1\n",
      "- X102\n",
      "- X109\n",
      "- X11\n",
      "- X116\n",
      "- ...\n",
      "\n",
      "\n",
      "Calculating ceteris paribus:   5%|▍         | 2/43 [00:00<00:02, 19.04it/s]C:\\Users\\alan\\anaconda3\\envs\\xai\\lib\\site-packages\\sklearn\\base.py:493: FutureWarning:\n",
      "\n",
      "The feature names should match those that were passed during fit. Starting version 1.2, an error will be raised.\n",
      "Feature names unseen at fit time:\n",
      "- Sumaryczna kwota transakcji w bankomatach w 6 ostatnich miesiącach\n",
      "- Sumaryczna kwota wpływów klienta w w 6 ostatnich miesiącach\n",
      "- Sumaryczna kwota wpływów klienta z tytułu emerytury w w 6 ostatnich miesiącach\n",
      "- Sumaryczna kwota wpływów klienta z tytułu programu 500 plus w w 6 ostatnich miesiącach\n",
      "- Sumaryczna kwota wpływów klienta z tytułu stypendium w w 6 ostatnich miesiącach\n",
      "- ...\n",
      "Feature names seen at fit time, yet now missing:\n",
      "- X1\n",
      "- X102\n",
      "- X109\n",
      "- X11\n",
      "- X116\n",
      "- ...\n",
      "\n",
      "\n",
      "C:\\Users\\alan\\anaconda3\\envs\\xai\\lib\\site-packages\\sklearn\\base.py:493: FutureWarning:\n",
      "\n",
      "The feature names should match those that were passed during fit. Starting version 1.2, an error will be raised.\n",
      "Feature names unseen at fit time:\n",
      "- Sumaryczna kwota transakcji w bankomatach w 6 ostatnich miesiącach\n",
      "- Sumaryczna kwota wpływów klienta w w 6 ostatnich miesiącach\n",
      "- Sumaryczna kwota wpływów klienta z tytułu emerytury w w 6 ostatnich miesiącach\n",
      "- Sumaryczna kwota wpływów klienta z tytułu programu 500 plus w w 6 ostatnich miesiącach\n",
      "- Sumaryczna kwota wpływów klienta z tytułu stypendium w w 6 ostatnich miesiącach\n",
      "- ...\n",
      "Feature names seen at fit time, yet now missing:\n",
      "- X1\n",
      "- X102\n",
      "- X109\n",
      "- X11\n",
      "- X116\n",
      "- ...\n",
      "\n",
      "\n",
      "C:\\Users\\alan\\anaconda3\\envs\\xai\\lib\\site-packages\\sklearn\\base.py:493: FutureWarning:\n",
      "\n",
      "The feature names should match those that were passed during fit. Starting version 1.2, an error will be raised.\n",
      "Feature names unseen at fit time:\n",
      "- Sumaryczna kwota transakcji w bankomatach w 6 ostatnich miesiącach\n",
      "- Sumaryczna kwota wpływów klienta w w 6 ostatnich miesiącach\n",
      "- Sumaryczna kwota wpływów klienta z tytułu emerytury w w 6 ostatnich miesiącach\n",
      "- Sumaryczna kwota wpływów klienta z tytułu programu 500 plus w w 6 ostatnich miesiącach\n",
      "- Sumaryczna kwota wpływów klienta z tytułu stypendium w w 6 ostatnich miesiącach\n",
      "- ...\n",
      "Feature names seen at fit time, yet now missing:\n",
      "- X1\n",
      "- X102\n",
      "- X109\n",
      "- X11\n",
      "- X116\n",
      "- ...\n",
      "\n",
      "\n",
      "Calculating ceteris paribus:  12%|█▏        | 5/43 [00:00<00:01, 22.97it/s]C:\\Users\\alan\\anaconda3\\envs\\xai\\lib\\site-packages\\sklearn\\base.py:493: FutureWarning:\n",
      "\n",
      "The feature names should match those that were passed during fit. Starting version 1.2, an error will be raised.\n",
      "Feature names unseen at fit time:\n",
      "- Sumaryczna kwota transakcji w bankomatach w 6 ostatnich miesiącach\n",
      "- Sumaryczna kwota wpływów klienta w w 6 ostatnich miesiącach\n",
      "- Sumaryczna kwota wpływów klienta z tytułu emerytury w w 6 ostatnich miesiącach\n",
      "- Sumaryczna kwota wpływów klienta z tytułu programu 500 plus w w 6 ostatnich miesiącach\n",
      "- Sumaryczna kwota wpływów klienta z tytułu stypendium w w 6 ostatnich miesiącach\n",
      "- ...\n",
      "Feature names seen at fit time, yet now missing:\n",
      "- X1\n",
      "- X102\n",
      "- X109\n",
      "- X11\n",
      "- X116\n",
      "- ...\n",
      "\n",
      "\n",
      "C:\\Users\\alan\\anaconda3\\envs\\xai\\lib\\site-packages\\sklearn\\base.py:493: FutureWarning:\n",
      "\n",
      "The feature names should match those that were passed during fit. Starting version 1.2, an error will be raised.\n",
      "Feature names unseen at fit time:\n",
      "- Sumaryczna kwota transakcji w bankomatach w 6 ostatnich miesiącach\n",
      "- Sumaryczna kwota wpływów klienta w w 6 ostatnich miesiącach\n",
      "- Sumaryczna kwota wpływów klienta z tytułu emerytury w w 6 ostatnich miesiącach\n",
      "- Sumaryczna kwota wpływów klienta z tytułu programu 500 plus w w 6 ostatnich miesiącach\n",
      "- Sumaryczna kwota wpływów klienta z tytułu stypendium w w 6 ostatnich miesiącach\n",
      "- ...\n",
      "Feature names seen at fit time, yet now missing:\n",
      "- X1\n",
      "- X102\n",
      "- X109\n",
      "- X11\n",
      "- X116\n",
      "- ...\n",
      "\n",
      "\n",
      "C:\\Users\\alan\\anaconda3\\envs\\xai\\lib\\site-packages\\sklearn\\base.py:493: FutureWarning:\n",
      "\n",
      "The feature names should match those that were passed during fit. Starting version 1.2, an error will be raised.\n",
      "Feature names unseen at fit time:\n",
      "- Sumaryczna kwota transakcji w bankomatach w 6 ostatnich miesiącach\n",
      "- Sumaryczna kwota wpływów klienta w w 6 ostatnich miesiącach\n",
      "- Sumaryczna kwota wpływów klienta z tytułu emerytury w w 6 ostatnich miesiącach\n",
      "- Sumaryczna kwota wpływów klienta z tytułu programu 500 plus w w 6 ostatnich miesiącach\n",
      "- Sumaryczna kwota wpływów klienta z tytułu stypendium w w 6 ostatnich miesiącach\n",
      "- ...\n",
      "Feature names seen at fit time, yet now missing:\n",
      "- X1\n",
      "- X102\n",
      "- X109\n",
      "- X11\n",
      "- X116\n",
      "- ...\n",
      "\n",
      "\n",
      "Calculating ceteris paribus:  19%|█▊        | 8/43 [00:00<00:01, 23.47it/s]C:\\Users\\alan\\anaconda3\\envs\\xai\\lib\\site-packages\\sklearn\\base.py:493: FutureWarning:\n",
      "\n",
      "The feature names should match those that were passed during fit. Starting version 1.2, an error will be raised.\n",
      "Feature names unseen at fit time:\n",
      "- Sumaryczna kwota transakcji w bankomatach w 6 ostatnich miesiącach\n",
      "- Sumaryczna kwota wpływów klienta w w 6 ostatnich miesiącach\n",
      "- Sumaryczna kwota wpływów klienta z tytułu emerytury w w 6 ostatnich miesiącach\n",
      "- Sumaryczna kwota wpływów klienta z tytułu programu 500 plus w w 6 ostatnich miesiącach\n",
      "- Sumaryczna kwota wpływów klienta z tytułu stypendium w w 6 ostatnich miesiącach\n",
      "- ...\n",
      "Feature names seen at fit time, yet now missing:\n",
      "- X1\n",
      "- X102\n",
      "- X109\n",
      "- X11\n",
      "- X116\n",
      "- ...\n",
      "\n",
      "\n",
      "C:\\Users\\alan\\anaconda3\\envs\\xai\\lib\\site-packages\\sklearn\\base.py:493: FutureWarning:\n",
      "\n",
      "The feature names should match those that were passed during fit. Starting version 1.2, an error will be raised.\n",
      "Feature names unseen at fit time:\n",
      "- Sumaryczna kwota transakcji w bankomatach w 6 ostatnich miesiącach\n",
      "- Sumaryczna kwota wpływów klienta w w 6 ostatnich miesiącach\n",
      "- Sumaryczna kwota wpływów klienta z tytułu emerytury w w 6 ostatnich miesiącach\n",
      "- Sumaryczna kwota wpływów klienta z tytułu programu 500 plus w w 6 ostatnich miesiącach\n",
      "- Sumaryczna kwota wpływów klienta z tytułu stypendium w w 6 ostatnich miesiącach\n",
      "- ...\n",
      "Feature names seen at fit time, yet now missing:\n",
      "- X1\n",
      "- X102\n",
      "- X109\n",
      "- X11\n",
      "- X116\n",
      "- ...\n",
      "\n",
      "\n",
      "C:\\Users\\alan\\anaconda3\\envs\\xai\\lib\\site-packages\\sklearn\\base.py:493: FutureWarning:\n",
      "\n",
      "The feature names should match those that were passed during fit. Starting version 1.2, an error will be raised.\n",
      "Feature names unseen at fit time:\n",
      "- Sumaryczna kwota transakcji w bankomatach w 6 ostatnich miesiącach\n",
      "- Sumaryczna kwota wpływów klienta w w 6 ostatnich miesiącach\n",
      "- Sumaryczna kwota wpływów klienta z tytułu emerytury w w 6 ostatnich miesiącach\n",
      "- Sumaryczna kwota wpływów klienta z tytułu programu 500 plus w w 6 ostatnich miesiącach\n",
      "- Sumaryczna kwota wpływów klienta z tytułu stypendium w w 6 ostatnich miesiącach\n",
      "- ...\n",
      "Feature names seen at fit time, yet now missing:\n",
      "- X1\n",
      "- X102\n",
      "- X109\n",
      "- X11\n",
      "- X116\n",
      "- ...\n",
      "\n",
      "\n",
      "Calculating ceteris paribus:  26%|██▌       | 11/43 [00:00<00:01, 24.24it/s]C:\\Users\\alan\\anaconda3\\envs\\xai\\lib\\site-packages\\sklearn\\base.py:493: FutureWarning:\n",
      "\n",
      "The feature names should match those that were passed during fit. Starting version 1.2, an error will be raised.\n",
      "Feature names unseen at fit time:\n",
      "- Sumaryczna kwota transakcji w bankomatach w 6 ostatnich miesiącach\n",
      "- Sumaryczna kwota wpływów klienta w w 6 ostatnich miesiącach\n",
      "- Sumaryczna kwota wpływów klienta z tytułu emerytury w w 6 ostatnich miesiącach\n",
      "- Sumaryczna kwota wpływów klienta z tytułu programu 500 plus w w 6 ostatnich miesiącach\n",
      "- Sumaryczna kwota wpływów klienta z tytułu stypendium w w 6 ostatnich miesiącach\n",
      "- ...\n",
      "Feature names seen at fit time, yet now missing:\n",
      "- X1\n",
      "- X102\n",
      "- X109\n",
      "- X11\n",
      "- X116\n",
      "- ...\n",
      "\n",
      "\n",
      "C:\\Users\\alan\\anaconda3\\envs\\xai\\lib\\site-packages\\sklearn\\base.py:493: FutureWarning:\n",
      "\n",
      "The feature names should match those that were passed during fit. Starting version 1.2, an error will be raised.\n",
      "Feature names unseen at fit time:\n",
      "- Sumaryczna kwota transakcji w bankomatach w 6 ostatnich miesiącach\n",
      "- Sumaryczna kwota wpływów klienta w w 6 ostatnich miesiącach\n",
      "- Sumaryczna kwota wpływów klienta z tytułu emerytury w w 6 ostatnich miesiącach\n",
      "- Sumaryczna kwota wpływów klienta z tytułu programu 500 plus w w 6 ostatnich miesiącach\n",
      "- Sumaryczna kwota wpływów klienta z tytułu stypendium w w 6 ostatnich miesiącach\n",
      "- ...\n",
      "Feature names seen at fit time, yet now missing:\n",
      "- X1\n",
      "- X102\n",
      "- X109\n",
      "- X11\n",
      "- X116\n",
      "- ...\n",
      "\n",
      "\n",
      "C:\\Users\\alan\\anaconda3\\envs\\xai\\lib\\site-packages\\sklearn\\base.py:493: FutureWarning:\n",
      "\n",
      "The feature names should match those that were passed during fit. Starting version 1.2, an error will be raised.\n",
      "Feature names unseen at fit time:\n",
      "- Sumaryczna kwota transakcji w bankomatach w 6 ostatnich miesiącach\n",
      "- Sumaryczna kwota wpływów klienta w w 6 ostatnich miesiącach\n",
      "- Sumaryczna kwota wpływów klienta z tytułu emerytury w w 6 ostatnich miesiącach\n",
      "- Sumaryczna kwota wpływów klienta z tytułu programu 500 plus w w 6 ostatnich miesiącach\n",
      "- Sumaryczna kwota wpływów klienta z tytułu stypendium w w 6 ostatnich miesiącach\n",
      "- ...\n",
      "Feature names seen at fit time, yet now missing:\n",
      "- X1\n",
      "- X102\n",
      "- X109\n",
      "- X11\n",
      "- X116\n",
      "- ...\n",
      "\n",
      "\n",
      "Calculating ceteris paribus:  33%|███▎      | 14/43 [00:00<00:01, 23.93it/s]C:\\Users\\alan\\anaconda3\\envs\\xai\\lib\\site-packages\\sklearn\\base.py:493: FutureWarning:\n",
      "\n",
      "The feature names should match those that were passed during fit. Starting version 1.2, an error will be raised.\n",
      "Feature names unseen at fit time:\n",
      "- Sumaryczna kwota transakcji w bankomatach w 6 ostatnich miesiącach\n",
      "- Sumaryczna kwota wpływów klienta w w 6 ostatnich miesiącach\n",
      "- Sumaryczna kwota wpływów klienta z tytułu emerytury w w 6 ostatnich miesiącach\n",
      "- Sumaryczna kwota wpływów klienta z tytułu programu 500 plus w w 6 ostatnich miesiącach\n",
      "- Sumaryczna kwota wpływów klienta z tytułu stypendium w w 6 ostatnich miesiącach\n",
      "- ...\n",
      "Feature names seen at fit time, yet now missing:\n",
      "- X1\n",
      "- X102\n",
      "- X109\n",
      "- X11\n",
      "- X116\n",
      "- ...\n",
      "\n",
      "\n",
      "C:\\Users\\alan\\anaconda3\\envs\\xai\\lib\\site-packages\\sklearn\\base.py:493: FutureWarning:\n",
      "\n",
      "The feature names should match those that were passed during fit. Starting version 1.2, an error will be raised.\n",
      "Feature names unseen at fit time:\n",
      "- Sumaryczna kwota transakcji w bankomatach w 6 ostatnich miesiącach\n",
      "- Sumaryczna kwota wpływów klienta w w 6 ostatnich miesiącach\n",
      "- Sumaryczna kwota wpływów klienta z tytułu emerytury w w 6 ostatnich miesiącach\n",
      "- Sumaryczna kwota wpływów klienta z tytułu programu 500 plus w w 6 ostatnich miesiącach\n",
      "- Sumaryczna kwota wpływów klienta z tytułu stypendium w w 6 ostatnich miesiącach\n",
      "- ...\n",
      "Feature names seen at fit time, yet now missing:\n",
      "- X1\n",
      "- X102\n",
      "- X109\n",
      "- X11\n",
      "- X116\n",
      "- ...\n",
      "\n",
      "\n",
      "C:\\Users\\alan\\anaconda3\\envs\\xai\\lib\\site-packages\\sklearn\\base.py:493: FutureWarning:\n",
      "\n",
      "The feature names should match those that were passed during fit. Starting version 1.2, an error will be raised.\n",
      "Feature names unseen at fit time:\n",
      "- Sumaryczna kwota transakcji w bankomatach w 6 ostatnich miesiącach\n",
      "- Sumaryczna kwota wpływów klienta w w 6 ostatnich miesiącach\n",
      "- Sumaryczna kwota wpływów klienta z tytułu emerytury w w 6 ostatnich miesiącach\n",
      "- Sumaryczna kwota wpływów klienta z tytułu programu 500 plus w w 6 ostatnich miesiącach\n",
      "- Sumaryczna kwota wpływów klienta z tytułu stypendium w w 6 ostatnich miesiącach\n",
      "- ...\n",
      "Feature names seen at fit time, yet now missing:\n",
      "- X1\n",
      "- X102\n",
      "- X109\n",
      "- X11\n",
      "- X116\n",
      "- ...\n",
      "\n",
      "\n",
      "Calculating ceteris paribus:  40%|███▉      | 17/43 [00:00<00:01, 24.56it/s]C:\\Users\\alan\\anaconda3\\envs\\xai\\lib\\site-packages\\sklearn\\base.py:493: FutureWarning:\n",
      "\n",
      "The feature names should match those that were passed during fit. Starting version 1.2, an error will be raised.\n",
      "Feature names unseen at fit time:\n",
      "- Sumaryczna kwota transakcji w bankomatach w 6 ostatnich miesiącach\n",
      "- Sumaryczna kwota wpływów klienta w w 6 ostatnich miesiącach\n",
      "- Sumaryczna kwota wpływów klienta z tytułu emerytury w w 6 ostatnich miesiącach\n",
      "- Sumaryczna kwota wpływów klienta z tytułu programu 500 plus w w 6 ostatnich miesiącach\n",
      "- Sumaryczna kwota wpływów klienta z tytułu stypendium w w 6 ostatnich miesiącach\n",
      "- ...\n",
      "Feature names seen at fit time, yet now missing:\n",
      "- X1\n",
      "- X102\n",
      "- X109\n",
      "- X11\n",
      "- X116\n",
      "- ...\n",
      "\n",
      "\n",
      "C:\\Users\\alan\\anaconda3\\envs\\xai\\lib\\site-packages\\sklearn\\base.py:493: FutureWarning:\n",
      "\n",
      "The feature names should match those that were passed during fit. Starting version 1.2, an error will be raised.\n",
      "Feature names unseen at fit time:\n",
      "- Sumaryczna kwota transakcji w bankomatach w 6 ostatnich miesiącach\n",
      "- Sumaryczna kwota wpływów klienta w w 6 ostatnich miesiącach\n",
      "- Sumaryczna kwota wpływów klienta z tytułu emerytury w w 6 ostatnich miesiącach\n",
      "- Sumaryczna kwota wpływów klienta z tytułu programu 500 plus w w 6 ostatnich miesiącach\n",
      "- Sumaryczna kwota wpływów klienta z tytułu stypendium w w 6 ostatnich miesiącach\n",
      "- ...\n",
      "Feature names seen at fit time, yet now missing:\n",
      "- X1\n",
      "- X102\n",
      "- X109\n",
      "- X11\n",
      "- X116\n",
      "- ...\n",
      "\n",
      "\n",
      "C:\\Users\\alan\\anaconda3\\envs\\xai\\lib\\site-packages\\sklearn\\base.py:493: FutureWarning:\n",
      "\n",
      "The feature names should match those that were passed during fit. Starting version 1.2, an error will be raised.\n",
      "Feature names unseen at fit time:\n",
      "- Sumaryczna kwota transakcji w bankomatach w 6 ostatnich miesiącach\n",
      "- Sumaryczna kwota wpływów klienta w w 6 ostatnich miesiącach\n",
      "- Sumaryczna kwota wpływów klienta z tytułu emerytury w w 6 ostatnich miesiącach\n",
      "- Sumaryczna kwota wpływów klienta z tytułu programu 500 plus w w 6 ostatnich miesiącach\n",
      "- Sumaryczna kwota wpływów klienta z tytułu stypendium w w 6 ostatnich miesiącach\n",
      "- ...\n",
      "Feature names seen at fit time, yet now missing:\n",
      "- X1\n",
      "- X102\n",
      "- X109\n",
      "- X11\n",
      "- X116\n",
      "- ...\n",
      "\n",
      "\n",
      "Calculating ceteris paribus:  47%|████▋     | 20/43 [00:00<00:00, 24.73it/s]C:\\Users\\alan\\anaconda3\\envs\\xai\\lib\\site-packages\\sklearn\\base.py:493: FutureWarning:\n",
      "\n",
      "The feature names should match those that were passed during fit. Starting version 1.2, an error will be raised.\n",
      "Feature names unseen at fit time:\n",
      "- Sumaryczna kwota transakcji w bankomatach w 6 ostatnich miesiącach\n",
      "- Sumaryczna kwota wpływów klienta w w 6 ostatnich miesiącach\n",
      "- Sumaryczna kwota wpływów klienta z tytułu emerytury w w 6 ostatnich miesiącach\n",
      "- Sumaryczna kwota wpływów klienta z tytułu programu 500 plus w w 6 ostatnich miesiącach\n",
      "- Sumaryczna kwota wpływów klienta z tytułu stypendium w w 6 ostatnich miesiącach\n",
      "- ...\n",
      "Feature names seen at fit time, yet now missing:\n",
      "- X1\n",
      "- X102\n",
      "- X109\n",
      "- X11\n",
      "- X116\n",
      "- ...\n",
      "\n",
      "\n",
      "C:\\Users\\alan\\anaconda3\\envs\\xai\\lib\\site-packages\\sklearn\\base.py:493: FutureWarning:\n",
      "\n",
      "The feature names should match those that were passed during fit. Starting version 1.2, an error will be raised.\n",
      "Feature names unseen at fit time:\n",
      "- Sumaryczna kwota transakcji w bankomatach w 6 ostatnich miesiącach\n",
      "- Sumaryczna kwota wpływów klienta w w 6 ostatnich miesiącach\n",
      "- Sumaryczna kwota wpływów klienta z tytułu emerytury w w 6 ostatnich miesiącach\n",
      "- Sumaryczna kwota wpływów klienta z tytułu programu 500 plus w w 6 ostatnich miesiącach\n",
      "- Sumaryczna kwota wpływów klienta z tytułu stypendium w w 6 ostatnich miesiącach\n",
      "- ...\n",
      "Feature names seen at fit time, yet now missing:\n",
      "- X1\n",
      "- X102\n",
      "- X109\n",
      "- X11\n",
      "- X116\n",
      "- ...\n",
      "\n",
      "\n",
      "C:\\Users\\alan\\anaconda3\\envs\\xai\\lib\\site-packages\\sklearn\\base.py:493: FutureWarning:\n",
      "\n",
      "The feature names should match those that were passed during fit. Starting version 1.2, an error will be raised.\n",
      "Feature names unseen at fit time:\n",
      "- Sumaryczna kwota transakcji w bankomatach w 6 ostatnich miesiącach\n",
      "- Sumaryczna kwota wpływów klienta w w 6 ostatnich miesiącach\n",
      "- Sumaryczna kwota wpływów klienta z tytułu emerytury w w 6 ostatnich miesiącach\n",
      "- Sumaryczna kwota wpływów klienta z tytułu programu 500 plus w w 6 ostatnich miesiącach\n",
      "- Sumaryczna kwota wpływów klienta z tytułu stypendium w w 6 ostatnich miesiącach\n",
      "- ...\n",
      "Feature names seen at fit time, yet now missing:\n",
      "- X1\n",
      "- X102\n",
      "- X109\n",
      "- X11\n",
      "- X116\n",
      "- ...\n",
      "\n",
      "\n",
      "Calculating ceteris paribus:  53%|█████▎    | 23/43 [00:00<00:00, 24.24it/s]C:\\Users\\alan\\anaconda3\\envs\\xai\\lib\\site-packages\\sklearn\\base.py:493: FutureWarning:\n",
      "\n",
      "The feature names should match those that were passed during fit. Starting version 1.2, an error will be raised.\n",
      "Feature names unseen at fit time:\n",
      "- Sumaryczna kwota transakcji w bankomatach w 6 ostatnich miesiącach\n",
      "- Sumaryczna kwota wpływów klienta w w 6 ostatnich miesiącach\n",
      "- Sumaryczna kwota wpływów klienta z tytułu emerytury w w 6 ostatnich miesiącach\n",
      "- Sumaryczna kwota wpływów klienta z tytułu programu 500 plus w w 6 ostatnich miesiącach\n",
      "- Sumaryczna kwota wpływów klienta z tytułu stypendium w w 6 ostatnich miesiącach\n",
      "- ...\n",
      "Feature names seen at fit time, yet now missing:\n",
      "- X1\n",
      "- X102\n",
      "- X109\n",
      "- X11\n",
      "- X116\n",
      "- ...\n",
      "\n",
      "\n",
      "C:\\Users\\alan\\anaconda3\\envs\\xai\\lib\\site-packages\\sklearn\\base.py:493: FutureWarning:\n",
      "\n",
      "The feature names should match those that were passed during fit. Starting version 1.2, an error will be raised.\n",
      "Feature names unseen at fit time:\n",
      "- Sumaryczna kwota transakcji w bankomatach w 6 ostatnich miesiącach\n",
      "- Sumaryczna kwota wpływów klienta w w 6 ostatnich miesiącach\n",
      "- Sumaryczna kwota wpływów klienta z tytułu emerytury w w 6 ostatnich miesiącach\n",
      "- Sumaryczna kwota wpływów klienta z tytułu programu 500 plus w w 6 ostatnich miesiącach\n",
      "- Sumaryczna kwota wpływów klienta z tytułu stypendium w w 6 ostatnich miesiącach\n",
      "- ...\n",
      "Feature names seen at fit time, yet now missing:\n",
      "- X1\n",
      "- X102\n",
      "- X109\n",
      "- X11\n",
      "- X116\n",
      "- ...\n",
      "\n",
      "\n",
      "C:\\Users\\alan\\anaconda3\\envs\\xai\\lib\\site-packages\\sklearn\\base.py:493: FutureWarning:\n",
      "\n",
      "The feature names should match those that were passed during fit. Starting version 1.2, an error will be raised.\n",
      "Feature names unseen at fit time:\n",
      "- Sumaryczna kwota transakcji w bankomatach w 6 ostatnich miesiącach\n",
      "- Sumaryczna kwota wpływów klienta w w 6 ostatnich miesiącach\n",
      "- Sumaryczna kwota wpływów klienta z tytułu emerytury w w 6 ostatnich miesiącach\n",
      "- Sumaryczna kwota wpływów klienta z tytułu programu 500 plus w w 6 ostatnich miesiącach\n",
      "- Sumaryczna kwota wpływów klienta z tytułu stypendium w w 6 ostatnich miesiącach\n",
      "- ...\n",
      "Feature names seen at fit time, yet now missing:\n",
      "- X1\n",
      "- X102\n",
      "- X109\n",
      "- X11\n",
      "- X116\n",
      "- ...\n",
      "\n",
      "\n",
      "Calculating ceteris paribus:  60%|██████    | 26/43 [00:01<00:00, 24.98it/s]C:\\Users\\alan\\anaconda3\\envs\\xai\\lib\\site-packages\\sklearn\\base.py:493: FutureWarning:\n",
      "\n",
      "The feature names should match those that were passed during fit. Starting version 1.2, an error will be raised.\n",
      "Feature names unseen at fit time:\n",
      "- Sumaryczna kwota transakcji w bankomatach w 6 ostatnich miesiącach\n",
      "- Sumaryczna kwota wpływów klienta w w 6 ostatnich miesiącach\n",
      "- Sumaryczna kwota wpływów klienta z tytułu emerytury w w 6 ostatnich miesiącach\n",
      "- Sumaryczna kwota wpływów klienta z tytułu programu 500 plus w w 6 ostatnich miesiącach\n",
      "- Sumaryczna kwota wpływów klienta z tytułu stypendium w w 6 ostatnich miesiącach\n",
      "- ...\n",
      "Feature names seen at fit time, yet now missing:\n",
      "- X1\n",
      "- X102\n",
      "- X109\n",
      "- X11\n",
      "- X116\n",
      "- ...\n",
      "\n",
      "\n",
      "C:\\Users\\alan\\anaconda3\\envs\\xai\\lib\\site-packages\\sklearn\\base.py:493: FutureWarning:\n",
      "\n",
      "The feature names should match those that were passed during fit. Starting version 1.2, an error will be raised.\n",
      "Feature names unseen at fit time:\n",
      "- Sumaryczna kwota transakcji w bankomatach w 6 ostatnich miesiącach\n",
      "- Sumaryczna kwota wpływów klienta w w 6 ostatnich miesiącach\n",
      "- Sumaryczna kwota wpływów klienta z tytułu emerytury w w 6 ostatnich miesiącach\n",
      "- Sumaryczna kwota wpływów klienta z tytułu programu 500 plus w w 6 ostatnich miesiącach\n",
      "- Sumaryczna kwota wpływów klienta z tytułu stypendium w w 6 ostatnich miesiącach\n",
      "- ...\n",
      "Feature names seen at fit time, yet now missing:\n",
      "- X1\n",
      "- X102\n",
      "- X109\n",
      "- X11\n",
      "- X116\n",
      "- ...\n",
      "\n",
      "\n",
      "C:\\Users\\alan\\anaconda3\\envs\\xai\\lib\\site-packages\\sklearn\\base.py:493: FutureWarning:\n",
      "\n",
      "The feature names should match those that were passed during fit. Starting version 1.2, an error will be raised.\n",
      "Feature names unseen at fit time:\n",
      "- Sumaryczna kwota transakcji w bankomatach w 6 ostatnich miesiącach\n",
      "- Sumaryczna kwota wpływów klienta w w 6 ostatnich miesiącach\n",
      "- Sumaryczna kwota wpływów klienta z tytułu emerytury w w 6 ostatnich miesiącach\n",
      "- Sumaryczna kwota wpływów klienta z tytułu programu 500 plus w w 6 ostatnich miesiącach\n",
      "- Sumaryczna kwota wpływów klienta z tytułu stypendium w w 6 ostatnich miesiącach\n",
      "- ...\n",
      "Feature names seen at fit time, yet now missing:\n",
      "- X1\n",
      "- X102\n",
      "- X109\n",
      "- X11\n",
      "- X116\n",
      "- ...\n",
      "\n",
      "\n",
      "Calculating ceteris paribus:  67%|██████▋   | 29/43 [00:01<00:00, 25.25it/s]C:\\Users\\alan\\anaconda3\\envs\\xai\\lib\\site-packages\\sklearn\\base.py:493: FutureWarning:\n",
      "\n",
      "The feature names should match those that were passed during fit. Starting version 1.2, an error will be raised.\n",
      "Feature names unseen at fit time:\n",
      "- Sumaryczna kwota transakcji w bankomatach w 6 ostatnich miesiącach\n",
      "- Sumaryczna kwota wpływów klienta w w 6 ostatnich miesiącach\n",
      "- Sumaryczna kwota wpływów klienta z tytułu emerytury w w 6 ostatnich miesiącach\n",
      "- Sumaryczna kwota wpływów klienta z tytułu programu 500 plus w w 6 ostatnich miesiącach\n",
      "- Sumaryczna kwota wpływów klienta z tytułu stypendium w w 6 ostatnich miesiącach\n",
      "- ...\n",
      "Feature names seen at fit time, yet now missing:\n",
      "- X1\n",
      "- X102\n",
      "- X109\n",
      "- X11\n",
      "- X116\n",
      "- ...\n",
      "\n",
      "\n",
      "C:\\Users\\alan\\anaconda3\\envs\\xai\\lib\\site-packages\\sklearn\\base.py:493: FutureWarning:\n",
      "\n",
      "The feature names should match those that were passed during fit. Starting version 1.2, an error will be raised.\n",
      "Feature names unseen at fit time:\n",
      "- Sumaryczna kwota transakcji w bankomatach w 6 ostatnich miesiącach\n",
      "- Sumaryczna kwota wpływów klienta w w 6 ostatnich miesiącach\n",
      "- Sumaryczna kwota wpływów klienta z tytułu emerytury w w 6 ostatnich miesiącach\n",
      "- Sumaryczna kwota wpływów klienta z tytułu programu 500 plus w w 6 ostatnich miesiącach\n",
      "- Sumaryczna kwota wpływów klienta z tytułu stypendium w w 6 ostatnich miesiącach\n",
      "- ...\n",
      "Feature names seen at fit time, yet now missing:\n",
      "- X1\n",
      "- X102\n",
      "- X109\n",
      "- X11\n",
      "- X116\n",
      "- ...\n",
      "\n",
      "\n",
      "C:\\Users\\alan\\anaconda3\\envs\\xai\\lib\\site-packages\\sklearn\\base.py:493: FutureWarning:\n",
      "\n",
      "The feature names should match those that were passed during fit. Starting version 1.2, an error will be raised.\n",
      "Feature names unseen at fit time:\n",
      "- Sumaryczna kwota transakcji w bankomatach w 6 ostatnich miesiącach\n",
      "- Sumaryczna kwota wpływów klienta w w 6 ostatnich miesiącach\n",
      "- Sumaryczna kwota wpływów klienta z tytułu emerytury w w 6 ostatnich miesiącach\n",
      "- Sumaryczna kwota wpływów klienta z tytułu programu 500 plus w w 6 ostatnich miesiącach\n",
      "- Sumaryczna kwota wpływów klienta z tytułu stypendium w w 6 ostatnich miesiącach\n",
      "- ...\n",
      "Feature names seen at fit time, yet now missing:\n",
      "- X1\n",
      "- X102\n",
      "- X109\n",
      "- X11\n",
      "- X116\n",
      "- ...\n",
      "\n",
      "\n",
      "Calculating ceteris paribus:  74%|███████▍  | 32/43 [00:01<00:00, 20.31it/s]C:\\Users\\alan\\anaconda3\\envs\\xai\\lib\\site-packages\\sklearn\\base.py:493: FutureWarning:\n",
      "\n",
      "The feature names should match those that were passed during fit. Starting version 1.2, an error will be raised.\n",
      "Feature names unseen at fit time:\n",
      "- Sumaryczna kwota transakcji w bankomatach w 6 ostatnich miesiącach\n",
      "- Sumaryczna kwota wpływów klienta w w 6 ostatnich miesiącach\n",
      "- Sumaryczna kwota wpływów klienta z tytułu emerytury w w 6 ostatnich miesiącach\n",
      "- Sumaryczna kwota wpływów klienta z tytułu programu 500 plus w w 6 ostatnich miesiącach\n",
      "- Sumaryczna kwota wpływów klienta z tytułu stypendium w w 6 ostatnich miesiącach\n",
      "- ...\n",
      "Feature names seen at fit time, yet now missing:\n",
      "- X1\n",
      "- X102\n",
      "- X109\n",
      "- X11\n",
      "- X116\n",
      "- ...\n",
      "\n",
      "\n",
      "C:\\Users\\alan\\anaconda3\\envs\\xai\\lib\\site-packages\\sklearn\\base.py:493: FutureWarning:\n",
      "\n",
      "The feature names should match those that were passed during fit. Starting version 1.2, an error will be raised.\n",
      "Feature names unseen at fit time:\n",
      "- Sumaryczna kwota transakcji w bankomatach w 6 ostatnich miesiącach\n",
      "- Sumaryczna kwota wpływów klienta w w 6 ostatnich miesiącach\n",
      "- Sumaryczna kwota wpływów klienta z tytułu emerytury w w 6 ostatnich miesiącach\n",
      "- Sumaryczna kwota wpływów klienta z tytułu programu 500 plus w w 6 ostatnich miesiącach\n",
      "- Sumaryczna kwota wpływów klienta z tytułu stypendium w w 6 ostatnich miesiącach\n",
      "- ...\n",
      "Feature names seen at fit time, yet now missing:\n",
      "- X1\n",
      "- X102\n",
      "- X109\n",
      "- X11\n",
      "- X116\n",
      "- ...\n",
      "\n",
      "\n",
      "C:\\Users\\alan\\anaconda3\\envs\\xai\\lib\\site-packages\\sklearn\\base.py:493: FutureWarning:\n",
      "\n",
      "The feature names should match those that were passed during fit. Starting version 1.2, an error will be raised.\n",
      "Feature names unseen at fit time:\n",
      "- Sumaryczna kwota transakcji w bankomatach w 6 ostatnich miesiącach\n",
      "- Sumaryczna kwota wpływów klienta w w 6 ostatnich miesiącach\n",
      "- Sumaryczna kwota wpływów klienta z tytułu emerytury w w 6 ostatnich miesiącach\n",
      "- Sumaryczna kwota wpływów klienta z tytułu programu 500 plus w w 6 ostatnich miesiącach\n",
      "- Sumaryczna kwota wpływów klienta z tytułu stypendium w w 6 ostatnich miesiącach\n",
      "- ...\n",
      "Feature names seen at fit time, yet now missing:\n",
      "- X1\n",
      "- X102\n",
      "- X109\n",
      "- X11\n",
      "- X116\n",
      "- ...\n",
      "\n",
      "\n",
      "Calculating ceteris paribus:  81%|████████▏ | 35/43 [00:01<00:00, 21.92it/s]C:\\Users\\alan\\anaconda3\\envs\\xai\\lib\\site-packages\\sklearn\\base.py:493: FutureWarning:\n",
      "\n",
      "The feature names should match those that were passed during fit. Starting version 1.2, an error will be raised.\n",
      "Feature names unseen at fit time:\n",
      "- Sumaryczna kwota transakcji w bankomatach w 6 ostatnich miesiącach\n",
      "- Sumaryczna kwota wpływów klienta w w 6 ostatnich miesiącach\n",
      "- Sumaryczna kwota wpływów klienta z tytułu emerytury w w 6 ostatnich miesiącach\n",
      "- Sumaryczna kwota wpływów klienta z tytułu programu 500 plus w w 6 ostatnich miesiącach\n",
      "- Sumaryczna kwota wpływów klienta z tytułu stypendium w w 6 ostatnich miesiącach\n",
      "- ...\n",
      "Feature names seen at fit time, yet now missing:\n",
      "- X1\n",
      "- X102\n",
      "- X109\n",
      "- X11\n",
      "- X116\n",
      "- ...\n",
      "\n",
      "\n",
      "C:\\Users\\alan\\anaconda3\\envs\\xai\\lib\\site-packages\\sklearn\\base.py:493: FutureWarning:\n",
      "\n",
      "The feature names should match those that were passed during fit. Starting version 1.2, an error will be raised.\n",
      "Feature names unseen at fit time:\n",
      "- Sumaryczna kwota transakcji w bankomatach w 6 ostatnich miesiącach\n",
      "- Sumaryczna kwota wpływów klienta w w 6 ostatnich miesiącach\n",
      "- Sumaryczna kwota wpływów klienta z tytułu emerytury w w 6 ostatnich miesiącach\n",
      "- Sumaryczna kwota wpływów klienta z tytułu programu 500 plus w w 6 ostatnich miesiącach\n",
      "- Sumaryczna kwota wpływów klienta z tytułu stypendium w w 6 ostatnich miesiącach\n",
      "- ...\n",
      "Feature names seen at fit time, yet now missing:\n",
      "- X1\n",
      "- X102\n",
      "- X109\n",
      "- X11\n",
      "- X116\n",
      "- ...\n",
      "\n",
      "\n",
      "C:\\Users\\alan\\anaconda3\\envs\\xai\\lib\\site-packages\\sklearn\\base.py:493: FutureWarning:\n",
      "\n",
      "The feature names should match those that were passed during fit. Starting version 1.2, an error will be raised.\n",
      "Feature names unseen at fit time:\n",
      "- Sumaryczna kwota transakcji w bankomatach w 6 ostatnich miesiącach\n",
      "- Sumaryczna kwota wpływów klienta w w 6 ostatnich miesiącach\n",
      "- Sumaryczna kwota wpływów klienta z tytułu emerytury w w 6 ostatnich miesiącach\n",
      "- Sumaryczna kwota wpływów klienta z tytułu programu 500 plus w w 6 ostatnich miesiącach\n",
      "- Sumaryczna kwota wpływów klienta z tytułu stypendium w w 6 ostatnich miesiącach\n",
      "- ...\n",
      "Feature names seen at fit time, yet now missing:\n",
      "- X1\n",
      "- X102\n",
      "- X109\n",
      "- X11\n",
      "- X116\n",
      "- ...\n",
      "\n",
      "\n",
      "Calculating ceteris paribus:  88%|████████▊ | 38/43 [00:01<00:00, 23.33it/s]C:\\Users\\alan\\anaconda3\\envs\\xai\\lib\\site-packages\\sklearn\\base.py:493: FutureWarning:\n",
      "\n",
      "The feature names should match those that were passed during fit. Starting version 1.2, an error will be raised.\n",
      "Feature names unseen at fit time:\n",
      "- Sumaryczna kwota transakcji w bankomatach w 6 ostatnich miesiącach\n",
      "- Sumaryczna kwota wpływów klienta w w 6 ostatnich miesiącach\n",
      "- Sumaryczna kwota wpływów klienta z tytułu emerytury w w 6 ostatnich miesiącach\n",
      "- Sumaryczna kwota wpływów klienta z tytułu programu 500 plus w w 6 ostatnich miesiącach\n",
      "- Sumaryczna kwota wpływów klienta z tytułu stypendium w w 6 ostatnich miesiącach\n",
      "- ...\n",
      "Feature names seen at fit time, yet now missing:\n",
      "- X1\n",
      "- X102\n",
      "- X109\n",
      "- X11\n",
      "- X116\n",
      "- ...\n",
      "\n",
      "\n",
      "C:\\Users\\alan\\anaconda3\\envs\\xai\\lib\\site-packages\\sklearn\\base.py:493: FutureWarning:\n",
      "\n",
      "The feature names should match those that were passed during fit. Starting version 1.2, an error will be raised.\n",
      "Feature names unseen at fit time:\n",
      "- Sumaryczna kwota transakcji w bankomatach w 6 ostatnich miesiącach\n",
      "- Sumaryczna kwota wpływów klienta w w 6 ostatnich miesiącach\n",
      "- Sumaryczna kwota wpływów klienta z tytułu emerytury w w 6 ostatnich miesiącach\n",
      "- Sumaryczna kwota wpływów klienta z tytułu programu 500 plus w w 6 ostatnich miesiącach\n",
      "- Sumaryczna kwota wpływów klienta z tytułu stypendium w w 6 ostatnich miesiącach\n",
      "- ...\n",
      "Feature names seen at fit time, yet now missing:\n",
      "- X1\n",
      "- X102\n",
      "- X109\n",
      "- X11\n",
      "- X116\n",
      "- ...\n",
      "\n",
      "\n",
      "C:\\Users\\alan\\anaconda3\\envs\\xai\\lib\\site-packages\\sklearn\\base.py:493: FutureWarning:\n",
      "\n",
      "The feature names should match those that were passed during fit. Starting version 1.2, an error will be raised.\n",
      "Feature names unseen at fit time:\n",
      "- Sumaryczna kwota transakcji w bankomatach w 6 ostatnich miesiącach\n",
      "- Sumaryczna kwota wpływów klienta w w 6 ostatnich miesiącach\n",
      "- Sumaryczna kwota wpływów klienta z tytułu emerytury w w 6 ostatnich miesiącach\n",
      "- Sumaryczna kwota wpływów klienta z tytułu programu 500 plus w w 6 ostatnich miesiącach\n",
      "- Sumaryczna kwota wpływów klienta z tytułu stypendium w w 6 ostatnich miesiącach\n",
      "- ...\n",
      "Feature names seen at fit time, yet now missing:\n",
      "- X1\n",
      "- X102\n",
      "- X109\n",
      "- X11\n",
      "- X116\n",
      "- ...\n",
      "\n",
      "\n",
      "Calculating ceteris paribus:  95%|█████████▌| 41/43 [00:01<00:00, 24.84it/s]C:\\Users\\alan\\anaconda3\\envs\\xai\\lib\\site-packages\\sklearn\\base.py:493: FutureWarning:\n",
      "\n",
      "The feature names should match those that were passed during fit. Starting version 1.2, an error will be raised.\n",
      "Feature names unseen at fit time:\n",
      "- Sumaryczna kwota transakcji w bankomatach w 6 ostatnich miesiącach\n",
      "- Sumaryczna kwota wpływów klienta w w 6 ostatnich miesiącach\n",
      "- Sumaryczna kwota wpływów klienta z tytułu emerytury w w 6 ostatnich miesiącach\n",
      "- Sumaryczna kwota wpływów klienta z tytułu programu 500 plus w w 6 ostatnich miesiącach\n",
      "- Sumaryczna kwota wpływów klienta z tytułu stypendium w w 6 ostatnich miesiącach\n",
      "- ...\n",
      "Feature names seen at fit time, yet now missing:\n",
      "- X1\n",
      "- X102\n",
      "- X109\n",
      "- X11\n",
      "- X116\n",
      "- ...\n",
      "\n",
      "\n",
      "C:\\Users\\alan\\anaconda3\\envs\\xai\\lib\\site-packages\\sklearn\\base.py:493: FutureWarning:\n",
      "\n",
      "The feature names should match those that were passed during fit. Starting version 1.2, an error will be raised.\n",
      "Feature names unseen at fit time:\n",
      "- Sumaryczna kwota transakcji w bankomatach w 6 ostatnich miesiącach\n",
      "- Sumaryczna kwota wpływów klienta w w 6 ostatnich miesiącach\n",
      "- Sumaryczna kwota wpływów klienta z tytułu emerytury w w 6 ostatnich miesiącach\n",
      "- Sumaryczna kwota wpływów klienta z tytułu programu 500 plus w w 6 ostatnich miesiącach\n",
      "- Sumaryczna kwota wpływów klienta z tytułu stypendium w w 6 ostatnich miesiącach\n",
      "- ...\n",
      "Feature names seen at fit time, yet now missing:\n",
      "- X1\n",
      "- X102\n",
      "- X109\n",
      "- X11\n",
      "- X116\n",
      "- ...\n",
      "\n",
      "\n",
      "Calculating ceteris paribus: 100%|██████████| 43/43 [00:01<00:00, 23.96it/s]\n",
      "C:\\Users\\alan\\anaconda3\\envs\\xai\\lib\\site-packages\\sklearn\\base.py:493: FutureWarning:\n",
      "\n",
      "The feature names should match those that were passed during fit. Starting version 1.2, an error will be raised.\n",
      "Feature names unseen at fit time:\n",
      "- Sumaryczna kwota transakcji w bankomatach w 6 ostatnich miesiącach\n",
      "- Sumaryczna kwota wpływów klienta w w 6 ostatnich miesiącach\n",
      "- Sumaryczna kwota wpływów klienta z tytułu emerytury w w 6 ostatnich miesiącach\n",
      "- Sumaryczna kwota wpływów klienta z tytułu programu 500 plus w w 6 ostatnich miesiącach\n",
      "- Sumaryczna kwota wpływów klienta z tytułu stypendium w w 6 ostatnich miesiącach\n",
      "- ...\n",
      "Feature names seen at fit time, yet now missing:\n",
      "- X1\n",
      "- X102\n",
      "- X109\n",
      "- X11\n",
      "- X116\n",
      "- ...\n",
      "\n",
      "\n",
      "Calculating ceteris paribus: 100%|██████████| 43/43 [00:00<00:00, 202.79it/s]\n",
      "Calculating ceteris paribus:   0%|          | 0/43 [00:00<?, ?it/s]C:\\Users\\alan\\anaconda3\\envs\\xai\\lib\\site-packages\\sklearn\\base.py:493: FutureWarning:\n",
      "\n",
      "The feature names should match those that were passed during fit. Starting version 1.2, an error will be raised.\n",
      "Feature names unseen at fit time:\n",
      "- Sumaryczna kwota transakcji w bankomatach w 6 ostatnich miesiącach\n",
      "- Sumaryczna kwota wpływów klienta w w 6 ostatnich miesiącach\n",
      "- Sumaryczna kwota wpływów klienta z tytułu emerytury w w 6 ostatnich miesiącach\n",
      "- Sumaryczna kwota wpływów klienta z tytułu programu 500 plus w w 6 ostatnich miesiącach\n",
      "- Sumaryczna kwota wpływów klienta z tytułu stypendium w w 6 ostatnich miesiącach\n",
      "- ...\n",
      "Feature names seen at fit time, yet now missing:\n",
      "- X1\n",
      "- X102\n",
      "- X109\n",
      "- X11\n",
      "- X116\n",
      "- ...\n",
      "\n",
      "\n",
      "C:\\Users\\alan\\anaconda3\\envs\\xai\\lib\\site-packages\\sklearn\\base.py:493: FutureWarning:\n",
      "\n",
      "The feature names should match those that were passed during fit. Starting version 1.2, an error will be raised.\n",
      "Feature names unseen at fit time:\n",
      "- Sumaryczna kwota transakcji w bankomatach w 6 ostatnich miesiącach\n",
      "- Sumaryczna kwota wpływów klienta w w 6 ostatnich miesiącach\n",
      "- Sumaryczna kwota wpływów klienta z tytułu emerytury w w 6 ostatnich miesiącach\n",
      "- Sumaryczna kwota wpływów klienta z tytułu programu 500 plus w w 6 ostatnich miesiącach\n",
      "- Sumaryczna kwota wpływów klienta z tytułu stypendium w w 6 ostatnich miesiącach\n",
      "- ...\n",
      "Feature names seen at fit time, yet now missing:\n",
      "- X1\n",
      "- X102\n",
      "- X109\n",
      "- X11\n",
      "- X116\n",
      "- ...\n",
      "\n",
      "\n",
      "C:\\Users\\alan\\anaconda3\\envs\\xai\\lib\\site-packages\\sklearn\\base.py:493: FutureWarning:\n",
      "\n",
      "The feature names should match those that were passed during fit. Starting version 1.2, an error will be raised.\n",
      "Feature names unseen at fit time:\n",
      "- Sumaryczna kwota transakcji w bankomatach w 6 ostatnich miesiącach\n",
      "- Sumaryczna kwota wpływów klienta w w 6 ostatnich miesiącach\n",
      "- Sumaryczna kwota wpływów klienta z tytułu emerytury w w 6 ostatnich miesiącach\n",
      "- Sumaryczna kwota wpływów klienta z tytułu programu 500 plus w w 6 ostatnich miesiącach\n",
      "- Sumaryczna kwota wpływów klienta z tytułu stypendium w w 6 ostatnich miesiącach\n",
      "- ...\n",
      "Feature names seen at fit time, yet now missing:\n",
      "- X1\n",
      "- X102\n",
      "- X109\n",
      "- X11\n",
      "- X116\n",
      "- ...\n",
      "\n",
      "\n",
      "Calculating ceteris paribus:   7%|▋         | 3/43 [00:00<00:01, 23.07it/s]C:\\Users\\alan\\anaconda3\\envs\\xai\\lib\\site-packages\\sklearn\\base.py:493: FutureWarning:\n",
      "\n",
      "The feature names should match those that were passed during fit. Starting version 1.2, an error will be raised.\n",
      "Feature names unseen at fit time:\n",
      "- Sumaryczna kwota transakcji w bankomatach w 6 ostatnich miesiącach\n",
      "- Sumaryczna kwota wpływów klienta w w 6 ostatnich miesiącach\n",
      "- Sumaryczna kwota wpływów klienta z tytułu emerytury w w 6 ostatnich miesiącach\n",
      "- Sumaryczna kwota wpływów klienta z tytułu programu 500 plus w w 6 ostatnich miesiącach\n",
      "- Sumaryczna kwota wpływów klienta z tytułu stypendium w w 6 ostatnich miesiącach\n",
      "- ...\n",
      "Feature names seen at fit time, yet now missing:\n",
      "- X1\n",
      "- X102\n",
      "- X109\n",
      "- X11\n",
      "- X116\n",
      "- ...\n",
      "\n",
      "\n",
      "C:\\Users\\alan\\anaconda3\\envs\\xai\\lib\\site-packages\\sklearn\\base.py:493: FutureWarning:\n",
      "\n",
      "The feature names should match those that were passed during fit. Starting version 1.2, an error will be raised.\n",
      "Feature names unseen at fit time:\n",
      "- Sumaryczna kwota transakcji w bankomatach w 6 ostatnich miesiącach\n",
      "- Sumaryczna kwota wpływów klienta w w 6 ostatnich miesiącach\n",
      "- Sumaryczna kwota wpływów klienta z tytułu emerytury w w 6 ostatnich miesiącach\n",
      "- Sumaryczna kwota wpływów klienta z tytułu programu 500 plus w w 6 ostatnich miesiącach\n",
      "- Sumaryczna kwota wpływów klienta z tytułu stypendium w w 6 ostatnich miesiącach\n",
      "- ...\n",
      "Feature names seen at fit time, yet now missing:\n",
      "- X1\n",
      "- X102\n",
      "- X109\n",
      "- X11\n",
      "- X116\n",
      "- ...\n",
      "\n",
      "\n",
      "C:\\Users\\alan\\anaconda3\\envs\\xai\\lib\\site-packages\\sklearn\\base.py:493: FutureWarning:\n",
      "\n",
      "The feature names should match those that were passed during fit. Starting version 1.2, an error will be raised.\n",
      "Feature names unseen at fit time:\n",
      "- Sumaryczna kwota transakcji w bankomatach w 6 ostatnich miesiącach\n",
      "- Sumaryczna kwota wpływów klienta w w 6 ostatnich miesiącach\n",
      "- Sumaryczna kwota wpływów klienta z tytułu emerytury w w 6 ostatnich miesiącach\n",
      "- Sumaryczna kwota wpływów klienta z tytułu programu 500 plus w w 6 ostatnich miesiącach\n",
      "- Sumaryczna kwota wpływów klienta z tytułu stypendium w w 6 ostatnich miesiącach\n",
      "- ...\n",
      "Feature names seen at fit time, yet now missing:\n",
      "- X1\n",
      "- X102\n",
      "- X109\n",
      "- X11\n",
      "- X116\n",
      "- ...\n",
      "\n",
      "\n",
      "Calculating ceteris paribus:  14%|█▍        | 6/43 [00:00<00:01, 25.62it/s]C:\\Users\\alan\\anaconda3\\envs\\xai\\lib\\site-packages\\sklearn\\base.py:493: FutureWarning:\n",
      "\n",
      "The feature names should match those that were passed during fit. Starting version 1.2, an error will be raised.\n",
      "Feature names unseen at fit time:\n",
      "- Sumaryczna kwota transakcji w bankomatach w 6 ostatnich miesiącach\n",
      "- Sumaryczna kwota wpływów klienta w w 6 ostatnich miesiącach\n",
      "- Sumaryczna kwota wpływów klienta z tytułu emerytury w w 6 ostatnich miesiącach\n",
      "- Sumaryczna kwota wpływów klienta z tytułu programu 500 plus w w 6 ostatnich miesiącach\n",
      "- Sumaryczna kwota wpływów klienta z tytułu stypendium w w 6 ostatnich miesiącach\n",
      "- ...\n",
      "Feature names seen at fit time, yet now missing:\n",
      "- X1\n",
      "- X102\n",
      "- X109\n",
      "- X11\n",
      "- X116\n",
      "- ...\n",
      "\n",
      "\n",
      "C:\\Users\\alan\\anaconda3\\envs\\xai\\lib\\site-packages\\sklearn\\base.py:493: FutureWarning:\n",
      "\n",
      "The feature names should match those that were passed during fit. Starting version 1.2, an error will be raised.\n",
      "Feature names unseen at fit time:\n",
      "- Sumaryczna kwota transakcji w bankomatach w 6 ostatnich miesiącach\n",
      "- Sumaryczna kwota wpływów klienta w w 6 ostatnich miesiącach\n",
      "- Sumaryczna kwota wpływów klienta z tytułu emerytury w w 6 ostatnich miesiącach\n",
      "- Sumaryczna kwota wpływów klienta z tytułu programu 500 plus w w 6 ostatnich miesiącach\n",
      "- Sumaryczna kwota wpływów klienta z tytułu stypendium w w 6 ostatnich miesiącach\n",
      "- ...\n",
      "Feature names seen at fit time, yet now missing:\n",
      "- X1\n",
      "- X102\n",
      "- X109\n",
      "- X11\n",
      "- X116\n",
      "- ...\n",
      "\n",
      "\n",
      "C:\\Users\\alan\\anaconda3\\envs\\xai\\lib\\site-packages\\sklearn\\base.py:493: FutureWarning:\n",
      "\n",
      "The feature names should match those that were passed during fit. Starting version 1.2, an error will be raised.\n",
      "Feature names unseen at fit time:\n",
      "- Sumaryczna kwota transakcji w bankomatach w 6 ostatnich miesiącach\n",
      "- Sumaryczna kwota wpływów klienta w w 6 ostatnich miesiącach\n",
      "- Sumaryczna kwota wpływów klienta z tytułu emerytury w w 6 ostatnich miesiącach\n",
      "- Sumaryczna kwota wpływów klienta z tytułu programu 500 plus w w 6 ostatnich miesiącach\n",
      "- Sumaryczna kwota wpływów klienta z tytułu stypendium w w 6 ostatnich miesiącach\n",
      "- ...\n",
      "Feature names seen at fit time, yet now missing:\n",
      "- X1\n",
      "- X102\n",
      "- X109\n",
      "- X11\n",
      "- X116\n",
      "- ...\n",
      "\n",
      "\n",
      "Calculating ceteris paribus:  21%|██        | 9/43 [00:00<00:01, 26.78it/s]C:\\Users\\alan\\anaconda3\\envs\\xai\\lib\\site-packages\\sklearn\\base.py:493: FutureWarning:\n",
      "\n",
      "The feature names should match those that were passed during fit. Starting version 1.2, an error will be raised.\n",
      "Feature names unseen at fit time:\n",
      "- Sumaryczna kwota transakcji w bankomatach w 6 ostatnich miesiącach\n",
      "- Sumaryczna kwota wpływów klienta w w 6 ostatnich miesiącach\n",
      "- Sumaryczna kwota wpływów klienta z tytułu emerytury w w 6 ostatnich miesiącach\n",
      "- Sumaryczna kwota wpływów klienta z tytułu programu 500 plus w w 6 ostatnich miesiącach\n",
      "- Sumaryczna kwota wpływów klienta z tytułu stypendium w w 6 ostatnich miesiącach\n",
      "- ...\n",
      "Feature names seen at fit time, yet now missing:\n",
      "- X1\n",
      "- X102\n",
      "- X109\n",
      "- X11\n",
      "- X116\n",
      "- ...\n",
      "\n",
      "\n",
      "C:\\Users\\alan\\anaconda3\\envs\\xai\\lib\\site-packages\\sklearn\\base.py:493: FutureWarning:\n",
      "\n",
      "The feature names should match those that were passed during fit. Starting version 1.2, an error will be raised.\n",
      "Feature names unseen at fit time:\n",
      "- Sumaryczna kwota transakcji w bankomatach w 6 ostatnich miesiącach\n",
      "- Sumaryczna kwota wpływów klienta w w 6 ostatnich miesiącach\n",
      "- Sumaryczna kwota wpływów klienta z tytułu emerytury w w 6 ostatnich miesiącach\n",
      "- Sumaryczna kwota wpływów klienta z tytułu programu 500 plus w w 6 ostatnich miesiącach\n",
      "- Sumaryczna kwota wpływów klienta z tytułu stypendium w w 6 ostatnich miesiącach\n",
      "- ...\n",
      "Feature names seen at fit time, yet now missing:\n",
      "- X1\n",
      "- X102\n",
      "- X109\n",
      "- X11\n",
      "- X116\n",
      "- ...\n",
      "\n",
      "\n",
      "C:\\Users\\alan\\anaconda3\\envs\\xai\\lib\\site-packages\\sklearn\\base.py:493: FutureWarning:\n",
      "\n",
      "The feature names should match those that were passed during fit. Starting version 1.2, an error will be raised.\n",
      "Feature names unseen at fit time:\n",
      "- Sumaryczna kwota transakcji w bankomatach w 6 ostatnich miesiącach\n",
      "- Sumaryczna kwota wpływów klienta w w 6 ostatnich miesiącach\n",
      "- Sumaryczna kwota wpływów klienta z tytułu emerytury w w 6 ostatnich miesiącach\n",
      "- Sumaryczna kwota wpływów klienta z tytułu programu 500 plus w w 6 ostatnich miesiącach\n",
      "- Sumaryczna kwota wpływów klienta z tytułu stypendium w w 6 ostatnich miesiącach\n",
      "- ...\n",
      "Feature names seen at fit time, yet now missing:\n",
      "- X1\n",
      "- X102\n",
      "- X109\n",
      "- X11\n",
      "- X116\n",
      "- ...\n",
      "\n",
      "\n",
      "Calculating ceteris paribus:  28%|██▊       | 12/43 [00:00<00:01, 27.16it/s]C:\\Users\\alan\\anaconda3\\envs\\xai\\lib\\site-packages\\sklearn\\base.py:493: FutureWarning:\n",
      "\n",
      "The feature names should match those that were passed during fit. Starting version 1.2, an error will be raised.\n",
      "Feature names unseen at fit time:\n",
      "- Sumaryczna kwota transakcji w bankomatach w 6 ostatnich miesiącach\n",
      "- Sumaryczna kwota wpływów klienta w w 6 ostatnich miesiącach\n",
      "- Sumaryczna kwota wpływów klienta z tytułu emerytury w w 6 ostatnich miesiącach\n",
      "- Sumaryczna kwota wpływów klienta z tytułu programu 500 plus w w 6 ostatnich miesiącach\n",
      "- Sumaryczna kwota wpływów klienta z tytułu stypendium w w 6 ostatnich miesiącach\n",
      "- ...\n",
      "Feature names seen at fit time, yet now missing:\n",
      "- X1\n",
      "- X102\n",
      "- X109\n",
      "- X11\n",
      "- X116\n",
      "- ...\n",
      "\n",
      "\n",
      "C:\\Users\\alan\\anaconda3\\envs\\xai\\lib\\site-packages\\sklearn\\base.py:493: FutureWarning:\n",
      "\n",
      "The feature names should match those that were passed during fit. Starting version 1.2, an error will be raised.\n",
      "Feature names unseen at fit time:\n",
      "- Sumaryczna kwota transakcji w bankomatach w 6 ostatnich miesiącach\n",
      "- Sumaryczna kwota wpływów klienta w w 6 ostatnich miesiącach\n",
      "- Sumaryczna kwota wpływów klienta z tytułu emerytury w w 6 ostatnich miesiącach\n",
      "- Sumaryczna kwota wpływów klienta z tytułu programu 500 plus w w 6 ostatnich miesiącach\n",
      "- Sumaryczna kwota wpływów klienta z tytułu stypendium w w 6 ostatnich miesiącach\n",
      "- ...\n",
      "Feature names seen at fit time, yet now missing:\n",
      "- X1\n",
      "- X102\n",
      "- X109\n",
      "- X11\n",
      "- X116\n",
      "- ...\n",
      "\n",
      "\n",
      "C:\\Users\\alan\\anaconda3\\envs\\xai\\lib\\site-packages\\sklearn\\base.py:493: FutureWarning:\n",
      "\n",
      "The feature names should match those that were passed during fit. Starting version 1.2, an error will be raised.\n",
      "Feature names unseen at fit time:\n",
      "- Sumaryczna kwota transakcji w bankomatach w 6 ostatnich miesiącach\n",
      "- Sumaryczna kwota wpływów klienta w w 6 ostatnich miesiącach\n",
      "- Sumaryczna kwota wpływów klienta z tytułu emerytury w w 6 ostatnich miesiącach\n",
      "- Sumaryczna kwota wpływów klienta z tytułu programu 500 plus w w 6 ostatnich miesiącach\n",
      "- Sumaryczna kwota wpływów klienta z tytułu stypendium w w 6 ostatnich miesiącach\n",
      "- ...\n",
      "Feature names seen at fit time, yet now missing:\n",
      "- X1\n",
      "- X102\n",
      "- X109\n",
      "- X11\n",
      "- X116\n",
      "- ...\n",
      "\n",
      "\n",
      "Calculating ceteris paribus:  35%|███▍      | 15/43 [00:00<00:01, 27.60it/s]C:\\Users\\alan\\anaconda3\\envs\\xai\\lib\\site-packages\\sklearn\\base.py:493: FutureWarning:\n",
      "\n",
      "The feature names should match those that were passed during fit. Starting version 1.2, an error will be raised.\n",
      "Feature names unseen at fit time:\n",
      "- Sumaryczna kwota transakcji w bankomatach w 6 ostatnich miesiącach\n",
      "- Sumaryczna kwota wpływów klienta w w 6 ostatnich miesiącach\n",
      "- Sumaryczna kwota wpływów klienta z tytułu emerytury w w 6 ostatnich miesiącach\n",
      "- Sumaryczna kwota wpływów klienta z tytułu programu 500 plus w w 6 ostatnich miesiącach\n",
      "- Sumaryczna kwota wpływów klienta z tytułu stypendium w w 6 ostatnich miesiącach\n",
      "- ...\n",
      "Feature names seen at fit time, yet now missing:\n",
      "- X1\n",
      "- X102\n",
      "- X109\n",
      "- X11\n",
      "- X116\n",
      "- ...\n",
      "\n",
      "\n",
      "C:\\Users\\alan\\anaconda3\\envs\\xai\\lib\\site-packages\\sklearn\\base.py:493: FutureWarning:\n",
      "\n",
      "The feature names should match those that were passed during fit. Starting version 1.2, an error will be raised.\n",
      "Feature names unseen at fit time:\n",
      "- Sumaryczna kwota transakcji w bankomatach w 6 ostatnich miesiącach\n",
      "- Sumaryczna kwota wpływów klienta w w 6 ostatnich miesiącach\n",
      "- Sumaryczna kwota wpływów klienta z tytułu emerytury w w 6 ostatnich miesiącach\n",
      "- Sumaryczna kwota wpływów klienta z tytułu programu 500 plus w w 6 ostatnich miesiącach\n",
      "- Sumaryczna kwota wpływów klienta z tytułu stypendium w w 6 ostatnich miesiącach\n",
      "- ...\n",
      "Feature names seen at fit time, yet now missing:\n",
      "- X1\n",
      "- X102\n",
      "- X109\n",
      "- X11\n",
      "- X116\n",
      "- ...\n",
      "\n",
      "\n",
      "C:\\Users\\alan\\anaconda3\\envs\\xai\\lib\\site-packages\\sklearn\\base.py:493: FutureWarning:\n",
      "\n",
      "The feature names should match those that were passed during fit. Starting version 1.2, an error will be raised.\n",
      "Feature names unseen at fit time:\n",
      "- Sumaryczna kwota transakcji w bankomatach w 6 ostatnich miesiącach\n",
      "- Sumaryczna kwota wpływów klienta w w 6 ostatnich miesiącach\n",
      "- Sumaryczna kwota wpływów klienta z tytułu emerytury w w 6 ostatnich miesiącach\n",
      "- Sumaryczna kwota wpływów klienta z tytułu programu 500 plus w w 6 ostatnich miesiącach\n",
      "- Sumaryczna kwota wpływów klienta z tytułu stypendium w w 6 ostatnich miesiącach\n",
      "- ...\n",
      "Feature names seen at fit time, yet now missing:\n",
      "- X1\n",
      "- X102\n",
      "- X109\n",
      "- X11\n",
      "- X116\n",
      "- ...\n",
      "\n",
      "\n",
      "Calculating ceteris paribus:  42%|████▏     | 18/43 [00:00<00:00, 27.96it/s]C:\\Users\\alan\\anaconda3\\envs\\xai\\lib\\site-packages\\sklearn\\base.py:493: FutureWarning:\n",
      "\n",
      "The feature names should match those that were passed during fit. Starting version 1.2, an error will be raised.\n",
      "Feature names unseen at fit time:\n",
      "- Sumaryczna kwota transakcji w bankomatach w 6 ostatnich miesiącach\n",
      "- Sumaryczna kwota wpływów klienta w w 6 ostatnich miesiącach\n",
      "- Sumaryczna kwota wpływów klienta z tytułu emerytury w w 6 ostatnich miesiącach\n",
      "- Sumaryczna kwota wpływów klienta z tytułu programu 500 plus w w 6 ostatnich miesiącach\n",
      "- Sumaryczna kwota wpływów klienta z tytułu stypendium w w 6 ostatnich miesiącach\n",
      "- ...\n",
      "Feature names seen at fit time, yet now missing:\n",
      "- X1\n",
      "- X102\n",
      "- X109\n",
      "- X11\n",
      "- X116\n",
      "- ...\n",
      "\n",
      "\n",
      "C:\\Users\\alan\\anaconda3\\envs\\xai\\lib\\site-packages\\sklearn\\base.py:493: FutureWarning:\n",
      "\n",
      "The feature names should match those that were passed during fit. Starting version 1.2, an error will be raised.\n",
      "Feature names unseen at fit time:\n",
      "- Sumaryczna kwota transakcji w bankomatach w 6 ostatnich miesiącach\n",
      "- Sumaryczna kwota wpływów klienta w w 6 ostatnich miesiącach\n",
      "- Sumaryczna kwota wpływów klienta z tytułu emerytury w w 6 ostatnich miesiącach\n",
      "- Sumaryczna kwota wpływów klienta z tytułu programu 500 plus w w 6 ostatnich miesiącach\n",
      "- Sumaryczna kwota wpływów klienta z tytułu stypendium w w 6 ostatnich miesiącach\n",
      "- ...\n",
      "Feature names seen at fit time, yet now missing:\n",
      "- X1\n",
      "- X102\n",
      "- X109\n",
      "- X11\n",
      "- X116\n",
      "- ...\n",
      "\n",
      "\n",
      "C:\\Users\\alan\\anaconda3\\envs\\xai\\lib\\site-packages\\sklearn\\base.py:493: FutureWarning:\n",
      "\n",
      "The feature names should match those that were passed during fit. Starting version 1.2, an error will be raised.\n",
      "Feature names unseen at fit time:\n",
      "- Sumaryczna kwota transakcji w bankomatach w 6 ostatnich miesiącach\n",
      "- Sumaryczna kwota wpływów klienta w w 6 ostatnich miesiącach\n",
      "- Sumaryczna kwota wpływów klienta z tytułu emerytury w w 6 ostatnich miesiącach\n",
      "- Sumaryczna kwota wpływów klienta z tytułu programu 500 plus w w 6 ostatnich miesiącach\n",
      "- Sumaryczna kwota wpływów klienta z tytułu stypendium w w 6 ostatnich miesiącach\n",
      "- ...\n",
      "Feature names seen at fit time, yet now missing:\n",
      "- X1\n",
      "- X102\n",
      "- X109\n",
      "- X11\n",
      "- X116\n",
      "- ...\n",
      "\n",
      "\n",
      "Calculating ceteris paribus:  49%|████▉     | 21/43 [00:00<00:00, 28.16it/s]C:\\Users\\alan\\anaconda3\\envs\\xai\\lib\\site-packages\\sklearn\\base.py:493: FutureWarning:\n",
      "\n",
      "The feature names should match those that were passed during fit. Starting version 1.2, an error will be raised.\n",
      "Feature names unseen at fit time:\n",
      "- Sumaryczna kwota transakcji w bankomatach w 6 ostatnich miesiącach\n",
      "- Sumaryczna kwota wpływów klienta w w 6 ostatnich miesiącach\n",
      "- Sumaryczna kwota wpływów klienta z tytułu emerytury w w 6 ostatnich miesiącach\n",
      "- Sumaryczna kwota wpływów klienta z tytułu programu 500 plus w w 6 ostatnich miesiącach\n",
      "- Sumaryczna kwota wpływów klienta z tytułu stypendium w w 6 ostatnich miesiącach\n",
      "- ...\n",
      "Feature names seen at fit time, yet now missing:\n",
      "- X1\n",
      "- X102\n",
      "- X109\n",
      "- X11\n",
      "- X116\n",
      "- ...\n",
      "\n",
      "\n",
      "C:\\Users\\alan\\anaconda3\\envs\\xai\\lib\\site-packages\\sklearn\\base.py:493: FutureWarning:\n",
      "\n",
      "The feature names should match those that were passed during fit. Starting version 1.2, an error will be raised.\n",
      "Feature names unseen at fit time:\n",
      "- Sumaryczna kwota transakcji w bankomatach w 6 ostatnich miesiącach\n",
      "- Sumaryczna kwota wpływów klienta w w 6 ostatnich miesiącach\n",
      "- Sumaryczna kwota wpływów klienta z tytułu emerytury w w 6 ostatnich miesiącach\n",
      "- Sumaryczna kwota wpływów klienta z tytułu programu 500 plus w w 6 ostatnich miesiącach\n",
      "- Sumaryczna kwota wpływów klienta z tytułu stypendium w w 6 ostatnich miesiącach\n",
      "- ...\n",
      "Feature names seen at fit time, yet now missing:\n",
      "- X1\n",
      "- X102\n",
      "- X109\n",
      "- X11\n",
      "- X116\n",
      "- ...\n",
      "\n",
      "\n",
      "C:\\Users\\alan\\anaconda3\\envs\\xai\\lib\\site-packages\\sklearn\\base.py:493: FutureWarning:\n",
      "\n",
      "The feature names should match those that were passed during fit. Starting version 1.2, an error will be raised.\n",
      "Feature names unseen at fit time:\n",
      "- Sumaryczna kwota transakcji w bankomatach w 6 ostatnich miesiącach\n",
      "- Sumaryczna kwota wpływów klienta w w 6 ostatnich miesiącach\n",
      "- Sumaryczna kwota wpływów klienta z tytułu emerytury w w 6 ostatnich miesiącach\n",
      "- Sumaryczna kwota wpływów klienta z tytułu programu 500 plus w w 6 ostatnich miesiącach\n",
      "- Sumaryczna kwota wpływów klienta z tytułu stypendium w w 6 ostatnich miesiącach\n",
      "- ...\n",
      "Feature names seen at fit time, yet now missing:\n",
      "- X1\n",
      "- X102\n",
      "- X109\n",
      "- X11\n",
      "- X116\n",
      "- ...\n",
      "\n",
      "\n",
      "Calculating ceteris paribus:  56%|█████▌    | 24/43 [00:00<00:00, 28.12it/s]C:\\Users\\alan\\anaconda3\\envs\\xai\\lib\\site-packages\\sklearn\\base.py:493: FutureWarning:\n",
      "\n",
      "The feature names should match those that were passed during fit. Starting version 1.2, an error will be raised.\n",
      "Feature names unseen at fit time:\n",
      "- Sumaryczna kwota transakcji w bankomatach w 6 ostatnich miesiącach\n",
      "- Sumaryczna kwota wpływów klienta w w 6 ostatnich miesiącach\n",
      "- Sumaryczna kwota wpływów klienta z tytułu emerytury w w 6 ostatnich miesiącach\n",
      "- Sumaryczna kwota wpływów klienta z tytułu programu 500 plus w w 6 ostatnich miesiącach\n",
      "- Sumaryczna kwota wpływów klienta z tytułu stypendium w w 6 ostatnich miesiącach\n",
      "- ...\n",
      "Feature names seen at fit time, yet now missing:\n",
      "- X1\n",
      "- X102\n",
      "- X109\n",
      "- X11\n",
      "- X116\n",
      "- ...\n",
      "\n",
      "\n",
      "C:\\Users\\alan\\anaconda3\\envs\\xai\\lib\\site-packages\\sklearn\\base.py:493: FutureWarning:\n",
      "\n",
      "The feature names should match those that were passed during fit. Starting version 1.2, an error will be raised.\n",
      "Feature names unseen at fit time:\n",
      "- Sumaryczna kwota transakcji w bankomatach w 6 ostatnich miesiącach\n",
      "- Sumaryczna kwota wpływów klienta w w 6 ostatnich miesiącach\n",
      "- Sumaryczna kwota wpływów klienta z tytułu emerytury w w 6 ostatnich miesiącach\n",
      "- Sumaryczna kwota wpływów klienta z tytułu programu 500 plus w w 6 ostatnich miesiącach\n",
      "- Sumaryczna kwota wpływów klienta z tytułu stypendium w w 6 ostatnich miesiącach\n",
      "- ...\n",
      "Feature names seen at fit time, yet now missing:\n",
      "- X1\n",
      "- X102\n",
      "- X109\n",
      "- X11\n",
      "- X116\n",
      "- ...\n",
      "\n",
      "\n",
      "C:\\Users\\alan\\anaconda3\\envs\\xai\\lib\\site-packages\\sklearn\\base.py:493: FutureWarning:\n",
      "\n",
      "The feature names should match those that were passed during fit. Starting version 1.2, an error will be raised.\n",
      "Feature names unseen at fit time:\n",
      "- Sumaryczna kwota transakcji w bankomatach w 6 ostatnich miesiącach\n",
      "- Sumaryczna kwota wpływów klienta w w 6 ostatnich miesiącach\n",
      "- Sumaryczna kwota wpływów klienta z tytułu emerytury w w 6 ostatnich miesiącach\n",
      "- Sumaryczna kwota wpływów klienta z tytułu programu 500 plus w w 6 ostatnich miesiącach\n",
      "- Sumaryczna kwota wpływów klienta z tytułu stypendium w w 6 ostatnich miesiącach\n",
      "- ...\n",
      "Feature names seen at fit time, yet now missing:\n",
      "- X1\n",
      "- X102\n",
      "- X109\n",
      "- X11\n",
      "- X116\n",
      "- ...\n",
      "\n",
      "\n",
      "Calculating ceteris paribus:  63%|██████▎   | 27/43 [00:00<00:00, 28.26it/s]C:\\Users\\alan\\anaconda3\\envs\\xai\\lib\\site-packages\\sklearn\\base.py:493: FutureWarning:\n",
      "\n",
      "The feature names should match those that were passed during fit. Starting version 1.2, an error will be raised.\n",
      "Feature names unseen at fit time:\n",
      "- Sumaryczna kwota transakcji w bankomatach w 6 ostatnich miesiącach\n",
      "- Sumaryczna kwota wpływów klienta w w 6 ostatnich miesiącach\n",
      "- Sumaryczna kwota wpływów klienta z tytułu emerytury w w 6 ostatnich miesiącach\n",
      "- Sumaryczna kwota wpływów klienta z tytułu programu 500 plus w w 6 ostatnich miesiącach\n",
      "- Sumaryczna kwota wpływów klienta z tytułu stypendium w w 6 ostatnich miesiącach\n",
      "- ...\n",
      "Feature names seen at fit time, yet now missing:\n",
      "- X1\n",
      "- X102\n",
      "- X109\n",
      "- X11\n",
      "- X116\n",
      "- ...\n",
      "\n",
      "\n",
      "C:\\Users\\alan\\anaconda3\\envs\\xai\\lib\\site-packages\\sklearn\\base.py:493: FutureWarning:\n",
      "\n",
      "The feature names should match those that were passed during fit. Starting version 1.2, an error will be raised.\n",
      "Feature names unseen at fit time:\n",
      "- Sumaryczna kwota transakcji w bankomatach w 6 ostatnich miesiącach\n",
      "- Sumaryczna kwota wpływów klienta w w 6 ostatnich miesiącach\n",
      "- Sumaryczna kwota wpływów klienta z tytułu emerytury w w 6 ostatnich miesiącach\n",
      "- Sumaryczna kwota wpływów klienta z tytułu programu 500 plus w w 6 ostatnich miesiącach\n",
      "- Sumaryczna kwota wpływów klienta z tytułu stypendium w w 6 ostatnich miesiącach\n",
      "- ...\n",
      "Feature names seen at fit time, yet now missing:\n",
      "- X1\n",
      "- X102\n",
      "- X109\n",
      "- X11\n",
      "- X116\n",
      "- ...\n",
      "\n",
      "\n",
      "C:\\Users\\alan\\anaconda3\\envs\\xai\\lib\\site-packages\\sklearn\\base.py:493: FutureWarning:\n",
      "\n",
      "The feature names should match those that were passed during fit. Starting version 1.2, an error will be raised.\n",
      "Feature names unseen at fit time:\n",
      "- Sumaryczna kwota transakcji w bankomatach w 6 ostatnich miesiącach\n",
      "- Sumaryczna kwota wpływów klienta w w 6 ostatnich miesiącach\n",
      "- Sumaryczna kwota wpływów klienta z tytułu emerytury w w 6 ostatnich miesiącach\n",
      "- Sumaryczna kwota wpływów klienta z tytułu programu 500 plus w w 6 ostatnich miesiącach\n",
      "- Sumaryczna kwota wpływów klienta z tytułu stypendium w w 6 ostatnich miesiącach\n",
      "- ...\n",
      "Feature names seen at fit time, yet now missing:\n",
      "- X1\n",
      "- X102\n",
      "- X109\n",
      "- X11\n",
      "- X116\n",
      "- ...\n",
      "\n",
      "\n",
      "Calculating ceteris paribus:  70%|██████▉   | 30/43 [00:01<00:00, 28.35it/s]C:\\Users\\alan\\anaconda3\\envs\\xai\\lib\\site-packages\\sklearn\\base.py:493: FutureWarning:\n",
      "\n",
      "The feature names should match those that were passed during fit. Starting version 1.2, an error will be raised.\n",
      "Feature names unseen at fit time:\n",
      "- Sumaryczna kwota transakcji w bankomatach w 6 ostatnich miesiącach\n",
      "- Sumaryczna kwota wpływów klienta w w 6 ostatnich miesiącach\n",
      "- Sumaryczna kwota wpływów klienta z tytułu emerytury w w 6 ostatnich miesiącach\n",
      "- Sumaryczna kwota wpływów klienta z tytułu programu 500 plus w w 6 ostatnich miesiącach\n",
      "- Sumaryczna kwota wpływów klienta z tytułu stypendium w w 6 ostatnich miesiącach\n",
      "- ...\n",
      "Feature names seen at fit time, yet now missing:\n",
      "- X1\n",
      "- X102\n",
      "- X109\n",
      "- X11\n",
      "- X116\n",
      "- ...\n",
      "\n",
      "\n",
      "C:\\Users\\alan\\anaconda3\\envs\\xai\\lib\\site-packages\\sklearn\\base.py:493: FutureWarning:\n",
      "\n",
      "The feature names should match those that were passed during fit. Starting version 1.2, an error will be raised.\n",
      "Feature names unseen at fit time:\n",
      "- Sumaryczna kwota transakcji w bankomatach w 6 ostatnich miesiącach\n",
      "- Sumaryczna kwota wpływów klienta w w 6 ostatnich miesiącach\n",
      "- Sumaryczna kwota wpływów klienta z tytułu emerytury w w 6 ostatnich miesiącach\n",
      "- Sumaryczna kwota wpływów klienta z tytułu programu 500 plus w w 6 ostatnich miesiącach\n",
      "- Sumaryczna kwota wpływów klienta z tytułu stypendium w w 6 ostatnich miesiącach\n",
      "- ...\n",
      "Feature names seen at fit time, yet now missing:\n",
      "- X1\n",
      "- X102\n",
      "- X109\n",
      "- X11\n",
      "- X116\n",
      "- ...\n",
      "\n",
      "\n",
      "C:\\Users\\alan\\anaconda3\\envs\\xai\\lib\\site-packages\\sklearn\\base.py:493: FutureWarning:\n",
      "\n",
      "The feature names should match those that were passed during fit. Starting version 1.2, an error will be raised.\n",
      "Feature names unseen at fit time:\n",
      "- Sumaryczna kwota transakcji w bankomatach w 6 ostatnich miesiącach\n",
      "- Sumaryczna kwota wpływów klienta w w 6 ostatnich miesiącach\n",
      "- Sumaryczna kwota wpływów klienta z tytułu emerytury w w 6 ostatnich miesiącach\n",
      "- Sumaryczna kwota wpływów klienta z tytułu programu 500 plus w w 6 ostatnich miesiącach\n",
      "- Sumaryczna kwota wpływów klienta z tytułu stypendium w w 6 ostatnich miesiącach\n",
      "- ...\n",
      "Feature names seen at fit time, yet now missing:\n",
      "- X1\n",
      "- X102\n",
      "- X109\n",
      "- X11\n",
      "- X116\n",
      "- ...\n",
      "\n",
      "\n",
      "Calculating ceteris paribus:  77%|███████▋  | 33/43 [00:01<00:00, 28.33it/s]C:\\Users\\alan\\anaconda3\\envs\\xai\\lib\\site-packages\\sklearn\\base.py:493: FutureWarning:\n",
      "\n",
      "The feature names should match those that were passed during fit. Starting version 1.2, an error will be raised.\n",
      "Feature names unseen at fit time:\n",
      "- Sumaryczna kwota transakcji w bankomatach w 6 ostatnich miesiącach\n",
      "- Sumaryczna kwota wpływów klienta w w 6 ostatnich miesiącach\n",
      "- Sumaryczna kwota wpływów klienta z tytułu emerytury w w 6 ostatnich miesiącach\n",
      "- Sumaryczna kwota wpływów klienta z tytułu programu 500 plus w w 6 ostatnich miesiącach\n",
      "- Sumaryczna kwota wpływów klienta z tytułu stypendium w w 6 ostatnich miesiącach\n",
      "- ...\n",
      "Feature names seen at fit time, yet now missing:\n",
      "- X1\n",
      "- X102\n",
      "- X109\n",
      "- X11\n",
      "- X116\n",
      "- ...\n",
      "\n",
      "\n",
      "C:\\Users\\alan\\anaconda3\\envs\\xai\\lib\\site-packages\\sklearn\\base.py:493: FutureWarning:\n",
      "\n",
      "The feature names should match those that were passed during fit. Starting version 1.2, an error will be raised.\n",
      "Feature names unseen at fit time:\n",
      "- Sumaryczna kwota transakcji w bankomatach w 6 ostatnich miesiącach\n",
      "- Sumaryczna kwota wpływów klienta w w 6 ostatnich miesiącach\n",
      "- Sumaryczna kwota wpływów klienta z tytułu emerytury w w 6 ostatnich miesiącach\n",
      "- Sumaryczna kwota wpływów klienta z tytułu programu 500 plus w w 6 ostatnich miesiącach\n",
      "- Sumaryczna kwota wpływów klienta z tytułu stypendium w w 6 ostatnich miesiącach\n",
      "- ...\n",
      "Feature names seen at fit time, yet now missing:\n",
      "- X1\n",
      "- X102\n",
      "- X109\n",
      "- X11\n",
      "- X116\n",
      "- ...\n",
      "\n",
      "\n",
      "C:\\Users\\alan\\anaconda3\\envs\\xai\\lib\\site-packages\\sklearn\\base.py:493: FutureWarning:\n",
      "\n",
      "The feature names should match those that were passed during fit. Starting version 1.2, an error will be raised.\n",
      "Feature names unseen at fit time:\n",
      "- Sumaryczna kwota transakcji w bankomatach w 6 ostatnich miesiącach\n",
      "- Sumaryczna kwota wpływów klienta w w 6 ostatnich miesiącach\n",
      "- Sumaryczna kwota wpływów klienta z tytułu emerytury w w 6 ostatnich miesiącach\n",
      "- Sumaryczna kwota wpływów klienta z tytułu programu 500 plus w w 6 ostatnich miesiącach\n",
      "- Sumaryczna kwota wpływów klienta z tytułu stypendium w w 6 ostatnich miesiącach\n",
      "- ...\n",
      "Feature names seen at fit time, yet now missing:\n",
      "- X1\n",
      "- X102\n",
      "- X109\n",
      "- X11\n",
      "- X116\n",
      "- ...\n",
      "\n",
      "\n",
      "Calculating ceteris paribus:  84%|████████▎ | 36/43 [00:01<00:00, 28.24it/s]C:\\Users\\alan\\anaconda3\\envs\\xai\\lib\\site-packages\\sklearn\\base.py:493: FutureWarning:\n",
      "\n",
      "The feature names should match those that were passed during fit. Starting version 1.2, an error will be raised.\n",
      "Feature names unseen at fit time:\n",
      "- Sumaryczna kwota transakcji w bankomatach w 6 ostatnich miesiącach\n",
      "- Sumaryczna kwota wpływów klienta w w 6 ostatnich miesiącach\n",
      "- Sumaryczna kwota wpływów klienta z tytułu emerytury w w 6 ostatnich miesiącach\n",
      "- Sumaryczna kwota wpływów klienta z tytułu programu 500 plus w w 6 ostatnich miesiącach\n",
      "- Sumaryczna kwota wpływów klienta z tytułu stypendium w w 6 ostatnich miesiącach\n",
      "- ...\n",
      "Feature names seen at fit time, yet now missing:\n",
      "- X1\n",
      "- X102\n",
      "- X109\n",
      "- X11\n",
      "- X116\n",
      "- ...\n",
      "\n",
      "\n",
      "C:\\Users\\alan\\anaconda3\\envs\\xai\\lib\\site-packages\\sklearn\\base.py:493: FutureWarning:\n",
      "\n",
      "The feature names should match those that were passed during fit. Starting version 1.2, an error will be raised.\n",
      "Feature names unseen at fit time:\n",
      "- Sumaryczna kwota transakcji w bankomatach w 6 ostatnich miesiącach\n",
      "- Sumaryczna kwota wpływów klienta w w 6 ostatnich miesiącach\n",
      "- Sumaryczna kwota wpływów klienta z tytułu emerytury w w 6 ostatnich miesiącach\n",
      "- Sumaryczna kwota wpływów klienta z tytułu programu 500 plus w w 6 ostatnich miesiącach\n",
      "- Sumaryczna kwota wpływów klienta z tytułu stypendium w w 6 ostatnich miesiącach\n",
      "- ...\n",
      "Feature names seen at fit time, yet now missing:\n",
      "- X1\n",
      "- X102\n",
      "- X109\n",
      "- X11\n",
      "- X116\n",
      "- ...\n",
      "\n",
      "\n",
      "C:\\Users\\alan\\anaconda3\\envs\\xai\\lib\\site-packages\\sklearn\\base.py:493: FutureWarning:\n",
      "\n",
      "The feature names should match those that were passed during fit. Starting version 1.2, an error will be raised.\n",
      "Feature names unseen at fit time:\n",
      "- Sumaryczna kwota transakcji w bankomatach w 6 ostatnich miesiącach\n",
      "- Sumaryczna kwota wpływów klienta w w 6 ostatnich miesiącach\n",
      "- Sumaryczna kwota wpływów klienta z tytułu emerytury w w 6 ostatnich miesiącach\n",
      "- Sumaryczna kwota wpływów klienta z tytułu programu 500 plus w w 6 ostatnich miesiącach\n",
      "- Sumaryczna kwota wpływów klienta z tytułu stypendium w w 6 ostatnich miesiącach\n",
      "- ...\n",
      "Feature names seen at fit time, yet now missing:\n",
      "- X1\n",
      "- X102\n",
      "- X109\n",
      "- X11\n",
      "- X116\n",
      "- ...\n",
      "\n",
      "\n",
      "Calculating ceteris paribus:  91%|█████████ | 39/43 [00:01<00:00, 27.97it/s]C:\\Users\\alan\\anaconda3\\envs\\xai\\lib\\site-packages\\sklearn\\base.py:493: FutureWarning:\n",
      "\n",
      "The feature names should match those that were passed during fit. Starting version 1.2, an error will be raised.\n",
      "Feature names unseen at fit time:\n",
      "- Sumaryczna kwota transakcji w bankomatach w 6 ostatnich miesiącach\n",
      "- Sumaryczna kwota wpływów klienta w w 6 ostatnich miesiącach\n",
      "- Sumaryczna kwota wpływów klienta z tytułu emerytury w w 6 ostatnich miesiącach\n",
      "- Sumaryczna kwota wpływów klienta z tytułu programu 500 plus w w 6 ostatnich miesiącach\n",
      "- Sumaryczna kwota wpływów klienta z tytułu stypendium w w 6 ostatnich miesiącach\n",
      "- ...\n",
      "Feature names seen at fit time, yet now missing:\n",
      "- X1\n",
      "- X102\n",
      "- X109\n",
      "- X11\n",
      "- X116\n",
      "- ...\n",
      "\n",
      "\n",
      "C:\\Users\\alan\\anaconda3\\envs\\xai\\lib\\site-packages\\sklearn\\base.py:493: FutureWarning:\n",
      "\n",
      "The feature names should match those that were passed during fit. Starting version 1.2, an error will be raised.\n",
      "Feature names unseen at fit time:\n",
      "- Sumaryczna kwota transakcji w bankomatach w 6 ostatnich miesiącach\n",
      "- Sumaryczna kwota wpływów klienta w w 6 ostatnich miesiącach\n",
      "- Sumaryczna kwota wpływów klienta z tytułu emerytury w w 6 ostatnich miesiącach\n",
      "- Sumaryczna kwota wpływów klienta z tytułu programu 500 plus w w 6 ostatnich miesiącach\n",
      "- Sumaryczna kwota wpływów klienta z tytułu stypendium w w 6 ostatnich miesiącach\n",
      "- ...\n",
      "Feature names seen at fit time, yet now missing:\n",
      "- X1\n",
      "- X102\n",
      "- X109\n",
      "- X11\n",
      "- X116\n",
      "- ...\n",
      "\n",
      "\n",
      "C:\\Users\\alan\\anaconda3\\envs\\xai\\lib\\site-packages\\sklearn\\base.py:493: FutureWarning:\n",
      "\n",
      "The feature names should match those that were passed during fit. Starting version 1.2, an error will be raised.\n",
      "Feature names unseen at fit time:\n",
      "- Sumaryczna kwota transakcji w bankomatach w 6 ostatnich miesiącach\n",
      "- Sumaryczna kwota wpływów klienta w w 6 ostatnich miesiącach\n",
      "- Sumaryczna kwota wpływów klienta z tytułu emerytury w w 6 ostatnich miesiącach\n",
      "- Sumaryczna kwota wpływów klienta z tytułu programu 500 plus w w 6 ostatnich miesiącach\n",
      "- Sumaryczna kwota wpływów klienta z tytułu stypendium w w 6 ostatnich miesiącach\n",
      "- ...\n",
      "Feature names seen at fit time, yet now missing:\n",
      "- X1\n",
      "- X102\n",
      "- X109\n",
      "- X11\n",
      "- X116\n",
      "- ...\n",
      "\n",
      "\n",
      "Calculating ceteris paribus:  98%|█████████▊| 42/43 [00:01<00:00, 27.98it/s]C:\\Users\\alan\\anaconda3\\envs\\xai\\lib\\site-packages\\sklearn\\base.py:493: FutureWarning:\n",
      "\n",
      "The feature names should match those that were passed during fit. Starting version 1.2, an error will be raised.\n",
      "Feature names unseen at fit time:\n",
      "- Sumaryczna kwota transakcji w bankomatach w 6 ostatnich miesiącach\n",
      "- Sumaryczna kwota wpływów klienta w w 6 ostatnich miesiącach\n",
      "- Sumaryczna kwota wpływów klienta z tytułu emerytury w w 6 ostatnich miesiącach\n",
      "- Sumaryczna kwota wpływów klienta z tytułu programu 500 plus w w 6 ostatnich miesiącach\n",
      "- Sumaryczna kwota wpływów klienta z tytułu stypendium w w 6 ostatnich miesiącach\n",
      "- ...\n",
      "Feature names seen at fit time, yet now missing:\n",
      "- X1\n",
      "- X102\n",
      "- X109\n",
      "- X11\n",
      "- X116\n",
      "- ...\n",
      "\n",
      "\n",
      "Calculating ceteris paribus: 100%|██████████| 43/43 [00:01<00:00, 27.74it/s]\n",
      "C:\\Users\\alan\\anaconda3\\envs\\xai\\lib\\site-packages\\sklearn\\base.py:493: FutureWarning:\n",
      "\n",
      "The feature names should match those that were passed during fit. Starting version 1.2, an error will be raised.\n",
      "Feature names unseen at fit time:\n",
      "- Sumaryczna kwota transakcji w bankomatach w 6 ostatnich miesiącach\n",
      "- Sumaryczna kwota wpływów klienta w w 6 ostatnich miesiącach\n",
      "- Sumaryczna kwota wpływów klienta z tytułu emerytury w w 6 ostatnich miesiącach\n",
      "- Sumaryczna kwota wpływów klienta z tytułu programu 500 plus w w 6 ostatnich miesiącach\n",
      "- Sumaryczna kwota wpływów klienta z tytułu stypendium w w 6 ostatnich miesiącach\n",
      "- ...\n",
      "Feature names seen at fit time, yet now missing:\n",
      "- X1\n",
      "- X102\n",
      "- X109\n",
      "- X11\n",
      "- X116\n",
      "- ...\n",
      "\n",
      "\n",
      "C:\\Users\\alan\\anaconda3\\envs\\xai\\lib\\site-packages\\scipy\\stats\\stats.py:4484: SpearmanRConstantInputWarning:\n",
      "\n",
      "An input array is constant; the correlation coefficient is not defined.\n",
      "\n",
      "Calculating ceteris paribus: 100%|██████████| 43/43 [00:00<00:00, 206.19it/s]\n",
      "Calculating ceteris paribus:   0%|          | 0/43 [00:00<?, ?it/s]C:\\Users\\alan\\anaconda3\\envs\\xai\\lib\\site-packages\\sklearn\\base.py:493: FutureWarning:\n",
      "\n",
      "The feature names should match those that were passed during fit. Starting version 1.2, an error will be raised.\n",
      "Feature names unseen at fit time:\n",
      "- Sumaryczna kwota transakcji w bankomatach w 6 ostatnich miesiącach\n",
      "- Sumaryczna kwota wpływów klienta w w 6 ostatnich miesiącach\n",
      "- Sumaryczna kwota wpływów klienta z tytułu emerytury w w 6 ostatnich miesiącach\n",
      "- Sumaryczna kwota wpływów klienta z tytułu programu 500 plus w w 6 ostatnich miesiącach\n",
      "- Sumaryczna kwota wpływów klienta z tytułu stypendium w w 6 ostatnich miesiącach\n",
      "- ...\n",
      "Feature names seen at fit time, yet now missing:\n",
      "- X1\n",
      "- X102\n",
      "- X109\n",
      "- X11\n",
      "- X116\n",
      "- ...\n",
      "\n",
      "\n",
      "C:\\Users\\alan\\anaconda3\\envs\\xai\\lib\\site-packages\\sklearn\\base.py:493: FutureWarning:\n",
      "\n",
      "The feature names should match those that were passed during fit. Starting version 1.2, an error will be raised.\n",
      "Feature names unseen at fit time:\n",
      "- Sumaryczna kwota transakcji w bankomatach w 6 ostatnich miesiącach\n",
      "- Sumaryczna kwota wpływów klienta w w 6 ostatnich miesiącach\n",
      "- Sumaryczna kwota wpływów klienta z tytułu emerytury w w 6 ostatnich miesiącach\n",
      "- Sumaryczna kwota wpływów klienta z tytułu programu 500 plus w w 6 ostatnich miesiącach\n",
      "- Sumaryczna kwota wpływów klienta z tytułu stypendium w w 6 ostatnich miesiącach\n",
      "- ...\n",
      "Feature names seen at fit time, yet now missing:\n",
      "- X1\n",
      "- X102\n",
      "- X109\n",
      "- X11\n",
      "- X116\n",
      "- ...\n",
      "\n",
      "\n",
      "C:\\Users\\alan\\anaconda3\\envs\\xai\\lib\\site-packages\\sklearn\\base.py:493: FutureWarning:\n",
      "\n",
      "The feature names should match those that were passed during fit. Starting version 1.2, an error will be raised.\n",
      "Feature names unseen at fit time:\n",
      "- Sumaryczna kwota transakcji w bankomatach w 6 ostatnich miesiącach\n",
      "- Sumaryczna kwota wpływów klienta w w 6 ostatnich miesiącach\n",
      "- Sumaryczna kwota wpływów klienta z tytułu emerytury w w 6 ostatnich miesiącach\n",
      "- Sumaryczna kwota wpływów klienta z tytułu programu 500 plus w w 6 ostatnich miesiącach\n",
      "- Sumaryczna kwota wpływów klienta z tytułu stypendium w w 6 ostatnich miesiącach\n",
      "- ...\n",
      "Feature names seen at fit time, yet now missing:\n",
      "- X1\n",
      "- X102\n",
      "- X109\n",
      "- X11\n",
      "- X116\n",
      "- ...\n",
      "\n",
      "\n",
      "Calculating ceteris paribus:   7%|▋         | 3/43 [00:00<00:01, 23.43it/s]C:\\Users\\alan\\anaconda3\\envs\\xai\\lib\\site-packages\\sklearn\\base.py:493: FutureWarning:\n",
      "\n",
      "The feature names should match those that were passed during fit. Starting version 1.2, an error will be raised.\n",
      "Feature names unseen at fit time:\n",
      "- Sumaryczna kwota transakcji w bankomatach w 6 ostatnich miesiącach\n",
      "- Sumaryczna kwota wpływów klienta w w 6 ostatnich miesiącach\n",
      "- Sumaryczna kwota wpływów klienta z tytułu emerytury w w 6 ostatnich miesiącach\n",
      "- Sumaryczna kwota wpływów klienta z tytułu programu 500 plus w w 6 ostatnich miesiącach\n",
      "- Sumaryczna kwota wpływów klienta z tytułu stypendium w w 6 ostatnich miesiącach\n",
      "- ...\n",
      "Feature names seen at fit time, yet now missing:\n",
      "- X1\n",
      "- X102\n",
      "- X109\n",
      "- X11\n",
      "- X116\n",
      "- ...\n",
      "\n",
      "\n",
      "C:\\Users\\alan\\anaconda3\\envs\\xai\\lib\\site-packages\\sklearn\\base.py:493: FutureWarning:\n",
      "\n",
      "The feature names should match those that were passed during fit. Starting version 1.2, an error will be raised.\n",
      "Feature names unseen at fit time:\n",
      "- Sumaryczna kwota transakcji w bankomatach w 6 ostatnich miesiącach\n",
      "- Sumaryczna kwota wpływów klienta w w 6 ostatnich miesiącach\n",
      "- Sumaryczna kwota wpływów klienta z tytułu emerytury w w 6 ostatnich miesiącach\n",
      "- Sumaryczna kwota wpływów klienta z tytułu programu 500 plus w w 6 ostatnich miesiącach\n",
      "- Sumaryczna kwota wpływów klienta z tytułu stypendium w w 6 ostatnich miesiącach\n",
      "- ...\n",
      "Feature names seen at fit time, yet now missing:\n",
      "- X1\n",
      "- X102\n",
      "- X109\n",
      "- X11\n",
      "- X116\n",
      "- ...\n",
      "\n",
      "\n",
      "C:\\Users\\alan\\anaconda3\\envs\\xai\\lib\\site-packages\\sklearn\\base.py:493: FutureWarning:\n",
      "\n",
      "The feature names should match those that were passed during fit. Starting version 1.2, an error will be raised.\n",
      "Feature names unseen at fit time:\n",
      "- Sumaryczna kwota transakcji w bankomatach w 6 ostatnich miesiącach\n",
      "- Sumaryczna kwota wpływów klienta w w 6 ostatnich miesiącach\n",
      "- Sumaryczna kwota wpływów klienta z tytułu emerytury w w 6 ostatnich miesiącach\n",
      "- Sumaryczna kwota wpływów klienta z tytułu programu 500 plus w w 6 ostatnich miesiącach\n",
      "- Sumaryczna kwota wpływów klienta z tytułu stypendium w w 6 ostatnich miesiącach\n",
      "- ...\n",
      "Feature names seen at fit time, yet now missing:\n",
      "- X1\n",
      "- X102\n",
      "- X109\n",
      "- X11\n",
      "- X116\n",
      "- ...\n",
      "\n",
      "\n",
      "Calculating ceteris paribus:  14%|█▍        | 6/43 [00:00<00:01, 25.80it/s]C:\\Users\\alan\\anaconda3\\envs\\xai\\lib\\site-packages\\sklearn\\base.py:493: FutureWarning:\n",
      "\n",
      "The feature names should match those that were passed during fit. Starting version 1.2, an error will be raised.\n",
      "Feature names unseen at fit time:\n",
      "- Sumaryczna kwota transakcji w bankomatach w 6 ostatnich miesiącach\n",
      "- Sumaryczna kwota wpływów klienta w w 6 ostatnich miesiącach\n",
      "- Sumaryczna kwota wpływów klienta z tytułu emerytury w w 6 ostatnich miesiącach\n",
      "- Sumaryczna kwota wpływów klienta z tytułu programu 500 plus w w 6 ostatnich miesiącach\n",
      "- Sumaryczna kwota wpływów klienta z tytułu stypendium w w 6 ostatnich miesiącach\n",
      "- ...\n",
      "Feature names seen at fit time, yet now missing:\n",
      "- X1\n",
      "- X102\n",
      "- X109\n",
      "- X11\n",
      "- X116\n",
      "- ...\n",
      "\n",
      "\n",
      "C:\\Users\\alan\\anaconda3\\envs\\xai\\lib\\site-packages\\sklearn\\base.py:493: FutureWarning:\n",
      "\n",
      "The feature names should match those that were passed during fit. Starting version 1.2, an error will be raised.\n",
      "Feature names unseen at fit time:\n",
      "- Sumaryczna kwota transakcji w bankomatach w 6 ostatnich miesiącach\n",
      "- Sumaryczna kwota wpływów klienta w w 6 ostatnich miesiącach\n",
      "- Sumaryczna kwota wpływów klienta z tytułu emerytury w w 6 ostatnich miesiącach\n",
      "- Sumaryczna kwota wpływów klienta z tytułu programu 500 plus w w 6 ostatnich miesiącach\n",
      "- Sumaryczna kwota wpływów klienta z tytułu stypendium w w 6 ostatnich miesiącach\n",
      "- ...\n",
      "Feature names seen at fit time, yet now missing:\n",
      "- X1\n",
      "- X102\n",
      "- X109\n",
      "- X11\n",
      "- X116\n",
      "- ...\n",
      "\n",
      "\n",
      "C:\\Users\\alan\\anaconda3\\envs\\xai\\lib\\site-packages\\sklearn\\base.py:493: FutureWarning:\n",
      "\n",
      "The feature names should match those that were passed during fit. Starting version 1.2, an error will be raised.\n",
      "Feature names unseen at fit time:\n",
      "- Sumaryczna kwota transakcji w bankomatach w 6 ostatnich miesiącach\n",
      "- Sumaryczna kwota wpływów klienta w w 6 ostatnich miesiącach\n",
      "- Sumaryczna kwota wpływów klienta z tytułu emerytury w w 6 ostatnich miesiącach\n",
      "- Sumaryczna kwota wpływów klienta z tytułu programu 500 plus w w 6 ostatnich miesiącach\n",
      "- Sumaryczna kwota wpływów klienta z tytułu stypendium w w 6 ostatnich miesiącach\n",
      "- ...\n",
      "Feature names seen at fit time, yet now missing:\n",
      "- X1\n",
      "- X102\n",
      "- X109\n",
      "- X11\n",
      "- X116\n",
      "- ...\n",
      "\n",
      "\n",
      "Calculating ceteris paribus:  21%|██        | 9/43 [00:00<00:01, 26.99it/s]C:\\Users\\alan\\anaconda3\\envs\\xai\\lib\\site-packages\\sklearn\\base.py:493: FutureWarning:\n",
      "\n",
      "The feature names should match those that were passed during fit. Starting version 1.2, an error will be raised.\n",
      "Feature names unseen at fit time:\n",
      "- Sumaryczna kwota transakcji w bankomatach w 6 ostatnich miesiącach\n",
      "- Sumaryczna kwota wpływów klienta w w 6 ostatnich miesiącach\n",
      "- Sumaryczna kwota wpływów klienta z tytułu emerytury w w 6 ostatnich miesiącach\n",
      "- Sumaryczna kwota wpływów klienta z tytułu programu 500 plus w w 6 ostatnich miesiącach\n",
      "- Sumaryczna kwota wpływów klienta z tytułu stypendium w w 6 ostatnich miesiącach\n",
      "- ...\n",
      "Feature names seen at fit time, yet now missing:\n",
      "- X1\n",
      "- X102\n",
      "- X109\n",
      "- X11\n",
      "- X116\n",
      "- ...\n",
      "\n",
      "\n",
      "C:\\Users\\alan\\anaconda3\\envs\\xai\\lib\\site-packages\\sklearn\\base.py:493: FutureWarning:\n",
      "\n",
      "The feature names should match those that were passed during fit. Starting version 1.2, an error will be raised.\n",
      "Feature names unseen at fit time:\n",
      "- Sumaryczna kwota transakcji w bankomatach w 6 ostatnich miesiącach\n",
      "- Sumaryczna kwota wpływów klienta w w 6 ostatnich miesiącach\n",
      "- Sumaryczna kwota wpływów klienta z tytułu emerytury w w 6 ostatnich miesiącach\n",
      "- Sumaryczna kwota wpływów klienta z tytułu programu 500 plus w w 6 ostatnich miesiącach\n",
      "- Sumaryczna kwota wpływów klienta z tytułu stypendium w w 6 ostatnich miesiącach\n",
      "- ...\n",
      "Feature names seen at fit time, yet now missing:\n",
      "- X1\n",
      "- X102\n",
      "- X109\n",
      "- X11\n",
      "- X116\n",
      "- ...\n",
      "\n",
      "\n",
      "C:\\Users\\alan\\anaconda3\\envs\\xai\\lib\\site-packages\\sklearn\\base.py:493: FutureWarning:\n",
      "\n",
      "The feature names should match those that were passed during fit. Starting version 1.2, an error will be raised.\n",
      "Feature names unseen at fit time:\n",
      "- Sumaryczna kwota transakcji w bankomatach w 6 ostatnich miesiącach\n",
      "- Sumaryczna kwota wpływów klienta w w 6 ostatnich miesiącach\n",
      "- Sumaryczna kwota wpływów klienta z tytułu emerytury w w 6 ostatnich miesiącach\n",
      "- Sumaryczna kwota wpływów klienta z tytułu programu 500 plus w w 6 ostatnich miesiącach\n",
      "- Sumaryczna kwota wpływów klienta z tytułu stypendium w w 6 ostatnich miesiącach\n",
      "- ...\n",
      "Feature names seen at fit time, yet now missing:\n",
      "- X1\n",
      "- X102\n",
      "- X109\n",
      "- X11\n",
      "- X116\n",
      "- ...\n",
      "\n",
      "\n",
      "Calculating ceteris paribus:  28%|██▊       | 12/43 [00:00<00:01, 27.49it/s]C:\\Users\\alan\\anaconda3\\envs\\xai\\lib\\site-packages\\sklearn\\base.py:493: FutureWarning:\n",
      "\n",
      "The feature names should match those that were passed during fit. Starting version 1.2, an error will be raised.\n",
      "Feature names unseen at fit time:\n",
      "- Sumaryczna kwota transakcji w bankomatach w 6 ostatnich miesiącach\n",
      "- Sumaryczna kwota wpływów klienta w w 6 ostatnich miesiącach\n",
      "- Sumaryczna kwota wpływów klienta z tytułu emerytury w w 6 ostatnich miesiącach\n",
      "- Sumaryczna kwota wpływów klienta z tytułu programu 500 plus w w 6 ostatnich miesiącach\n",
      "- Sumaryczna kwota wpływów klienta z tytułu stypendium w w 6 ostatnich miesiącach\n",
      "- ...\n",
      "Feature names seen at fit time, yet now missing:\n",
      "- X1\n",
      "- X102\n",
      "- X109\n",
      "- X11\n",
      "- X116\n",
      "- ...\n",
      "\n",
      "\n",
      "C:\\Users\\alan\\anaconda3\\envs\\xai\\lib\\site-packages\\sklearn\\base.py:493: FutureWarning:\n",
      "\n",
      "The feature names should match those that were passed during fit. Starting version 1.2, an error will be raised.\n",
      "Feature names unseen at fit time:\n",
      "- Sumaryczna kwota transakcji w bankomatach w 6 ostatnich miesiącach\n",
      "- Sumaryczna kwota wpływów klienta w w 6 ostatnich miesiącach\n",
      "- Sumaryczna kwota wpływów klienta z tytułu emerytury w w 6 ostatnich miesiącach\n",
      "- Sumaryczna kwota wpływów klienta z tytułu programu 500 plus w w 6 ostatnich miesiącach\n",
      "- Sumaryczna kwota wpływów klienta z tytułu stypendium w w 6 ostatnich miesiącach\n",
      "- ...\n",
      "Feature names seen at fit time, yet now missing:\n",
      "- X1\n",
      "- X102\n",
      "- X109\n",
      "- X11\n",
      "- X116\n",
      "- ...\n",
      "\n",
      "\n",
      "C:\\Users\\alan\\anaconda3\\envs\\xai\\lib\\site-packages\\sklearn\\base.py:493: FutureWarning:\n",
      "\n",
      "The feature names should match those that were passed during fit. Starting version 1.2, an error will be raised.\n",
      "Feature names unseen at fit time:\n",
      "- Sumaryczna kwota transakcji w bankomatach w 6 ostatnich miesiącach\n",
      "- Sumaryczna kwota wpływów klienta w w 6 ostatnich miesiącach\n",
      "- Sumaryczna kwota wpływów klienta z tytułu emerytury w w 6 ostatnich miesiącach\n",
      "- Sumaryczna kwota wpływów klienta z tytułu programu 500 plus w w 6 ostatnich miesiącach\n",
      "- Sumaryczna kwota wpływów klienta z tytułu stypendium w w 6 ostatnich miesiącach\n",
      "- ...\n",
      "Feature names seen at fit time, yet now missing:\n",
      "- X1\n",
      "- X102\n",
      "- X109\n",
      "- X11\n",
      "- X116\n",
      "- ...\n",
      "\n",
      "\n",
      "Calculating ceteris paribus:  35%|███▍      | 15/43 [00:00<00:01, 27.87it/s]C:\\Users\\alan\\anaconda3\\envs\\xai\\lib\\site-packages\\sklearn\\base.py:493: FutureWarning:\n",
      "\n",
      "The feature names should match those that were passed during fit. Starting version 1.2, an error will be raised.\n",
      "Feature names unseen at fit time:\n",
      "- Sumaryczna kwota transakcji w bankomatach w 6 ostatnich miesiącach\n",
      "- Sumaryczna kwota wpływów klienta w w 6 ostatnich miesiącach\n",
      "- Sumaryczna kwota wpływów klienta z tytułu emerytury w w 6 ostatnich miesiącach\n",
      "- Sumaryczna kwota wpływów klienta z tytułu programu 500 plus w w 6 ostatnich miesiącach\n",
      "- Sumaryczna kwota wpływów klienta z tytułu stypendium w w 6 ostatnich miesiącach\n",
      "- ...\n",
      "Feature names seen at fit time, yet now missing:\n",
      "- X1\n",
      "- X102\n",
      "- X109\n",
      "- X11\n",
      "- X116\n",
      "- ...\n",
      "\n",
      "\n",
      "C:\\Users\\alan\\anaconda3\\envs\\xai\\lib\\site-packages\\sklearn\\base.py:493: FutureWarning:\n",
      "\n",
      "The feature names should match those that were passed during fit. Starting version 1.2, an error will be raised.\n",
      "Feature names unseen at fit time:\n",
      "- Sumaryczna kwota transakcji w bankomatach w 6 ostatnich miesiącach\n",
      "- Sumaryczna kwota wpływów klienta w w 6 ostatnich miesiącach\n",
      "- Sumaryczna kwota wpływów klienta z tytułu emerytury w w 6 ostatnich miesiącach\n",
      "- Sumaryczna kwota wpływów klienta z tytułu programu 500 plus w w 6 ostatnich miesiącach\n",
      "- Sumaryczna kwota wpływów klienta z tytułu stypendium w w 6 ostatnich miesiącach\n",
      "- ...\n",
      "Feature names seen at fit time, yet now missing:\n",
      "- X1\n",
      "- X102\n",
      "- X109\n",
      "- X11\n",
      "- X116\n",
      "- ...\n",
      "\n",
      "\n",
      "C:\\Users\\alan\\anaconda3\\envs\\xai\\lib\\site-packages\\sklearn\\base.py:493: FutureWarning:\n",
      "\n",
      "The feature names should match those that were passed during fit. Starting version 1.2, an error will be raised.\n",
      "Feature names unseen at fit time:\n",
      "- Sumaryczna kwota transakcji w bankomatach w 6 ostatnich miesiącach\n",
      "- Sumaryczna kwota wpływów klienta w w 6 ostatnich miesiącach\n",
      "- Sumaryczna kwota wpływów klienta z tytułu emerytury w w 6 ostatnich miesiącach\n",
      "- Sumaryczna kwota wpływów klienta z tytułu programu 500 plus w w 6 ostatnich miesiącach\n",
      "- Sumaryczna kwota wpływów klienta z tytułu stypendium w w 6 ostatnich miesiącach\n",
      "- ...\n",
      "Feature names seen at fit time, yet now missing:\n",
      "- X1\n",
      "- X102\n",
      "- X109\n",
      "- X11\n",
      "- X116\n",
      "- ...\n",
      "\n",
      "\n",
      "Calculating ceteris paribus:  42%|████▏     | 18/43 [00:00<00:00, 28.19it/s]C:\\Users\\alan\\anaconda3\\envs\\xai\\lib\\site-packages\\sklearn\\base.py:493: FutureWarning:\n",
      "\n",
      "The feature names should match those that were passed during fit. Starting version 1.2, an error will be raised.\n",
      "Feature names unseen at fit time:\n",
      "- Sumaryczna kwota transakcji w bankomatach w 6 ostatnich miesiącach\n",
      "- Sumaryczna kwota wpływów klienta w w 6 ostatnich miesiącach\n",
      "- Sumaryczna kwota wpływów klienta z tytułu emerytury w w 6 ostatnich miesiącach\n",
      "- Sumaryczna kwota wpływów klienta z tytułu programu 500 plus w w 6 ostatnich miesiącach\n",
      "- Sumaryczna kwota wpływów klienta z tytułu stypendium w w 6 ostatnich miesiącach\n",
      "- ...\n",
      "Feature names seen at fit time, yet now missing:\n",
      "- X1\n",
      "- X102\n",
      "- X109\n",
      "- X11\n",
      "- X116\n",
      "- ...\n",
      "\n",
      "\n",
      "C:\\Users\\alan\\anaconda3\\envs\\xai\\lib\\site-packages\\sklearn\\base.py:493: FutureWarning:\n",
      "\n",
      "The feature names should match those that were passed during fit. Starting version 1.2, an error will be raised.\n",
      "Feature names unseen at fit time:\n",
      "- Sumaryczna kwota transakcji w bankomatach w 6 ostatnich miesiącach\n",
      "- Sumaryczna kwota wpływów klienta w w 6 ostatnich miesiącach\n",
      "- Sumaryczna kwota wpływów klienta z tytułu emerytury w w 6 ostatnich miesiącach\n",
      "- Sumaryczna kwota wpływów klienta z tytułu programu 500 plus w w 6 ostatnich miesiącach\n",
      "- Sumaryczna kwota wpływów klienta z tytułu stypendium w w 6 ostatnich miesiącach\n",
      "- ...\n",
      "Feature names seen at fit time, yet now missing:\n",
      "- X1\n",
      "- X102\n",
      "- X109\n",
      "- X11\n",
      "- X116\n",
      "- ...\n",
      "\n",
      "\n",
      "C:\\Users\\alan\\anaconda3\\envs\\xai\\lib\\site-packages\\sklearn\\base.py:493: FutureWarning:\n",
      "\n",
      "The feature names should match those that were passed during fit. Starting version 1.2, an error will be raised.\n",
      "Feature names unseen at fit time:\n",
      "- Sumaryczna kwota transakcji w bankomatach w 6 ostatnich miesiącach\n",
      "- Sumaryczna kwota wpływów klienta w w 6 ostatnich miesiącach\n",
      "- Sumaryczna kwota wpływów klienta z tytułu emerytury w w 6 ostatnich miesiącach\n",
      "- Sumaryczna kwota wpływów klienta z tytułu programu 500 plus w w 6 ostatnich miesiącach\n",
      "- Sumaryczna kwota wpływów klienta z tytułu stypendium w w 6 ostatnich miesiącach\n",
      "- ...\n",
      "Feature names seen at fit time, yet now missing:\n",
      "- X1\n",
      "- X102\n",
      "- X109\n",
      "- X11\n",
      "- X116\n",
      "- ...\n",
      "\n",
      "\n",
      "Calculating ceteris paribus:  49%|████▉     | 21/43 [00:00<00:00, 28.35it/s]C:\\Users\\alan\\anaconda3\\envs\\xai\\lib\\site-packages\\sklearn\\base.py:493: FutureWarning:\n",
      "\n",
      "The feature names should match those that were passed during fit. Starting version 1.2, an error will be raised.\n",
      "Feature names unseen at fit time:\n",
      "- Sumaryczna kwota transakcji w bankomatach w 6 ostatnich miesiącach\n",
      "- Sumaryczna kwota wpływów klienta w w 6 ostatnich miesiącach\n",
      "- Sumaryczna kwota wpływów klienta z tytułu emerytury w w 6 ostatnich miesiącach\n",
      "- Sumaryczna kwota wpływów klienta z tytułu programu 500 plus w w 6 ostatnich miesiącach\n",
      "- Sumaryczna kwota wpływów klienta z tytułu stypendium w w 6 ostatnich miesiącach\n",
      "- ...\n",
      "Feature names seen at fit time, yet now missing:\n",
      "- X1\n",
      "- X102\n",
      "- X109\n",
      "- X11\n",
      "- X116\n",
      "- ...\n",
      "\n",
      "\n",
      "C:\\Users\\alan\\anaconda3\\envs\\xai\\lib\\site-packages\\sklearn\\base.py:493: FutureWarning:\n",
      "\n",
      "The feature names should match those that were passed during fit. Starting version 1.2, an error will be raised.\n",
      "Feature names unseen at fit time:\n",
      "- Sumaryczna kwota transakcji w bankomatach w 6 ostatnich miesiącach\n",
      "- Sumaryczna kwota wpływów klienta w w 6 ostatnich miesiącach\n",
      "- Sumaryczna kwota wpływów klienta z tytułu emerytury w w 6 ostatnich miesiącach\n",
      "- Sumaryczna kwota wpływów klienta z tytułu programu 500 plus w w 6 ostatnich miesiącach\n",
      "- Sumaryczna kwota wpływów klienta z tytułu stypendium w w 6 ostatnich miesiącach\n",
      "- ...\n",
      "Feature names seen at fit time, yet now missing:\n",
      "- X1\n",
      "- X102\n",
      "- X109\n",
      "- X11\n",
      "- X116\n",
      "- ...\n",
      "\n",
      "\n",
      "C:\\Users\\alan\\anaconda3\\envs\\xai\\lib\\site-packages\\sklearn\\base.py:493: FutureWarning:\n",
      "\n",
      "The feature names should match those that were passed during fit. Starting version 1.2, an error will be raised.\n",
      "Feature names unseen at fit time:\n",
      "- Sumaryczna kwota transakcji w bankomatach w 6 ostatnich miesiącach\n",
      "- Sumaryczna kwota wpływów klienta w w 6 ostatnich miesiącach\n",
      "- Sumaryczna kwota wpływów klienta z tytułu emerytury w w 6 ostatnich miesiącach\n",
      "- Sumaryczna kwota wpływów klienta z tytułu programu 500 plus w w 6 ostatnich miesiącach\n",
      "- Sumaryczna kwota wpływów klienta z tytułu stypendium w w 6 ostatnich miesiącach\n",
      "- ...\n",
      "Feature names seen at fit time, yet now missing:\n",
      "- X1\n",
      "- X102\n",
      "- X109\n",
      "- X11\n",
      "- X116\n",
      "- ...\n",
      "\n",
      "\n",
      "Calculating ceteris paribus:  56%|█████▌    | 24/43 [00:00<00:00, 28.46it/s]C:\\Users\\alan\\anaconda3\\envs\\xai\\lib\\site-packages\\sklearn\\base.py:493: FutureWarning:\n",
      "\n",
      "The feature names should match those that were passed during fit. Starting version 1.2, an error will be raised.\n",
      "Feature names unseen at fit time:\n",
      "- Sumaryczna kwota transakcji w bankomatach w 6 ostatnich miesiącach\n",
      "- Sumaryczna kwota wpływów klienta w w 6 ostatnich miesiącach\n",
      "- Sumaryczna kwota wpływów klienta z tytułu emerytury w w 6 ostatnich miesiącach\n",
      "- Sumaryczna kwota wpływów klienta z tytułu programu 500 plus w w 6 ostatnich miesiącach\n",
      "- Sumaryczna kwota wpływów klienta z tytułu stypendium w w 6 ostatnich miesiącach\n",
      "- ...\n",
      "Feature names seen at fit time, yet now missing:\n",
      "- X1\n",
      "- X102\n",
      "- X109\n",
      "- X11\n",
      "- X116\n",
      "- ...\n",
      "\n",
      "\n",
      "C:\\Users\\alan\\anaconda3\\envs\\xai\\lib\\site-packages\\sklearn\\base.py:493: FutureWarning:\n",
      "\n",
      "The feature names should match those that were passed during fit. Starting version 1.2, an error will be raised.\n",
      "Feature names unseen at fit time:\n",
      "- Sumaryczna kwota transakcji w bankomatach w 6 ostatnich miesiącach\n",
      "- Sumaryczna kwota wpływów klienta w w 6 ostatnich miesiącach\n",
      "- Sumaryczna kwota wpływów klienta z tytułu emerytury w w 6 ostatnich miesiącach\n",
      "- Sumaryczna kwota wpływów klienta z tytułu programu 500 plus w w 6 ostatnich miesiącach\n",
      "- Sumaryczna kwota wpływów klienta z tytułu stypendium w w 6 ostatnich miesiącach\n",
      "- ...\n",
      "Feature names seen at fit time, yet now missing:\n",
      "- X1\n",
      "- X102\n",
      "- X109\n",
      "- X11\n",
      "- X116\n",
      "- ...\n",
      "\n",
      "\n",
      "C:\\Users\\alan\\anaconda3\\envs\\xai\\lib\\site-packages\\sklearn\\base.py:493: FutureWarning:\n",
      "\n",
      "The feature names should match those that were passed during fit. Starting version 1.2, an error will be raised.\n",
      "Feature names unseen at fit time:\n",
      "- Sumaryczna kwota transakcji w bankomatach w 6 ostatnich miesiącach\n",
      "- Sumaryczna kwota wpływów klienta w w 6 ostatnich miesiącach\n",
      "- Sumaryczna kwota wpływów klienta z tytułu emerytury w w 6 ostatnich miesiącach\n",
      "- Sumaryczna kwota wpływów klienta z tytułu programu 500 plus w w 6 ostatnich miesiącach\n",
      "- Sumaryczna kwota wpływów klienta z tytułu stypendium w w 6 ostatnich miesiącach\n",
      "- ...\n",
      "Feature names seen at fit time, yet now missing:\n",
      "- X1\n",
      "- X102\n",
      "- X109\n",
      "- X11\n",
      "- X116\n",
      "- ...\n",
      "\n",
      "\n",
      "Calculating ceteris paribus:  63%|██████▎   | 27/43 [00:00<00:00, 28.53it/s]C:\\Users\\alan\\anaconda3\\envs\\xai\\lib\\site-packages\\sklearn\\base.py:493: FutureWarning:\n",
      "\n",
      "The feature names should match those that were passed during fit. Starting version 1.2, an error will be raised.\n",
      "Feature names unseen at fit time:\n",
      "- Sumaryczna kwota transakcji w bankomatach w 6 ostatnich miesiącach\n",
      "- Sumaryczna kwota wpływów klienta w w 6 ostatnich miesiącach\n",
      "- Sumaryczna kwota wpływów klienta z tytułu emerytury w w 6 ostatnich miesiącach\n",
      "- Sumaryczna kwota wpływów klienta z tytułu programu 500 plus w w 6 ostatnich miesiącach\n",
      "- Sumaryczna kwota wpływów klienta z tytułu stypendium w w 6 ostatnich miesiącach\n",
      "- ...\n",
      "Feature names seen at fit time, yet now missing:\n",
      "- X1\n",
      "- X102\n",
      "- X109\n",
      "- X11\n",
      "- X116\n",
      "- ...\n",
      "\n",
      "\n",
      "C:\\Users\\alan\\anaconda3\\envs\\xai\\lib\\site-packages\\sklearn\\base.py:493: FutureWarning:\n",
      "\n",
      "The feature names should match those that were passed during fit. Starting version 1.2, an error will be raised.\n",
      "Feature names unseen at fit time:\n",
      "- Sumaryczna kwota transakcji w bankomatach w 6 ostatnich miesiącach\n",
      "- Sumaryczna kwota wpływów klienta w w 6 ostatnich miesiącach\n",
      "- Sumaryczna kwota wpływów klienta z tytułu emerytury w w 6 ostatnich miesiącach\n",
      "- Sumaryczna kwota wpływów klienta z tytułu programu 500 plus w w 6 ostatnich miesiącach\n",
      "- Sumaryczna kwota wpływów klienta z tytułu stypendium w w 6 ostatnich miesiącach\n",
      "- ...\n",
      "Feature names seen at fit time, yet now missing:\n",
      "- X1\n",
      "- X102\n",
      "- X109\n",
      "- X11\n",
      "- X116\n",
      "- ...\n",
      "\n",
      "\n",
      "C:\\Users\\alan\\anaconda3\\envs\\xai\\lib\\site-packages\\sklearn\\base.py:493: FutureWarning:\n",
      "\n",
      "The feature names should match those that were passed during fit. Starting version 1.2, an error will be raised.\n",
      "Feature names unseen at fit time:\n",
      "- Sumaryczna kwota transakcji w bankomatach w 6 ostatnich miesiącach\n",
      "- Sumaryczna kwota wpływów klienta w w 6 ostatnich miesiącach\n",
      "- Sumaryczna kwota wpływów klienta z tytułu emerytury w w 6 ostatnich miesiącach\n",
      "- Sumaryczna kwota wpływów klienta z tytułu programu 500 plus w w 6 ostatnich miesiącach\n",
      "- Sumaryczna kwota wpływów klienta z tytułu stypendium w w 6 ostatnich miesiącach\n",
      "- ...\n",
      "Feature names seen at fit time, yet now missing:\n",
      "- X1\n",
      "- X102\n",
      "- X109\n",
      "- X11\n",
      "- X116\n",
      "- ...\n",
      "\n",
      "\n",
      "Calculating ceteris paribus:  70%|██████▉   | 30/43 [00:01<00:00, 28.71it/s]C:\\Users\\alan\\anaconda3\\envs\\xai\\lib\\site-packages\\sklearn\\base.py:493: FutureWarning:\n",
      "\n",
      "The feature names should match those that were passed during fit. Starting version 1.2, an error will be raised.\n",
      "Feature names unseen at fit time:\n",
      "- Sumaryczna kwota transakcji w bankomatach w 6 ostatnich miesiącach\n",
      "- Sumaryczna kwota wpływów klienta w w 6 ostatnich miesiącach\n",
      "- Sumaryczna kwota wpływów klienta z tytułu emerytury w w 6 ostatnich miesiącach\n",
      "- Sumaryczna kwota wpływów klienta z tytułu programu 500 plus w w 6 ostatnich miesiącach\n",
      "- Sumaryczna kwota wpływów klienta z tytułu stypendium w w 6 ostatnich miesiącach\n",
      "- ...\n",
      "Feature names seen at fit time, yet now missing:\n",
      "- X1\n",
      "- X102\n",
      "- X109\n",
      "- X11\n",
      "- X116\n",
      "- ...\n",
      "\n",
      "\n",
      "C:\\Users\\alan\\anaconda3\\envs\\xai\\lib\\site-packages\\sklearn\\base.py:493: FutureWarning:\n",
      "\n",
      "The feature names should match those that were passed during fit. Starting version 1.2, an error will be raised.\n",
      "Feature names unseen at fit time:\n",
      "- Sumaryczna kwota transakcji w bankomatach w 6 ostatnich miesiącach\n",
      "- Sumaryczna kwota wpływów klienta w w 6 ostatnich miesiącach\n",
      "- Sumaryczna kwota wpływów klienta z tytułu emerytury w w 6 ostatnich miesiącach\n",
      "- Sumaryczna kwota wpływów klienta z tytułu programu 500 plus w w 6 ostatnich miesiącach\n",
      "- Sumaryczna kwota wpływów klienta z tytułu stypendium w w 6 ostatnich miesiącach\n",
      "- ...\n",
      "Feature names seen at fit time, yet now missing:\n",
      "- X1\n",
      "- X102\n",
      "- X109\n",
      "- X11\n",
      "- X116\n",
      "- ...\n",
      "\n",
      "\n",
      "C:\\Users\\alan\\anaconda3\\envs\\xai\\lib\\site-packages\\sklearn\\base.py:493: FutureWarning:\n",
      "\n",
      "The feature names should match those that were passed during fit. Starting version 1.2, an error will be raised.\n",
      "Feature names unseen at fit time:\n",
      "- Sumaryczna kwota transakcji w bankomatach w 6 ostatnich miesiącach\n",
      "- Sumaryczna kwota wpływów klienta w w 6 ostatnich miesiącach\n",
      "- Sumaryczna kwota wpływów klienta z tytułu emerytury w w 6 ostatnich miesiącach\n",
      "- Sumaryczna kwota wpływów klienta z tytułu programu 500 plus w w 6 ostatnich miesiącach\n",
      "- Sumaryczna kwota wpływów klienta z tytułu stypendium w w 6 ostatnich miesiącach\n",
      "- ...\n",
      "Feature names seen at fit time, yet now missing:\n",
      "- X1\n",
      "- X102\n",
      "- X109\n",
      "- X11\n",
      "- X116\n",
      "- ...\n",
      "\n",
      "\n",
      "Calculating ceteris paribus:  77%|███████▋  | 33/43 [00:01<00:00, 28.75it/s]C:\\Users\\alan\\anaconda3\\envs\\xai\\lib\\site-packages\\sklearn\\base.py:493: FutureWarning:\n",
      "\n",
      "The feature names should match those that were passed during fit. Starting version 1.2, an error will be raised.\n",
      "Feature names unseen at fit time:\n",
      "- Sumaryczna kwota transakcji w bankomatach w 6 ostatnich miesiącach\n",
      "- Sumaryczna kwota wpływów klienta w w 6 ostatnich miesiącach\n",
      "- Sumaryczna kwota wpływów klienta z tytułu emerytury w w 6 ostatnich miesiącach\n",
      "- Sumaryczna kwota wpływów klienta z tytułu programu 500 plus w w 6 ostatnich miesiącach\n",
      "- Sumaryczna kwota wpływów klienta z tytułu stypendium w w 6 ostatnich miesiącach\n",
      "- ...\n",
      "Feature names seen at fit time, yet now missing:\n",
      "- X1\n",
      "- X102\n",
      "- X109\n",
      "- X11\n",
      "- X116\n",
      "- ...\n",
      "\n",
      "\n",
      "C:\\Users\\alan\\anaconda3\\envs\\xai\\lib\\site-packages\\sklearn\\base.py:493: FutureWarning:\n",
      "\n",
      "The feature names should match those that were passed during fit. Starting version 1.2, an error will be raised.\n",
      "Feature names unseen at fit time:\n",
      "- Sumaryczna kwota transakcji w bankomatach w 6 ostatnich miesiącach\n",
      "- Sumaryczna kwota wpływów klienta w w 6 ostatnich miesiącach\n",
      "- Sumaryczna kwota wpływów klienta z tytułu emerytury w w 6 ostatnich miesiącach\n",
      "- Sumaryczna kwota wpływów klienta z tytułu programu 500 plus w w 6 ostatnich miesiącach\n",
      "- Sumaryczna kwota wpływów klienta z tytułu stypendium w w 6 ostatnich miesiącach\n",
      "- ...\n",
      "Feature names seen at fit time, yet now missing:\n",
      "- X1\n",
      "- X102\n",
      "- X109\n",
      "- X11\n",
      "- X116\n",
      "- ...\n",
      "\n",
      "\n",
      "C:\\Users\\alan\\anaconda3\\envs\\xai\\lib\\site-packages\\sklearn\\base.py:493: FutureWarning:\n",
      "\n",
      "The feature names should match those that were passed during fit. Starting version 1.2, an error will be raised.\n",
      "Feature names unseen at fit time:\n",
      "- Sumaryczna kwota transakcji w bankomatach w 6 ostatnich miesiącach\n",
      "- Sumaryczna kwota wpływów klienta w w 6 ostatnich miesiącach\n",
      "- Sumaryczna kwota wpływów klienta z tytułu emerytury w w 6 ostatnich miesiącach\n",
      "- Sumaryczna kwota wpływów klienta z tytułu programu 500 plus w w 6 ostatnich miesiącach\n",
      "- Sumaryczna kwota wpływów klienta z tytułu stypendium w w 6 ostatnich miesiącach\n",
      "- ...\n",
      "Feature names seen at fit time, yet now missing:\n",
      "- X1\n",
      "- X102\n",
      "- X109\n",
      "- X11\n",
      "- X116\n",
      "- ...\n",
      "\n",
      "\n",
      "Calculating ceteris paribus:  84%|████████▎ | 36/43 [00:01<00:00, 27.88it/s]C:\\Users\\alan\\anaconda3\\envs\\xai\\lib\\site-packages\\sklearn\\base.py:493: FutureWarning:\n",
      "\n",
      "The feature names should match those that were passed during fit. Starting version 1.2, an error will be raised.\n",
      "Feature names unseen at fit time:\n",
      "- Sumaryczna kwota transakcji w bankomatach w 6 ostatnich miesiącach\n",
      "- Sumaryczna kwota wpływów klienta w w 6 ostatnich miesiącach\n",
      "- Sumaryczna kwota wpływów klienta z tytułu emerytury w w 6 ostatnich miesiącach\n",
      "- Sumaryczna kwota wpływów klienta z tytułu programu 500 plus w w 6 ostatnich miesiącach\n",
      "- Sumaryczna kwota wpływów klienta z tytułu stypendium w w 6 ostatnich miesiącach\n",
      "- ...\n",
      "Feature names seen at fit time, yet now missing:\n",
      "- X1\n",
      "- X102\n",
      "- X109\n",
      "- X11\n",
      "- X116\n",
      "- ...\n",
      "\n",
      "\n",
      "C:\\Users\\alan\\anaconda3\\envs\\xai\\lib\\site-packages\\sklearn\\base.py:493: FutureWarning:\n",
      "\n",
      "The feature names should match those that were passed during fit. Starting version 1.2, an error will be raised.\n",
      "Feature names unseen at fit time:\n",
      "- Sumaryczna kwota transakcji w bankomatach w 6 ostatnich miesiącach\n",
      "- Sumaryczna kwota wpływów klienta w w 6 ostatnich miesiącach\n",
      "- Sumaryczna kwota wpływów klienta z tytułu emerytury w w 6 ostatnich miesiącach\n",
      "- Sumaryczna kwota wpływów klienta z tytułu programu 500 plus w w 6 ostatnich miesiącach\n",
      "- Sumaryczna kwota wpływów klienta z tytułu stypendium w w 6 ostatnich miesiącach\n",
      "- ...\n",
      "Feature names seen at fit time, yet now missing:\n",
      "- X1\n",
      "- X102\n",
      "- X109\n",
      "- X11\n",
      "- X116\n",
      "- ...\n",
      "\n",
      "\n",
      "C:\\Users\\alan\\anaconda3\\envs\\xai\\lib\\site-packages\\sklearn\\base.py:493: FutureWarning:\n",
      "\n",
      "The feature names should match those that were passed during fit. Starting version 1.2, an error will be raised.\n",
      "Feature names unseen at fit time:\n",
      "- Sumaryczna kwota transakcji w bankomatach w 6 ostatnich miesiącach\n",
      "- Sumaryczna kwota wpływów klienta w w 6 ostatnich miesiącach\n",
      "- Sumaryczna kwota wpływów klienta z tytułu emerytury w w 6 ostatnich miesiącach\n",
      "- Sumaryczna kwota wpływów klienta z tytułu programu 500 plus w w 6 ostatnich miesiącach\n",
      "- Sumaryczna kwota wpływów klienta z tytułu stypendium w w 6 ostatnich miesiącach\n",
      "- ...\n",
      "Feature names seen at fit time, yet now missing:\n",
      "- X1\n",
      "- X102\n",
      "- X109\n",
      "- X11\n",
      "- X116\n",
      "- ...\n",
      "\n",
      "\n",
      "Calculating ceteris paribus:  91%|█████████ | 39/43 [00:01<00:00, 26.87it/s]C:\\Users\\alan\\anaconda3\\envs\\xai\\lib\\site-packages\\sklearn\\base.py:493: FutureWarning:\n",
      "\n",
      "The feature names should match those that were passed during fit. Starting version 1.2, an error will be raised.\n",
      "Feature names unseen at fit time:\n",
      "- Sumaryczna kwota transakcji w bankomatach w 6 ostatnich miesiącach\n",
      "- Sumaryczna kwota wpływów klienta w w 6 ostatnich miesiącach\n",
      "- Sumaryczna kwota wpływów klienta z tytułu emerytury w w 6 ostatnich miesiącach\n",
      "- Sumaryczna kwota wpływów klienta z tytułu programu 500 plus w w 6 ostatnich miesiącach\n",
      "- Sumaryczna kwota wpływów klienta z tytułu stypendium w w 6 ostatnich miesiącach\n",
      "- ...\n",
      "Feature names seen at fit time, yet now missing:\n",
      "- X1\n",
      "- X102\n",
      "- X109\n",
      "- X11\n",
      "- X116\n",
      "- ...\n",
      "\n",
      "\n",
      "C:\\Users\\alan\\anaconda3\\envs\\xai\\lib\\site-packages\\sklearn\\base.py:493: FutureWarning:\n",
      "\n",
      "The feature names should match those that were passed during fit. Starting version 1.2, an error will be raised.\n",
      "Feature names unseen at fit time:\n",
      "- Sumaryczna kwota transakcji w bankomatach w 6 ostatnich miesiącach\n",
      "- Sumaryczna kwota wpływów klienta w w 6 ostatnich miesiącach\n",
      "- Sumaryczna kwota wpływów klienta z tytułu emerytury w w 6 ostatnich miesiącach\n",
      "- Sumaryczna kwota wpływów klienta z tytułu programu 500 plus w w 6 ostatnich miesiącach\n",
      "- Sumaryczna kwota wpływów klienta z tytułu stypendium w w 6 ostatnich miesiącach\n",
      "- ...\n",
      "Feature names seen at fit time, yet now missing:\n",
      "- X1\n",
      "- X102\n",
      "- X109\n",
      "- X11\n",
      "- X116\n",
      "- ...\n",
      "\n",
      "\n",
      "C:\\Users\\alan\\anaconda3\\envs\\xai\\lib\\site-packages\\sklearn\\base.py:493: FutureWarning:\n",
      "\n",
      "The feature names should match those that were passed during fit. Starting version 1.2, an error will be raised.\n",
      "Feature names unseen at fit time:\n",
      "- Sumaryczna kwota transakcji w bankomatach w 6 ostatnich miesiącach\n",
      "- Sumaryczna kwota wpływów klienta w w 6 ostatnich miesiącach\n",
      "- Sumaryczna kwota wpływów klienta z tytułu emerytury w w 6 ostatnich miesiącach\n",
      "- Sumaryczna kwota wpływów klienta z tytułu programu 500 plus w w 6 ostatnich miesiącach\n",
      "- Sumaryczna kwota wpływów klienta z tytułu stypendium w w 6 ostatnich miesiącach\n",
      "- ...\n",
      "Feature names seen at fit time, yet now missing:\n",
      "- X1\n",
      "- X102\n",
      "- X109\n",
      "- X11\n",
      "- X116\n",
      "- ...\n",
      "\n",
      "\n",
      "Calculating ceteris paribus:  98%|█████████▊| 42/43 [00:01<00:00, 25.68it/s]C:\\Users\\alan\\anaconda3\\envs\\xai\\lib\\site-packages\\sklearn\\base.py:493: FutureWarning:\n",
      "\n",
      "The feature names should match those that were passed during fit. Starting version 1.2, an error will be raised.\n",
      "Feature names unseen at fit time:\n",
      "- Sumaryczna kwota transakcji w bankomatach w 6 ostatnich miesiącach\n",
      "- Sumaryczna kwota wpływów klienta w w 6 ostatnich miesiącach\n",
      "- Sumaryczna kwota wpływów klienta z tytułu emerytury w w 6 ostatnich miesiącach\n",
      "- Sumaryczna kwota wpływów klienta z tytułu programu 500 plus w w 6 ostatnich miesiącach\n",
      "- Sumaryczna kwota wpływów klienta z tytułu stypendium w w 6 ostatnich miesiącach\n",
      "- ...\n",
      "Feature names seen at fit time, yet now missing:\n",
      "- X1\n",
      "- X102\n",
      "- X109\n",
      "- X11\n",
      "- X116\n",
      "- ...\n",
      "\n",
      "\n",
      "Calculating ceteris paribus: 100%|██████████| 43/43 [00:01<00:00, 27.20it/s]\n",
      "C:\\Users\\alan\\anaconda3\\envs\\xai\\lib\\site-packages\\sklearn\\base.py:493: FutureWarning:\n",
      "\n",
      "The feature names should match those that were passed during fit. Starting version 1.2, an error will be raised.\n",
      "Feature names unseen at fit time:\n",
      "- Sumaryczna kwota transakcji w bankomatach w 6 ostatnich miesiącach\n",
      "- Sumaryczna kwota wpływów klienta w w 6 ostatnich miesiącach\n",
      "- Sumaryczna kwota wpływów klienta z tytułu emerytury w w 6 ostatnich miesiącach\n",
      "- Sumaryczna kwota wpływów klienta z tytułu programu 500 plus w w 6 ostatnich miesiącach\n",
      "- Sumaryczna kwota wpływów klienta z tytułu stypendium w w 6 ostatnich miesiącach\n",
      "- ...\n",
      "Feature names seen at fit time, yet now missing:\n",
      "- X1\n",
      "- X102\n",
      "- X109\n",
      "- X11\n",
      "- X116\n",
      "- ...\n",
      "\n",
      "\n",
      "Calculating ceteris paribus: 100%|██████████| 43/43 [00:00<00:00, 195.41it/s]\n",
      "Calculating ceteris paribus:   0%|          | 0/43 [00:00<?, ?it/s]C:\\Users\\alan\\anaconda3\\envs\\xai\\lib\\site-packages\\sklearn\\base.py:493: FutureWarning:\n",
      "\n",
      "The feature names should match those that were passed during fit. Starting version 1.2, an error will be raised.\n",
      "Feature names unseen at fit time:\n",
      "- Sumaryczna kwota transakcji w bankomatach w 6 ostatnich miesiącach\n",
      "- Sumaryczna kwota wpływów klienta w w 6 ostatnich miesiącach\n",
      "- Sumaryczna kwota wpływów klienta z tytułu emerytury w w 6 ostatnich miesiącach\n",
      "- Sumaryczna kwota wpływów klienta z tytułu programu 500 plus w w 6 ostatnich miesiącach\n",
      "- Sumaryczna kwota wpływów klienta z tytułu stypendium w w 6 ostatnich miesiącach\n",
      "- ...\n",
      "Feature names seen at fit time, yet now missing:\n",
      "- X1\n",
      "- X102\n",
      "- X109\n",
      "- X11\n",
      "- X116\n",
      "- ...\n",
      "\n",
      "\n",
      "C:\\Users\\alan\\anaconda3\\envs\\xai\\lib\\site-packages\\sklearn\\base.py:493: FutureWarning:\n",
      "\n",
      "The feature names should match those that were passed during fit. Starting version 1.2, an error will be raised.\n",
      "Feature names unseen at fit time:\n",
      "- Sumaryczna kwota transakcji w bankomatach w 6 ostatnich miesiącach\n",
      "- Sumaryczna kwota wpływów klienta w w 6 ostatnich miesiącach\n",
      "- Sumaryczna kwota wpływów klienta z tytułu emerytury w w 6 ostatnich miesiącach\n",
      "- Sumaryczna kwota wpływów klienta z tytułu programu 500 plus w w 6 ostatnich miesiącach\n",
      "- Sumaryczna kwota wpływów klienta z tytułu stypendium w w 6 ostatnich miesiącach\n",
      "- ...\n",
      "Feature names seen at fit time, yet now missing:\n",
      "- X1\n",
      "- X102\n",
      "- X109\n",
      "- X11\n",
      "- X116\n",
      "- ...\n",
      "\n",
      "\n",
      "Calculating ceteris paribus:   5%|▍         | 2/43 [00:00<00:02, 20.00it/s]C:\\Users\\alan\\anaconda3\\envs\\xai\\lib\\site-packages\\sklearn\\base.py:493: FutureWarning:\n",
      "\n",
      "The feature names should match those that were passed during fit. Starting version 1.2, an error will be raised.\n",
      "Feature names unseen at fit time:\n",
      "- Sumaryczna kwota transakcji w bankomatach w 6 ostatnich miesiącach\n",
      "- Sumaryczna kwota wpływów klienta w w 6 ostatnich miesiącach\n",
      "- Sumaryczna kwota wpływów klienta z tytułu emerytury w w 6 ostatnich miesiącach\n",
      "- Sumaryczna kwota wpływów klienta z tytułu programu 500 plus w w 6 ostatnich miesiącach\n",
      "- Sumaryczna kwota wpływów klienta z tytułu stypendium w w 6 ostatnich miesiącach\n",
      "- ...\n",
      "Feature names seen at fit time, yet now missing:\n",
      "- X1\n",
      "- X102\n",
      "- X109\n",
      "- X11\n",
      "- X116\n",
      "- ...\n",
      "\n",
      "\n",
      "C:\\Users\\alan\\anaconda3\\envs\\xai\\lib\\site-packages\\sklearn\\base.py:493: FutureWarning:\n",
      "\n",
      "The feature names should match those that were passed during fit. Starting version 1.2, an error will be raised.\n",
      "Feature names unseen at fit time:\n",
      "- Sumaryczna kwota transakcji w bankomatach w 6 ostatnich miesiącach\n",
      "- Sumaryczna kwota wpływów klienta w w 6 ostatnich miesiącach\n",
      "- Sumaryczna kwota wpływów klienta z tytułu emerytury w w 6 ostatnich miesiącach\n",
      "- Sumaryczna kwota wpływów klienta z tytułu programu 500 plus w w 6 ostatnich miesiącach\n",
      "- Sumaryczna kwota wpływów klienta z tytułu stypendium w w 6 ostatnich miesiącach\n",
      "- ...\n",
      "Feature names seen at fit time, yet now missing:\n",
      "- X1\n",
      "- X102\n",
      "- X109\n",
      "- X11\n",
      "- X116\n",
      "- ...\n",
      "\n",
      "\n",
      "C:\\Users\\alan\\anaconda3\\envs\\xai\\lib\\site-packages\\sklearn\\base.py:493: FutureWarning:\n",
      "\n",
      "The feature names should match those that were passed during fit. Starting version 1.2, an error will be raised.\n",
      "Feature names unseen at fit time:\n",
      "- Sumaryczna kwota transakcji w bankomatach w 6 ostatnich miesiącach\n",
      "- Sumaryczna kwota wpływów klienta w w 6 ostatnich miesiącach\n",
      "- Sumaryczna kwota wpływów klienta z tytułu emerytury w w 6 ostatnich miesiącach\n",
      "- Sumaryczna kwota wpływów klienta z tytułu programu 500 plus w w 6 ostatnich miesiącach\n",
      "- Sumaryczna kwota wpływów klienta z tytułu stypendium w w 6 ostatnich miesiącach\n",
      "- ...\n",
      "Feature names seen at fit time, yet now missing:\n",
      "- X1\n",
      "- X102\n",
      "- X109\n",
      "- X11\n",
      "- X116\n",
      "- ...\n",
      "\n",
      "\n",
      "Calculating ceteris paribus:  12%|█▏        | 5/43 [00:00<00:01, 24.58it/s]C:\\Users\\alan\\anaconda3\\envs\\xai\\lib\\site-packages\\sklearn\\base.py:493: FutureWarning:\n",
      "\n",
      "The feature names should match those that were passed during fit. Starting version 1.2, an error will be raised.\n",
      "Feature names unseen at fit time:\n",
      "- Sumaryczna kwota transakcji w bankomatach w 6 ostatnich miesiącach\n",
      "- Sumaryczna kwota wpływów klienta w w 6 ostatnich miesiącach\n",
      "- Sumaryczna kwota wpływów klienta z tytułu emerytury w w 6 ostatnich miesiącach\n",
      "- Sumaryczna kwota wpływów klienta z tytułu programu 500 plus w w 6 ostatnich miesiącach\n",
      "- Sumaryczna kwota wpływów klienta z tytułu stypendium w w 6 ostatnich miesiącach\n",
      "- ...\n",
      "Feature names seen at fit time, yet now missing:\n",
      "- X1\n",
      "- X102\n",
      "- X109\n",
      "- X11\n",
      "- X116\n",
      "- ...\n",
      "\n",
      "\n",
      "C:\\Users\\alan\\anaconda3\\envs\\xai\\lib\\site-packages\\sklearn\\base.py:493: FutureWarning:\n",
      "\n",
      "The feature names should match those that were passed during fit. Starting version 1.2, an error will be raised.\n",
      "Feature names unseen at fit time:\n",
      "- Sumaryczna kwota transakcji w bankomatach w 6 ostatnich miesiącach\n",
      "- Sumaryczna kwota wpływów klienta w w 6 ostatnich miesiącach\n",
      "- Sumaryczna kwota wpływów klienta z tytułu emerytury w w 6 ostatnich miesiącach\n",
      "- Sumaryczna kwota wpływów klienta z tytułu programu 500 plus w w 6 ostatnich miesiącach\n",
      "- Sumaryczna kwota wpływów klienta z tytułu stypendium w w 6 ostatnich miesiącach\n",
      "- ...\n",
      "Feature names seen at fit time, yet now missing:\n",
      "- X1\n",
      "- X102\n",
      "- X109\n",
      "- X11\n",
      "- X116\n",
      "- ...\n",
      "\n",
      "\n",
      "C:\\Users\\alan\\anaconda3\\envs\\xai\\lib\\site-packages\\sklearn\\base.py:493: FutureWarning:\n",
      "\n",
      "The feature names should match those that were passed during fit. Starting version 1.2, an error will be raised.\n",
      "Feature names unseen at fit time:\n",
      "- Sumaryczna kwota transakcji w bankomatach w 6 ostatnich miesiącach\n",
      "- Sumaryczna kwota wpływów klienta w w 6 ostatnich miesiącach\n",
      "- Sumaryczna kwota wpływów klienta z tytułu emerytury w w 6 ostatnich miesiącach\n",
      "- Sumaryczna kwota wpływów klienta z tytułu programu 500 plus w w 6 ostatnich miesiącach\n",
      "- Sumaryczna kwota wpływów klienta z tytułu stypendium w w 6 ostatnich miesiącach\n",
      "- ...\n",
      "Feature names seen at fit time, yet now missing:\n",
      "- X1\n",
      "- X102\n",
      "- X109\n",
      "- X11\n",
      "- X116\n",
      "- ...\n",
      "\n",
      "\n",
      "Calculating ceteris paribus:  19%|█▊        | 8/43 [00:00<00:01, 25.96it/s]C:\\Users\\alan\\anaconda3\\envs\\xai\\lib\\site-packages\\sklearn\\base.py:493: FutureWarning:\n",
      "\n",
      "The feature names should match those that were passed during fit. Starting version 1.2, an error will be raised.\n",
      "Feature names unseen at fit time:\n",
      "- Sumaryczna kwota transakcji w bankomatach w 6 ostatnich miesiącach\n",
      "- Sumaryczna kwota wpływów klienta w w 6 ostatnich miesiącach\n",
      "- Sumaryczna kwota wpływów klienta z tytułu emerytury w w 6 ostatnich miesiącach\n",
      "- Sumaryczna kwota wpływów klienta z tytułu programu 500 plus w w 6 ostatnich miesiącach\n",
      "- Sumaryczna kwota wpływów klienta z tytułu stypendium w w 6 ostatnich miesiącach\n",
      "- ...\n",
      "Feature names seen at fit time, yet now missing:\n",
      "- X1\n",
      "- X102\n",
      "- X109\n",
      "- X11\n",
      "- X116\n",
      "- ...\n",
      "\n",
      "\n",
      "C:\\Users\\alan\\anaconda3\\envs\\xai\\lib\\site-packages\\sklearn\\base.py:493: FutureWarning:\n",
      "\n",
      "The feature names should match those that were passed during fit. Starting version 1.2, an error will be raised.\n",
      "Feature names unseen at fit time:\n",
      "- Sumaryczna kwota transakcji w bankomatach w 6 ostatnich miesiącach\n",
      "- Sumaryczna kwota wpływów klienta w w 6 ostatnich miesiącach\n",
      "- Sumaryczna kwota wpływów klienta z tytułu emerytury w w 6 ostatnich miesiącach\n",
      "- Sumaryczna kwota wpływów klienta z tytułu programu 500 plus w w 6 ostatnich miesiącach\n",
      "- Sumaryczna kwota wpływów klienta z tytułu stypendium w w 6 ostatnich miesiącach\n",
      "- ...\n",
      "Feature names seen at fit time, yet now missing:\n",
      "- X1\n",
      "- X102\n",
      "- X109\n",
      "- X11\n",
      "- X116\n",
      "- ...\n",
      "\n",
      "\n",
      "C:\\Users\\alan\\anaconda3\\envs\\xai\\lib\\site-packages\\sklearn\\base.py:493: FutureWarning:\n",
      "\n",
      "The feature names should match those that were passed during fit. Starting version 1.2, an error will be raised.\n",
      "Feature names unseen at fit time:\n",
      "- Sumaryczna kwota transakcji w bankomatach w 6 ostatnich miesiącach\n",
      "- Sumaryczna kwota wpływów klienta w w 6 ostatnich miesiącach\n",
      "- Sumaryczna kwota wpływów klienta z tytułu emerytury w w 6 ostatnich miesiącach\n",
      "- Sumaryczna kwota wpływów klienta z tytułu programu 500 plus w w 6 ostatnich miesiącach\n",
      "- Sumaryczna kwota wpływów klienta z tytułu stypendium w w 6 ostatnich miesiącach\n",
      "- ...\n",
      "Feature names seen at fit time, yet now missing:\n",
      "- X1\n",
      "- X102\n",
      "- X109\n",
      "- X11\n",
      "- X116\n",
      "- ...\n",
      "\n",
      "\n",
      "Calculating ceteris paribus:  26%|██▌       | 11/43 [00:00<00:01, 26.78it/s]C:\\Users\\alan\\anaconda3\\envs\\xai\\lib\\site-packages\\sklearn\\base.py:493: FutureWarning:\n",
      "\n",
      "The feature names should match those that were passed during fit. Starting version 1.2, an error will be raised.\n",
      "Feature names unseen at fit time:\n",
      "- Sumaryczna kwota transakcji w bankomatach w 6 ostatnich miesiącach\n",
      "- Sumaryczna kwota wpływów klienta w w 6 ostatnich miesiącach\n",
      "- Sumaryczna kwota wpływów klienta z tytułu emerytury w w 6 ostatnich miesiącach\n",
      "- Sumaryczna kwota wpływów klienta z tytułu programu 500 plus w w 6 ostatnich miesiącach\n",
      "- Sumaryczna kwota wpływów klienta z tytułu stypendium w w 6 ostatnich miesiącach\n",
      "- ...\n",
      "Feature names seen at fit time, yet now missing:\n",
      "- X1\n",
      "- X102\n",
      "- X109\n",
      "- X11\n",
      "- X116\n",
      "- ...\n",
      "\n",
      "\n",
      "C:\\Users\\alan\\anaconda3\\envs\\xai\\lib\\site-packages\\sklearn\\base.py:493: FutureWarning:\n",
      "\n",
      "The feature names should match those that were passed during fit. Starting version 1.2, an error will be raised.\n",
      "Feature names unseen at fit time:\n",
      "- Sumaryczna kwota transakcji w bankomatach w 6 ostatnich miesiącach\n",
      "- Sumaryczna kwota wpływów klienta w w 6 ostatnich miesiącach\n",
      "- Sumaryczna kwota wpływów klienta z tytułu emerytury w w 6 ostatnich miesiącach\n",
      "- Sumaryczna kwota wpływów klienta z tytułu programu 500 plus w w 6 ostatnich miesiącach\n",
      "- Sumaryczna kwota wpływów klienta z tytułu stypendium w w 6 ostatnich miesiącach\n",
      "- ...\n",
      "Feature names seen at fit time, yet now missing:\n",
      "- X1\n",
      "- X102\n",
      "- X109\n",
      "- X11\n",
      "- X116\n",
      "- ...\n",
      "\n",
      "\n",
      "C:\\Users\\alan\\anaconda3\\envs\\xai\\lib\\site-packages\\sklearn\\base.py:493: FutureWarning:\n",
      "\n",
      "The feature names should match those that were passed during fit. Starting version 1.2, an error will be raised.\n",
      "Feature names unseen at fit time:\n",
      "- Sumaryczna kwota transakcji w bankomatach w 6 ostatnich miesiącach\n",
      "- Sumaryczna kwota wpływów klienta w w 6 ostatnich miesiącach\n",
      "- Sumaryczna kwota wpływów klienta z tytułu emerytury w w 6 ostatnich miesiącach\n",
      "- Sumaryczna kwota wpływów klienta z tytułu programu 500 plus w w 6 ostatnich miesiącach\n",
      "- Sumaryczna kwota wpływów klienta z tytułu stypendium w w 6 ostatnich miesiącach\n",
      "- ...\n",
      "Feature names seen at fit time, yet now missing:\n",
      "- X1\n",
      "- X102\n",
      "- X109\n",
      "- X11\n",
      "- X116\n",
      "- ...\n",
      "\n",
      "\n",
      "Calculating ceteris paribus:  33%|███▎      | 14/43 [00:00<00:01, 27.14it/s]C:\\Users\\alan\\anaconda3\\envs\\xai\\lib\\site-packages\\sklearn\\base.py:493: FutureWarning:\n",
      "\n",
      "The feature names should match those that were passed during fit. Starting version 1.2, an error will be raised.\n",
      "Feature names unseen at fit time:\n",
      "- Sumaryczna kwota transakcji w bankomatach w 6 ostatnich miesiącach\n",
      "- Sumaryczna kwota wpływów klienta w w 6 ostatnich miesiącach\n",
      "- Sumaryczna kwota wpływów klienta z tytułu emerytury w w 6 ostatnich miesiącach\n",
      "- Sumaryczna kwota wpływów klienta z tytułu programu 500 plus w w 6 ostatnich miesiącach\n",
      "- Sumaryczna kwota wpływów klienta z tytułu stypendium w w 6 ostatnich miesiącach\n",
      "- ...\n",
      "Feature names seen at fit time, yet now missing:\n",
      "- X1\n",
      "- X102\n",
      "- X109\n",
      "- X11\n",
      "- X116\n",
      "- ...\n",
      "\n",
      "\n",
      "C:\\Users\\alan\\anaconda3\\envs\\xai\\lib\\site-packages\\sklearn\\base.py:493: FutureWarning:\n",
      "\n",
      "The feature names should match those that were passed during fit. Starting version 1.2, an error will be raised.\n",
      "Feature names unseen at fit time:\n",
      "- Sumaryczna kwota transakcji w bankomatach w 6 ostatnich miesiącach\n",
      "- Sumaryczna kwota wpływów klienta w w 6 ostatnich miesiącach\n",
      "- Sumaryczna kwota wpływów klienta z tytułu emerytury w w 6 ostatnich miesiącach\n",
      "- Sumaryczna kwota wpływów klienta z tytułu programu 500 plus w w 6 ostatnich miesiącach\n",
      "- Sumaryczna kwota wpływów klienta z tytułu stypendium w w 6 ostatnich miesiącach\n",
      "- ...\n",
      "Feature names seen at fit time, yet now missing:\n",
      "- X1\n",
      "- X102\n",
      "- X109\n",
      "- X11\n",
      "- X116\n",
      "- ...\n",
      "\n",
      "\n",
      "C:\\Users\\alan\\anaconda3\\envs\\xai\\lib\\site-packages\\sklearn\\base.py:493: FutureWarning:\n",
      "\n",
      "The feature names should match those that were passed during fit. Starting version 1.2, an error will be raised.\n",
      "Feature names unseen at fit time:\n",
      "- Sumaryczna kwota transakcji w bankomatach w 6 ostatnich miesiącach\n",
      "- Sumaryczna kwota wpływów klienta w w 6 ostatnich miesiącach\n",
      "- Sumaryczna kwota wpływów klienta z tytułu emerytury w w 6 ostatnich miesiącach\n",
      "- Sumaryczna kwota wpływów klienta z tytułu programu 500 plus w w 6 ostatnich miesiącach\n",
      "- Sumaryczna kwota wpływów klienta z tytułu stypendium w w 6 ostatnich miesiącach\n",
      "- ...\n",
      "Feature names seen at fit time, yet now missing:\n",
      "- X1\n",
      "- X102\n",
      "- X109\n",
      "- X11\n",
      "- X116\n",
      "- ...\n",
      "\n",
      "\n",
      "Calculating ceteris paribus:  40%|███▉      | 17/43 [00:00<00:00, 27.62it/s]C:\\Users\\alan\\anaconda3\\envs\\xai\\lib\\site-packages\\sklearn\\base.py:493: FutureWarning:\n",
      "\n",
      "The feature names should match those that were passed during fit. Starting version 1.2, an error will be raised.\n",
      "Feature names unseen at fit time:\n",
      "- Sumaryczna kwota transakcji w bankomatach w 6 ostatnich miesiącach\n",
      "- Sumaryczna kwota wpływów klienta w w 6 ostatnich miesiącach\n",
      "- Sumaryczna kwota wpływów klienta z tytułu emerytury w w 6 ostatnich miesiącach\n",
      "- Sumaryczna kwota wpływów klienta z tytułu programu 500 plus w w 6 ostatnich miesiącach\n",
      "- Sumaryczna kwota wpływów klienta z tytułu stypendium w w 6 ostatnich miesiącach\n",
      "- ...\n",
      "Feature names seen at fit time, yet now missing:\n",
      "- X1\n",
      "- X102\n",
      "- X109\n",
      "- X11\n",
      "- X116\n",
      "- ...\n",
      "\n",
      "\n",
      "C:\\Users\\alan\\anaconda3\\envs\\xai\\lib\\site-packages\\sklearn\\base.py:493: FutureWarning:\n",
      "\n",
      "The feature names should match those that were passed during fit. Starting version 1.2, an error will be raised.\n",
      "Feature names unseen at fit time:\n",
      "- Sumaryczna kwota transakcji w bankomatach w 6 ostatnich miesiącach\n",
      "- Sumaryczna kwota wpływów klienta w w 6 ostatnich miesiącach\n",
      "- Sumaryczna kwota wpływów klienta z tytułu emerytury w w 6 ostatnich miesiącach\n",
      "- Sumaryczna kwota wpływów klienta z tytułu programu 500 plus w w 6 ostatnich miesiącach\n",
      "- Sumaryczna kwota wpływów klienta z tytułu stypendium w w 6 ostatnich miesiącach\n",
      "- ...\n",
      "Feature names seen at fit time, yet now missing:\n",
      "- X1\n",
      "- X102\n",
      "- X109\n",
      "- X11\n",
      "- X116\n",
      "- ...\n",
      "\n",
      "\n",
      "C:\\Users\\alan\\anaconda3\\envs\\xai\\lib\\site-packages\\sklearn\\base.py:493: FutureWarning:\n",
      "\n",
      "The feature names should match those that were passed during fit. Starting version 1.2, an error will be raised.\n",
      "Feature names unseen at fit time:\n",
      "- Sumaryczna kwota transakcji w bankomatach w 6 ostatnich miesiącach\n",
      "- Sumaryczna kwota wpływów klienta w w 6 ostatnich miesiącach\n",
      "- Sumaryczna kwota wpływów klienta z tytułu emerytury w w 6 ostatnich miesiącach\n",
      "- Sumaryczna kwota wpływów klienta z tytułu programu 500 plus w w 6 ostatnich miesiącach\n",
      "- Sumaryczna kwota wpływów klienta z tytułu stypendium w w 6 ostatnich miesiącach\n",
      "- ...\n",
      "Feature names seen at fit time, yet now missing:\n",
      "- X1\n",
      "- X102\n",
      "- X109\n",
      "- X11\n",
      "- X116\n",
      "- ...\n",
      "\n",
      "\n",
      "Calculating ceteris paribus:  47%|████▋     | 20/43 [00:00<00:00, 27.85it/s]C:\\Users\\alan\\anaconda3\\envs\\xai\\lib\\site-packages\\sklearn\\base.py:493: FutureWarning:\n",
      "\n",
      "The feature names should match those that were passed during fit. Starting version 1.2, an error will be raised.\n",
      "Feature names unseen at fit time:\n",
      "- Sumaryczna kwota transakcji w bankomatach w 6 ostatnich miesiącach\n",
      "- Sumaryczna kwota wpływów klienta w w 6 ostatnich miesiącach\n",
      "- Sumaryczna kwota wpływów klienta z tytułu emerytury w w 6 ostatnich miesiącach\n",
      "- Sumaryczna kwota wpływów klienta z tytułu programu 500 plus w w 6 ostatnich miesiącach\n",
      "- Sumaryczna kwota wpływów klienta z tytułu stypendium w w 6 ostatnich miesiącach\n",
      "- ...\n",
      "Feature names seen at fit time, yet now missing:\n",
      "- X1\n",
      "- X102\n",
      "- X109\n",
      "- X11\n",
      "- X116\n",
      "- ...\n",
      "\n",
      "\n",
      "C:\\Users\\alan\\anaconda3\\envs\\xai\\lib\\site-packages\\sklearn\\base.py:493: FutureWarning:\n",
      "\n",
      "The feature names should match those that were passed during fit. Starting version 1.2, an error will be raised.\n",
      "Feature names unseen at fit time:\n",
      "- Sumaryczna kwota transakcji w bankomatach w 6 ostatnich miesiącach\n",
      "- Sumaryczna kwota wpływów klienta w w 6 ostatnich miesiącach\n",
      "- Sumaryczna kwota wpływów klienta z tytułu emerytury w w 6 ostatnich miesiącach\n",
      "- Sumaryczna kwota wpływów klienta z tytułu programu 500 plus w w 6 ostatnich miesiącach\n",
      "- Sumaryczna kwota wpływów klienta z tytułu stypendium w w 6 ostatnich miesiącach\n",
      "- ...\n",
      "Feature names seen at fit time, yet now missing:\n",
      "- X1\n",
      "- X102\n",
      "- X109\n",
      "- X11\n",
      "- X116\n",
      "- ...\n",
      "\n",
      "\n",
      "C:\\Users\\alan\\anaconda3\\envs\\xai\\lib\\site-packages\\sklearn\\base.py:493: FutureWarning:\n",
      "\n",
      "The feature names should match those that were passed during fit. Starting version 1.2, an error will be raised.\n",
      "Feature names unseen at fit time:\n",
      "- Sumaryczna kwota transakcji w bankomatach w 6 ostatnich miesiącach\n",
      "- Sumaryczna kwota wpływów klienta w w 6 ostatnich miesiącach\n",
      "- Sumaryczna kwota wpływów klienta z tytułu emerytury w w 6 ostatnich miesiącach\n",
      "- Sumaryczna kwota wpływów klienta z tytułu programu 500 plus w w 6 ostatnich miesiącach\n",
      "- Sumaryczna kwota wpływów klienta z tytułu stypendium w w 6 ostatnich miesiącach\n",
      "- ...\n",
      "Feature names seen at fit time, yet now missing:\n",
      "- X1\n",
      "- X102\n",
      "- X109\n",
      "- X11\n",
      "- X116\n",
      "- ...\n",
      "\n",
      "\n",
      "Calculating ceteris paribus:  53%|█████▎    | 23/43 [00:00<00:00, 28.16it/s]C:\\Users\\alan\\anaconda3\\envs\\xai\\lib\\site-packages\\sklearn\\base.py:493: FutureWarning:\n",
      "\n",
      "The feature names should match those that were passed during fit. Starting version 1.2, an error will be raised.\n",
      "Feature names unseen at fit time:\n",
      "- Sumaryczna kwota transakcji w bankomatach w 6 ostatnich miesiącach\n",
      "- Sumaryczna kwota wpływów klienta w w 6 ostatnich miesiącach\n",
      "- Sumaryczna kwota wpływów klienta z tytułu emerytury w w 6 ostatnich miesiącach\n",
      "- Sumaryczna kwota wpływów klienta z tytułu programu 500 plus w w 6 ostatnich miesiącach\n",
      "- Sumaryczna kwota wpływów klienta z tytułu stypendium w w 6 ostatnich miesiącach\n",
      "- ...\n",
      "Feature names seen at fit time, yet now missing:\n",
      "- X1\n",
      "- X102\n",
      "- X109\n",
      "- X11\n",
      "- X116\n",
      "- ...\n",
      "\n",
      "\n",
      "C:\\Users\\alan\\anaconda3\\envs\\xai\\lib\\site-packages\\sklearn\\base.py:493: FutureWarning:\n",
      "\n",
      "The feature names should match those that were passed during fit. Starting version 1.2, an error will be raised.\n",
      "Feature names unseen at fit time:\n",
      "- Sumaryczna kwota transakcji w bankomatach w 6 ostatnich miesiącach\n",
      "- Sumaryczna kwota wpływów klienta w w 6 ostatnich miesiącach\n",
      "- Sumaryczna kwota wpływów klienta z tytułu emerytury w w 6 ostatnich miesiącach\n",
      "- Sumaryczna kwota wpływów klienta z tytułu programu 500 plus w w 6 ostatnich miesiącach\n",
      "- Sumaryczna kwota wpływów klienta z tytułu stypendium w w 6 ostatnich miesiącach\n",
      "- ...\n",
      "Feature names seen at fit time, yet now missing:\n",
      "- X1\n",
      "- X102\n",
      "- X109\n",
      "- X11\n",
      "- X116\n",
      "- ...\n",
      "\n",
      "\n",
      "C:\\Users\\alan\\anaconda3\\envs\\xai\\lib\\site-packages\\sklearn\\base.py:493: FutureWarning:\n",
      "\n",
      "The feature names should match those that were passed during fit. Starting version 1.2, an error will be raised.\n",
      "Feature names unseen at fit time:\n",
      "- Sumaryczna kwota transakcji w bankomatach w 6 ostatnich miesiącach\n",
      "- Sumaryczna kwota wpływów klienta w w 6 ostatnich miesiącach\n",
      "- Sumaryczna kwota wpływów klienta z tytułu emerytury w w 6 ostatnich miesiącach\n",
      "- Sumaryczna kwota wpływów klienta z tytułu programu 500 plus w w 6 ostatnich miesiącach\n",
      "- Sumaryczna kwota wpływów klienta z tytułu stypendium w w 6 ostatnich miesiącach\n",
      "- ...\n",
      "Feature names seen at fit time, yet now missing:\n",
      "- X1\n",
      "- X102\n",
      "- X109\n",
      "- X11\n",
      "- X116\n",
      "- ...\n",
      "\n",
      "\n",
      "Calculating ceteris paribus:  60%|██████    | 26/43 [00:00<00:00, 27.99it/s]C:\\Users\\alan\\anaconda3\\envs\\xai\\lib\\site-packages\\sklearn\\base.py:493: FutureWarning:\n",
      "\n",
      "The feature names should match those that were passed during fit. Starting version 1.2, an error will be raised.\n",
      "Feature names unseen at fit time:\n",
      "- Sumaryczna kwota transakcji w bankomatach w 6 ostatnich miesiącach\n",
      "- Sumaryczna kwota wpływów klienta w w 6 ostatnich miesiącach\n",
      "- Sumaryczna kwota wpływów klienta z tytułu emerytury w w 6 ostatnich miesiącach\n",
      "- Sumaryczna kwota wpływów klienta z tytułu programu 500 plus w w 6 ostatnich miesiącach\n",
      "- Sumaryczna kwota wpływów klienta z tytułu stypendium w w 6 ostatnich miesiącach\n",
      "- ...\n",
      "Feature names seen at fit time, yet now missing:\n",
      "- X1\n",
      "- X102\n",
      "- X109\n",
      "- X11\n",
      "- X116\n",
      "- ...\n",
      "\n",
      "\n",
      "C:\\Users\\alan\\anaconda3\\envs\\xai\\lib\\site-packages\\sklearn\\base.py:493: FutureWarning:\n",
      "\n",
      "The feature names should match those that were passed during fit. Starting version 1.2, an error will be raised.\n",
      "Feature names unseen at fit time:\n",
      "- Sumaryczna kwota transakcji w bankomatach w 6 ostatnich miesiącach\n",
      "- Sumaryczna kwota wpływów klienta w w 6 ostatnich miesiącach\n",
      "- Sumaryczna kwota wpływów klienta z tytułu emerytury w w 6 ostatnich miesiącach\n",
      "- Sumaryczna kwota wpływów klienta z tytułu programu 500 plus w w 6 ostatnich miesiącach\n",
      "- Sumaryczna kwota wpływów klienta z tytułu stypendium w w 6 ostatnich miesiącach\n",
      "- ...\n",
      "Feature names seen at fit time, yet now missing:\n",
      "- X1\n",
      "- X102\n",
      "- X109\n",
      "- X11\n",
      "- X116\n",
      "- ...\n",
      "\n",
      "\n",
      "C:\\Users\\alan\\anaconda3\\envs\\xai\\lib\\site-packages\\sklearn\\base.py:493: FutureWarning:\n",
      "\n",
      "The feature names should match those that were passed during fit. Starting version 1.2, an error will be raised.\n",
      "Feature names unseen at fit time:\n",
      "- Sumaryczna kwota transakcji w bankomatach w 6 ostatnich miesiącach\n",
      "- Sumaryczna kwota wpływów klienta w w 6 ostatnich miesiącach\n",
      "- Sumaryczna kwota wpływów klienta z tytułu emerytury w w 6 ostatnich miesiącach\n",
      "- Sumaryczna kwota wpływów klienta z tytułu programu 500 plus w w 6 ostatnich miesiącach\n",
      "- Sumaryczna kwota wpływów klienta z tytułu stypendium w w 6 ostatnich miesiącach\n",
      "- ...\n",
      "Feature names seen at fit time, yet now missing:\n",
      "- X1\n",
      "- X102\n",
      "- X109\n",
      "- X11\n",
      "- X116\n",
      "- ...\n",
      "\n",
      "\n",
      "Calculating ceteris paribus:  67%|██████▋   | 29/43 [00:01<00:00, 28.05it/s]C:\\Users\\alan\\anaconda3\\envs\\xai\\lib\\site-packages\\sklearn\\base.py:493: FutureWarning:\n",
      "\n",
      "The feature names should match those that were passed during fit. Starting version 1.2, an error will be raised.\n",
      "Feature names unseen at fit time:\n",
      "- Sumaryczna kwota transakcji w bankomatach w 6 ostatnich miesiącach\n",
      "- Sumaryczna kwota wpływów klienta w w 6 ostatnich miesiącach\n",
      "- Sumaryczna kwota wpływów klienta z tytułu emerytury w w 6 ostatnich miesiącach\n",
      "- Sumaryczna kwota wpływów klienta z tytułu programu 500 plus w w 6 ostatnich miesiącach\n",
      "- Sumaryczna kwota wpływów klienta z tytułu stypendium w w 6 ostatnich miesiącach\n",
      "- ...\n",
      "Feature names seen at fit time, yet now missing:\n",
      "- X1\n",
      "- X102\n",
      "- X109\n",
      "- X11\n",
      "- X116\n",
      "- ...\n",
      "\n",
      "\n",
      "C:\\Users\\alan\\anaconda3\\envs\\xai\\lib\\site-packages\\sklearn\\base.py:493: FutureWarning:\n",
      "\n",
      "The feature names should match those that were passed during fit. Starting version 1.2, an error will be raised.\n",
      "Feature names unseen at fit time:\n",
      "- Sumaryczna kwota transakcji w bankomatach w 6 ostatnich miesiącach\n",
      "- Sumaryczna kwota wpływów klienta w w 6 ostatnich miesiącach\n",
      "- Sumaryczna kwota wpływów klienta z tytułu emerytury w w 6 ostatnich miesiącach\n",
      "- Sumaryczna kwota wpływów klienta z tytułu programu 500 plus w w 6 ostatnich miesiącach\n",
      "- Sumaryczna kwota wpływów klienta z tytułu stypendium w w 6 ostatnich miesiącach\n",
      "- ...\n",
      "Feature names seen at fit time, yet now missing:\n",
      "- X1\n",
      "- X102\n",
      "- X109\n",
      "- X11\n",
      "- X116\n",
      "- ...\n",
      "\n",
      "\n",
      "C:\\Users\\alan\\anaconda3\\envs\\xai\\lib\\site-packages\\sklearn\\base.py:493: FutureWarning:\n",
      "\n",
      "The feature names should match those that were passed during fit. Starting version 1.2, an error will be raised.\n",
      "Feature names unseen at fit time:\n",
      "- Sumaryczna kwota transakcji w bankomatach w 6 ostatnich miesiącach\n",
      "- Sumaryczna kwota wpływów klienta w w 6 ostatnich miesiącach\n",
      "- Sumaryczna kwota wpływów klienta z tytułu emerytury w w 6 ostatnich miesiącach\n",
      "- Sumaryczna kwota wpływów klienta z tytułu programu 500 plus w w 6 ostatnich miesiącach\n",
      "- Sumaryczna kwota wpływów klienta z tytułu stypendium w w 6 ostatnich miesiącach\n",
      "- ...\n",
      "Feature names seen at fit time, yet now missing:\n",
      "- X1\n",
      "- X102\n",
      "- X109\n",
      "- X11\n",
      "- X116\n",
      "- ...\n",
      "\n",
      "\n",
      "Calculating ceteris paribus:  74%|███████▍  | 32/43 [00:01<00:00, 28.13it/s]C:\\Users\\alan\\anaconda3\\envs\\xai\\lib\\site-packages\\sklearn\\base.py:493: FutureWarning:\n",
      "\n",
      "The feature names should match those that were passed during fit. Starting version 1.2, an error will be raised.\n",
      "Feature names unseen at fit time:\n",
      "- Sumaryczna kwota transakcji w bankomatach w 6 ostatnich miesiącach\n",
      "- Sumaryczna kwota wpływów klienta w w 6 ostatnich miesiącach\n",
      "- Sumaryczna kwota wpływów klienta z tytułu emerytury w w 6 ostatnich miesiącach\n",
      "- Sumaryczna kwota wpływów klienta z tytułu programu 500 plus w w 6 ostatnich miesiącach\n",
      "- Sumaryczna kwota wpływów klienta z tytułu stypendium w w 6 ostatnich miesiącach\n",
      "- ...\n",
      "Feature names seen at fit time, yet now missing:\n",
      "- X1\n",
      "- X102\n",
      "- X109\n",
      "- X11\n",
      "- X116\n",
      "- ...\n",
      "\n",
      "\n",
      "C:\\Users\\alan\\anaconda3\\envs\\xai\\lib\\site-packages\\sklearn\\base.py:493: FutureWarning:\n",
      "\n",
      "The feature names should match those that were passed during fit. Starting version 1.2, an error will be raised.\n",
      "Feature names unseen at fit time:\n",
      "- Sumaryczna kwota transakcji w bankomatach w 6 ostatnich miesiącach\n",
      "- Sumaryczna kwota wpływów klienta w w 6 ostatnich miesiącach\n",
      "- Sumaryczna kwota wpływów klienta z tytułu emerytury w w 6 ostatnich miesiącach\n",
      "- Sumaryczna kwota wpływów klienta z tytułu programu 500 plus w w 6 ostatnich miesiącach\n",
      "- Sumaryczna kwota wpływów klienta z tytułu stypendium w w 6 ostatnich miesiącach\n",
      "- ...\n",
      "Feature names seen at fit time, yet now missing:\n",
      "- X1\n",
      "- X102\n",
      "- X109\n",
      "- X11\n",
      "- X116\n",
      "- ...\n",
      "\n",
      "\n",
      "C:\\Users\\alan\\anaconda3\\envs\\xai\\lib\\site-packages\\sklearn\\base.py:493: FutureWarning:\n",
      "\n",
      "The feature names should match those that were passed during fit. Starting version 1.2, an error will be raised.\n",
      "Feature names unseen at fit time:\n",
      "- Sumaryczna kwota transakcji w bankomatach w 6 ostatnich miesiącach\n",
      "- Sumaryczna kwota wpływów klienta w w 6 ostatnich miesiącach\n",
      "- Sumaryczna kwota wpływów klienta z tytułu emerytury w w 6 ostatnich miesiącach\n",
      "- Sumaryczna kwota wpływów klienta z tytułu programu 500 plus w w 6 ostatnich miesiącach\n",
      "- Sumaryczna kwota wpływów klienta z tytułu stypendium w w 6 ostatnich miesiącach\n",
      "- ...\n",
      "Feature names seen at fit time, yet now missing:\n",
      "- X1\n",
      "- X102\n",
      "- X109\n",
      "- X11\n",
      "- X116\n",
      "- ...\n",
      "\n",
      "\n",
      "Calculating ceteris paribus:  81%|████████▏ | 35/43 [00:01<00:00, 28.18it/s]C:\\Users\\alan\\anaconda3\\envs\\xai\\lib\\site-packages\\sklearn\\base.py:493: FutureWarning:\n",
      "\n",
      "The feature names should match those that were passed during fit. Starting version 1.2, an error will be raised.\n",
      "Feature names unseen at fit time:\n",
      "- Sumaryczna kwota transakcji w bankomatach w 6 ostatnich miesiącach\n",
      "- Sumaryczna kwota wpływów klienta w w 6 ostatnich miesiącach\n",
      "- Sumaryczna kwota wpływów klienta z tytułu emerytury w w 6 ostatnich miesiącach\n",
      "- Sumaryczna kwota wpływów klienta z tytułu programu 500 plus w w 6 ostatnich miesiącach\n",
      "- Sumaryczna kwota wpływów klienta z tytułu stypendium w w 6 ostatnich miesiącach\n",
      "- ...\n",
      "Feature names seen at fit time, yet now missing:\n",
      "- X1\n",
      "- X102\n",
      "- X109\n",
      "- X11\n",
      "- X116\n",
      "- ...\n",
      "\n",
      "\n",
      "C:\\Users\\alan\\anaconda3\\envs\\xai\\lib\\site-packages\\sklearn\\base.py:493: FutureWarning:\n",
      "\n",
      "The feature names should match those that were passed during fit. Starting version 1.2, an error will be raised.\n",
      "Feature names unseen at fit time:\n",
      "- Sumaryczna kwota transakcji w bankomatach w 6 ostatnich miesiącach\n",
      "- Sumaryczna kwota wpływów klienta w w 6 ostatnich miesiącach\n",
      "- Sumaryczna kwota wpływów klienta z tytułu emerytury w w 6 ostatnich miesiącach\n",
      "- Sumaryczna kwota wpływów klienta z tytułu programu 500 plus w w 6 ostatnich miesiącach\n",
      "- Sumaryczna kwota wpływów klienta z tytułu stypendium w w 6 ostatnich miesiącach\n",
      "- ...\n",
      "Feature names seen at fit time, yet now missing:\n",
      "- X1\n",
      "- X102\n",
      "- X109\n",
      "- X11\n",
      "- X116\n",
      "- ...\n",
      "\n",
      "\n",
      "C:\\Users\\alan\\anaconda3\\envs\\xai\\lib\\site-packages\\sklearn\\base.py:493: FutureWarning:\n",
      "\n",
      "The feature names should match those that were passed during fit. Starting version 1.2, an error will be raised.\n",
      "Feature names unseen at fit time:\n",
      "- Sumaryczna kwota transakcji w bankomatach w 6 ostatnich miesiącach\n",
      "- Sumaryczna kwota wpływów klienta w w 6 ostatnich miesiącach\n",
      "- Sumaryczna kwota wpływów klienta z tytułu emerytury w w 6 ostatnich miesiącach\n",
      "- Sumaryczna kwota wpływów klienta z tytułu programu 500 plus w w 6 ostatnich miesiącach\n",
      "- Sumaryczna kwota wpływów klienta z tytułu stypendium w w 6 ostatnich miesiącach\n",
      "- ...\n",
      "Feature names seen at fit time, yet now missing:\n",
      "- X1\n",
      "- X102\n",
      "- X109\n",
      "- X11\n",
      "- X116\n",
      "- ...\n",
      "\n",
      "\n",
      "Calculating ceteris paribus:  88%|████████▊ | 38/43 [00:01<00:00, 27.98it/s]C:\\Users\\alan\\anaconda3\\envs\\xai\\lib\\site-packages\\sklearn\\base.py:493: FutureWarning:\n",
      "\n",
      "The feature names should match those that were passed during fit. Starting version 1.2, an error will be raised.\n",
      "Feature names unseen at fit time:\n",
      "- Sumaryczna kwota transakcji w bankomatach w 6 ostatnich miesiącach\n",
      "- Sumaryczna kwota wpływów klienta w w 6 ostatnich miesiącach\n",
      "- Sumaryczna kwota wpływów klienta z tytułu emerytury w w 6 ostatnich miesiącach\n",
      "- Sumaryczna kwota wpływów klienta z tytułu programu 500 plus w w 6 ostatnich miesiącach\n",
      "- Sumaryczna kwota wpływów klienta z tytułu stypendium w w 6 ostatnich miesiącach\n",
      "- ...\n",
      "Feature names seen at fit time, yet now missing:\n",
      "- X1\n",
      "- X102\n",
      "- X109\n",
      "- X11\n",
      "- X116\n",
      "- ...\n",
      "\n",
      "\n",
      "C:\\Users\\alan\\anaconda3\\envs\\xai\\lib\\site-packages\\sklearn\\base.py:493: FutureWarning:\n",
      "\n",
      "The feature names should match those that were passed during fit. Starting version 1.2, an error will be raised.\n",
      "Feature names unseen at fit time:\n",
      "- Sumaryczna kwota transakcji w bankomatach w 6 ostatnich miesiącach\n",
      "- Sumaryczna kwota wpływów klienta w w 6 ostatnich miesiącach\n",
      "- Sumaryczna kwota wpływów klienta z tytułu emerytury w w 6 ostatnich miesiącach\n",
      "- Sumaryczna kwota wpływów klienta z tytułu programu 500 plus w w 6 ostatnich miesiącach\n",
      "- Sumaryczna kwota wpływów klienta z tytułu stypendium w w 6 ostatnich miesiącach\n",
      "- ...\n",
      "Feature names seen at fit time, yet now missing:\n",
      "- X1\n",
      "- X102\n",
      "- X109\n",
      "- X11\n",
      "- X116\n",
      "- ...\n",
      "\n",
      "\n",
      "C:\\Users\\alan\\anaconda3\\envs\\xai\\lib\\site-packages\\sklearn\\base.py:493: FutureWarning:\n",
      "\n",
      "The feature names should match those that were passed during fit. Starting version 1.2, an error will be raised.\n",
      "Feature names unseen at fit time:\n",
      "- Sumaryczna kwota transakcji w bankomatach w 6 ostatnich miesiącach\n",
      "- Sumaryczna kwota wpływów klienta w w 6 ostatnich miesiącach\n",
      "- Sumaryczna kwota wpływów klienta z tytułu emerytury w w 6 ostatnich miesiącach\n",
      "- Sumaryczna kwota wpływów klienta z tytułu programu 500 plus w w 6 ostatnich miesiącach\n",
      "- Sumaryczna kwota wpływów klienta z tytułu stypendium w w 6 ostatnich miesiącach\n",
      "- ...\n",
      "Feature names seen at fit time, yet now missing:\n",
      "- X1\n",
      "- X102\n",
      "- X109\n",
      "- X11\n",
      "- X116\n",
      "- ...\n",
      "\n",
      "\n",
      "Calculating ceteris paribus:  95%|█████████▌| 41/43 [00:01<00:00, 23.76it/s]C:\\Users\\alan\\anaconda3\\envs\\xai\\lib\\site-packages\\sklearn\\base.py:493: FutureWarning:\n",
      "\n",
      "The feature names should match those that were passed during fit. Starting version 1.2, an error will be raised.\n",
      "Feature names unseen at fit time:\n",
      "- Sumaryczna kwota transakcji w bankomatach w 6 ostatnich miesiącach\n",
      "- Sumaryczna kwota wpływów klienta w w 6 ostatnich miesiącach\n",
      "- Sumaryczna kwota wpływów klienta z tytułu emerytury w w 6 ostatnich miesiącach\n",
      "- Sumaryczna kwota wpływów klienta z tytułu programu 500 plus w w 6 ostatnich miesiącach\n",
      "- Sumaryczna kwota wpływów klienta z tytułu stypendium w w 6 ostatnich miesiącach\n",
      "- ...\n",
      "Feature names seen at fit time, yet now missing:\n",
      "- X1\n",
      "- X102\n",
      "- X109\n",
      "- X11\n",
      "- X116\n",
      "- ...\n",
      "\n",
      "\n",
      "C:\\Users\\alan\\anaconda3\\envs\\xai\\lib\\site-packages\\sklearn\\base.py:493: FutureWarning:\n",
      "\n",
      "The feature names should match those that were passed during fit. Starting version 1.2, an error will be raised.\n",
      "Feature names unseen at fit time:\n",
      "- Sumaryczna kwota transakcji w bankomatach w 6 ostatnich miesiącach\n",
      "- Sumaryczna kwota wpływów klienta w w 6 ostatnich miesiącach\n",
      "- Sumaryczna kwota wpływów klienta z tytułu emerytury w w 6 ostatnich miesiącach\n",
      "- Sumaryczna kwota wpływów klienta z tytułu programu 500 plus w w 6 ostatnich miesiącach\n",
      "- Sumaryczna kwota wpływów klienta z tytułu stypendium w w 6 ostatnich miesiącach\n",
      "- ...\n",
      "Feature names seen at fit time, yet now missing:\n",
      "- X1\n",
      "- X102\n",
      "- X109\n",
      "- X11\n",
      "- X116\n",
      "- ...\n",
      "\n",
      "\n",
      "Calculating ceteris paribus: 100%|██████████| 43/43 [00:01<00:00, 26.42it/s]\n",
      "C:\\Users\\alan\\anaconda3\\envs\\xai\\lib\\site-packages\\sklearn\\base.py:493: FutureWarning:\n",
      "\n",
      "The feature names should match those that were passed during fit. Starting version 1.2, an error will be raised.\n",
      "Feature names unseen at fit time:\n",
      "- Sumaryczna kwota transakcji w bankomatach w 6 ostatnich miesiącach\n",
      "- Sumaryczna kwota wpływów klienta w w 6 ostatnich miesiącach\n",
      "- Sumaryczna kwota wpływów klienta z tytułu emerytury w w 6 ostatnich miesiącach\n",
      "- Sumaryczna kwota wpływów klienta z tytułu programu 500 plus w w 6 ostatnich miesiącach\n",
      "- Sumaryczna kwota wpływów klienta z tytułu stypendium w w 6 ostatnich miesiącach\n",
      "- ...\n",
      "Feature names seen at fit time, yet now missing:\n",
      "- X1\n",
      "- X102\n",
      "- X109\n",
      "- X11\n",
      "- X116\n",
      "- ...\n",
      "\n",
      "\n",
      "Calculating ceteris paribus: 100%|██████████| 43/43 [00:00<00:00, 207.68it/s]\n",
      "Calculating ceteris paribus:   0%|          | 0/43 [00:00<?, ?it/s]C:\\Users\\alan\\anaconda3\\envs\\xai\\lib\\site-packages\\sklearn\\base.py:493: FutureWarning:\n",
      "\n",
      "The feature names should match those that were passed during fit. Starting version 1.2, an error will be raised.\n",
      "Feature names unseen at fit time:\n",
      "- Sumaryczna kwota transakcji w bankomatach w 6 ostatnich miesiącach\n",
      "- Sumaryczna kwota wpływów klienta w w 6 ostatnich miesiącach\n",
      "- Sumaryczna kwota wpływów klienta z tytułu emerytury w w 6 ostatnich miesiącach\n",
      "- Sumaryczna kwota wpływów klienta z tytułu programu 500 plus w w 6 ostatnich miesiącach\n",
      "- Sumaryczna kwota wpływów klienta z tytułu stypendium w w 6 ostatnich miesiącach\n",
      "- ...\n",
      "Feature names seen at fit time, yet now missing:\n",
      "- X1\n",
      "- X102\n",
      "- X109\n",
      "- X11\n",
      "- X116\n",
      "- ...\n",
      "\n",
      "\n",
      "C:\\Users\\alan\\anaconda3\\envs\\xai\\lib\\site-packages\\sklearn\\base.py:493: FutureWarning:\n",
      "\n",
      "The feature names should match those that were passed during fit. Starting version 1.2, an error will be raised.\n",
      "Feature names unseen at fit time:\n",
      "- Sumaryczna kwota transakcji w bankomatach w 6 ostatnich miesiącach\n",
      "- Sumaryczna kwota wpływów klienta w w 6 ostatnich miesiącach\n",
      "- Sumaryczna kwota wpływów klienta z tytułu emerytury w w 6 ostatnich miesiącach\n",
      "- Sumaryczna kwota wpływów klienta z tytułu programu 500 plus w w 6 ostatnich miesiącach\n",
      "- Sumaryczna kwota wpływów klienta z tytułu stypendium w w 6 ostatnich miesiącach\n",
      "- ...\n",
      "Feature names seen at fit time, yet now missing:\n",
      "- X1\n",
      "- X102\n",
      "- X109\n",
      "- X11\n",
      "- X116\n",
      "- ...\n",
      "\n",
      "\n",
      "Calculating ceteris paribus:   5%|▍         | 2/43 [00:00<00:02, 19.80it/s]C:\\Users\\alan\\anaconda3\\envs\\xai\\lib\\site-packages\\sklearn\\base.py:493: FutureWarning:\n",
      "\n",
      "The feature names should match those that were passed during fit. Starting version 1.2, an error will be raised.\n",
      "Feature names unseen at fit time:\n",
      "- Sumaryczna kwota transakcji w bankomatach w 6 ostatnich miesiącach\n",
      "- Sumaryczna kwota wpływów klienta w w 6 ostatnich miesiącach\n",
      "- Sumaryczna kwota wpływów klienta z tytułu emerytury w w 6 ostatnich miesiącach\n",
      "- Sumaryczna kwota wpływów klienta z tytułu programu 500 plus w w 6 ostatnich miesiącach\n",
      "- Sumaryczna kwota wpływów klienta z tytułu stypendium w w 6 ostatnich miesiącach\n",
      "- ...\n",
      "Feature names seen at fit time, yet now missing:\n",
      "- X1\n",
      "- X102\n",
      "- X109\n",
      "- X11\n",
      "- X116\n",
      "- ...\n",
      "\n",
      "\n",
      "C:\\Users\\alan\\anaconda3\\envs\\xai\\lib\\site-packages\\sklearn\\base.py:493: FutureWarning:\n",
      "\n",
      "The feature names should match those that were passed during fit. Starting version 1.2, an error will be raised.\n",
      "Feature names unseen at fit time:\n",
      "- Sumaryczna kwota transakcji w bankomatach w 6 ostatnich miesiącach\n",
      "- Sumaryczna kwota wpływów klienta w w 6 ostatnich miesiącach\n",
      "- Sumaryczna kwota wpływów klienta z tytułu emerytury w w 6 ostatnich miesiącach\n",
      "- Sumaryczna kwota wpływów klienta z tytułu programu 500 plus w w 6 ostatnich miesiącach\n",
      "- Sumaryczna kwota wpływów klienta z tytułu stypendium w w 6 ostatnich miesiącach\n",
      "- ...\n",
      "Feature names seen at fit time, yet now missing:\n",
      "- X1\n",
      "- X102\n",
      "- X109\n",
      "- X11\n",
      "- X116\n",
      "- ...\n",
      "\n",
      "\n",
      "C:\\Users\\alan\\anaconda3\\envs\\xai\\lib\\site-packages\\sklearn\\base.py:493: FutureWarning:\n",
      "\n",
      "The feature names should match those that were passed during fit. Starting version 1.2, an error will be raised.\n",
      "Feature names unseen at fit time:\n",
      "- Sumaryczna kwota transakcji w bankomatach w 6 ostatnich miesiącach\n",
      "- Sumaryczna kwota wpływów klienta w w 6 ostatnich miesiącach\n",
      "- Sumaryczna kwota wpływów klienta z tytułu emerytury w w 6 ostatnich miesiącach\n",
      "- Sumaryczna kwota wpływów klienta z tytułu programu 500 plus w w 6 ostatnich miesiącach\n",
      "- Sumaryczna kwota wpływów klienta z tytułu stypendium w w 6 ostatnich miesiącach\n",
      "- ...\n",
      "Feature names seen at fit time, yet now missing:\n",
      "- X1\n",
      "- X102\n",
      "- X109\n",
      "- X11\n",
      "- X116\n",
      "- ...\n",
      "\n",
      "\n",
      "Calculating ceteris paribus:  12%|█▏        | 5/43 [00:00<00:01, 24.90it/s]C:\\Users\\alan\\anaconda3\\envs\\xai\\lib\\site-packages\\sklearn\\base.py:493: FutureWarning:\n",
      "\n",
      "The feature names should match those that were passed during fit. Starting version 1.2, an error will be raised.\n",
      "Feature names unseen at fit time:\n",
      "- Sumaryczna kwota transakcji w bankomatach w 6 ostatnich miesiącach\n",
      "- Sumaryczna kwota wpływów klienta w w 6 ostatnich miesiącach\n",
      "- Sumaryczna kwota wpływów klienta z tytułu emerytury w w 6 ostatnich miesiącach\n",
      "- Sumaryczna kwota wpływów klienta z tytułu programu 500 plus w w 6 ostatnich miesiącach\n",
      "- Sumaryczna kwota wpływów klienta z tytułu stypendium w w 6 ostatnich miesiącach\n",
      "- ...\n",
      "Feature names seen at fit time, yet now missing:\n",
      "- X1\n",
      "- X102\n",
      "- X109\n",
      "- X11\n",
      "- X116\n",
      "- ...\n",
      "\n",
      "\n",
      "C:\\Users\\alan\\anaconda3\\envs\\xai\\lib\\site-packages\\sklearn\\base.py:493: FutureWarning:\n",
      "\n",
      "The feature names should match those that were passed during fit. Starting version 1.2, an error will be raised.\n",
      "Feature names unseen at fit time:\n",
      "- Sumaryczna kwota transakcji w bankomatach w 6 ostatnich miesiącach\n",
      "- Sumaryczna kwota wpływów klienta w w 6 ostatnich miesiącach\n",
      "- Sumaryczna kwota wpływów klienta z tytułu emerytury w w 6 ostatnich miesiącach\n",
      "- Sumaryczna kwota wpływów klienta z tytułu programu 500 plus w w 6 ostatnich miesiącach\n",
      "- Sumaryczna kwota wpływów klienta z tytułu stypendium w w 6 ostatnich miesiącach\n",
      "- ...\n",
      "Feature names seen at fit time, yet now missing:\n",
      "- X1\n",
      "- X102\n",
      "- X109\n",
      "- X11\n",
      "- X116\n",
      "- ...\n",
      "\n",
      "\n",
      "C:\\Users\\alan\\anaconda3\\envs\\xai\\lib\\site-packages\\sklearn\\base.py:493: FutureWarning:\n",
      "\n",
      "The feature names should match those that were passed during fit. Starting version 1.2, an error will be raised.\n",
      "Feature names unseen at fit time:\n",
      "- Sumaryczna kwota transakcji w bankomatach w 6 ostatnich miesiącach\n",
      "- Sumaryczna kwota wpływów klienta w w 6 ostatnich miesiącach\n",
      "- Sumaryczna kwota wpływów klienta z tytułu emerytury w w 6 ostatnich miesiącach\n",
      "- Sumaryczna kwota wpływów klienta z tytułu programu 500 plus w w 6 ostatnich miesiącach\n",
      "- Sumaryczna kwota wpływów klienta z tytułu stypendium w w 6 ostatnich miesiącach\n",
      "- ...\n",
      "Feature names seen at fit time, yet now missing:\n",
      "- X1\n",
      "- X102\n",
      "- X109\n",
      "- X11\n",
      "- X116\n",
      "- ...\n",
      "\n",
      "\n",
      "Calculating ceteris paribus:  19%|█▊        | 8/43 [00:00<00:01, 26.70it/s]C:\\Users\\alan\\anaconda3\\envs\\xai\\lib\\site-packages\\sklearn\\base.py:493: FutureWarning:\n",
      "\n",
      "The feature names should match those that were passed during fit. Starting version 1.2, an error will be raised.\n",
      "Feature names unseen at fit time:\n",
      "- Sumaryczna kwota transakcji w bankomatach w 6 ostatnich miesiącach\n",
      "- Sumaryczna kwota wpływów klienta w w 6 ostatnich miesiącach\n",
      "- Sumaryczna kwota wpływów klienta z tytułu emerytury w w 6 ostatnich miesiącach\n",
      "- Sumaryczna kwota wpływów klienta z tytułu programu 500 plus w w 6 ostatnich miesiącach\n",
      "- Sumaryczna kwota wpływów klienta z tytułu stypendium w w 6 ostatnich miesiącach\n",
      "- ...\n",
      "Feature names seen at fit time, yet now missing:\n",
      "- X1\n",
      "- X102\n",
      "- X109\n",
      "- X11\n",
      "- X116\n",
      "- ...\n",
      "\n",
      "\n",
      "C:\\Users\\alan\\anaconda3\\envs\\xai\\lib\\site-packages\\sklearn\\base.py:493: FutureWarning:\n",
      "\n",
      "The feature names should match those that were passed during fit. Starting version 1.2, an error will be raised.\n",
      "Feature names unseen at fit time:\n",
      "- Sumaryczna kwota transakcji w bankomatach w 6 ostatnich miesiącach\n",
      "- Sumaryczna kwota wpływów klienta w w 6 ostatnich miesiącach\n",
      "- Sumaryczna kwota wpływów klienta z tytułu emerytury w w 6 ostatnich miesiącach\n",
      "- Sumaryczna kwota wpływów klienta z tytułu programu 500 plus w w 6 ostatnich miesiącach\n",
      "- Sumaryczna kwota wpływów klienta z tytułu stypendium w w 6 ostatnich miesiącach\n",
      "- ...\n",
      "Feature names seen at fit time, yet now missing:\n",
      "- X1\n",
      "- X102\n",
      "- X109\n",
      "- X11\n",
      "- X116\n",
      "- ...\n",
      "\n",
      "\n",
      "C:\\Users\\alan\\anaconda3\\envs\\xai\\lib\\site-packages\\sklearn\\base.py:493: FutureWarning:\n",
      "\n",
      "The feature names should match those that were passed during fit. Starting version 1.2, an error will be raised.\n",
      "Feature names unseen at fit time:\n",
      "- Sumaryczna kwota transakcji w bankomatach w 6 ostatnich miesiącach\n",
      "- Sumaryczna kwota wpływów klienta w w 6 ostatnich miesiącach\n",
      "- Sumaryczna kwota wpływów klienta z tytułu emerytury w w 6 ostatnich miesiącach\n",
      "- Sumaryczna kwota wpływów klienta z tytułu programu 500 plus w w 6 ostatnich miesiącach\n",
      "- Sumaryczna kwota wpływów klienta z tytułu stypendium w w 6 ostatnich miesiącach\n",
      "- ...\n",
      "Feature names seen at fit time, yet now missing:\n",
      "- X1\n",
      "- X102\n",
      "- X109\n",
      "- X11\n",
      "- X116\n",
      "- ...\n",
      "\n",
      "\n",
      "Calculating ceteris paribus:  26%|██▌       | 11/43 [00:00<00:01, 27.21it/s]C:\\Users\\alan\\anaconda3\\envs\\xai\\lib\\site-packages\\sklearn\\base.py:493: FutureWarning:\n",
      "\n",
      "The feature names should match those that were passed during fit. Starting version 1.2, an error will be raised.\n",
      "Feature names unseen at fit time:\n",
      "- Sumaryczna kwota transakcji w bankomatach w 6 ostatnich miesiącach\n",
      "- Sumaryczna kwota wpływów klienta w w 6 ostatnich miesiącach\n",
      "- Sumaryczna kwota wpływów klienta z tytułu emerytury w w 6 ostatnich miesiącach\n",
      "- Sumaryczna kwota wpływów klienta z tytułu programu 500 plus w w 6 ostatnich miesiącach\n",
      "- Sumaryczna kwota wpływów klienta z tytułu stypendium w w 6 ostatnich miesiącach\n",
      "- ...\n",
      "Feature names seen at fit time, yet now missing:\n",
      "- X1\n",
      "- X102\n",
      "- X109\n",
      "- X11\n",
      "- X116\n",
      "- ...\n",
      "\n",
      "\n",
      "C:\\Users\\alan\\anaconda3\\envs\\xai\\lib\\site-packages\\sklearn\\base.py:493: FutureWarning:\n",
      "\n",
      "The feature names should match those that were passed during fit. Starting version 1.2, an error will be raised.\n",
      "Feature names unseen at fit time:\n",
      "- Sumaryczna kwota transakcji w bankomatach w 6 ostatnich miesiącach\n",
      "- Sumaryczna kwota wpływów klienta w w 6 ostatnich miesiącach\n",
      "- Sumaryczna kwota wpływów klienta z tytułu emerytury w w 6 ostatnich miesiącach\n",
      "- Sumaryczna kwota wpływów klienta z tytułu programu 500 plus w w 6 ostatnich miesiącach\n",
      "- Sumaryczna kwota wpływów klienta z tytułu stypendium w w 6 ostatnich miesiącach\n",
      "- ...\n",
      "Feature names seen at fit time, yet now missing:\n",
      "- X1\n",
      "- X102\n",
      "- X109\n",
      "- X11\n",
      "- X116\n",
      "- ...\n",
      "\n",
      "\n",
      "C:\\Users\\alan\\anaconda3\\envs\\xai\\lib\\site-packages\\sklearn\\base.py:493: FutureWarning:\n",
      "\n",
      "The feature names should match those that were passed during fit. Starting version 1.2, an error will be raised.\n",
      "Feature names unseen at fit time:\n",
      "- Sumaryczna kwota transakcji w bankomatach w 6 ostatnich miesiącach\n",
      "- Sumaryczna kwota wpływów klienta w w 6 ostatnich miesiącach\n",
      "- Sumaryczna kwota wpływów klienta z tytułu emerytury w w 6 ostatnich miesiącach\n",
      "- Sumaryczna kwota wpływów klienta z tytułu programu 500 plus w w 6 ostatnich miesiącach\n",
      "- Sumaryczna kwota wpływów klienta z tytułu stypendium w w 6 ostatnich miesiącach\n",
      "- ...\n",
      "Feature names seen at fit time, yet now missing:\n",
      "- X1\n",
      "- X102\n",
      "- X109\n",
      "- X11\n",
      "- X116\n",
      "- ...\n",
      "\n",
      "\n",
      "Calculating ceteris paribus:  33%|███▎      | 14/43 [00:00<00:01, 27.71it/s]C:\\Users\\alan\\anaconda3\\envs\\xai\\lib\\site-packages\\sklearn\\base.py:493: FutureWarning:\n",
      "\n",
      "The feature names should match those that were passed during fit. Starting version 1.2, an error will be raised.\n",
      "Feature names unseen at fit time:\n",
      "- Sumaryczna kwota transakcji w bankomatach w 6 ostatnich miesiącach\n",
      "- Sumaryczna kwota wpływów klienta w w 6 ostatnich miesiącach\n",
      "- Sumaryczna kwota wpływów klienta z tytułu emerytury w w 6 ostatnich miesiącach\n",
      "- Sumaryczna kwota wpływów klienta z tytułu programu 500 plus w w 6 ostatnich miesiącach\n",
      "- Sumaryczna kwota wpływów klienta z tytułu stypendium w w 6 ostatnich miesiącach\n",
      "- ...\n",
      "Feature names seen at fit time, yet now missing:\n",
      "- X1\n",
      "- X102\n",
      "- X109\n",
      "- X11\n",
      "- X116\n",
      "- ...\n",
      "\n",
      "\n",
      "C:\\Users\\alan\\anaconda3\\envs\\xai\\lib\\site-packages\\sklearn\\base.py:493: FutureWarning:\n",
      "\n",
      "The feature names should match those that were passed during fit. Starting version 1.2, an error will be raised.\n",
      "Feature names unseen at fit time:\n",
      "- Sumaryczna kwota transakcji w bankomatach w 6 ostatnich miesiącach\n",
      "- Sumaryczna kwota wpływów klienta w w 6 ostatnich miesiącach\n",
      "- Sumaryczna kwota wpływów klienta z tytułu emerytury w w 6 ostatnich miesiącach\n",
      "- Sumaryczna kwota wpływów klienta z tytułu programu 500 plus w w 6 ostatnich miesiącach\n",
      "- Sumaryczna kwota wpływów klienta z tytułu stypendium w w 6 ostatnich miesiącach\n",
      "- ...\n",
      "Feature names seen at fit time, yet now missing:\n",
      "- X1\n",
      "- X102\n",
      "- X109\n",
      "- X11\n",
      "- X116\n",
      "- ...\n",
      "\n",
      "\n",
      "C:\\Users\\alan\\anaconda3\\envs\\xai\\lib\\site-packages\\sklearn\\base.py:493: FutureWarning:\n",
      "\n",
      "The feature names should match those that were passed during fit. Starting version 1.2, an error will be raised.\n",
      "Feature names unseen at fit time:\n",
      "- Sumaryczna kwota transakcji w bankomatach w 6 ostatnich miesiącach\n",
      "- Sumaryczna kwota wpływów klienta w w 6 ostatnich miesiącach\n",
      "- Sumaryczna kwota wpływów klienta z tytułu emerytury w w 6 ostatnich miesiącach\n",
      "- Sumaryczna kwota wpływów klienta z tytułu programu 500 plus w w 6 ostatnich miesiącach\n",
      "- Sumaryczna kwota wpływów klienta z tytułu stypendium w w 6 ostatnich miesiącach\n",
      "- ...\n",
      "Feature names seen at fit time, yet now missing:\n",
      "- X1\n",
      "- X102\n",
      "- X109\n",
      "- X11\n",
      "- X116\n",
      "- ...\n",
      "\n",
      "\n",
      "Calculating ceteris paribus:  40%|███▉      | 17/43 [00:00<00:00, 27.91it/s]C:\\Users\\alan\\anaconda3\\envs\\xai\\lib\\site-packages\\sklearn\\base.py:493: FutureWarning:\n",
      "\n",
      "The feature names should match those that were passed during fit. Starting version 1.2, an error will be raised.\n",
      "Feature names unseen at fit time:\n",
      "- Sumaryczna kwota transakcji w bankomatach w 6 ostatnich miesiącach\n",
      "- Sumaryczna kwota wpływów klienta w w 6 ostatnich miesiącach\n",
      "- Sumaryczna kwota wpływów klienta z tytułu emerytury w w 6 ostatnich miesiącach\n",
      "- Sumaryczna kwota wpływów klienta z tytułu programu 500 plus w w 6 ostatnich miesiącach\n",
      "- Sumaryczna kwota wpływów klienta z tytułu stypendium w w 6 ostatnich miesiącach\n",
      "- ...\n",
      "Feature names seen at fit time, yet now missing:\n",
      "- X1\n",
      "- X102\n",
      "- X109\n",
      "- X11\n",
      "- X116\n",
      "- ...\n",
      "\n",
      "\n",
      "C:\\Users\\alan\\anaconda3\\envs\\xai\\lib\\site-packages\\sklearn\\base.py:493: FutureWarning:\n",
      "\n",
      "The feature names should match those that were passed during fit. Starting version 1.2, an error will be raised.\n",
      "Feature names unseen at fit time:\n",
      "- Sumaryczna kwota transakcji w bankomatach w 6 ostatnich miesiącach\n",
      "- Sumaryczna kwota wpływów klienta w w 6 ostatnich miesiącach\n",
      "- Sumaryczna kwota wpływów klienta z tytułu emerytury w w 6 ostatnich miesiącach\n",
      "- Sumaryczna kwota wpływów klienta z tytułu programu 500 plus w w 6 ostatnich miesiącach\n",
      "- Sumaryczna kwota wpływów klienta z tytułu stypendium w w 6 ostatnich miesiącach\n",
      "- ...\n",
      "Feature names seen at fit time, yet now missing:\n",
      "- X1\n",
      "- X102\n",
      "- X109\n",
      "- X11\n",
      "- X116\n",
      "- ...\n",
      "\n",
      "\n",
      "C:\\Users\\alan\\anaconda3\\envs\\xai\\lib\\site-packages\\sklearn\\base.py:493: FutureWarning:\n",
      "\n",
      "The feature names should match those that were passed during fit. Starting version 1.2, an error will be raised.\n",
      "Feature names unseen at fit time:\n",
      "- Sumaryczna kwota transakcji w bankomatach w 6 ostatnich miesiącach\n",
      "- Sumaryczna kwota wpływów klienta w w 6 ostatnich miesiącach\n",
      "- Sumaryczna kwota wpływów klienta z tytułu emerytury w w 6 ostatnich miesiącach\n",
      "- Sumaryczna kwota wpływów klienta z tytułu programu 500 plus w w 6 ostatnich miesiącach\n",
      "- Sumaryczna kwota wpływów klienta z tytułu stypendium w w 6 ostatnich miesiącach\n",
      "- ...\n",
      "Feature names seen at fit time, yet now missing:\n",
      "- X1\n",
      "- X102\n",
      "- X109\n",
      "- X11\n",
      "- X116\n",
      "- ...\n",
      "\n",
      "\n",
      "Calculating ceteris paribus:  47%|████▋     | 20/43 [00:00<00:00, 28.25it/s]C:\\Users\\alan\\anaconda3\\envs\\xai\\lib\\site-packages\\sklearn\\base.py:493: FutureWarning:\n",
      "\n",
      "The feature names should match those that were passed during fit. Starting version 1.2, an error will be raised.\n",
      "Feature names unseen at fit time:\n",
      "- Sumaryczna kwota transakcji w bankomatach w 6 ostatnich miesiącach\n",
      "- Sumaryczna kwota wpływów klienta w w 6 ostatnich miesiącach\n",
      "- Sumaryczna kwota wpływów klienta z tytułu emerytury w w 6 ostatnich miesiącach\n",
      "- Sumaryczna kwota wpływów klienta z tytułu programu 500 plus w w 6 ostatnich miesiącach\n",
      "- Sumaryczna kwota wpływów klienta z tytułu stypendium w w 6 ostatnich miesiącach\n",
      "- ...\n",
      "Feature names seen at fit time, yet now missing:\n",
      "- X1\n",
      "- X102\n",
      "- X109\n",
      "- X11\n",
      "- X116\n",
      "- ...\n",
      "\n",
      "\n",
      "C:\\Users\\alan\\anaconda3\\envs\\xai\\lib\\site-packages\\sklearn\\base.py:493: FutureWarning:\n",
      "\n",
      "The feature names should match those that were passed during fit. Starting version 1.2, an error will be raised.\n",
      "Feature names unseen at fit time:\n",
      "- Sumaryczna kwota transakcji w bankomatach w 6 ostatnich miesiącach\n",
      "- Sumaryczna kwota wpływów klienta w w 6 ostatnich miesiącach\n",
      "- Sumaryczna kwota wpływów klienta z tytułu emerytury w w 6 ostatnich miesiącach\n",
      "- Sumaryczna kwota wpływów klienta z tytułu programu 500 plus w w 6 ostatnich miesiącach\n",
      "- Sumaryczna kwota wpływów klienta z tytułu stypendium w w 6 ostatnich miesiącach\n",
      "- ...\n",
      "Feature names seen at fit time, yet now missing:\n",
      "- X1\n",
      "- X102\n",
      "- X109\n",
      "- X11\n",
      "- X116\n",
      "- ...\n",
      "\n",
      "\n",
      "C:\\Users\\alan\\anaconda3\\envs\\xai\\lib\\site-packages\\sklearn\\base.py:493: FutureWarning:\n",
      "\n",
      "The feature names should match those that were passed during fit. Starting version 1.2, an error will be raised.\n",
      "Feature names unseen at fit time:\n",
      "- Sumaryczna kwota transakcji w bankomatach w 6 ostatnich miesiącach\n",
      "- Sumaryczna kwota wpływów klienta w w 6 ostatnich miesiącach\n",
      "- Sumaryczna kwota wpływów klienta z tytułu emerytury w w 6 ostatnich miesiącach\n",
      "- Sumaryczna kwota wpływów klienta z tytułu programu 500 plus w w 6 ostatnich miesiącach\n",
      "- Sumaryczna kwota wpływów klienta z tytułu stypendium w w 6 ostatnich miesiącach\n",
      "- ...\n",
      "Feature names seen at fit time, yet now missing:\n",
      "- X1\n",
      "- X102\n",
      "- X109\n",
      "- X11\n",
      "- X116\n",
      "- ...\n",
      "\n",
      "\n",
      "Calculating ceteris paribus:  53%|█████▎    | 23/43 [00:00<00:00, 28.35it/s]C:\\Users\\alan\\anaconda3\\envs\\xai\\lib\\site-packages\\sklearn\\base.py:493: FutureWarning:\n",
      "\n",
      "The feature names should match those that were passed during fit. Starting version 1.2, an error will be raised.\n",
      "Feature names unseen at fit time:\n",
      "- Sumaryczna kwota transakcji w bankomatach w 6 ostatnich miesiącach\n",
      "- Sumaryczna kwota wpływów klienta w w 6 ostatnich miesiącach\n",
      "- Sumaryczna kwota wpływów klienta z tytułu emerytury w w 6 ostatnich miesiącach\n",
      "- Sumaryczna kwota wpływów klienta z tytułu programu 500 plus w w 6 ostatnich miesiącach\n",
      "- Sumaryczna kwota wpływów klienta z tytułu stypendium w w 6 ostatnich miesiącach\n",
      "- ...\n",
      "Feature names seen at fit time, yet now missing:\n",
      "- X1\n",
      "- X102\n",
      "- X109\n",
      "- X11\n",
      "- X116\n",
      "- ...\n",
      "\n",
      "\n",
      "C:\\Users\\alan\\anaconda3\\envs\\xai\\lib\\site-packages\\sklearn\\base.py:493: FutureWarning:\n",
      "\n",
      "The feature names should match those that were passed during fit. Starting version 1.2, an error will be raised.\n",
      "Feature names unseen at fit time:\n",
      "- Sumaryczna kwota transakcji w bankomatach w 6 ostatnich miesiącach\n",
      "- Sumaryczna kwota wpływów klienta w w 6 ostatnich miesiącach\n",
      "- Sumaryczna kwota wpływów klienta z tytułu emerytury w w 6 ostatnich miesiącach\n",
      "- Sumaryczna kwota wpływów klienta z tytułu programu 500 plus w w 6 ostatnich miesiącach\n",
      "- Sumaryczna kwota wpływów klienta z tytułu stypendium w w 6 ostatnich miesiącach\n",
      "- ...\n",
      "Feature names seen at fit time, yet now missing:\n",
      "- X1\n",
      "- X102\n",
      "- X109\n",
      "- X11\n",
      "- X116\n",
      "- ...\n",
      "\n",
      "\n",
      "C:\\Users\\alan\\anaconda3\\envs\\xai\\lib\\site-packages\\sklearn\\base.py:493: FutureWarning:\n",
      "\n",
      "The feature names should match those that were passed during fit. Starting version 1.2, an error will be raised.\n",
      "Feature names unseen at fit time:\n",
      "- Sumaryczna kwota transakcji w bankomatach w 6 ostatnich miesiącach\n",
      "- Sumaryczna kwota wpływów klienta w w 6 ostatnich miesiącach\n",
      "- Sumaryczna kwota wpływów klienta z tytułu emerytury w w 6 ostatnich miesiącach\n",
      "- Sumaryczna kwota wpływów klienta z tytułu programu 500 plus w w 6 ostatnich miesiącach\n",
      "- Sumaryczna kwota wpływów klienta z tytułu stypendium w w 6 ostatnich miesiącach\n",
      "- ...\n",
      "Feature names seen at fit time, yet now missing:\n",
      "- X1\n",
      "- X102\n",
      "- X109\n",
      "- X11\n",
      "- X116\n",
      "- ...\n",
      "\n",
      "\n",
      "Calculating ceteris paribus:  60%|██████    | 26/43 [00:00<00:00, 28.50it/s]C:\\Users\\alan\\anaconda3\\envs\\xai\\lib\\site-packages\\sklearn\\base.py:493: FutureWarning:\n",
      "\n",
      "The feature names should match those that were passed during fit. Starting version 1.2, an error will be raised.\n",
      "Feature names unseen at fit time:\n",
      "- Sumaryczna kwota transakcji w bankomatach w 6 ostatnich miesiącach\n",
      "- Sumaryczna kwota wpływów klienta w w 6 ostatnich miesiącach\n",
      "- Sumaryczna kwota wpływów klienta z tytułu emerytury w w 6 ostatnich miesiącach\n",
      "- Sumaryczna kwota wpływów klienta z tytułu programu 500 plus w w 6 ostatnich miesiącach\n",
      "- Sumaryczna kwota wpływów klienta z tytułu stypendium w w 6 ostatnich miesiącach\n",
      "- ...\n",
      "Feature names seen at fit time, yet now missing:\n",
      "- X1\n",
      "- X102\n",
      "- X109\n",
      "- X11\n",
      "- X116\n",
      "- ...\n",
      "\n",
      "\n",
      "C:\\Users\\alan\\anaconda3\\envs\\xai\\lib\\site-packages\\sklearn\\base.py:493: FutureWarning:\n",
      "\n",
      "The feature names should match those that were passed during fit. Starting version 1.2, an error will be raised.\n",
      "Feature names unseen at fit time:\n",
      "- Sumaryczna kwota transakcji w bankomatach w 6 ostatnich miesiącach\n",
      "- Sumaryczna kwota wpływów klienta w w 6 ostatnich miesiącach\n",
      "- Sumaryczna kwota wpływów klienta z tytułu emerytury w w 6 ostatnich miesiącach\n",
      "- Sumaryczna kwota wpływów klienta z tytułu programu 500 plus w w 6 ostatnich miesiącach\n",
      "- Sumaryczna kwota wpływów klienta z tytułu stypendium w w 6 ostatnich miesiącach\n",
      "- ...\n",
      "Feature names seen at fit time, yet now missing:\n",
      "- X1\n",
      "- X102\n",
      "- X109\n",
      "- X11\n",
      "- X116\n",
      "- ...\n",
      "\n",
      "\n",
      "C:\\Users\\alan\\anaconda3\\envs\\xai\\lib\\site-packages\\sklearn\\base.py:493: FutureWarning:\n",
      "\n",
      "The feature names should match those that were passed during fit. Starting version 1.2, an error will be raised.\n",
      "Feature names unseen at fit time:\n",
      "- Sumaryczna kwota transakcji w bankomatach w 6 ostatnich miesiącach\n",
      "- Sumaryczna kwota wpływów klienta w w 6 ostatnich miesiącach\n",
      "- Sumaryczna kwota wpływów klienta z tytułu emerytury w w 6 ostatnich miesiącach\n",
      "- Sumaryczna kwota wpływów klienta z tytułu programu 500 plus w w 6 ostatnich miesiącach\n",
      "- Sumaryczna kwota wpływów klienta z tytułu stypendium w w 6 ostatnich miesiącach\n",
      "- ...\n",
      "Feature names seen at fit time, yet now missing:\n",
      "- X1\n",
      "- X102\n",
      "- X109\n",
      "- X11\n",
      "- X116\n",
      "- ...\n",
      "\n",
      "\n",
      "Calculating ceteris paribus:  67%|██████▋   | 29/43 [00:01<00:00, 28.03it/s]C:\\Users\\alan\\anaconda3\\envs\\xai\\lib\\site-packages\\sklearn\\base.py:493: FutureWarning:\n",
      "\n",
      "The feature names should match those that were passed during fit. Starting version 1.2, an error will be raised.\n",
      "Feature names unseen at fit time:\n",
      "- Sumaryczna kwota transakcji w bankomatach w 6 ostatnich miesiącach\n",
      "- Sumaryczna kwota wpływów klienta w w 6 ostatnich miesiącach\n",
      "- Sumaryczna kwota wpływów klienta z tytułu emerytury w w 6 ostatnich miesiącach\n",
      "- Sumaryczna kwota wpływów klienta z tytułu programu 500 plus w w 6 ostatnich miesiącach\n",
      "- Sumaryczna kwota wpływów klienta z tytułu stypendium w w 6 ostatnich miesiącach\n",
      "- ...\n",
      "Feature names seen at fit time, yet now missing:\n",
      "- X1\n",
      "- X102\n",
      "- X109\n",
      "- X11\n",
      "- X116\n",
      "- ...\n",
      "\n",
      "\n",
      "C:\\Users\\alan\\anaconda3\\envs\\xai\\lib\\site-packages\\sklearn\\base.py:493: FutureWarning:\n",
      "\n",
      "The feature names should match those that were passed during fit. Starting version 1.2, an error will be raised.\n",
      "Feature names unseen at fit time:\n",
      "- Sumaryczna kwota transakcji w bankomatach w 6 ostatnich miesiącach\n",
      "- Sumaryczna kwota wpływów klienta w w 6 ostatnich miesiącach\n",
      "- Sumaryczna kwota wpływów klienta z tytułu emerytury w w 6 ostatnich miesiącach\n",
      "- Sumaryczna kwota wpływów klienta z tytułu programu 500 plus w w 6 ostatnich miesiącach\n",
      "- Sumaryczna kwota wpływów klienta z tytułu stypendium w w 6 ostatnich miesiącach\n",
      "- ...\n",
      "Feature names seen at fit time, yet now missing:\n",
      "- X1\n",
      "- X102\n",
      "- X109\n",
      "- X11\n",
      "- X116\n",
      "- ...\n",
      "\n",
      "\n",
      "C:\\Users\\alan\\anaconda3\\envs\\xai\\lib\\site-packages\\sklearn\\base.py:493: FutureWarning:\n",
      "\n",
      "The feature names should match those that were passed during fit. Starting version 1.2, an error will be raised.\n",
      "Feature names unseen at fit time:\n",
      "- Sumaryczna kwota transakcji w bankomatach w 6 ostatnich miesiącach\n",
      "- Sumaryczna kwota wpływów klienta w w 6 ostatnich miesiącach\n",
      "- Sumaryczna kwota wpływów klienta z tytułu emerytury w w 6 ostatnich miesiącach\n",
      "- Sumaryczna kwota wpływów klienta z tytułu programu 500 plus w w 6 ostatnich miesiącach\n",
      "- Sumaryczna kwota wpływów klienta z tytułu stypendium w w 6 ostatnich miesiącach\n",
      "- ...\n",
      "Feature names seen at fit time, yet now missing:\n",
      "- X1\n",
      "- X102\n",
      "- X109\n",
      "- X11\n",
      "- X116\n",
      "- ...\n",
      "\n",
      "\n",
      "Calculating ceteris paribus:  74%|███████▍  | 32/43 [00:01<00:00, 26.95it/s]C:\\Users\\alan\\anaconda3\\envs\\xai\\lib\\site-packages\\sklearn\\base.py:493: FutureWarning:\n",
      "\n",
      "The feature names should match those that were passed during fit. Starting version 1.2, an error will be raised.\n",
      "Feature names unseen at fit time:\n",
      "- Sumaryczna kwota transakcji w bankomatach w 6 ostatnich miesiącach\n",
      "- Sumaryczna kwota wpływów klienta w w 6 ostatnich miesiącach\n",
      "- Sumaryczna kwota wpływów klienta z tytułu emerytury w w 6 ostatnich miesiącach\n",
      "- Sumaryczna kwota wpływów klienta z tytułu programu 500 plus w w 6 ostatnich miesiącach\n",
      "- Sumaryczna kwota wpływów klienta z tytułu stypendium w w 6 ostatnich miesiącach\n",
      "- ...\n",
      "Feature names seen at fit time, yet now missing:\n",
      "- X1\n",
      "- X102\n",
      "- X109\n",
      "- X11\n",
      "- X116\n",
      "- ...\n",
      "\n",
      "\n",
      "C:\\Users\\alan\\anaconda3\\envs\\xai\\lib\\site-packages\\sklearn\\base.py:493: FutureWarning:\n",
      "\n",
      "The feature names should match those that were passed during fit. Starting version 1.2, an error will be raised.\n",
      "Feature names unseen at fit time:\n",
      "- Sumaryczna kwota transakcji w bankomatach w 6 ostatnich miesiącach\n",
      "- Sumaryczna kwota wpływów klienta w w 6 ostatnich miesiącach\n",
      "- Sumaryczna kwota wpływów klienta z tytułu emerytury w w 6 ostatnich miesiącach\n",
      "- Sumaryczna kwota wpływów klienta z tytułu programu 500 plus w w 6 ostatnich miesiącach\n",
      "- Sumaryczna kwota wpływów klienta z tytułu stypendium w w 6 ostatnich miesiącach\n",
      "- ...\n",
      "Feature names seen at fit time, yet now missing:\n",
      "- X1\n",
      "- X102\n",
      "- X109\n",
      "- X11\n",
      "- X116\n",
      "- ...\n",
      "\n",
      "\n",
      "C:\\Users\\alan\\anaconda3\\envs\\xai\\lib\\site-packages\\sklearn\\base.py:493: FutureWarning:\n",
      "\n",
      "The feature names should match those that were passed during fit. Starting version 1.2, an error will be raised.\n",
      "Feature names unseen at fit time:\n",
      "- Sumaryczna kwota transakcji w bankomatach w 6 ostatnich miesiącach\n",
      "- Sumaryczna kwota wpływów klienta w w 6 ostatnich miesiącach\n",
      "- Sumaryczna kwota wpływów klienta z tytułu emerytury w w 6 ostatnich miesiącach\n",
      "- Sumaryczna kwota wpływów klienta z tytułu programu 500 plus w w 6 ostatnich miesiącach\n",
      "- Sumaryczna kwota wpływów klienta z tytułu stypendium w w 6 ostatnich miesiącach\n",
      "- ...\n",
      "Feature names seen at fit time, yet now missing:\n",
      "- X1\n",
      "- X102\n",
      "- X109\n",
      "- X11\n",
      "- X116\n",
      "- ...\n",
      "\n",
      "\n",
      "Calculating ceteris paribus:  81%|████████▏ | 35/43 [00:01<00:00, 25.77it/s]C:\\Users\\alan\\anaconda3\\envs\\xai\\lib\\site-packages\\sklearn\\base.py:493: FutureWarning:\n",
      "\n",
      "The feature names should match those that were passed during fit. Starting version 1.2, an error will be raised.\n",
      "Feature names unseen at fit time:\n",
      "- Sumaryczna kwota transakcji w bankomatach w 6 ostatnich miesiącach\n",
      "- Sumaryczna kwota wpływów klienta w w 6 ostatnich miesiącach\n",
      "- Sumaryczna kwota wpływów klienta z tytułu emerytury w w 6 ostatnich miesiącach\n",
      "- Sumaryczna kwota wpływów klienta z tytułu programu 500 plus w w 6 ostatnich miesiącach\n",
      "- Sumaryczna kwota wpływów klienta z tytułu stypendium w w 6 ostatnich miesiącach\n",
      "- ...\n",
      "Feature names seen at fit time, yet now missing:\n",
      "- X1\n",
      "- X102\n",
      "- X109\n",
      "- X11\n",
      "- X116\n",
      "- ...\n",
      "\n",
      "\n",
      "C:\\Users\\alan\\anaconda3\\envs\\xai\\lib\\site-packages\\sklearn\\base.py:493: FutureWarning:\n",
      "\n",
      "The feature names should match those that were passed during fit. Starting version 1.2, an error will be raised.\n",
      "Feature names unseen at fit time:\n",
      "- Sumaryczna kwota transakcji w bankomatach w 6 ostatnich miesiącach\n",
      "- Sumaryczna kwota wpływów klienta w w 6 ostatnich miesiącach\n",
      "- Sumaryczna kwota wpływów klienta z tytułu emerytury w w 6 ostatnich miesiącach\n",
      "- Sumaryczna kwota wpływów klienta z tytułu programu 500 plus w w 6 ostatnich miesiącach\n",
      "- Sumaryczna kwota wpływów klienta z tytułu stypendium w w 6 ostatnich miesiącach\n",
      "- ...\n",
      "Feature names seen at fit time, yet now missing:\n",
      "- X1\n",
      "- X102\n",
      "- X109\n",
      "- X11\n",
      "- X116\n",
      "- ...\n",
      "\n",
      "\n",
      "C:\\Users\\alan\\anaconda3\\envs\\xai\\lib\\site-packages\\sklearn\\base.py:493: FutureWarning:\n",
      "\n",
      "The feature names should match those that were passed during fit. Starting version 1.2, an error will be raised.\n",
      "Feature names unseen at fit time:\n",
      "- Sumaryczna kwota transakcji w bankomatach w 6 ostatnich miesiącach\n",
      "- Sumaryczna kwota wpływów klienta w w 6 ostatnich miesiącach\n",
      "- Sumaryczna kwota wpływów klienta z tytułu emerytury w w 6 ostatnich miesiącach\n",
      "- Sumaryczna kwota wpływów klienta z tytułu programu 500 plus w w 6 ostatnich miesiącach\n",
      "- Sumaryczna kwota wpływów klienta z tytułu stypendium w w 6 ostatnich miesiącach\n",
      "- ...\n",
      "Feature names seen at fit time, yet now missing:\n",
      "- X1\n",
      "- X102\n",
      "- X109\n",
      "- X11\n",
      "- X116\n",
      "- ...\n",
      "\n",
      "\n",
      "Calculating ceteris paribus:  88%|████████▊ | 38/43 [00:01<00:00, 25.82it/s]C:\\Users\\alan\\anaconda3\\envs\\xai\\lib\\site-packages\\sklearn\\base.py:493: FutureWarning:\n",
      "\n",
      "The feature names should match those that were passed during fit. Starting version 1.2, an error will be raised.\n",
      "Feature names unseen at fit time:\n",
      "- Sumaryczna kwota transakcji w bankomatach w 6 ostatnich miesiącach\n",
      "- Sumaryczna kwota wpływów klienta w w 6 ostatnich miesiącach\n",
      "- Sumaryczna kwota wpływów klienta z tytułu emerytury w w 6 ostatnich miesiącach\n",
      "- Sumaryczna kwota wpływów klienta z tytułu programu 500 plus w w 6 ostatnich miesiącach\n",
      "- Sumaryczna kwota wpływów klienta z tytułu stypendium w w 6 ostatnich miesiącach\n",
      "- ...\n",
      "Feature names seen at fit time, yet now missing:\n",
      "- X1\n",
      "- X102\n",
      "- X109\n",
      "- X11\n",
      "- X116\n",
      "- ...\n",
      "\n",
      "\n",
      "C:\\Users\\alan\\anaconda3\\envs\\xai\\lib\\site-packages\\sklearn\\base.py:493: FutureWarning:\n",
      "\n",
      "The feature names should match those that were passed during fit. Starting version 1.2, an error will be raised.\n",
      "Feature names unseen at fit time:\n",
      "- Sumaryczna kwota transakcji w bankomatach w 6 ostatnich miesiącach\n",
      "- Sumaryczna kwota wpływów klienta w w 6 ostatnich miesiącach\n",
      "- Sumaryczna kwota wpływów klienta z tytułu emerytury w w 6 ostatnich miesiącach\n",
      "- Sumaryczna kwota wpływów klienta z tytułu programu 500 plus w w 6 ostatnich miesiącach\n",
      "- Sumaryczna kwota wpływów klienta z tytułu stypendium w w 6 ostatnich miesiącach\n",
      "- ...\n",
      "Feature names seen at fit time, yet now missing:\n",
      "- X1\n",
      "- X102\n",
      "- X109\n",
      "- X11\n",
      "- X116\n",
      "- ...\n",
      "\n",
      "\n",
      "C:\\Users\\alan\\anaconda3\\envs\\xai\\lib\\site-packages\\sklearn\\base.py:493: FutureWarning:\n",
      "\n",
      "The feature names should match those that were passed during fit. Starting version 1.2, an error will be raised.\n",
      "Feature names unseen at fit time:\n",
      "- Sumaryczna kwota transakcji w bankomatach w 6 ostatnich miesiącach\n",
      "- Sumaryczna kwota wpływów klienta w w 6 ostatnich miesiącach\n",
      "- Sumaryczna kwota wpływów klienta z tytułu emerytury w w 6 ostatnich miesiącach\n",
      "- Sumaryczna kwota wpływów klienta z tytułu programu 500 plus w w 6 ostatnich miesiącach\n",
      "- Sumaryczna kwota wpływów klienta z tytułu stypendium w w 6 ostatnich miesiącach\n",
      "- ...\n",
      "Feature names seen at fit time, yet now missing:\n",
      "- X1\n",
      "- X102\n",
      "- X109\n",
      "- X11\n",
      "- X116\n",
      "- ...\n",
      "\n",
      "\n",
      "Calculating ceteris paribus:  95%|█████████▌| 41/43 [00:01<00:00, 26.41it/s]C:\\Users\\alan\\anaconda3\\envs\\xai\\lib\\site-packages\\sklearn\\base.py:493: FutureWarning:\n",
      "\n",
      "The feature names should match those that were passed during fit. Starting version 1.2, an error will be raised.\n",
      "Feature names unseen at fit time:\n",
      "- Sumaryczna kwota transakcji w bankomatach w 6 ostatnich miesiącach\n",
      "- Sumaryczna kwota wpływów klienta w w 6 ostatnich miesiącach\n",
      "- Sumaryczna kwota wpływów klienta z tytułu emerytury w w 6 ostatnich miesiącach\n",
      "- Sumaryczna kwota wpływów klienta z tytułu programu 500 plus w w 6 ostatnich miesiącach\n",
      "- Sumaryczna kwota wpływów klienta z tytułu stypendium w w 6 ostatnich miesiącach\n",
      "- ...\n",
      "Feature names seen at fit time, yet now missing:\n",
      "- X1\n",
      "- X102\n",
      "- X109\n",
      "- X11\n",
      "- X116\n",
      "- ...\n",
      "\n",
      "\n",
      "C:\\Users\\alan\\anaconda3\\envs\\xai\\lib\\site-packages\\sklearn\\base.py:493: FutureWarning:\n",
      "\n",
      "The feature names should match those that were passed during fit. Starting version 1.2, an error will be raised.\n",
      "Feature names unseen at fit time:\n",
      "- Sumaryczna kwota transakcji w bankomatach w 6 ostatnich miesiącach\n",
      "- Sumaryczna kwota wpływów klienta w w 6 ostatnich miesiącach\n",
      "- Sumaryczna kwota wpływów klienta z tytułu emerytury w w 6 ostatnich miesiącach\n",
      "- Sumaryczna kwota wpływów klienta z tytułu programu 500 plus w w 6 ostatnich miesiącach\n",
      "- Sumaryczna kwota wpływów klienta z tytułu stypendium w w 6 ostatnich miesiącach\n",
      "- ...\n",
      "Feature names seen at fit time, yet now missing:\n",
      "- X1\n",
      "- X102\n",
      "- X109\n",
      "- X11\n",
      "- X116\n",
      "- ...\n",
      "\n",
      "\n",
      "Calculating ceteris paribus: 100%|██████████| 43/43 [00:01<00:00, 26.96it/s]\n",
      "C:\\Users\\alan\\anaconda3\\envs\\xai\\lib\\site-packages\\sklearn\\base.py:493: FutureWarning:\n",
      "\n",
      "The feature names should match those that were passed during fit. Starting version 1.2, an error will be raised.\n",
      "Feature names unseen at fit time:\n",
      "- Sumaryczna kwota transakcji w bankomatach w 6 ostatnich miesiącach\n",
      "- Sumaryczna kwota wpływów klienta w w 6 ostatnich miesiącach\n",
      "- Sumaryczna kwota wpływów klienta z tytułu emerytury w w 6 ostatnich miesiącach\n",
      "- Sumaryczna kwota wpływów klienta z tytułu programu 500 plus w w 6 ostatnich miesiącach\n",
      "- Sumaryczna kwota wpływów klienta z tytułu stypendium w w 6 ostatnich miesiącach\n",
      "- ...\n",
      "Feature names seen at fit time, yet now missing:\n",
      "- X1\n",
      "- X102\n",
      "- X109\n",
      "- X11\n",
      "- X116\n",
      "- ...\n",
      "\n",
      "\n",
      "C:\\Users\\alan\\anaconda3\\envs\\xai\\lib\\site-packages\\scipy\\stats\\stats.py:4484: SpearmanRConstantInputWarning:\n",
      "\n",
      "An input array is constant; the correlation coefficient is not defined.\n",
      "\n",
      "C:\\Users\\alan\\anaconda3\\envs\\xai\\lib\\site-packages\\scipy\\stats\\stats.py:4484: SpearmanRConstantInputWarning:\n",
      "\n",
      "An input array is constant; the correlation coefficient is not defined.\n",
      "\n",
      "Calculating ceteris paribus: 100%|██████████| 43/43 [00:00<00:00, 196.75it/s]\n",
      "Calculating ceteris paribus:   0%|          | 0/43 [00:00<?, ?it/s]C:\\Users\\alan\\anaconda3\\envs\\xai\\lib\\site-packages\\sklearn\\base.py:493: FutureWarning:\n",
      "\n",
      "The feature names should match those that were passed during fit. Starting version 1.2, an error will be raised.\n",
      "Feature names unseen at fit time:\n",
      "- Sumaryczna kwota transakcji w bankomatach w 6 ostatnich miesiącach\n",
      "- Sumaryczna kwota wpływów klienta w w 6 ostatnich miesiącach\n",
      "- Sumaryczna kwota wpływów klienta z tytułu emerytury w w 6 ostatnich miesiącach\n",
      "- Sumaryczna kwota wpływów klienta z tytułu programu 500 plus w w 6 ostatnich miesiącach\n",
      "- Sumaryczna kwota wpływów klienta z tytułu stypendium w w 6 ostatnich miesiącach\n",
      "- ...\n",
      "Feature names seen at fit time, yet now missing:\n",
      "- X1\n",
      "- X102\n",
      "- X109\n",
      "- X11\n",
      "- X116\n",
      "- ...\n",
      "\n",
      "\n",
      "C:\\Users\\alan\\anaconda3\\envs\\xai\\lib\\site-packages\\sklearn\\base.py:493: FutureWarning:\n",
      "\n",
      "The feature names should match those that were passed during fit. Starting version 1.2, an error will be raised.\n",
      "Feature names unseen at fit time:\n",
      "- Sumaryczna kwota transakcji w bankomatach w 6 ostatnich miesiącach\n",
      "- Sumaryczna kwota wpływów klienta w w 6 ostatnich miesiącach\n",
      "- Sumaryczna kwota wpływów klienta z tytułu emerytury w w 6 ostatnich miesiącach\n",
      "- Sumaryczna kwota wpływów klienta z tytułu programu 500 plus w w 6 ostatnich miesiącach\n",
      "- Sumaryczna kwota wpływów klienta z tytułu stypendium w w 6 ostatnich miesiącach\n",
      "- ...\n",
      "Feature names seen at fit time, yet now missing:\n",
      "- X1\n",
      "- X102\n",
      "- X109\n",
      "- X11\n",
      "- X116\n",
      "- ...\n",
      "\n",
      "\n",
      "C:\\Users\\alan\\anaconda3\\envs\\xai\\lib\\site-packages\\sklearn\\base.py:493: FutureWarning:\n",
      "\n",
      "The feature names should match those that were passed during fit. Starting version 1.2, an error will be raised.\n",
      "Feature names unseen at fit time:\n",
      "- Sumaryczna kwota transakcji w bankomatach w 6 ostatnich miesiącach\n",
      "- Sumaryczna kwota wpływów klienta w w 6 ostatnich miesiącach\n",
      "- Sumaryczna kwota wpływów klienta z tytułu emerytury w w 6 ostatnich miesiącach\n",
      "- Sumaryczna kwota wpływów klienta z tytułu programu 500 plus w w 6 ostatnich miesiącach\n",
      "- Sumaryczna kwota wpływów klienta z tytułu stypendium w w 6 ostatnich miesiącach\n",
      "- ...\n",
      "Feature names seen at fit time, yet now missing:\n",
      "- X1\n",
      "- X102\n",
      "- X109\n",
      "- X11\n",
      "- X116\n",
      "- ...\n",
      "\n",
      "\n",
      "Calculating ceteris paribus:   7%|▋         | 3/43 [00:00<00:01, 22.64it/s]C:\\Users\\alan\\anaconda3\\envs\\xai\\lib\\site-packages\\sklearn\\base.py:493: FutureWarning:\n",
      "\n",
      "The feature names should match those that were passed during fit. Starting version 1.2, an error will be raised.\n",
      "Feature names unseen at fit time:\n",
      "- Sumaryczna kwota transakcji w bankomatach w 6 ostatnich miesiącach\n",
      "- Sumaryczna kwota wpływów klienta w w 6 ostatnich miesiącach\n",
      "- Sumaryczna kwota wpływów klienta z tytułu emerytury w w 6 ostatnich miesiącach\n",
      "- Sumaryczna kwota wpływów klienta z tytułu programu 500 plus w w 6 ostatnich miesiącach\n",
      "- Sumaryczna kwota wpływów klienta z tytułu stypendium w w 6 ostatnich miesiącach\n",
      "- ...\n",
      "Feature names seen at fit time, yet now missing:\n",
      "- X1\n",
      "- X102\n",
      "- X109\n",
      "- X11\n",
      "- X116\n",
      "- ...\n",
      "\n",
      "\n",
      "C:\\Users\\alan\\anaconda3\\envs\\xai\\lib\\site-packages\\sklearn\\base.py:493: FutureWarning:\n",
      "\n",
      "The feature names should match those that were passed during fit. Starting version 1.2, an error will be raised.\n",
      "Feature names unseen at fit time:\n",
      "- Sumaryczna kwota transakcji w bankomatach w 6 ostatnich miesiącach\n",
      "- Sumaryczna kwota wpływów klienta w w 6 ostatnich miesiącach\n",
      "- Sumaryczna kwota wpływów klienta z tytułu emerytury w w 6 ostatnich miesiącach\n",
      "- Sumaryczna kwota wpływów klienta z tytułu programu 500 plus w w 6 ostatnich miesiącach\n",
      "- Sumaryczna kwota wpływów klienta z tytułu stypendium w w 6 ostatnich miesiącach\n",
      "- ...\n",
      "Feature names seen at fit time, yet now missing:\n",
      "- X1\n",
      "- X102\n",
      "- X109\n",
      "- X11\n",
      "- X116\n",
      "- ...\n",
      "\n",
      "\n",
      "C:\\Users\\alan\\anaconda3\\envs\\xai\\lib\\site-packages\\sklearn\\base.py:493: FutureWarning:\n",
      "\n",
      "The feature names should match those that were passed during fit. Starting version 1.2, an error will be raised.\n",
      "Feature names unseen at fit time:\n",
      "- Sumaryczna kwota transakcji w bankomatach w 6 ostatnich miesiącach\n",
      "- Sumaryczna kwota wpływów klienta w w 6 ostatnich miesiącach\n",
      "- Sumaryczna kwota wpływów klienta z tytułu emerytury w w 6 ostatnich miesiącach\n",
      "- Sumaryczna kwota wpływów klienta z tytułu programu 500 plus w w 6 ostatnich miesiącach\n",
      "- Sumaryczna kwota wpływów klienta z tytułu stypendium w w 6 ostatnich miesiącach\n",
      "- ...\n",
      "Feature names seen at fit time, yet now missing:\n",
      "- X1\n",
      "- X102\n",
      "- X109\n",
      "- X11\n",
      "- X116\n",
      "- ...\n",
      "\n",
      "\n",
      "Calculating ceteris paribus:  14%|█▍        | 6/43 [00:00<00:01, 25.27it/s]C:\\Users\\alan\\anaconda3\\envs\\xai\\lib\\site-packages\\sklearn\\base.py:493: FutureWarning:\n",
      "\n",
      "The feature names should match those that were passed during fit. Starting version 1.2, an error will be raised.\n",
      "Feature names unseen at fit time:\n",
      "- Sumaryczna kwota transakcji w bankomatach w 6 ostatnich miesiącach\n",
      "- Sumaryczna kwota wpływów klienta w w 6 ostatnich miesiącach\n",
      "- Sumaryczna kwota wpływów klienta z tytułu emerytury w w 6 ostatnich miesiącach\n",
      "- Sumaryczna kwota wpływów klienta z tytułu programu 500 plus w w 6 ostatnich miesiącach\n",
      "- Sumaryczna kwota wpływów klienta z tytułu stypendium w w 6 ostatnich miesiącach\n",
      "- ...\n",
      "Feature names seen at fit time, yet now missing:\n",
      "- X1\n",
      "- X102\n",
      "- X109\n",
      "- X11\n",
      "- X116\n",
      "- ...\n",
      "\n",
      "\n",
      "C:\\Users\\alan\\anaconda3\\envs\\xai\\lib\\site-packages\\sklearn\\base.py:493: FutureWarning:\n",
      "\n",
      "The feature names should match those that were passed during fit. Starting version 1.2, an error will be raised.\n",
      "Feature names unseen at fit time:\n",
      "- Sumaryczna kwota transakcji w bankomatach w 6 ostatnich miesiącach\n",
      "- Sumaryczna kwota wpływów klienta w w 6 ostatnich miesiącach\n",
      "- Sumaryczna kwota wpływów klienta z tytułu emerytury w w 6 ostatnich miesiącach\n",
      "- Sumaryczna kwota wpływów klienta z tytułu programu 500 plus w w 6 ostatnich miesiącach\n",
      "- Sumaryczna kwota wpływów klienta z tytułu stypendium w w 6 ostatnich miesiącach\n",
      "- ...\n",
      "Feature names seen at fit time, yet now missing:\n",
      "- X1\n",
      "- X102\n",
      "- X109\n",
      "- X11\n",
      "- X116\n",
      "- ...\n",
      "\n",
      "\n",
      "C:\\Users\\alan\\anaconda3\\envs\\xai\\lib\\site-packages\\sklearn\\base.py:493: FutureWarning:\n",
      "\n",
      "The feature names should match those that were passed during fit. Starting version 1.2, an error will be raised.\n",
      "Feature names unseen at fit time:\n",
      "- Sumaryczna kwota transakcji w bankomatach w 6 ostatnich miesiącach\n",
      "- Sumaryczna kwota wpływów klienta w w 6 ostatnich miesiącach\n",
      "- Sumaryczna kwota wpływów klienta z tytułu emerytury w w 6 ostatnich miesiącach\n",
      "- Sumaryczna kwota wpływów klienta z tytułu programu 500 plus w w 6 ostatnich miesiącach\n",
      "- Sumaryczna kwota wpływów klienta z tytułu stypendium w w 6 ostatnich miesiącach\n",
      "- ...\n",
      "Feature names seen at fit time, yet now missing:\n",
      "- X1\n",
      "- X102\n",
      "- X109\n",
      "- X11\n",
      "- X116\n",
      "- ...\n",
      "\n",
      "\n",
      "Calculating ceteris paribus:  21%|██        | 9/43 [00:00<00:01, 26.15it/s]C:\\Users\\alan\\anaconda3\\envs\\xai\\lib\\site-packages\\sklearn\\base.py:493: FutureWarning:\n",
      "\n",
      "The feature names should match those that were passed during fit. Starting version 1.2, an error will be raised.\n",
      "Feature names unseen at fit time:\n",
      "- Sumaryczna kwota transakcji w bankomatach w 6 ostatnich miesiącach\n",
      "- Sumaryczna kwota wpływów klienta w w 6 ostatnich miesiącach\n",
      "- Sumaryczna kwota wpływów klienta z tytułu emerytury w w 6 ostatnich miesiącach\n",
      "- Sumaryczna kwota wpływów klienta z tytułu programu 500 plus w w 6 ostatnich miesiącach\n",
      "- Sumaryczna kwota wpływów klienta z tytułu stypendium w w 6 ostatnich miesiącach\n",
      "- ...\n",
      "Feature names seen at fit time, yet now missing:\n",
      "- X1\n",
      "- X102\n",
      "- X109\n",
      "- X11\n",
      "- X116\n",
      "- ...\n",
      "\n",
      "\n",
      "C:\\Users\\alan\\anaconda3\\envs\\xai\\lib\\site-packages\\sklearn\\base.py:493: FutureWarning:\n",
      "\n",
      "The feature names should match those that were passed during fit. Starting version 1.2, an error will be raised.\n",
      "Feature names unseen at fit time:\n",
      "- Sumaryczna kwota transakcji w bankomatach w 6 ostatnich miesiącach\n",
      "- Sumaryczna kwota wpływów klienta w w 6 ostatnich miesiącach\n",
      "- Sumaryczna kwota wpływów klienta z tytułu emerytury w w 6 ostatnich miesiącach\n",
      "- Sumaryczna kwota wpływów klienta z tytułu programu 500 plus w w 6 ostatnich miesiącach\n",
      "- Sumaryczna kwota wpływów klienta z tytułu stypendium w w 6 ostatnich miesiącach\n",
      "- ...\n",
      "Feature names seen at fit time, yet now missing:\n",
      "- X1\n",
      "- X102\n",
      "- X109\n",
      "- X11\n",
      "- X116\n",
      "- ...\n",
      "\n",
      "\n",
      "C:\\Users\\alan\\anaconda3\\envs\\xai\\lib\\site-packages\\sklearn\\base.py:493: FutureWarning:\n",
      "\n",
      "The feature names should match those that were passed during fit. Starting version 1.2, an error will be raised.\n",
      "Feature names unseen at fit time:\n",
      "- Sumaryczna kwota transakcji w bankomatach w 6 ostatnich miesiącach\n",
      "- Sumaryczna kwota wpływów klienta w w 6 ostatnich miesiącach\n",
      "- Sumaryczna kwota wpływów klienta z tytułu emerytury w w 6 ostatnich miesiącach\n",
      "- Sumaryczna kwota wpływów klienta z tytułu programu 500 plus w w 6 ostatnich miesiącach\n",
      "- Sumaryczna kwota wpływów klienta z tytułu stypendium w w 6 ostatnich miesiącach\n",
      "- ...\n",
      "Feature names seen at fit time, yet now missing:\n",
      "- X1\n",
      "- X102\n",
      "- X109\n",
      "- X11\n",
      "- X116\n",
      "- ...\n",
      "\n",
      "\n",
      "Calculating ceteris paribus:  28%|██▊       | 12/43 [00:00<00:01, 26.86it/s]C:\\Users\\alan\\anaconda3\\envs\\xai\\lib\\site-packages\\sklearn\\base.py:493: FutureWarning:\n",
      "\n",
      "The feature names should match those that were passed during fit. Starting version 1.2, an error will be raised.\n",
      "Feature names unseen at fit time:\n",
      "- Sumaryczna kwota transakcji w bankomatach w 6 ostatnich miesiącach\n",
      "- Sumaryczna kwota wpływów klienta w w 6 ostatnich miesiącach\n",
      "- Sumaryczna kwota wpływów klienta z tytułu emerytury w w 6 ostatnich miesiącach\n",
      "- Sumaryczna kwota wpływów klienta z tytułu programu 500 plus w w 6 ostatnich miesiącach\n",
      "- Sumaryczna kwota wpływów klienta z tytułu stypendium w w 6 ostatnich miesiącach\n",
      "- ...\n",
      "Feature names seen at fit time, yet now missing:\n",
      "- X1\n",
      "- X102\n",
      "- X109\n",
      "- X11\n",
      "- X116\n",
      "- ...\n",
      "\n",
      "\n",
      "C:\\Users\\alan\\anaconda3\\envs\\xai\\lib\\site-packages\\sklearn\\base.py:493: FutureWarning:\n",
      "\n",
      "The feature names should match those that were passed during fit. Starting version 1.2, an error will be raised.\n",
      "Feature names unseen at fit time:\n",
      "- Sumaryczna kwota transakcji w bankomatach w 6 ostatnich miesiącach\n",
      "- Sumaryczna kwota wpływów klienta w w 6 ostatnich miesiącach\n",
      "- Sumaryczna kwota wpływów klienta z tytułu emerytury w w 6 ostatnich miesiącach\n",
      "- Sumaryczna kwota wpływów klienta z tytułu programu 500 plus w w 6 ostatnich miesiącach\n",
      "- Sumaryczna kwota wpływów klienta z tytułu stypendium w w 6 ostatnich miesiącach\n",
      "- ...\n",
      "Feature names seen at fit time, yet now missing:\n",
      "- X1\n",
      "- X102\n",
      "- X109\n",
      "- X11\n",
      "- X116\n",
      "- ...\n",
      "\n",
      "\n",
      "C:\\Users\\alan\\anaconda3\\envs\\xai\\lib\\site-packages\\sklearn\\base.py:493: FutureWarning:\n",
      "\n",
      "The feature names should match those that were passed during fit. Starting version 1.2, an error will be raised.\n",
      "Feature names unseen at fit time:\n",
      "- Sumaryczna kwota transakcji w bankomatach w 6 ostatnich miesiącach\n",
      "- Sumaryczna kwota wpływów klienta w w 6 ostatnich miesiącach\n",
      "- Sumaryczna kwota wpływów klienta z tytułu emerytury w w 6 ostatnich miesiącach\n",
      "- Sumaryczna kwota wpływów klienta z tytułu programu 500 plus w w 6 ostatnich miesiącach\n",
      "- Sumaryczna kwota wpływów klienta z tytułu stypendium w w 6 ostatnich miesiącach\n",
      "- ...\n",
      "Feature names seen at fit time, yet now missing:\n",
      "- X1\n",
      "- X102\n",
      "- X109\n",
      "- X11\n",
      "- X116\n",
      "- ...\n",
      "\n",
      "\n",
      "Calculating ceteris paribus:  35%|███▍      | 15/43 [00:00<00:01, 27.00it/s]C:\\Users\\alan\\anaconda3\\envs\\xai\\lib\\site-packages\\sklearn\\base.py:493: FutureWarning:\n",
      "\n",
      "The feature names should match those that were passed during fit. Starting version 1.2, an error will be raised.\n",
      "Feature names unseen at fit time:\n",
      "- Sumaryczna kwota transakcji w bankomatach w 6 ostatnich miesiącach\n",
      "- Sumaryczna kwota wpływów klienta w w 6 ostatnich miesiącach\n",
      "- Sumaryczna kwota wpływów klienta z tytułu emerytury w w 6 ostatnich miesiącach\n",
      "- Sumaryczna kwota wpływów klienta z tytułu programu 500 plus w w 6 ostatnich miesiącach\n",
      "- Sumaryczna kwota wpływów klienta z tytułu stypendium w w 6 ostatnich miesiącach\n",
      "- ...\n",
      "Feature names seen at fit time, yet now missing:\n",
      "- X1\n",
      "- X102\n",
      "- X109\n",
      "- X11\n",
      "- X116\n",
      "- ...\n",
      "\n",
      "\n",
      "C:\\Users\\alan\\anaconda3\\envs\\xai\\lib\\site-packages\\sklearn\\base.py:493: FutureWarning:\n",
      "\n",
      "The feature names should match those that were passed during fit. Starting version 1.2, an error will be raised.\n",
      "Feature names unseen at fit time:\n",
      "- Sumaryczna kwota transakcji w bankomatach w 6 ostatnich miesiącach\n",
      "- Sumaryczna kwota wpływów klienta w w 6 ostatnich miesiącach\n",
      "- Sumaryczna kwota wpływów klienta z tytułu emerytury w w 6 ostatnich miesiącach\n",
      "- Sumaryczna kwota wpływów klienta z tytułu programu 500 plus w w 6 ostatnich miesiącach\n",
      "- Sumaryczna kwota wpływów klienta z tytułu stypendium w w 6 ostatnich miesiącach\n",
      "- ...\n",
      "Feature names seen at fit time, yet now missing:\n",
      "- X1\n",
      "- X102\n",
      "- X109\n",
      "- X11\n",
      "- X116\n",
      "- ...\n",
      "\n",
      "\n",
      "C:\\Users\\alan\\anaconda3\\envs\\xai\\lib\\site-packages\\sklearn\\base.py:493: FutureWarning:\n",
      "\n",
      "The feature names should match those that were passed during fit. Starting version 1.2, an error will be raised.\n",
      "Feature names unseen at fit time:\n",
      "- Sumaryczna kwota transakcji w bankomatach w 6 ostatnich miesiącach\n",
      "- Sumaryczna kwota wpływów klienta w w 6 ostatnich miesiącach\n",
      "- Sumaryczna kwota wpływów klienta z tytułu emerytury w w 6 ostatnich miesiącach\n",
      "- Sumaryczna kwota wpływów klienta z tytułu programu 500 plus w w 6 ostatnich miesiącach\n",
      "- Sumaryczna kwota wpływów klienta z tytułu stypendium w w 6 ostatnich miesiącach\n",
      "- ...\n",
      "Feature names seen at fit time, yet now missing:\n",
      "- X1\n",
      "- X102\n",
      "- X109\n",
      "- X11\n",
      "- X116\n",
      "- ...\n",
      "\n",
      "\n",
      "Calculating ceteris paribus:  42%|████▏     | 18/43 [00:00<00:00, 27.35it/s]C:\\Users\\alan\\anaconda3\\envs\\xai\\lib\\site-packages\\sklearn\\base.py:493: FutureWarning:\n",
      "\n",
      "The feature names should match those that were passed during fit. Starting version 1.2, an error will be raised.\n",
      "Feature names unseen at fit time:\n",
      "- Sumaryczna kwota transakcji w bankomatach w 6 ostatnich miesiącach\n",
      "- Sumaryczna kwota wpływów klienta w w 6 ostatnich miesiącach\n",
      "- Sumaryczna kwota wpływów klienta z tytułu emerytury w w 6 ostatnich miesiącach\n",
      "- Sumaryczna kwota wpływów klienta z tytułu programu 500 plus w w 6 ostatnich miesiącach\n",
      "- Sumaryczna kwota wpływów klienta z tytułu stypendium w w 6 ostatnich miesiącach\n",
      "- ...\n",
      "Feature names seen at fit time, yet now missing:\n",
      "- X1\n",
      "- X102\n",
      "- X109\n",
      "- X11\n",
      "- X116\n",
      "- ...\n",
      "\n",
      "\n",
      "C:\\Users\\alan\\anaconda3\\envs\\xai\\lib\\site-packages\\sklearn\\base.py:493: FutureWarning:\n",
      "\n",
      "The feature names should match those that were passed during fit. Starting version 1.2, an error will be raised.\n",
      "Feature names unseen at fit time:\n",
      "- Sumaryczna kwota transakcji w bankomatach w 6 ostatnich miesiącach\n",
      "- Sumaryczna kwota wpływów klienta w w 6 ostatnich miesiącach\n",
      "- Sumaryczna kwota wpływów klienta z tytułu emerytury w w 6 ostatnich miesiącach\n",
      "- Sumaryczna kwota wpływów klienta z tytułu programu 500 plus w w 6 ostatnich miesiącach\n",
      "- Sumaryczna kwota wpływów klienta z tytułu stypendium w w 6 ostatnich miesiącach\n",
      "- ...\n",
      "Feature names seen at fit time, yet now missing:\n",
      "- X1\n",
      "- X102\n",
      "- X109\n",
      "- X11\n",
      "- X116\n",
      "- ...\n",
      "\n",
      "\n",
      "C:\\Users\\alan\\anaconda3\\envs\\xai\\lib\\site-packages\\sklearn\\base.py:493: FutureWarning:\n",
      "\n",
      "The feature names should match those that were passed during fit. Starting version 1.2, an error will be raised.\n",
      "Feature names unseen at fit time:\n",
      "- Sumaryczna kwota transakcji w bankomatach w 6 ostatnich miesiącach\n",
      "- Sumaryczna kwota wpływów klienta w w 6 ostatnich miesiącach\n",
      "- Sumaryczna kwota wpływów klienta z tytułu emerytury w w 6 ostatnich miesiącach\n",
      "- Sumaryczna kwota wpływów klienta z tytułu programu 500 plus w w 6 ostatnich miesiącach\n",
      "- Sumaryczna kwota wpływów klienta z tytułu stypendium w w 6 ostatnich miesiącach\n",
      "- ...\n",
      "Feature names seen at fit time, yet now missing:\n",
      "- X1\n",
      "- X102\n",
      "- X109\n",
      "- X11\n",
      "- X116\n",
      "- ...\n",
      "\n",
      "\n",
      "Calculating ceteris paribus:  49%|████▉     | 21/43 [00:00<00:00, 27.56it/s]C:\\Users\\alan\\anaconda3\\envs\\xai\\lib\\site-packages\\sklearn\\base.py:493: FutureWarning:\n",
      "\n",
      "The feature names should match those that were passed during fit. Starting version 1.2, an error will be raised.\n",
      "Feature names unseen at fit time:\n",
      "- Sumaryczna kwota transakcji w bankomatach w 6 ostatnich miesiącach\n",
      "- Sumaryczna kwota wpływów klienta w w 6 ostatnich miesiącach\n",
      "- Sumaryczna kwota wpływów klienta z tytułu emerytury w w 6 ostatnich miesiącach\n",
      "- Sumaryczna kwota wpływów klienta z tytułu programu 500 plus w w 6 ostatnich miesiącach\n",
      "- Sumaryczna kwota wpływów klienta z tytułu stypendium w w 6 ostatnich miesiącach\n",
      "- ...\n",
      "Feature names seen at fit time, yet now missing:\n",
      "- X1\n",
      "- X102\n",
      "- X109\n",
      "- X11\n",
      "- X116\n",
      "- ...\n",
      "\n",
      "\n",
      "C:\\Users\\alan\\anaconda3\\envs\\xai\\lib\\site-packages\\sklearn\\base.py:493: FutureWarning:\n",
      "\n",
      "The feature names should match those that were passed during fit. Starting version 1.2, an error will be raised.\n",
      "Feature names unseen at fit time:\n",
      "- Sumaryczna kwota transakcji w bankomatach w 6 ostatnich miesiącach\n",
      "- Sumaryczna kwota wpływów klienta w w 6 ostatnich miesiącach\n",
      "- Sumaryczna kwota wpływów klienta z tytułu emerytury w w 6 ostatnich miesiącach\n",
      "- Sumaryczna kwota wpływów klienta z tytułu programu 500 plus w w 6 ostatnich miesiącach\n",
      "- Sumaryczna kwota wpływów klienta z tytułu stypendium w w 6 ostatnich miesiącach\n",
      "- ...\n",
      "Feature names seen at fit time, yet now missing:\n",
      "- X1\n",
      "- X102\n",
      "- X109\n",
      "- X11\n",
      "- X116\n",
      "- ...\n",
      "\n",
      "\n",
      "C:\\Users\\alan\\anaconda3\\envs\\xai\\lib\\site-packages\\sklearn\\base.py:493: FutureWarning:\n",
      "\n",
      "The feature names should match those that were passed during fit. Starting version 1.2, an error will be raised.\n",
      "Feature names unseen at fit time:\n",
      "- Sumaryczna kwota transakcji w bankomatach w 6 ostatnich miesiącach\n",
      "- Sumaryczna kwota wpływów klienta w w 6 ostatnich miesiącach\n",
      "- Sumaryczna kwota wpływów klienta z tytułu emerytury w w 6 ostatnich miesiącach\n",
      "- Sumaryczna kwota wpływów klienta z tytułu programu 500 plus w w 6 ostatnich miesiącach\n",
      "- Sumaryczna kwota wpływów klienta z tytułu stypendium w w 6 ostatnich miesiącach\n",
      "- ...\n",
      "Feature names seen at fit time, yet now missing:\n",
      "- X1\n",
      "- X102\n",
      "- X109\n",
      "- X11\n",
      "- X116\n",
      "- ...\n",
      "\n",
      "\n",
      "Calculating ceteris paribus:  56%|█████▌    | 24/43 [00:00<00:00, 27.79it/s]C:\\Users\\alan\\anaconda3\\envs\\xai\\lib\\site-packages\\sklearn\\base.py:493: FutureWarning:\n",
      "\n",
      "The feature names should match those that were passed during fit. Starting version 1.2, an error will be raised.\n",
      "Feature names unseen at fit time:\n",
      "- Sumaryczna kwota transakcji w bankomatach w 6 ostatnich miesiącach\n",
      "- Sumaryczna kwota wpływów klienta w w 6 ostatnich miesiącach\n",
      "- Sumaryczna kwota wpływów klienta z tytułu emerytury w w 6 ostatnich miesiącach\n",
      "- Sumaryczna kwota wpływów klienta z tytułu programu 500 plus w w 6 ostatnich miesiącach\n",
      "- Sumaryczna kwota wpływów klienta z tytułu stypendium w w 6 ostatnich miesiącach\n",
      "- ...\n",
      "Feature names seen at fit time, yet now missing:\n",
      "- X1\n",
      "- X102\n",
      "- X109\n",
      "- X11\n",
      "- X116\n",
      "- ...\n",
      "\n",
      "\n",
      "C:\\Users\\alan\\anaconda3\\envs\\xai\\lib\\site-packages\\sklearn\\base.py:493: FutureWarning:\n",
      "\n",
      "The feature names should match those that were passed during fit. Starting version 1.2, an error will be raised.\n",
      "Feature names unseen at fit time:\n",
      "- Sumaryczna kwota transakcji w bankomatach w 6 ostatnich miesiącach\n",
      "- Sumaryczna kwota wpływów klienta w w 6 ostatnich miesiącach\n",
      "- Sumaryczna kwota wpływów klienta z tytułu emerytury w w 6 ostatnich miesiącach\n",
      "- Sumaryczna kwota wpływów klienta z tytułu programu 500 plus w w 6 ostatnich miesiącach\n",
      "- Sumaryczna kwota wpływów klienta z tytułu stypendium w w 6 ostatnich miesiącach\n",
      "- ...\n",
      "Feature names seen at fit time, yet now missing:\n",
      "- X1\n",
      "- X102\n",
      "- X109\n",
      "- X11\n",
      "- X116\n",
      "- ...\n",
      "\n",
      "\n",
      "C:\\Users\\alan\\anaconda3\\envs\\xai\\lib\\site-packages\\sklearn\\base.py:493: FutureWarning:\n",
      "\n",
      "The feature names should match those that were passed during fit. Starting version 1.2, an error will be raised.\n",
      "Feature names unseen at fit time:\n",
      "- Sumaryczna kwota transakcji w bankomatach w 6 ostatnich miesiącach\n",
      "- Sumaryczna kwota wpływów klienta w w 6 ostatnich miesiącach\n",
      "- Sumaryczna kwota wpływów klienta z tytułu emerytury w w 6 ostatnich miesiącach\n",
      "- Sumaryczna kwota wpływów klienta z tytułu programu 500 plus w w 6 ostatnich miesiącach\n",
      "- Sumaryczna kwota wpływów klienta z tytułu stypendium w w 6 ostatnich miesiącach\n",
      "- ...\n",
      "Feature names seen at fit time, yet now missing:\n",
      "- X1\n",
      "- X102\n",
      "- X109\n",
      "- X11\n",
      "- X116\n",
      "- ...\n",
      "\n",
      "\n",
      "Calculating ceteris paribus:  63%|██████▎   | 27/43 [00:00<00:00, 27.95it/s]C:\\Users\\alan\\anaconda3\\envs\\xai\\lib\\site-packages\\sklearn\\base.py:493: FutureWarning:\n",
      "\n",
      "The feature names should match those that were passed during fit. Starting version 1.2, an error will be raised.\n",
      "Feature names unseen at fit time:\n",
      "- Sumaryczna kwota transakcji w bankomatach w 6 ostatnich miesiącach\n",
      "- Sumaryczna kwota wpływów klienta w w 6 ostatnich miesiącach\n",
      "- Sumaryczna kwota wpływów klienta z tytułu emerytury w w 6 ostatnich miesiącach\n",
      "- Sumaryczna kwota wpływów klienta z tytułu programu 500 plus w w 6 ostatnich miesiącach\n",
      "- Sumaryczna kwota wpływów klienta z tytułu stypendium w w 6 ostatnich miesiącach\n",
      "- ...\n",
      "Feature names seen at fit time, yet now missing:\n",
      "- X1\n",
      "- X102\n",
      "- X109\n",
      "- X11\n",
      "- X116\n",
      "- ...\n",
      "\n",
      "\n",
      "C:\\Users\\alan\\anaconda3\\envs\\xai\\lib\\site-packages\\sklearn\\base.py:493: FutureWarning:\n",
      "\n",
      "The feature names should match those that were passed during fit. Starting version 1.2, an error will be raised.\n",
      "Feature names unseen at fit time:\n",
      "- Sumaryczna kwota transakcji w bankomatach w 6 ostatnich miesiącach\n",
      "- Sumaryczna kwota wpływów klienta w w 6 ostatnich miesiącach\n",
      "- Sumaryczna kwota wpływów klienta z tytułu emerytury w w 6 ostatnich miesiącach\n",
      "- Sumaryczna kwota wpływów klienta z tytułu programu 500 plus w w 6 ostatnich miesiącach\n",
      "- Sumaryczna kwota wpływów klienta z tytułu stypendium w w 6 ostatnich miesiącach\n",
      "- ...\n",
      "Feature names seen at fit time, yet now missing:\n",
      "- X1\n",
      "- X102\n",
      "- X109\n",
      "- X11\n",
      "- X116\n",
      "- ...\n",
      "\n",
      "\n",
      "C:\\Users\\alan\\anaconda3\\envs\\xai\\lib\\site-packages\\sklearn\\base.py:493: FutureWarning:\n",
      "\n",
      "The feature names should match those that were passed during fit. Starting version 1.2, an error will be raised.\n",
      "Feature names unseen at fit time:\n",
      "- Sumaryczna kwota transakcji w bankomatach w 6 ostatnich miesiącach\n",
      "- Sumaryczna kwota wpływów klienta w w 6 ostatnich miesiącach\n",
      "- Sumaryczna kwota wpływów klienta z tytułu emerytury w w 6 ostatnich miesiącach\n",
      "- Sumaryczna kwota wpływów klienta z tytułu programu 500 plus w w 6 ostatnich miesiącach\n",
      "- Sumaryczna kwota wpływów klienta z tytułu stypendium w w 6 ostatnich miesiącach\n",
      "- ...\n",
      "Feature names seen at fit time, yet now missing:\n",
      "- X1\n",
      "- X102\n",
      "- X109\n",
      "- X11\n",
      "- X116\n",
      "- ...\n",
      "\n",
      "\n",
      "Calculating ceteris paribus:  70%|██████▉   | 30/43 [00:01<00:00, 27.97it/s]C:\\Users\\alan\\anaconda3\\envs\\xai\\lib\\site-packages\\sklearn\\base.py:493: FutureWarning:\n",
      "\n",
      "The feature names should match those that were passed during fit. Starting version 1.2, an error will be raised.\n",
      "Feature names unseen at fit time:\n",
      "- Sumaryczna kwota transakcji w bankomatach w 6 ostatnich miesiącach\n",
      "- Sumaryczna kwota wpływów klienta w w 6 ostatnich miesiącach\n",
      "- Sumaryczna kwota wpływów klienta z tytułu emerytury w w 6 ostatnich miesiącach\n",
      "- Sumaryczna kwota wpływów klienta z tytułu programu 500 plus w w 6 ostatnich miesiącach\n",
      "- Sumaryczna kwota wpływów klienta z tytułu stypendium w w 6 ostatnich miesiącach\n",
      "- ...\n",
      "Feature names seen at fit time, yet now missing:\n",
      "- X1\n",
      "- X102\n",
      "- X109\n",
      "- X11\n",
      "- X116\n",
      "- ...\n",
      "\n",
      "\n",
      "C:\\Users\\alan\\anaconda3\\envs\\xai\\lib\\site-packages\\sklearn\\base.py:493: FutureWarning:\n",
      "\n",
      "The feature names should match those that were passed during fit. Starting version 1.2, an error will be raised.\n",
      "Feature names unseen at fit time:\n",
      "- Sumaryczna kwota transakcji w bankomatach w 6 ostatnich miesiącach\n",
      "- Sumaryczna kwota wpływów klienta w w 6 ostatnich miesiącach\n",
      "- Sumaryczna kwota wpływów klienta z tytułu emerytury w w 6 ostatnich miesiącach\n",
      "- Sumaryczna kwota wpływów klienta z tytułu programu 500 plus w w 6 ostatnich miesiącach\n",
      "- Sumaryczna kwota wpływów klienta z tytułu stypendium w w 6 ostatnich miesiącach\n",
      "- ...\n",
      "Feature names seen at fit time, yet now missing:\n",
      "- X1\n",
      "- X102\n",
      "- X109\n",
      "- X11\n",
      "- X116\n",
      "- ...\n",
      "\n",
      "\n",
      "C:\\Users\\alan\\anaconda3\\envs\\xai\\lib\\site-packages\\sklearn\\base.py:493: FutureWarning:\n",
      "\n",
      "The feature names should match those that were passed during fit. Starting version 1.2, an error will be raised.\n",
      "Feature names unseen at fit time:\n",
      "- Sumaryczna kwota transakcji w bankomatach w 6 ostatnich miesiącach\n",
      "- Sumaryczna kwota wpływów klienta w w 6 ostatnich miesiącach\n",
      "- Sumaryczna kwota wpływów klienta z tytułu emerytury w w 6 ostatnich miesiącach\n",
      "- Sumaryczna kwota wpływów klienta z tytułu programu 500 plus w w 6 ostatnich miesiącach\n",
      "- Sumaryczna kwota wpływów klienta z tytułu stypendium w w 6 ostatnich miesiącach\n",
      "- ...\n",
      "Feature names seen at fit time, yet now missing:\n",
      "- X1\n",
      "- X102\n",
      "- X109\n",
      "- X11\n",
      "- X116\n",
      "- ...\n",
      "\n",
      "\n",
      "Calculating ceteris paribus:  77%|███████▋  | 33/43 [00:01<00:00, 27.91it/s]C:\\Users\\alan\\anaconda3\\envs\\xai\\lib\\site-packages\\sklearn\\base.py:493: FutureWarning:\n",
      "\n",
      "The feature names should match those that were passed during fit. Starting version 1.2, an error will be raised.\n",
      "Feature names unseen at fit time:\n",
      "- Sumaryczna kwota transakcji w bankomatach w 6 ostatnich miesiącach\n",
      "- Sumaryczna kwota wpływów klienta w w 6 ostatnich miesiącach\n",
      "- Sumaryczna kwota wpływów klienta z tytułu emerytury w w 6 ostatnich miesiącach\n",
      "- Sumaryczna kwota wpływów klienta z tytułu programu 500 plus w w 6 ostatnich miesiącach\n",
      "- Sumaryczna kwota wpływów klienta z tytułu stypendium w w 6 ostatnich miesiącach\n",
      "- ...\n",
      "Feature names seen at fit time, yet now missing:\n",
      "- X1\n",
      "- X102\n",
      "- X109\n",
      "- X11\n",
      "- X116\n",
      "- ...\n",
      "\n",
      "\n",
      "C:\\Users\\alan\\anaconda3\\envs\\xai\\lib\\site-packages\\sklearn\\base.py:493: FutureWarning:\n",
      "\n",
      "The feature names should match those that were passed during fit. Starting version 1.2, an error will be raised.\n",
      "Feature names unseen at fit time:\n",
      "- Sumaryczna kwota transakcji w bankomatach w 6 ostatnich miesiącach\n",
      "- Sumaryczna kwota wpływów klienta w w 6 ostatnich miesiącach\n",
      "- Sumaryczna kwota wpływów klienta z tytułu emerytury w w 6 ostatnich miesiącach\n",
      "- Sumaryczna kwota wpływów klienta z tytułu programu 500 plus w w 6 ostatnich miesiącach\n",
      "- Sumaryczna kwota wpływów klienta z tytułu stypendium w w 6 ostatnich miesiącach\n",
      "- ...\n",
      "Feature names seen at fit time, yet now missing:\n",
      "- X1\n",
      "- X102\n",
      "- X109\n",
      "- X11\n",
      "- X116\n",
      "- ...\n",
      "\n",
      "\n",
      "C:\\Users\\alan\\anaconda3\\envs\\xai\\lib\\site-packages\\sklearn\\base.py:493: FutureWarning:\n",
      "\n",
      "The feature names should match those that were passed during fit. Starting version 1.2, an error will be raised.\n",
      "Feature names unseen at fit time:\n",
      "- Sumaryczna kwota transakcji w bankomatach w 6 ostatnich miesiącach\n",
      "- Sumaryczna kwota wpływów klienta w w 6 ostatnich miesiącach\n",
      "- Sumaryczna kwota wpływów klienta z tytułu emerytury w w 6 ostatnich miesiącach\n",
      "- Sumaryczna kwota wpływów klienta z tytułu programu 500 plus w w 6 ostatnich miesiącach\n",
      "- Sumaryczna kwota wpływów klienta z tytułu stypendium w w 6 ostatnich miesiącach\n",
      "- ...\n",
      "Feature names seen at fit time, yet now missing:\n",
      "- X1\n",
      "- X102\n",
      "- X109\n",
      "- X11\n",
      "- X116\n",
      "- ...\n",
      "\n",
      "\n",
      "Calculating ceteris paribus:  84%|████████▎ | 36/43 [00:01<00:00, 27.95it/s]C:\\Users\\alan\\anaconda3\\envs\\xai\\lib\\site-packages\\sklearn\\base.py:493: FutureWarning:\n",
      "\n",
      "The feature names should match those that were passed during fit. Starting version 1.2, an error will be raised.\n",
      "Feature names unseen at fit time:\n",
      "- Sumaryczna kwota transakcji w bankomatach w 6 ostatnich miesiącach\n",
      "- Sumaryczna kwota wpływów klienta w w 6 ostatnich miesiącach\n",
      "- Sumaryczna kwota wpływów klienta z tytułu emerytury w w 6 ostatnich miesiącach\n",
      "- Sumaryczna kwota wpływów klienta z tytułu programu 500 plus w w 6 ostatnich miesiącach\n",
      "- Sumaryczna kwota wpływów klienta z tytułu stypendium w w 6 ostatnich miesiącach\n",
      "- ...\n",
      "Feature names seen at fit time, yet now missing:\n",
      "- X1\n",
      "- X102\n",
      "- X109\n",
      "- X11\n",
      "- X116\n",
      "- ...\n",
      "\n",
      "\n",
      "C:\\Users\\alan\\anaconda3\\envs\\xai\\lib\\site-packages\\sklearn\\base.py:493: FutureWarning:\n",
      "\n",
      "The feature names should match those that were passed during fit. Starting version 1.2, an error will be raised.\n",
      "Feature names unseen at fit time:\n",
      "- Sumaryczna kwota transakcji w bankomatach w 6 ostatnich miesiącach\n",
      "- Sumaryczna kwota wpływów klienta w w 6 ostatnich miesiącach\n",
      "- Sumaryczna kwota wpływów klienta z tytułu emerytury w w 6 ostatnich miesiącach\n",
      "- Sumaryczna kwota wpływów klienta z tytułu programu 500 plus w w 6 ostatnich miesiącach\n",
      "- Sumaryczna kwota wpływów klienta z tytułu stypendium w w 6 ostatnich miesiącach\n",
      "- ...\n",
      "Feature names seen at fit time, yet now missing:\n",
      "- X1\n",
      "- X102\n",
      "- X109\n",
      "- X11\n",
      "- X116\n",
      "- ...\n",
      "\n",
      "\n",
      "C:\\Users\\alan\\anaconda3\\envs\\xai\\lib\\site-packages\\sklearn\\base.py:493: FutureWarning:\n",
      "\n",
      "The feature names should match those that were passed during fit. Starting version 1.2, an error will be raised.\n",
      "Feature names unseen at fit time:\n",
      "- Sumaryczna kwota transakcji w bankomatach w 6 ostatnich miesiącach\n",
      "- Sumaryczna kwota wpływów klienta w w 6 ostatnich miesiącach\n",
      "- Sumaryczna kwota wpływów klienta z tytułu emerytury w w 6 ostatnich miesiącach\n",
      "- Sumaryczna kwota wpływów klienta z tytułu programu 500 plus w w 6 ostatnich miesiącach\n",
      "- Sumaryczna kwota wpływów klienta z tytułu stypendium w w 6 ostatnich miesiącach\n",
      "- ...\n",
      "Feature names seen at fit time, yet now missing:\n",
      "- X1\n",
      "- X102\n",
      "- X109\n",
      "- X11\n",
      "- X116\n",
      "- ...\n",
      "\n",
      "\n",
      "Calculating ceteris paribus:  91%|█████████ | 39/43 [00:01<00:00, 28.05it/s]C:\\Users\\alan\\anaconda3\\envs\\xai\\lib\\site-packages\\sklearn\\base.py:493: FutureWarning:\n",
      "\n",
      "The feature names should match those that were passed during fit. Starting version 1.2, an error will be raised.\n",
      "Feature names unseen at fit time:\n",
      "- Sumaryczna kwota transakcji w bankomatach w 6 ostatnich miesiącach\n",
      "- Sumaryczna kwota wpływów klienta w w 6 ostatnich miesiącach\n",
      "- Sumaryczna kwota wpływów klienta z tytułu emerytury w w 6 ostatnich miesiącach\n",
      "- Sumaryczna kwota wpływów klienta z tytułu programu 500 plus w w 6 ostatnich miesiącach\n",
      "- Sumaryczna kwota wpływów klienta z tytułu stypendium w w 6 ostatnich miesiącach\n",
      "- ...\n",
      "Feature names seen at fit time, yet now missing:\n",
      "- X1\n",
      "- X102\n",
      "- X109\n",
      "- X11\n",
      "- X116\n",
      "- ...\n",
      "\n",
      "\n",
      "C:\\Users\\alan\\anaconda3\\envs\\xai\\lib\\site-packages\\sklearn\\base.py:493: FutureWarning:\n",
      "\n",
      "The feature names should match those that were passed during fit. Starting version 1.2, an error will be raised.\n",
      "Feature names unseen at fit time:\n",
      "- Sumaryczna kwota transakcji w bankomatach w 6 ostatnich miesiącach\n",
      "- Sumaryczna kwota wpływów klienta w w 6 ostatnich miesiącach\n",
      "- Sumaryczna kwota wpływów klienta z tytułu emerytury w w 6 ostatnich miesiącach\n",
      "- Sumaryczna kwota wpływów klienta z tytułu programu 500 plus w w 6 ostatnich miesiącach\n",
      "- Sumaryczna kwota wpływów klienta z tytułu stypendium w w 6 ostatnich miesiącach\n",
      "- ...\n",
      "Feature names seen at fit time, yet now missing:\n",
      "- X1\n",
      "- X102\n",
      "- X109\n",
      "- X11\n",
      "- X116\n",
      "- ...\n",
      "\n",
      "\n",
      "C:\\Users\\alan\\anaconda3\\envs\\xai\\lib\\site-packages\\sklearn\\base.py:493: FutureWarning:\n",
      "\n",
      "The feature names should match those that were passed during fit. Starting version 1.2, an error will be raised.\n",
      "Feature names unseen at fit time:\n",
      "- Sumaryczna kwota transakcji w bankomatach w 6 ostatnich miesiącach\n",
      "- Sumaryczna kwota wpływów klienta w w 6 ostatnich miesiącach\n",
      "- Sumaryczna kwota wpływów klienta z tytułu emerytury w w 6 ostatnich miesiącach\n",
      "- Sumaryczna kwota wpływów klienta z tytułu programu 500 plus w w 6 ostatnich miesiącach\n",
      "- Sumaryczna kwota wpływów klienta z tytułu stypendium w w 6 ostatnich miesiącach\n",
      "- ...\n",
      "Feature names seen at fit time, yet now missing:\n",
      "- X1\n",
      "- X102\n",
      "- X109\n",
      "- X11\n",
      "- X116\n",
      "- ...\n",
      "\n",
      "\n",
      "Calculating ceteris paribus:  98%|█████████▊| 42/43 [00:01<00:00, 27.88it/s]C:\\Users\\alan\\anaconda3\\envs\\xai\\lib\\site-packages\\sklearn\\base.py:493: FutureWarning:\n",
      "\n",
      "The feature names should match those that were passed during fit. Starting version 1.2, an error will be raised.\n",
      "Feature names unseen at fit time:\n",
      "- Sumaryczna kwota transakcji w bankomatach w 6 ostatnich miesiącach\n",
      "- Sumaryczna kwota wpływów klienta w w 6 ostatnich miesiącach\n",
      "- Sumaryczna kwota wpływów klienta z tytułu emerytury w w 6 ostatnich miesiącach\n",
      "- Sumaryczna kwota wpływów klienta z tytułu programu 500 plus w w 6 ostatnich miesiącach\n",
      "- Sumaryczna kwota wpływów klienta z tytułu stypendium w w 6 ostatnich miesiącach\n",
      "- ...\n",
      "Feature names seen at fit time, yet now missing:\n",
      "- X1\n",
      "- X102\n",
      "- X109\n",
      "- X11\n",
      "- X116\n",
      "- ...\n",
      "\n",
      "\n",
      "Calculating ceteris paribus: 100%|██████████| 43/43 [00:01<00:00, 27.41it/s]\n",
      "C:\\Users\\alan\\anaconda3\\envs\\xai\\lib\\site-packages\\sklearn\\base.py:493: FutureWarning:\n",
      "\n",
      "The feature names should match those that were passed during fit. Starting version 1.2, an error will be raised.\n",
      "Feature names unseen at fit time:\n",
      "- Sumaryczna kwota transakcji w bankomatach w 6 ostatnich miesiącach\n",
      "- Sumaryczna kwota wpływów klienta w w 6 ostatnich miesiącach\n",
      "- Sumaryczna kwota wpływów klienta z tytułu emerytury w w 6 ostatnich miesiącach\n",
      "- Sumaryczna kwota wpływów klienta z tytułu programu 500 plus w w 6 ostatnich miesiącach\n",
      "- Sumaryczna kwota wpływów klienta z tytułu stypendium w w 6 ostatnich miesiącach\n",
      "- ...\n",
      "Feature names seen at fit time, yet now missing:\n",
      "- X1\n",
      "- X102\n",
      "- X109\n",
      "- X11\n",
      "- X116\n",
      "- ...\n",
      "\n",
      "\n",
      "Calculating ceteris paribus: 100%|██████████| 43/43 [00:00<00:00, 204.62it/s]\n",
      "Calculating ceteris paribus:   0%|          | 0/43 [00:00<?, ?it/s]C:\\Users\\alan\\anaconda3\\envs\\xai\\lib\\site-packages\\sklearn\\base.py:493: FutureWarning:\n",
      "\n",
      "The feature names should match those that were passed during fit. Starting version 1.2, an error will be raised.\n",
      "Feature names unseen at fit time:\n",
      "- Sumaryczna kwota transakcji w bankomatach w 6 ostatnich miesiącach\n",
      "- Sumaryczna kwota wpływów klienta w w 6 ostatnich miesiącach\n",
      "- Sumaryczna kwota wpływów klienta z tytułu emerytury w w 6 ostatnich miesiącach\n",
      "- Sumaryczna kwota wpływów klienta z tytułu programu 500 plus w w 6 ostatnich miesiącach\n",
      "- Sumaryczna kwota wpływów klienta z tytułu stypendium w w 6 ostatnich miesiącach\n",
      "- ...\n",
      "Feature names seen at fit time, yet now missing:\n",
      "- X1\n",
      "- X102\n",
      "- X109\n",
      "- X11\n",
      "- X116\n",
      "- ...\n",
      "\n",
      "\n",
      "C:\\Users\\alan\\anaconda3\\envs\\xai\\lib\\site-packages\\sklearn\\base.py:493: FutureWarning:\n",
      "\n",
      "The feature names should match those that were passed during fit. Starting version 1.2, an error will be raised.\n",
      "Feature names unseen at fit time:\n",
      "- Sumaryczna kwota transakcji w bankomatach w 6 ostatnich miesiącach\n",
      "- Sumaryczna kwota wpływów klienta w w 6 ostatnich miesiącach\n",
      "- Sumaryczna kwota wpływów klienta z tytułu emerytury w w 6 ostatnich miesiącach\n",
      "- Sumaryczna kwota wpływów klienta z tytułu programu 500 plus w w 6 ostatnich miesiącach\n",
      "- Sumaryczna kwota wpływów klienta z tytułu stypendium w w 6 ostatnich miesiącach\n",
      "- ...\n",
      "Feature names seen at fit time, yet now missing:\n",
      "- X1\n",
      "- X102\n",
      "- X109\n",
      "- X11\n",
      "- X116\n",
      "- ...\n",
      "\n",
      "\n",
      "C:\\Users\\alan\\anaconda3\\envs\\xai\\lib\\site-packages\\sklearn\\base.py:493: FutureWarning:\n",
      "\n",
      "The feature names should match those that were passed during fit. Starting version 1.2, an error will be raised.\n",
      "Feature names unseen at fit time:\n",
      "- Sumaryczna kwota transakcji w bankomatach w 6 ostatnich miesiącach\n",
      "- Sumaryczna kwota wpływów klienta w w 6 ostatnich miesiącach\n",
      "- Sumaryczna kwota wpływów klienta z tytułu emerytury w w 6 ostatnich miesiącach\n",
      "- Sumaryczna kwota wpływów klienta z tytułu programu 500 plus w w 6 ostatnich miesiącach\n",
      "- Sumaryczna kwota wpływów klienta z tytułu stypendium w w 6 ostatnich miesiącach\n",
      "- ...\n",
      "Feature names seen at fit time, yet now missing:\n",
      "- X1\n",
      "- X102\n",
      "- X109\n",
      "- X11\n",
      "- X116\n",
      "- ...\n",
      "\n",
      "\n",
      "Calculating ceteris paribus:   7%|▋         | 3/43 [00:00<00:01, 21.27it/s]C:\\Users\\alan\\anaconda3\\envs\\xai\\lib\\site-packages\\sklearn\\base.py:493: FutureWarning:\n",
      "\n",
      "The feature names should match those that were passed during fit. Starting version 1.2, an error will be raised.\n",
      "Feature names unseen at fit time:\n",
      "- Sumaryczna kwota transakcji w bankomatach w 6 ostatnich miesiącach\n",
      "- Sumaryczna kwota wpływów klienta w w 6 ostatnich miesiącach\n",
      "- Sumaryczna kwota wpływów klienta z tytułu emerytury w w 6 ostatnich miesiącach\n",
      "- Sumaryczna kwota wpływów klienta z tytułu programu 500 plus w w 6 ostatnich miesiącach\n",
      "- Sumaryczna kwota wpływów klienta z tytułu stypendium w w 6 ostatnich miesiącach\n",
      "- ...\n",
      "Feature names seen at fit time, yet now missing:\n",
      "- X1\n",
      "- X102\n",
      "- X109\n",
      "- X11\n",
      "- X116\n",
      "- ...\n",
      "\n",
      "\n",
      "C:\\Users\\alan\\anaconda3\\envs\\xai\\lib\\site-packages\\sklearn\\base.py:493: FutureWarning:\n",
      "\n",
      "The feature names should match those that were passed during fit. Starting version 1.2, an error will be raised.\n",
      "Feature names unseen at fit time:\n",
      "- Sumaryczna kwota transakcji w bankomatach w 6 ostatnich miesiącach\n",
      "- Sumaryczna kwota wpływów klienta w w 6 ostatnich miesiącach\n",
      "- Sumaryczna kwota wpływów klienta z tytułu emerytury w w 6 ostatnich miesiącach\n",
      "- Sumaryczna kwota wpływów klienta z tytułu programu 500 plus w w 6 ostatnich miesiącach\n",
      "- Sumaryczna kwota wpływów klienta z tytułu stypendium w w 6 ostatnich miesiącach\n",
      "- ...\n",
      "Feature names seen at fit time, yet now missing:\n",
      "- X1\n",
      "- X102\n",
      "- X109\n",
      "- X11\n",
      "- X116\n",
      "- ...\n",
      "\n",
      "\n",
      "C:\\Users\\alan\\anaconda3\\envs\\xai\\lib\\site-packages\\sklearn\\base.py:493: FutureWarning:\n",
      "\n",
      "The feature names should match those that were passed during fit. Starting version 1.2, an error will be raised.\n",
      "Feature names unseen at fit time:\n",
      "- Sumaryczna kwota transakcji w bankomatach w 6 ostatnich miesiącach\n",
      "- Sumaryczna kwota wpływów klienta w w 6 ostatnich miesiącach\n",
      "- Sumaryczna kwota wpływów klienta z tytułu emerytury w w 6 ostatnich miesiącach\n",
      "- Sumaryczna kwota wpływów klienta z tytułu programu 500 plus w w 6 ostatnich miesiącach\n",
      "- Sumaryczna kwota wpływów klienta z tytułu stypendium w w 6 ostatnich miesiącach\n",
      "- ...\n",
      "Feature names seen at fit time, yet now missing:\n",
      "- X1\n",
      "- X102\n",
      "- X109\n",
      "- X11\n",
      "- X116\n",
      "- ...\n",
      "\n",
      "\n",
      "Calculating ceteris paribus:  14%|█▍        | 6/43 [00:00<00:01, 23.64it/s]C:\\Users\\alan\\anaconda3\\envs\\xai\\lib\\site-packages\\sklearn\\base.py:493: FutureWarning:\n",
      "\n",
      "The feature names should match those that were passed during fit. Starting version 1.2, an error will be raised.\n",
      "Feature names unseen at fit time:\n",
      "- Sumaryczna kwota transakcji w bankomatach w 6 ostatnich miesiącach\n",
      "- Sumaryczna kwota wpływów klienta w w 6 ostatnich miesiącach\n",
      "- Sumaryczna kwota wpływów klienta z tytułu emerytury w w 6 ostatnich miesiącach\n",
      "- Sumaryczna kwota wpływów klienta z tytułu programu 500 plus w w 6 ostatnich miesiącach\n",
      "- Sumaryczna kwota wpływów klienta z tytułu stypendium w w 6 ostatnich miesiącach\n",
      "- ...\n",
      "Feature names seen at fit time, yet now missing:\n",
      "- X1\n",
      "- X102\n",
      "- X109\n",
      "- X11\n",
      "- X116\n",
      "- ...\n",
      "\n",
      "\n",
      "C:\\Users\\alan\\anaconda3\\envs\\xai\\lib\\site-packages\\sklearn\\base.py:493: FutureWarning:\n",
      "\n",
      "The feature names should match those that were passed during fit. Starting version 1.2, an error will be raised.\n",
      "Feature names unseen at fit time:\n",
      "- Sumaryczna kwota transakcji w bankomatach w 6 ostatnich miesiącach\n",
      "- Sumaryczna kwota wpływów klienta w w 6 ostatnich miesiącach\n",
      "- Sumaryczna kwota wpływów klienta z tytułu emerytury w w 6 ostatnich miesiącach\n",
      "- Sumaryczna kwota wpływów klienta z tytułu programu 500 plus w w 6 ostatnich miesiącach\n",
      "- Sumaryczna kwota wpływów klienta z tytułu stypendium w w 6 ostatnich miesiącach\n",
      "- ...\n",
      "Feature names seen at fit time, yet now missing:\n",
      "- X1\n",
      "- X102\n",
      "- X109\n",
      "- X11\n",
      "- X116\n",
      "- ...\n",
      "\n",
      "\n",
      "C:\\Users\\alan\\anaconda3\\envs\\xai\\lib\\site-packages\\sklearn\\base.py:493: FutureWarning:\n",
      "\n",
      "The feature names should match those that were passed during fit. Starting version 1.2, an error will be raised.\n",
      "Feature names unseen at fit time:\n",
      "- Sumaryczna kwota transakcji w bankomatach w 6 ostatnich miesiącach\n",
      "- Sumaryczna kwota wpływów klienta w w 6 ostatnich miesiącach\n",
      "- Sumaryczna kwota wpływów klienta z tytułu emerytury w w 6 ostatnich miesiącach\n",
      "- Sumaryczna kwota wpływów klienta z tytułu programu 500 plus w w 6 ostatnich miesiącach\n",
      "- Sumaryczna kwota wpływów klienta z tytułu stypendium w w 6 ostatnich miesiącach\n",
      "- ...\n",
      "Feature names seen at fit time, yet now missing:\n",
      "- X1\n",
      "- X102\n",
      "- X109\n",
      "- X11\n",
      "- X116\n",
      "- ...\n",
      "\n",
      "\n",
      "Calculating ceteris paribus:  21%|██        | 9/43 [00:00<00:01, 22.97it/s]C:\\Users\\alan\\anaconda3\\envs\\xai\\lib\\site-packages\\sklearn\\base.py:493: FutureWarning:\n",
      "\n",
      "The feature names should match those that were passed during fit. Starting version 1.2, an error will be raised.\n",
      "Feature names unseen at fit time:\n",
      "- Sumaryczna kwota transakcji w bankomatach w 6 ostatnich miesiącach\n",
      "- Sumaryczna kwota wpływów klienta w w 6 ostatnich miesiącach\n",
      "- Sumaryczna kwota wpływów klienta z tytułu emerytury w w 6 ostatnich miesiącach\n",
      "- Sumaryczna kwota wpływów klienta z tytułu programu 500 plus w w 6 ostatnich miesiącach\n",
      "- Sumaryczna kwota wpływów klienta z tytułu stypendium w w 6 ostatnich miesiącach\n",
      "- ...\n",
      "Feature names seen at fit time, yet now missing:\n",
      "- X1\n",
      "- X102\n",
      "- X109\n",
      "- X11\n",
      "- X116\n",
      "- ...\n",
      "\n",
      "\n",
      "C:\\Users\\alan\\anaconda3\\envs\\xai\\lib\\site-packages\\sklearn\\base.py:493: FutureWarning:\n",
      "\n",
      "The feature names should match those that were passed during fit. Starting version 1.2, an error will be raised.\n",
      "Feature names unseen at fit time:\n",
      "- Sumaryczna kwota transakcji w bankomatach w 6 ostatnich miesiącach\n",
      "- Sumaryczna kwota wpływów klienta w w 6 ostatnich miesiącach\n",
      "- Sumaryczna kwota wpływów klienta z tytułu emerytury w w 6 ostatnich miesiącach\n",
      "- Sumaryczna kwota wpływów klienta z tytułu programu 500 plus w w 6 ostatnich miesiącach\n",
      "- Sumaryczna kwota wpływów klienta z tytułu stypendium w w 6 ostatnich miesiącach\n",
      "- ...\n",
      "Feature names seen at fit time, yet now missing:\n",
      "- X1\n",
      "- X102\n",
      "- X109\n",
      "- X11\n",
      "- X116\n",
      "- ...\n",
      "\n",
      "\n",
      "C:\\Users\\alan\\anaconda3\\envs\\xai\\lib\\site-packages\\sklearn\\base.py:493: FutureWarning:\n",
      "\n",
      "The feature names should match those that were passed during fit. Starting version 1.2, an error will be raised.\n",
      "Feature names unseen at fit time:\n",
      "- Sumaryczna kwota transakcji w bankomatach w 6 ostatnich miesiącach\n",
      "- Sumaryczna kwota wpływów klienta w w 6 ostatnich miesiącach\n",
      "- Sumaryczna kwota wpływów klienta z tytułu emerytury w w 6 ostatnich miesiącach\n",
      "- Sumaryczna kwota wpływów klienta z tytułu programu 500 plus w w 6 ostatnich miesiącach\n",
      "- Sumaryczna kwota wpływów klienta z tytułu stypendium w w 6 ostatnich miesiącach\n",
      "- ...\n",
      "Feature names seen at fit time, yet now missing:\n",
      "- X1\n",
      "- X102\n",
      "- X109\n",
      "- X11\n",
      "- X116\n",
      "- ...\n",
      "\n",
      "\n",
      "Calculating ceteris paribus:  28%|██▊       | 12/43 [00:00<00:01, 23.88it/s]C:\\Users\\alan\\anaconda3\\envs\\xai\\lib\\site-packages\\sklearn\\base.py:493: FutureWarning:\n",
      "\n",
      "The feature names should match those that were passed during fit. Starting version 1.2, an error will be raised.\n",
      "Feature names unseen at fit time:\n",
      "- Sumaryczna kwota transakcji w bankomatach w 6 ostatnich miesiącach\n",
      "- Sumaryczna kwota wpływów klienta w w 6 ostatnich miesiącach\n",
      "- Sumaryczna kwota wpływów klienta z tytułu emerytury w w 6 ostatnich miesiącach\n",
      "- Sumaryczna kwota wpływów klienta z tytułu programu 500 plus w w 6 ostatnich miesiącach\n",
      "- Sumaryczna kwota wpływów klienta z tytułu stypendium w w 6 ostatnich miesiącach\n",
      "- ...\n",
      "Feature names seen at fit time, yet now missing:\n",
      "- X1\n",
      "- X102\n",
      "- X109\n",
      "- X11\n",
      "- X116\n",
      "- ...\n",
      "\n",
      "\n",
      "C:\\Users\\alan\\anaconda3\\envs\\xai\\lib\\site-packages\\sklearn\\base.py:493: FutureWarning:\n",
      "\n",
      "The feature names should match those that were passed during fit. Starting version 1.2, an error will be raised.\n",
      "Feature names unseen at fit time:\n",
      "- Sumaryczna kwota transakcji w bankomatach w 6 ostatnich miesiącach\n",
      "- Sumaryczna kwota wpływów klienta w w 6 ostatnich miesiącach\n",
      "- Sumaryczna kwota wpływów klienta z tytułu emerytury w w 6 ostatnich miesiącach\n",
      "- Sumaryczna kwota wpływów klienta z tytułu programu 500 plus w w 6 ostatnich miesiącach\n",
      "- Sumaryczna kwota wpływów klienta z tytułu stypendium w w 6 ostatnich miesiącach\n",
      "- ...\n",
      "Feature names seen at fit time, yet now missing:\n",
      "- X1\n",
      "- X102\n",
      "- X109\n",
      "- X11\n",
      "- X116\n",
      "- ...\n",
      "\n",
      "\n",
      "C:\\Users\\alan\\anaconda3\\envs\\xai\\lib\\site-packages\\sklearn\\base.py:493: FutureWarning:\n",
      "\n",
      "The feature names should match those that were passed during fit. Starting version 1.2, an error will be raised.\n",
      "Feature names unseen at fit time:\n",
      "- Sumaryczna kwota transakcji w bankomatach w 6 ostatnich miesiącach\n",
      "- Sumaryczna kwota wpływów klienta w w 6 ostatnich miesiącach\n",
      "- Sumaryczna kwota wpływów klienta z tytułu emerytury w w 6 ostatnich miesiącach\n",
      "- Sumaryczna kwota wpływów klienta z tytułu programu 500 plus w w 6 ostatnich miesiącach\n",
      "- Sumaryczna kwota wpływów klienta z tytułu stypendium w w 6 ostatnich miesiącach\n",
      "- ...\n",
      "Feature names seen at fit time, yet now missing:\n",
      "- X1\n",
      "- X102\n",
      "- X109\n",
      "- X11\n",
      "- X116\n",
      "- ...\n",
      "\n",
      "\n",
      "Calculating ceteris paribus:  35%|███▍      | 15/43 [00:00<00:01, 24.13it/s]C:\\Users\\alan\\anaconda3\\envs\\xai\\lib\\site-packages\\sklearn\\base.py:493: FutureWarning:\n",
      "\n",
      "The feature names should match those that were passed during fit. Starting version 1.2, an error will be raised.\n",
      "Feature names unseen at fit time:\n",
      "- Sumaryczna kwota transakcji w bankomatach w 6 ostatnich miesiącach\n",
      "- Sumaryczna kwota wpływów klienta w w 6 ostatnich miesiącach\n",
      "- Sumaryczna kwota wpływów klienta z tytułu emerytury w w 6 ostatnich miesiącach\n",
      "- Sumaryczna kwota wpływów klienta z tytułu programu 500 plus w w 6 ostatnich miesiącach\n",
      "- Sumaryczna kwota wpływów klienta z tytułu stypendium w w 6 ostatnich miesiącach\n",
      "- ...\n",
      "Feature names seen at fit time, yet now missing:\n",
      "- X1\n",
      "- X102\n",
      "- X109\n",
      "- X11\n",
      "- X116\n",
      "- ...\n",
      "\n",
      "\n",
      "C:\\Users\\alan\\anaconda3\\envs\\xai\\lib\\site-packages\\sklearn\\base.py:493: FutureWarning:\n",
      "\n",
      "The feature names should match those that were passed during fit. Starting version 1.2, an error will be raised.\n",
      "Feature names unseen at fit time:\n",
      "- Sumaryczna kwota transakcji w bankomatach w 6 ostatnich miesiącach\n",
      "- Sumaryczna kwota wpływów klienta w w 6 ostatnich miesiącach\n",
      "- Sumaryczna kwota wpływów klienta z tytułu emerytury w w 6 ostatnich miesiącach\n",
      "- Sumaryczna kwota wpływów klienta z tytułu programu 500 plus w w 6 ostatnich miesiącach\n",
      "- Sumaryczna kwota wpływów klienta z tytułu stypendium w w 6 ostatnich miesiącach\n",
      "- ...\n",
      "Feature names seen at fit time, yet now missing:\n",
      "- X1\n",
      "- X102\n",
      "- X109\n",
      "- X11\n",
      "- X116\n",
      "- ...\n",
      "\n",
      "\n",
      "C:\\Users\\alan\\anaconda3\\envs\\xai\\lib\\site-packages\\sklearn\\base.py:493: FutureWarning:\n",
      "\n",
      "The feature names should match those that were passed during fit. Starting version 1.2, an error will be raised.\n",
      "Feature names unseen at fit time:\n",
      "- Sumaryczna kwota transakcji w bankomatach w 6 ostatnich miesiącach\n",
      "- Sumaryczna kwota wpływów klienta w w 6 ostatnich miesiącach\n",
      "- Sumaryczna kwota wpływów klienta z tytułu emerytury w w 6 ostatnich miesiącach\n",
      "- Sumaryczna kwota wpływów klienta z tytułu programu 500 plus w w 6 ostatnich miesiącach\n",
      "- Sumaryczna kwota wpływów klienta z tytułu stypendium w w 6 ostatnich miesiącach\n",
      "- ...\n",
      "Feature names seen at fit time, yet now missing:\n",
      "- X1\n",
      "- X102\n",
      "- X109\n",
      "- X11\n",
      "- X116\n",
      "- ...\n",
      "\n",
      "\n",
      "Calculating ceteris paribus:  42%|████▏     | 18/43 [00:00<00:01, 23.63it/s]C:\\Users\\alan\\anaconda3\\envs\\xai\\lib\\site-packages\\sklearn\\base.py:493: FutureWarning:\n",
      "\n",
      "The feature names should match those that were passed during fit. Starting version 1.2, an error will be raised.\n",
      "Feature names unseen at fit time:\n",
      "- Sumaryczna kwota transakcji w bankomatach w 6 ostatnich miesiącach\n",
      "- Sumaryczna kwota wpływów klienta w w 6 ostatnich miesiącach\n",
      "- Sumaryczna kwota wpływów klienta z tytułu emerytury w w 6 ostatnich miesiącach\n",
      "- Sumaryczna kwota wpływów klienta z tytułu programu 500 plus w w 6 ostatnich miesiącach\n",
      "- Sumaryczna kwota wpływów klienta z tytułu stypendium w w 6 ostatnich miesiącach\n",
      "- ...\n",
      "Feature names seen at fit time, yet now missing:\n",
      "- X1\n",
      "- X102\n",
      "- X109\n",
      "- X11\n",
      "- X116\n",
      "- ...\n",
      "\n",
      "\n",
      "C:\\Users\\alan\\anaconda3\\envs\\xai\\lib\\site-packages\\sklearn\\base.py:493: FutureWarning:\n",
      "\n",
      "The feature names should match those that were passed during fit. Starting version 1.2, an error will be raised.\n",
      "Feature names unseen at fit time:\n",
      "- Sumaryczna kwota transakcji w bankomatach w 6 ostatnich miesiącach\n",
      "- Sumaryczna kwota wpływów klienta w w 6 ostatnich miesiącach\n",
      "- Sumaryczna kwota wpływów klienta z tytułu emerytury w w 6 ostatnich miesiącach\n",
      "- Sumaryczna kwota wpływów klienta z tytułu programu 500 plus w w 6 ostatnich miesiącach\n",
      "- Sumaryczna kwota wpływów klienta z tytułu stypendium w w 6 ostatnich miesiącach\n",
      "- ...\n",
      "Feature names seen at fit time, yet now missing:\n",
      "- X1\n",
      "- X102\n",
      "- X109\n",
      "- X11\n",
      "- X116\n",
      "- ...\n",
      "\n",
      "\n",
      "C:\\Users\\alan\\anaconda3\\envs\\xai\\lib\\site-packages\\sklearn\\base.py:493: FutureWarning:\n",
      "\n",
      "The feature names should match those that were passed during fit. Starting version 1.2, an error will be raised.\n",
      "Feature names unseen at fit time:\n",
      "- Sumaryczna kwota transakcji w bankomatach w 6 ostatnich miesiącach\n",
      "- Sumaryczna kwota wpływów klienta w w 6 ostatnich miesiącach\n",
      "- Sumaryczna kwota wpływów klienta z tytułu emerytury w w 6 ostatnich miesiącach\n",
      "- Sumaryczna kwota wpływów klienta z tytułu programu 500 plus w w 6 ostatnich miesiącach\n",
      "- Sumaryczna kwota wpływów klienta z tytułu stypendium w w 6 ostatnich miesiącach\n",
      "- ...\n",
      "Feature names seen at fit time, yet now missing:\n",
      "- X1\n",
      "- X102\n",
      "- X109\n",
      "- X11\n",
      "- X116\n",
      "- ...\n",
      "\n",
      "\n",
      "Calculating ceteris paribus:  49%|████▉     | 21/43 [00:00<00:00, 24.41it/s]C:\\Users\\alan\\anaconda3\\envs\\xai\\lib\\site-packages\\sklearn\\base.py:493: FutureWarning:\n",
      "\n",
      "The feature names should match those that were passed during fit. Starting version 1.2, an error will be raised.\n",
      "Feature names unseen at fit time:\n",
      "- Sumaryczna kwota transakcji w bankomatach w 6 ostatnich miesiącach\n",
      "- Sumaryczna kwota wpływów klienta w w 6 ostatnich miesiącach\n",
      "- Sumaryczna kwota wpływów klienta z tytułu emerytury w w 6 ostatnich miesiącach\n",
      "- Sumaryczna kwota wpływów klienta z tytułu programu 500 plus w w 6 ostatnich miesiącach\n",
      "- Sumaryczna kwota wpływów klienta z tytułu stypendium w w 6 ostatnich miesiącach\n",
      "- ...\n",
      "Feature names seen at fit time, yet now missing:\n",
      "- X1\n",
      "- X102\n",
      "- X109\n",
      "- X11\n",
      "- X116\n",
      "- ...\n",
      "\n",
      "\n",
      "C:\\Users\\alan\\anaconda3\\envs\\xai\\lib\\site-packages\\sklearn\\base.py:493: FutureWarning:\n",
      "\n",
      "The feature names should match those that were passed during fit. Starting version 1.2, an error will be raised.\n",
      "Feature names unseen at fit time:\n",
      "- Sumaryczna kwota transakcji w bankomatach w 6 ostatnich miesiącach\n",
      "- Sumaryczna kwota wpływów klienta w w 6 ostatnich miesiącach\n",
      "- Sumaryczna kwota wpływów klienta z tytułu emerytury w w 6 ostatnich miesiącach\n",
      "- Sumaryczna kwota wpływów klienta z tytułu programu 500 plus w w 6 ostatnich miesiącach\n",
      "- Sumaryczna kwota wpływów klienta z tytułu stypendium w w 6 ostatnich miesiącach\n",
      "- ...\n",
      "Feature names seen at fit time, yet now missing:\n",
      "- X1\n",
      "- X102\n",
      "- X109\n",
      "- X11\n",
      "- X116\n",
      "- ...\n",
      "\n",
      "\n",
      "C:\\Users\\alan\\anaconda3\\envs\\xai\\lib\\site-packages\\sklearn\\base.py:493: FutureWarning:\n",
      "\n",
      "The feature names should match those that were passed during fit. Starting version 1.2, an error will be raised.\n",
      "Feature names unseen at fit time:\n",
      "- Sumaryczna kwota transakcji w bankomatach w 6 ostatnich miesiącach\n",
      "- Sumaryczna kwota wpływów klienta w w 6 ostatnich miesiącach\n",
      "- Sumaryczna kwota wpływów klienta z tytułu emerytury w w 6 ostatnich miesiącach\n",
      "- Sumaryczna kwota wpływów klienta z tytułu programu 500 plus w w 6 ostatnich miesiącach\n",
      "- Sumaryczna kwota wpływów klienta z tytułu stypendium w w 6 ostatnich miesiącach\n",
      "- ...\n",
      "Feature names seen at fit time, yet now missing:\n",
      "- X1\n",
      "- X102\n",
      "- X109\n",
      "- X11\n",
      "- X116\n",
      "- ...\n",
      "\n",
      "\n",
      "Calculating ceteris paribus:  56%|█████▌    | 24/43 [00:00<00:00, 25.18it/s]C:\\Users\\alan\\anaconda3\\envs\\xai\\lib\\site-packages\\sklearn\\base.py:493: FutureWarning:\n",
      "\n",
      "The feature names should match those that were passed during fit. Starting version 1.2, an error will be raised.\n",
      "Feature names unseen at fit time:\n",
      "- Sumaryczna kwota transakcji w bankomatach w 6 ostatnich miesiącach\n",
      "- Sumaryczna kwota wpływów klienta w w 6 ostatnich miesiącach\n",
      "- Sumaryczna kwota wpływów klienta z tytułu emerytury w w 6 ostatnich miesiącach\n",
      "- Sumaryczna kwota wpływów klienta z tytułu programu 500 plus w w 6 ostatnich miesiącach\n",
      "- Sumaryczna kwota wpływów klienta z tytułu stypendium w w 6 ostatnich miesiącach\n",
      "- ...\n",
      "Feature names seen at fit time, yet now missing:\n",
      "- X1\n",
      "- X102\n",
      "- X109\n",
      "- X11\n",
      "- X116\n",
      "- ...\n",
      "\n",
      "\n",
      "C:\\Users\\alan\\anaconda3\\envs\\xai\\lib\\site-packages\\sklearn\\base.py:493: FutureWarning:\n",
      "\n",
      "The feature names should match those that were passed during fit. Starting version 1.2, an error will be raised.\n",
      "Feature names unseen at fit time:\n",
      "- Sumaryczna kwota transakcji w bankomatach w 6 ostatnich miesiącach\n",
      "- Sumaryczna kwota wpływów klienta w w 6 ostatnich miesiącach\n",
      "- Sumaryczna kwota wpływów klienta z tytułu emerytury w w 6 ostatnich miesiącach\n",
      "- Sumaryczna kwota wpływów klienta z tytułu programu 500 plus w w 6 ostatnich miesiącach\n",
      "- Sumaryczna kwota wpływów klienta z tytułu stypendium w w 6 ostatnich miesiącach\n",
      "- ...\n",
      "Feature names seen at fit time, yet now missing:\n",
      "- X1\n",
      "- X102\n",
      "- X109\n",
      "- X11\n",
      "- X116\n",
      "- ...\n",
      "\n",
      "\n",
      "C:\\Users\\alan\\anaconda3\\envs\\xai\\lib\\site-packages\\sklearn\\base.py:493: FutureWarning:\n",
      "\n",
      "The feature names should match those that were passed during fit. Starting version 1.2, an error will be raised.\n",
      "Feature names unseen at fit time:\n",
      "- Sumaryczna kwota transakcji w bankomatach w 6 ostatnich miesiącach\n",
      "- Sumaryczna kwota wpływów klienta w w 6 ostatnich miesiącach\n",
      "- Sumaryczna kwota wpływów klienta z tytułu emerytury w w 6 ostatnich miesiącach\n",
      "- Sumaryczna kwota wpływów klienta z tytułu programu 500 plus w w 6 ostatnich miesiącach\n",
      "- Sumaryczna kwota wpływów klienta z tytułu stypendium w w 6 ostatnich miesiącach\n",
      "- ...\n",
      "Feature names seen at fit time, yet now missing:\n",
      "- X1\n",
      "- X102\n",
      "- X109\n",
      "- X11\n",
      "- X116\n",
      "- ...\n",
      "\n",
      "\n",
      "Calculating ceteris paribus:  63%|██████▎   | 27/43 [00:01<00:00, 25.80it/s]C:\\Users\\alan\\anaconda3\\envs\\xai\\lib\\site-packages\\sklearn\\base.py:493: FutureWarning:\n",
      "\n",
      "The feature names should match those that were passed during fit. Starting version 1.2, an error will be raised.\n",
      "Feature names unseen at fit time:\n",
      "- Sumaryczna kwota transakcji w bankomatach w 6 ostatnich miesiącach\n",
      "- Sumaryczna kwota wpływów klienta w w 6 ostatnich miesiącach\n",
      "- Sumaryczna kwota wpływów klienta z tytułu emerytury w w 6 ostatnich miesiącach\n",
      "- Sumaryczna kwota wpływów klienta z tytułu programu 500 plus w w 6 ostatnich miesiącach\n",
      "- Sumaryczna kwota wpływów klienta z tytułu stypendium w w 6 ostatnich miesiącach\n",
      "- ...\n",
      "Feature names seen at fit time, yet now missing:\n",
      "- X1\n",
      "- X102\n",
      "- X109\n",
      "- X11\n",
      "- X116\n",
      "- ...\n",
      "\n",
      "\n",
      "C:\\Users\\alan\\anaconda3\\envs\\xai\\lib\\site-packages\\sklearn\\base.py:493: FutureWarning:\n",
      "\n",
      "The feature names should match those that were passed during fit. Starting version 1.2, an error will be raised.\n",
      "Feature names unseen at fit time:\n",
      "- Sumaryczna kwota transakcji w bankomatach w 6 ostatnich miesiącach\n",
      "- Sumaryczna kwota wpływów klienta w w 6 ostatnich miesiącach\n",
      "- Sumaryczna kwota wpływów klienta z tytułu emerytury w w 6 ostatnich miesiącach\n",
      "- Sumaryczna kwota wpływów klienta z tytułu programu 500 plus w w 6 ostatnich miesiącach\n",
      "- Sumaryczna kwota wpływów klienta z tytułu stypendium w w 6 ostatnich miesiącach\n",
      "- ...\n",
      "Feature names seen at fit time, yet now missing:\n",
      "- X1\n",
      "- X102\n",
      "- X109\n",
      "- X11\n",
      "- X116\n",
      "- ...\n",
      "\n",
      "\n",
      "C:\\Users\\alan\\anaconda3\\envs\\xai\\lib\\site-packages\\sklearn\\base.py:493: FutureWarning:\n",
      "\n",
      "The feature names should match those that were passed during fit. Starting version 1.2, an error will be raised.\n",
      "Feature names unseen at fit time:\n",
      "- Sumaryczna kwota transakcji w bankomatach w 6 ostatnich miesiącach\n",
      "- Sumaryczna kwota wpływów klienta w w 6 ostatnich miesiącach\n",
      "- Sumaryczna kwota wpływów klienta z tytułu emerytury w w 6 ostatnich miesiącach\n",
      "- Sumaryczna kwota wpływów klienta z tytułu programu 500 plus w w 6 ostatnich miesiącach\n",
      "- Sumaryczna kwota wpływów klienta z tytułu stypendium w w 6 ostatnich miesiącach\n",
      "- ...\n",
      "Feature names seen at fit time, yet now missing:\n",
      "- X1\n",
      "- X102\n",
      "- X109\n",
      "- X11\n",
      "- X116\n",
      "- ...\n",
      "\n",
      "\n",
      "Calculating ceteris paribus:  70%|██████▉   | 30/43 [00:01<00:00, 25.21it/s]C:\\Users\\alan\\anaconda3\\envs\\xai\\lib\\site-packages\\sklearn\\base.py:493: FutureWarning:\n",
      "\n",
      "The feature names should match those that were passed during fit. Starting version 1.2, an error will be raised.\n",
      "Feature names unseen at fit time:\n",
      "- Sumaryczna kwota transakcji w bankomatach w 6 ostatnich miesiącach\n",
      "- Sumaryczna kwota wpływów klienta w w 6 ostatnich miesiącach\n",
      "- Sumaryczna kwota wpływów klienta z tytułu emerytury w w 6 ostatnich miesiącach\n",
      "- Sumaryczna kwota wpływów klienta z tytułu programu 500 plus w w 6 ostatnich miesiącach\n",
      "- Sumaryczna kwota wpływów klienta z tytułu stypendium w w 6 ostatnich miesiącach\n",
      "- ...\n",
      "Feature names seen at fit time, yet now missing:\n",
      "- X1\n",
      "- X102\n",
      "- X109\n",
      "- X11\n",
      "- X116\n",
      "- ...\n",
      "\n",
      "\n",
      "C:\\Users\\alan\\anaconda3\\envs\\xai\\lib\\site-packages\\sklearn\\base.py:493: FutureWarning:\n",
      "\n",
      "The feature names should match those that were passed during fit. Starting version 1.2, an error will be raised.\n",
      "Feature names unseen at fit time:\n",
      "- Sumaryczna kwota transakcji w bankomatach w 6 ostatnich miesiącach\n",
      "- Sumaryczna kwota wpływów klienta w w 6 ostatnich miesiącach\n",
      "- Sumaryczna kwota wpływów klienta z tytułu emerytury w w 6 ostatnich miesiącach\n",
      "- Sumaryczna kwota wpływów klienta z tytułu programu 500 plus w w 6 ostatnich miesiącach\n",
      "- Sumaryczna kwota wpływów klienta z tytułu stypendium w w 6 ostatnich miesiącach\n",
      "- ...\n",
      "Feature names seen at fit time, yet now missing:\n",
      "- X1\n",
      "- X102\n",
      "- X109\n",
      "- X11\n",
      "- X116\n",
      "- ...\n",
      "\n",
      "\n",
      "C:\\Users\\alan\\anaconda3\\envs\\xai\\lib\\site-packages\\sklearn\\base.py:493: FutureWarning:\n",
      "\n",
      "The feature names should match those that were passed during fit. Starting version 1.2, an error will be raised.\n",
      "Feature names unseen at fit time:\n",
      "- Sumaryczna kwota transakcji w bankomatach w 6 ostatnich miesiącach\n",
      "- Sumaryczna kwota wpływów klienta w w 6 ostatnich miesiącach\n",
      "- Sumaryczna kwota wpływów klienta z tytułu emerytury w w 6 ostatnich miesiącach\n",
      "- Sumaryczna kwota wpływów klienta z tytułu programu 500 plus w w 6 ostatnich miesiącach\n",
      "- Sumaryczna kwota wpływów klienta z tytułu stypendium w w 6 ostatnich miesiącach\n",
      "- ...\n",
      "Feature names seen at fit time, yet now missing:\n",
      "- X1\n",
      "- X102\n",
      "- X109\n",
      "- X11\n",
      "- X116\n",
      "- ...\n",
      "\n",
      "\n",
      "Calculating ceteris paribus:  77%|███████▋  | 33/43 [00:01<00:00, 25.47it/s]C:\\Users\\alan\\anaconda3\\envs\\xai\\lib\\site-packages\\sklearn\\base.py:493: FutureWarning:\n",
      "\n",
      "The feature names should match those that were passed during fit. Starting version 1.2, an error will be raised.\n",
      "Feature names unseen at fit time:\n",
      "- Sumaryczna kwota transakcji w bankomatach w 6 ostatnich miesiącach\n",
      "- Sumaryczna kwota wpływów klienta w w 6 ostatnich miesiącach\n",
      "- Sumaryczna kwota wpływów klienta z tytułu emerytury w w 6 ostatnich miesiącach\n",
      "- Sumaryczna kwota wpływów klienta z tytułu programu 500 plus w w 6 ostatnich miesiącach\n",
      "- Sumaryczna kwota wpływów klienta z tytułu stypendium w w 6 ostatnich miesiącach\n",
      "- ...\n",
      "Feature names seen at fit time, yet now missing:\n",
      "- X1\n",
      "- X102\n",
      "- X109\n",
      "- X11\n",
      "- X116\n",
      "- ...\n",
      "\n",
      "\n",
      "C:\\Users\\alan\\anaconda3\\envs\\xai\\lib\\site-packages\\sklearn\\base.py:493: FutureWarning:\n",
      "\n",
      "The feature names should match those that were passed during fit. Starting version 1.2, an error will be raised.\n",
      "Feature names unseen at fit time:\n",
      "- Sumaryczna kwota transakcji w bankomatach w 6 ostatnich miesiącach\n",
      "- Sumaryczna kwota wpływów klienta w w 6 ostatnich miesiącach\n",
      "- Sumaryczna kwota wpływów klienta z tytułu emerytury w w 6 ostatnich miesiącach\n",
      "- Sumaryczna kwota wpływów klienta z tytułu programu 500 plus w w 6 ostatnich miesiącach\n",
      "- Sumaryczna kwota wpływów klienta z tytułu stypendium w w 6 ostatnich miesiącach\n",
      "- ...\n",
      "Feature names seen at fit time, yet now missing:\n",
      "- X1\n",
      "- X102\n",
      "- X109\n",
      "- X11\n",
      "- X116\n",
      "- ...\n",
      "\n",
      "\n",
      "C:\\Users\\alan\\anaconda3\\envs\\xai\\lib\\site-packages\\sklearn\\base.py:493: FutureWarning:\n",
      "\n",
      "The feature names should match those that were passed during fit. Starting version 1.2, an error will be raised.\n",
      "Feature names unseen at fit time:\n",
      "- Sumaryczna kwota transakcji w bankomatach w 6 ostatnich miesiącach\n",
      "- Sumaryczna kwota wpływów klienta w w 6 ostatnich miesiącach\n",
      "- Sumaryczna kwota wpływów klienta z tytułu emerytury w w 6 ostatnich miesiącach\n",
      "- Sumaryczna kwota wpływów klienta z tytułu programu 500 plus w w 6 ostatnich miesiącach\n",
      "- Sumaryczna kwota wpływów klienta z tytułu stypendium w w 6 ostatnich miesiącach\n",
      "- ...\n",
      "Feature names seen at fit time, yet now missing:\n",
      "- X1\n",
      "- X102\n",
      "- X109\n",
      "- X11\n",
      "- X116\n",
      "- ...\n",
      "\n",
      "\n",
      "Calculating ceteris paribus:  84%|████████▎ | 36/43 [00:01<00:00, 25.79it/s]C:\\Users\\alan\\anaconda3\\envs\\xai\\lib\\site-packages\\sklearn\\base.py:493: FutureWarning:\n",
      "\n",
      "The feature names should match those that were passed during fit. Starting version 1.2, an error will be raised.\n",
      "Feature names unseen at fit time:\n",
      "- Sumaryczna kwota transakcji w bankomatach w 6 ostatnich miesiącach\n",
      "- Sumaryczna kwota wpływów klienta w w 6 ostatnich miesiącach\n",
      "- Sumaryczna kwota wpływów klienta z tytułu emerytury w w 6 ostatnich miesiącach\n",
      "- Sumaryczna kwota wpływów klienta z tytułu programu 500 plus w w 6 ostatnich miesiącach\n",
      "- Sumaryczna kwota wpływów klienta z tytułu stypendium w w 6 ostatnich miesiącach\n",
      "- ...\n",
      "Feature names seen at fit time, yet now missing:\n",
      "- X1\n",
      "- X102\n",
      "- X109\n",
      "- X11\n",
      "- X116\n",
      "- ...\n",
      "\n",
      "\n",
      "C:\\Users\\alan\\anaconda3\\envs\\xai\\lib\\site-packages\\sklearn\\base.py:493: FutureWarning:\n",
      "\n",
      "The feature names should match those that were passed during fit. Starting version 1.2, an error will be raised.\n",
      "Feature names unseen at fit time:\n",
      "- Sumaryczna kwota transakcji w bankomatach w 6 ostatnich miesiącach\n",
      "- Sumaryczna kwota wpływów klienta w w 6 ostatnich miesiącach\n",
      "- Sumaryczna kwota wpływów klienta z tytułu emerytury w w 6 ostatnich miesiącach\n",
      "- Sumaryczna kwota wpływów klienta z tytułu programu 500 plus w w 6 ostatnich miesiącach\n",
      "- Sumaryczna kwota wpływów klienta z tytułu stypendium w w 6 ostatnich miesiącach\n",
      "- ...\n",
      "Feature names seen at fit time, yet now missing:\n",
      "- X1\n",
      "- X102\n",
      "- X109\n",
      "- X11\n",
      "- X116\n",
      "- ...\n",
      "\n",
      "\n",
      "C:\\Users\\alan\\anaconda3\\envs\\xai\\lib\\site-packages\\sklearn\\base.py:493: FutureWarning:\n",
      "\n",
      "The feature names should match those that were passed during fit. Starting version 1.2, an error will be raised.\n",
      "Feature names unseen at fit time:\n",
      "- Sumaryczna kwota transakcji w bankomatach w 6 ostatnich miesiącach\n",
      "- Sumaryczna kwota wpływów klienta w w 6 ostatnich miesiącach\n",
      "- Sumaryczna kwota wpływów klienta z tytułu emerytury w w 6 ostatnich miesiącach\n",
      "- Sumaryczna kwota wpływów klienta z tytułu programu 500 plus w w 6 ostatnich miesiącach\n",
      "- Sumaryczna kwota wpływów klienta z tytułu stypendium w w 6 ostatnich miesiącach\n",
      "- ...\n",
      "Feature names seen at fit time, yet now missing:\n",
      "- X1\n",
      "- X102\n",
      "- X109\n",
      "- X11\n",
      "- X116\n",
      "- ...\n",
      "\n",
      "\n",
      "Calculating ceteris paribus:  91%|█████████ | 39/43 [00:01<00:00, 25.97it/s]C:\\Users\\alan\\anaconda3\\envs\\xai\\lib\\site-packages\\sklearn\\base.py:493: FutureWarning:\n",
      "\n",
      "The feature names should match those that were passed during fit. Starting version 1.2, an error will be raised.\n",
      "Feature names unseen at fit time:\n",
      "- Sumaryczna kwota transakcji w bankomatach w 6 ostatnich miesiącach\n",
      "- Sumaryczna kwota wpływów klienta w w 6 ostatnich miesiącach\n",
      "- Sumaryczna kwota wpływów klienta z tytułu emerytury w w 6 ostatnich miesiącach\n",
      "- Sumaryczna kwota wpływów klienta z tytułu programu 500 plus w w 6 ostatnich miesiącach\n",
      "- Sumaryczna kwota wpływów klienta z tytułu stypendium w w 6 ostatnich miesiącach\n",
      "- ...\n",
      "Feature names seen at fit time, yet now missing:\n",
      "- X1\n",
      "- X102\n",
      "- X109\n",
      "- X11\n",
      "- X116\n",
      "- ...\n",
      "\n",
      "\n",
      "C:\\Users\\alan\\anaconda3\\envs\\xai\\lib\\site-packages\\sklearn\\base.py:493: FutureWarning:\n",
      "\n",
      "The feature names should match those that were passed during fit. Starting version 1.2, an error will be raised.\n",
      "Feature names unseen at fit time:\n",
      "- Sumaryczna kwota transakcji w bankomatach w 6 ostatnich miesiącach\n",
      "- Sumaryczna kwota wpływów klienta w w 6 ostatnich miesiącach\n",
      "- Sumaryczna kwota wpływów klienta z tytułu emerytury w w 6 ostatnich miesiącach\n",
      "- Sumaryczna kwota wpływów klienta z tytułu programu 500 plus w w 6 ostatnich miesiącach\n",
      "- Sumaryczna kwota wpływów klienta z tytułu stypendium w w 6 ostatnich miesiącach\n",
      "- ...\n",
      "Feature names seen at fit time, yet now missing:\n",
      "- X1\n",
      "- X102\n",
      "- X109\n",
      "- X11\n",
      "- X116\n",
      "- ...\n",
      "\n",
      "\n",
      "C:\\Users\\alan\\anaconda3\\envs\\xai\\lib\\site-packages\\sklearn\\base.py:493: FutureWarning:\n",
      "\n",
      "The feature names should match those that were passed during fit. Starting version 1.2, an error will be raised.\n",
      "Feature names unseen at fit time:\n",
      "- Sumaryczna kwota transakcji w bankomatach w 6 ostatnich miesiącach\n",
      "- Sumaryczna kwota wpływów klienta w w 6 ostatnich miesiącach\n",
      "- Sumaryczna kwota wpływów klienta z tytułu emerytury w w 6 ostatnich miesiącach\n",
      "- Sumaryczna kwota wpływów klienta z tytułu programu 500 plus w w 6 ostatnich miesiącach\n",
      "- Sumaryczna kwota wpływów klienta z tytułu stypendium w w 6 ostatnich miesiącach\n",
      "- ...\n",
      "Feature names seen at fit time, yet now missing:\n",
      "- X1\n",
      "- X102\n",
      "- X109\n",
      "- X11\n",
      "- X116\n",
      "- ...\n",
      "\n",
      "\n",
      "Calculating ceteris paribus:  98%|█████████▊| 42/43 [00:01<00:00, 25.60it/s]C:\\Users\\alan\\anaconda3\\envs\\xai\\lib\\site-packages\\sklearn\\base.py:493: FutureWarning:\n",
      "\n",
      "The feature names should match those that were passed during fit. Starting version 1.2, an error will be raised.\n",
      "Feature names unseen at fit time:\n",
      "- Sumaryczna kwota transakcji w bankomatach w 6 ostatnich miesiącach\n",
      "- Sumaryczna kwota wpływów klienta w w 6 ostatnich miesiącach\n",
      "- Sumaryczna kwota wpływów klienta z tytułu emerytury w w 6 ostatnich miesiącach\n",
      "- Sumaryczna kwota wpływów klienta z tytułu programu 500 plus w w 6 ostatnich miesiącach\n",
      "- Sumaryczna kwota wpływów klienta z tytułu stypendium w w 6 ostatnich miesiącach\n",
      "- ...\n",
      "Feature names seen at fit time, yet now missing:\n",
      "- X1\n",
      "- X102\n",
      "- X109\n",
      "- X11\n",
      "- X116\n",
      "- ...\n",
      "\n",
      "\n",
      "Calculating ceteris paribus: 100%|██████████| 43/43 [00:01<00:00, 24.89it/s]\n",
      "C:\\Users\\alan\\anaconda3\\envs\\xai\\lib\\site-packages\\sklearn\\base.py:493: FutureWarning:\n",
      "\n",
      "The feature names should match those that were passed during fit. Starting version 1.2, an error will be raised.\n",
      "Feature names unseen at fit time:\n",
      "- Sumaryczna kwota transakcji w bankomatach w 6 ostatnich miesiącach\n",
      "- Sumaryczna kwota wpływów klienta w w 6 ostatnich miesiącach\n",
      "- Sumaryczna kwota wpływów klienta z tytułu emerytury w w 6 ostatnich miesiącach\n",
      "- Sumaryczna kwota wpływów klienta z tytułu programu 500 plus w w 6 ostatnich miesiącach\n",
      "- Sumaryczna kwota wpływów klienta z tytułu stypendium w w 6 ostatnich miesiącach\n",
      "- ...\n",
      "Feature names seen at fit time, yet now missing:\n",
      "- X1\n",
      "- X102\n",
      "- X109\n",
      "- X11\n",
      "- X116\n",
      "- ...\n",
      "\n",
      "\n"
     ]
    }
   ],
   "source": [
    "for sample in X_val.iterrows():\n",
    "    cp_xgb = explainer_xgb.predict_profile(sample[1])\n",
    "    cp_rf = explainer_rf.predict_profile(sample[1])\n",
    "\n",
    "    found = False\n",
    "    for var in X_train.rename(name_to_description, axis=1).columns:\n",
    "        var_xgb = cp_xgb.result[cp_xgb.result['_vname_'] == var][[var, '_yhat_']]\n",
    "        var_rf = cp_rf.result[cp_rf.result['_vname_'] == var][[var, '_yhat_']]\n",
    "\n",
    "        corr, pvalue = spearmanr(var_xgb['_yhat_'], var_rf['_yhat_'])\n",
    "        if corr < -0.8 and pvalue < 0.05 and (\n",
    "                abs(max(var_xgb['_yhat_']) - min(var_xgb['_yhat_'])) > 500 or\n",
    "                abs(max(var_rf['_yhat_']) - min(var_rf['_yhat_'])) > 500\n",
    "        ):\n",
    "            found = True\n",
    "            break\n",
    "    if found:\n",
    "        break\n"
   ],
   "metadata": {
    "collapsed": false,
    "pycharm": {
     "name": "#%%\n"
    }
   }
  },
  {
   "cell_type": "code",
   "execution_count": 32,
   "outputs": [
    {
     "data": {
      "text/plain": "'Sumaryczna kwota wydatków klienta na paliwo w w 6 ostatnich miesiącach'"
     },
     "execution_count": 32,
     "metadata": {},
     "output_type": "execute_result"
    }
   ],
   "source": [
    "var"
   ],
   "metadata": {
    "collapsed": false,
    "pycharm": {
     "name": "#%%\n"
    }
   }
  },
  {
   "cell_type": "code",
   "execution_count": 33,
   "outputs": [],
   "source": [
    "folder_path = pathlib.Path(f'../reports/figures/5')\n",
    "folder_path.mkdir(parents=True, exist_ok=True)\n",
    "\n",
    "for model_name, sample_explanation in [('xgb', cp_xgb), ('rf', cp_rf)]:\n",
    "    for i in range(len(X_train.columns)):\n",
    "        plot = sample_explanation.plot(facet_ncol=1, variables=X_train.rename(name_to_description, axis=1).columns[i:i+1], show=False)\n",
    "        plot.write_image(file=folder_path / f'{model_name}_{int(i)}.png', engine='orca', scale=2.0)"
   ],
   "metadata": {
    "collapsed": false,
    "pycharm": {
     "name": "#%%\n"
    }
   }
  },
  {
   "cell_type": "code",
   "execution_count": null,
   "metadata": {
    "pycharm": {
     "name": "#%%\n"
    }
   },
   "outputs": [],
   "source": []
  }
 ],
 "metadata": {
  "kernelspec": {
   "display_name": "Python 3 (ipykernel)",
   "language": "python",
   "name": "python3"
  },
  "language_info": {
   "codemirror_mode": {
    "name": "ipython",
    "version": 3
   },
   "file_extension": ".py",
   "mimetype": "text/x-python",
   "name": "python",
   "nbconvert_exporter": "python",
   "pygments_lexer": "ipython3",
   "version": "3.9.7"
  }
 },
 "nbformat": 4,
 "nbformat_minor": 1
}