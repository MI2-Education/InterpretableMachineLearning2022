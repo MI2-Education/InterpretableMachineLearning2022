{
 "cells": [
  {
   "cell_type": "markdown",
   "metadata": {
    "id": "L2Z_pYmeNVix"
   },
   "source": [
    "# Homework 4"
   ]
  },
  {
   "cell_type": "markdown",
   "metadata": {
    "id": "PpW7OcVWN9nt"
   },
   "source": [
    "## Imports"
   ]
  },
  {
   "cell_type": "code",
   "execution_count": null,
   "metadata": {
    "id": "mAS-pyP39iMZ"
   },
   "outputs": [],
   "source": [
    "!pip install pyCeterisParibus"
   ]
  },
  {
   "cell_type": "code",
   "execution_count": 1,
   "metadata": {
    "id": "1vKM5OzUNgfb"
   },
   "outputs": [],
   "source": [
    "from ceteris_paribus.explainer import explain\n",
    "from ceteris_paribus.plots.plots import plot, plot_notebook\n",
    "from ceteris_paribus.profiles import individual_variable_profile\n",
    "import matplotlib.pyplot as plt\n",
    "import numpy as np\n",
    "import pandas as pd\n",
    "import seaborn as sns\n",
    "from sklearn import datasets\n",
    "from sklearn.datasets import load_wine\n",
    "from sklearn.decomposition import PCA\n",
    "from sklearn.ensemble import (\n",
    "    GradientBoostingClassifier,\n",
    "    RandomForestClassifier,\n",
    ")\n",
    "from sklearn.feature_selection import RFE\n",
    "from sklearn.linear_model import LinearRegression\n",
    "from sklearn.manifold import TSNE\n",
    "from sklearn.metrics import (\n",
    "    accuracy_score,\n",
    "    confusion_matrix,\n",
    ")\n",
    "from sklearn.model_selection import (\n",
    "    train_test_split,\n",
    "    cross_val_score,\n",
    "    StratifiedKFold,\n",
    ")\n",
    "from sklearn.neighbors import KNeighborsClassifier\n",
    "from sklearn.neural_network import MLPClassifier\n",
    "from sklearn.preprocessing import StandardScaler"
   ]
  },
  {
   "cell_type": "markdown",
   "metadata": {
    "id": "rMNg07BtOsp1"
   },
   "source": [
    "## Data and model preparation"
   ]
  },
  {
   "cell_type": "code",
   "execution_count": 2,
   "metadata": {
    "id": "-kPruCzEjd-Y"
   },
   "outputs": [],
   "source": [
    "wine = load_wine()\n",
    "# scaled_wine_data = StandardScaler().fit_transform(wine['data'])\n",
    "# data = pd.DataFrame(\n",
    "#     data=np.c_[scaled_wine_data, wine['target']],\n",
    "#     columns=wine['feature_names'] + ['target']\n",
    "# )\n",
    "data = pd.DataFrame(np.c_[wine['data'], wine['target']], columns=wine['feature_names'] + ['target'])\n",
    "\n",
    "features = list(data.columns)\n",
    "features.remove('target')\n",
    "x = data.loc[:, features].values\n",
    "y = data.loc[:, ['target']].values\n",
    "x = pd.DataFrame(x, columns=features)\n",
    "y = pd.DataFrame(y, columns=['target'])\n",
    "\n",
    "x_train, x_test, y_train, y_test = train_test_split(\n",
    "    x,\n",
    "    y,\n",
    "    test_size=0.33,\n",
    "    random_state=42\n",
    ")"
   ]
  },
  {
   "cell_type": "code",
   "execution_count": 3,
   "metadata": {
    "colab": {
     "base_uri": "https://localhost:8080/"
    },
    "id": "IdCDf3L3G2un",
    "outputId": "c9a0e977-7bf9-4df1-c395-46218e1773d8"
   },
   "outputs": [
    {
     "name": "stdout",
     "output_type": "stream",
     "text": [
      "Score: 0.9830508474576272\n"
     ]
    },
    {
     "name": "stderr",
     "output_type": "stream",
     "text": [
      "/home/krzys/Desktop/IML/HW4/venv/lib/python3.8/site-packages/sklearn/neural_network/_multilayer_perceptron.py:692: ConvergenceWarning: Stochastic Optimizer: Maximum iterations (1000) reached and the optimization hasn't converged yet.\n",
      "  warnings.warn(\n"
     ]
    }
   ],
   "source": [
    "mlpc_model = MLPClassifier(\n",
    "    random_state=1,\n",
    "    max_iter=1000\n",
    ").fit(x_train, y_train.values.ravel())\n",
    "\n",
    "score = mlpc_model.score(x_test, y_test)\n",
    "print(f'Score: {score}')"
   ]
  },
  {
   "cell_type": "code",
   "execution_count": 4,
   "metadata": {
    "colab": {
     "base_uri": "https://localhost:8080/"
    },
    "id": "Pn5SX7dHG22Y",
    "outputId": "c0d65b13-1ba0-4f07-e2c0-9af8838d0d2f"
   },
   "outputs": [
    {
     "name": "stdout",
     "output_type": "stream",
     "text": [
      "Score: 0.9830508474576272\n"
     ]
    }
   ],
   "source": [
    "gbc_model = GradientBoostingClassifier(\n",
    "    n_estimators=100,\n",
    "    learning_rate=1.0,\n",
    "    max_depth=1,\n",
    "    random_state=0\n",
    ").fit(x_train, y_train.values.ravel())\n",
    "\n",
    "score = gbc_model.score(x_test, y_test)\n",
    "print(f'Score: {score}')"
   ]
  },
  {
   "cell_type": "markdown",
   "metadata": {
    "id": "03hdemkKHSNX"
   },
   "source": [
    "Both models have **exactly** the same accuracy. Let's check if they fail on the same inputs."
   ]
  },
  {
   "cell_type": "code",
   "execution_count": 5,
   "metadata": {
    "colab": {
     "base_uri": "https://localhost:8080/"
    },
    "id": "il0VconTHbKV",
    "outputId": "2b9dd37c-888c-4dfa-d1b8-9756320d16a2"
   },
   "outputs": [
    {
     "name": "stdout",
     "output_type": "stream",
     "text": [
      "First model failed on: [10]\n",
      "Second model failed on: [43]\n"
     ]
    }
   ],
   "source": [
    "models = [mlpc_model, gbc_model]\n",
    "fail_idxs = [[], []]\n",
    "\n",
    "for m_idx, m in enumerate(models):\n",
    "    for test_idx in range(x_test.shape[0]):\n",
    "        observation = x_test.iloc[[test_idx]]\n",
    "        prediction = m.predict(observation)\n",
    "        ground_truth = y_test.iloc[test_idx, 0]\n",
    "\n",
    "        if prediction != ground_truth:\n",
    "            fail_idxs[m_idx].append(test_idx)\n",
    "        \n",
    "print(f'First model failed on: {fail_idxs[0]}')\n",
    "print(f'Second model failed on: {fail_idxs[1]}')"
   ]
  },
  {
   "cell_type": "markdown",
   "metadata": {
    "id": "KxTrXjyhjWFr"
   },
   "source": [
    "## CP profies analysis"
   ]
  },
  {
   "cell_type": "markdown",
   "metadata": {
    "id": "LHxPjwfWGhSI"
   },
   "source": [
    "### Utilities"
   ]
  },
  {
   "cell_type": "code",
   "execution_count": 6,
   "metadata": {
    "id": "OCXopH90-q2q"
   },
   "outputs": [],
   "source": [
    "def show_prediction(model, test_idx):\n",
    "    observation = x_test.iloc[[test_idx]]\n",
    "    print(observation.to_markdown())\n",
    "    print()\n",
    "\n",
    "    prediction = model.predict(observation)\n",
    "    print(f'Prediction: {int(prediction[0])}')\n",
    "    print()\n",
    "\n",
    "    probabilities = model.predict_proba(observation)\n",
    "    print(f'Probabilities:')\n",
    "    for idx, prob in enumerate(probabilities[0]):\n",
    "        prob = round(prob * 100, 5)\n",
    "        print(f'    Class {idx} probability: {prob}%')\n",
    "    print()\n",
    "\n",
    "    ground_truth = int(y_test.iloc[test_idx, 0])\n",
    "    print(f'Ground truth: {ground_truth}')\n",
    "    print()"
   ]
  },
  {
   "cell_type": "code",
   "execution_count": 7,
   "metadata": {
    "id": "gHFYxzJ6q5mF"
   },
   "outputs": [],
   "source": [
    "def gbc_predict(x):\n",
    "    probabilities = gbc_model.predict_proba(x)\n",
    "    res = []\n",
    "    idx = 1 # 0, 1 or 2\n",
    "    for prob in probabilities:\n",
    "        res.append(prob[idx])\n",
    "    return res"
   ]
  },
  {
   "cell_type": "code",
   "execution_count": 8,
   "metadata": {},
   "outputs": [],
   "source": [
    "def mlpc_predict(x):\n",
    "    probabilities = mlpc_model.predict_proba(x)\n",
    "    res = []\n",
    "    idx = 1 # 0, 1 or 2\n",
    "    for prob in probabilities:\n",
    "        res.append(prob[idx])\n",
    "    return res"
   ]
  },
  {
   "cell_type": "code",
   "execution_count": 9,
   "metadata": {},
   "outputs": [],
   "source": [
    "def plot_cp(obs_idx):\n",
    "    obs = x_test.iloc[obs_idx]\n",
    "    label = y_test.iloc[obs_idx]\n",
    "    cp_gbc = individual_variable_profile(explainer_gbc, obs, label)\n",
    "    plot(cp_gbc, selected_variables=['flavanoids'])"
   ]
  },
  {
   "cell_type": "code",
   "execution_count": 14,
   "metadata": {},
   "outputs": [],
   "source": [
    "def plot_both(obs_idx):\n",
    "    obs = x_test.iloc[obs_idx]\n",
    "    label = y_test.iloc[obs_idx]\n",
    "    \n",
    "    cp_gbc = individual_variable_profile(explainer_gbc, obs, label)\n",
    "    cp_mlpc = individual_variable_profile(explainer_mlpc, obs, label)\n",
    "    \n",
    "    plot(cp_gbc, cp_mlpc, selected_variables=['flavanoids'])"
   ]
  },
  {
   "cell_type": "markdown",
   "metadata": {
    "id": "RjGOwC9CGVd6"
   },
   "source": [
    "### Gradient Boosting Classifier"
   ]
  },
  {
   "cell_type": "code",
   "execution_count": 11,
   "metadata": {
    "id": "oRzLWB6hD-z3"
   },
   "outputs": [],
   "source": [
    "explainer_gbc = explain(gbc_model, data=x_test, y=y_test.squeeze(), label='Gradient Boosting Classifier', predict_function=lambda x: gbc_predict(x))"
   ]
  },
  {
   "cell_type": "code",
   "execution_count": 169,
   "metadata": {},
   "outputs": [],
   "source": [
    "plot_cp(43) # flavanoids in 8 and 43 for class 1"
   ]
  },
  {
   "cell_type": "markdown",
   "metadata": {
    "id": "4BiCxbv6Gvli"
   },
   "source": [
    "### Multi-layer Perceptron"
   ]
  },
  {
   "cell_type": "code",
   "execution_count": 12,
   "metadata": {
    "colab": {
     "base_uri": "https://localhost:8080/",
     "height": 723
    },
    "id": "ZTeO3hdvGuxy",
    "outputId": "6cab7be3-d0db-41e9-a700-aa7f13f63045"
   },
   "outputs": [],
   "source": [
    "explainer_mlpc = explain(mlpc_model, data=x_test, y=y_test.squeeze(), label='Multi-layer Perceptron Classifier', predict_function=lambda x: mlpc_predict(x))"
   ]
  },
  {
   "cell_type": "code",
   "execution_count": 16,
   "metadata": {
    "colab": {
     "base_uri": "https://localhost:8080/",
     "height": 723
    },
    "id": "FDUrNyTS-q9k",
    "outputId": "35766afb-e021-458d-d243-b8cd33881cfb"
   },
   "outputs": [],
   "source": [
    "plot_both(27)"
   ]
  },
  {
   "cell_type": "code",
   "execution_count": null,
   "metadata": {},
   "outputs": [],
   "source": []
  }
 ],
 "metadata": {
  "colab": {
   "collapsed_sections": [],
   "name": "HW_4.ipynb",
   "provenance": []
  },
  "kernelspec": {
   "display_name": "Python 3 (ipykernel)",
   "language": "python",
   "name": "python3"
  },
  "language_info": {
   "codemirror_mode": {
    "name": "ipython",
    "version": 3
   },
   "file_extension": ".py",
   "mimetype": "text/x-python",
   "name": "python",
   "nbconvert_exporter": "python",
   "pygments_lexer": "ipython3",
   "version": "3.8.10"
  }
 },
 "nbformat": 4,
 "nbformat_minor": 1
}
